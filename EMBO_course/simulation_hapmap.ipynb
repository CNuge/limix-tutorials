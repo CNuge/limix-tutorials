{
 "metadata": {
  "name": "",
  "signature": "sha256:070a98a8c50752b4df3ca50b61f692958031938867d901a406c9aac243eda75f"
 },
 "nbformat": 3,
 "nbformat_minor": 0,
 "worksheets": [
  {
   "cells": [
    {
     "cell_type": "heading",
     "level": 1,
     "metadata": {},
     "source": [
      "Tutorial on how to simulate genetic associations based on HapMap data"
     ]
    },
    {
     "cell_type": "code",
     "collapsed": false,
     "input": [],
     "language": "python",
     "metadata": {},
     "outputs": []
    }
   ],
   "metadata": {}
  }
 ]
}