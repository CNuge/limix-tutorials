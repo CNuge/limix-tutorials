{
 "metadata": {
  "name": "",
  "signature": "sha256:5bb282df2d94ace8b2402a0c0d255ea0521e2100a226a6458e2ab48dbeb16c0c"
 },
 "nbformat": 3,
 "nbformat_minor": 0,
 "worksheets": [
  {
   "cells": [
    {
     "cell_type": "heading",
     "level": 1,
     "metadata": {
      "slideshow": {
       "slide_type": "slide"
      }
     },
     "source": [
      "Setting up"
     ]
    },
    {
     "cell_type": "code",
     "collapsed": false,
     "input": [
      "# activiate inline plotting\n",
      "%matplotlib inline"
     ],
     "language": "python",
     "metadata": {
      "slideshow": {
       "slide_type": "notes"
      }
     },
     "outputs": [],
     "prompt_number": 1
    },
    {
     "cell_type": "code",
     "collapsed": false,
     "input": [
      "import scipy as sp\n",
      "import pylab as pl\n",
      "from matplotlib import cm\n",
      "import h5py\n",
      "import pdb\n",
      "import pandas as pd\n",
      "sp.random.seed(0)"
     ],
     "language": "python",
     "metadata": {},
     "outputs": [],
     "prompt_number": 2
    },
    {
     "cell_type": "code",
     "collapsed": false,
     "input": [
      "# import LIMIX\n",
      "import sys\n",
      "import limix.modules.varianceDecomposition as var\n",
      "import limix.modules.qtl as qtl\n",
      "import limix.io.data as data\n",
      "import limix.io.genotype_reader as gr\n",
      "import limix.io.phenotype_reader as phr\n",
      "import limix.io.data_util as data_util\n",
      "import limix.utils.preprocess as preprocess\n",
      "# plotting and visualization utilties\n",
      "from limix.utils.plot import *"
     ],
     "language": "python",
     "metadata": {},
     "outputs": [],
     "prompt_number": 3
    },
    {
     "cell_type": "code",
     "collapsed": false,
     "input": [
      "def calc_AF(M,major=0,minor=2):\n",
      "    \"\"\"calculate minor allelel frequency, by default assuming that minor==2\"\"\"\n",
      "    if minor==2:\n",
      "        Nhet   = (M==0).sum(axis=0)\n",
      "        Nmajor = 2*(M==0).sum(axis=0)\n",
      "        Nminor = 2*(M==2).sum(axis=0)\n",
      "        af  = Nminor/sp.double(2*M.shape[0])\n",
      "    else:\n",
      "        Nmajor = (M==0).sum(axis=0)\n",
      "        Nminor = (M==1).sum(axis=0)\n",
      "        af  = Nminor/sp.double(1*M.shape[0])\n",
      "    RV = {}\n",
      "    RV['af'] = af\n",
      "    RV['Nmajor'] = Nmajor\n",
      "    RV['Nminor'] = Nminor\n",
      "    return RV"
     ],
     "language": "python",
     "metadata": {},
     "outputs": [],
     "prompt_number": 4
    },
    {
     "cell_type": "code",
     "collapsed": false,
     "input": [
      "#import data: 1000 genomes\n",
      "#the data used in this study have been pre-converted into an hdf5 file. \n",
      "#to preprocess your own data, please use limix command line brinary\n",
      "data_base = '/Users/stegle/Dropbox/Geno2Pheno2014/tutorials/data'\n",
      "genotype_file = os.path.join(data_base,'1000g_chrom20_snps.hdf5')\n",
      "annotation_file = os.path.join(data_base,'1000g_sample_annotation.hdf5')\n",
      "geno_reader_1000G  = gr.genotype_reader_tables(genotype_file)\n",
      "#read annotation\n",
      "fa = h5py.File(annotation_file,'r')\n",
      "population_1000G = fa['Population'][:]\n",
      "MG = geno_reader_1000G.getGenotypes()"
     ],
     "language": "python",
     "metadata": {},
     "outputs": [],
     "prompt_number": 5
    },
    {
     "cell_type": "code",
     "collapsed": false,
     "input": [
      "#import data: BYxRM cross\n",
      "#import data\n",
      "#the data used in this study have been pre-converted into an hdf5 file. \n",
      "#to preprocess your own data, please use limix command line brinary\n",
      "file_name = './../data/BYxRM/BYxRM.hdf5'\n",
      "geno_reader_BYxRM  = gr.genotype_reader_tables(file_name)\n",
      "MBYxRM = geno_reader_BYxRM.getGenotypes()"
     ],
     "language": "python",
     "metadata": {},
     "outputs": [],
     "prompt_number": 6
    },
    {
     "cell_type": "code",
     "collapsed": false,
     "input": [
      "#import data: Arabidopsis\n",
      "#import data\n",
      "#the data used in this study have been pre-converted into an hdf5 file. \n",
      "#to preprocess your own data, please use limix command line brinary\n",
      "file_name = './../data/arab107/atwell_107.hdf5'\n",
      "geno_reader_atwell  = gr.genotype_reader_tables(file_name)\n",
      "Matwell = geno_reader_atwell.getGenotypes()"
     ],
     "language": "python",
     "metadata": {},
     "outputs": [],
     "prompt_number": 7
    },
    {
     "cell_type": "heading",
     "level": 1,
     "metadata": {},
     "source": [
      "Allele frequency distribution"
     ]
    },
    {
     "cell_type": "heading",
     "level": 2,
     "metadata": {},
     "source": [
      "What is going on ? "
     ]
    },
    {
     "cell_type": "code",
     "collapsed": false,
     "input": [
      "af1000G = calc_AF(MG,minor=2)\n",
      "afBYxRM = calc_AF(MBYxRM,minor=1)\n",
      "afatwell = calc_AF(Matwell,minor=1)"
     ],
     "language": "python",
     "metadata": {},
     "outputs": [],
     "prompt_number": 8
    },
    {
     "cell_type": "code",
     "collapsed": false,
     "input": [
      "pl.figure(figsize=[12,5])\n",
      "plt.subplot(1,3,1)\n",
      "plot=pl.hist(af1000G['af'],100,normed=True)\n",
      "pl.ylabel('density')\n",
      "pl.title('1000 genomes')\n",
      "pl.xlabel('allele frequency')\n",
      "plt.subplot(1,3,2)\n",
      "plot=pl.hist(afatwell['af'],100,normed=True)\n",
      "pl.ylabel('density')\n",
      "pl.title('Atwell et al.')\n",
      "pl.xlabel('allele frequency')\n",
      "plt.subplot(1,3,3)\n",
      "plot=pl.hist(afBYxRM['af'],100,normed=True)\n",
      "pl.ylabel('density')\n",
      "pl.title('Yeast cross')\n",
      "pl.xlabel('allele frequency')"
     ],
     "language": "python",
     "metadata": {},
     "outputs": [
      {
       "metadata": {},
       "output_type": "pyout",
       "prompt_number": 9,
       "text": [
        "<matplotlib.text.Text at 0x1350f47d0>"
       ]
      },
      {
       "metadata": {},
       "output_type": "display_data",
       "png": "[encoded data removed]",
       "text": [
        "<matplotlib.figure.Figure at 0x10b079290>"
       ]
      }
     ],
     "prompt_number": 9
    },
    {
     "cell_type": "heading",
     "level": 2,
     "metadata": {},
     "source": [
      "Filtering by allele frequency"
     ]
    },
    {
     "cell_type": "code",
     "collapsed": false,
     "input": [
      "pl.figure(figsize=[12,5])\n",
      "maf = 10.**(-sp.arange(6))\n",
      "\n",
      "plt.subplot(1,3,1)\n",
      "\n",
      "N   = [(af1000G['af']>=m).sum() for m in maf]\n",
      "pl.plot(maf,N,'k-')\n",
      "pl.xscale('log')\n",
      "pl.xlabel('maf cutoff')\n",
      "pl.ylabel('number of SNPs')\n",
      "pl.title('1000 genomes')\n",
      "\n",
      "plt.subplot(1,3,2)\n",
      "\n",
      "N   = [(afatwell['af']>=m).sum() for m in maf]\n",
      "pl.plot(maf,N,'k-')\n",
      "pl.xscale('log')\n",
      "pl.xlabel('maf cutoff')\n",
      "pl.ylabel('number of SNPs')\n",
      "pl.title('Atwell et al.')\n",
      "\n",
      "\n",
      "plt.subplot(1,3,3)\n",
      "\n",
      "N   = [(afBYxRM['af']>=m).sum() for m in maf]\n",
      "pl.plot(maf,N,'k-')\n",
      "pl.xscale('log')\n",
      "pl.xlabel('maf cutoff')\n",
      "pl.ylabel('number of SNPs')\n",
      "pl.title('Atwell et al.')"
     ],
     "language": "python",
     "metadata": {},
     "outputs": [
      {
       "metadata": {},
       "output_type": "pyout",
       "prompt_number": 31,
       "text": [
        "<matplotlib.text.Text at 0x13535ae50>"
       ]
      },
      {
       "metadata": {},
       "output_type": "display_data",
       "png": "[encoded data removed]",
       "text": [
        "<matplotlib.figure.Figure at 0x1351e3d90>"
       ]
      }
     ],
     "prompt_number": 31
    },
    {
     "cell_type": "code",
     "collapsed": false,
     "input": [],
     "language": "python",
     "metadata": {},
     "outputs": []
    }
   ],
   "metadata": {}
  }
 ]
}