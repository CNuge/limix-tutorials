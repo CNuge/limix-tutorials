{
 "metadata": {
  "name": "",
  "signature": "sha256:624f86d494f35d868265cc6f190230c7c8186b9dc8cfff3cc7d4799f5e38db7f"
 },
 "nbformat": 3,
 "nbformat_minor": 0,
 "worksheets": [
  {
   "cells": [
    {
     "cell_type": "heading",
     "level": 1,
     "metadata": {},
     "source": [
      "Genotype to phenotpye mapping tutorials using LIMIX"
     ]
    },
    {
     "cell_type": "markdown",
     "metadata": {},
     "source": [
      "We here provide tutorials for common tasks in genotype to phenotye analysis, ranging from raw data processing to complex genetic analyses."
     ]
    },
    {
     "cell_type": "markdown",
     "metadata": {},
     "source": [
      "# Table of Contents\n",
      "\n",
      "1. Preprocessing and Quality control\n",
      "    * [Genotype Quality control](genotype_QC/genotype_QC.ipynb)\n",
      "(genotype_QC/genotype_QC_solution.ipynb)\n",
      "2. Linear regression and false discovery rates\n",
      "    * [Linear regression and multiple testing](linear_regression_FDR/QTL_mapping1.ipynb)\n",
      "3. Linear mixed models and population structure\n",
      "    * [Linear mixed models, example applications](LMM_singletrait/LMM_example.ipynb)\n",
      "    * [Simulating GWAS data, population structure and step-wise association analysis](LMM_singletrait/LMM_simulation.ipynb)\n",
      "3. Multiple trait analyses\n",
      "    * [Multitrait modelling, examples](LMM_multitrait/LMM_multitrait_example.ipynb)\n",
      "3. eQTL mapping\n",
      "    * To come"
     ]
    },
    {
     "cell_type": "code",
     "collapsed": false,
     "input": [],
     "language": "python",
     "metadata": {},
     "outputs": []
    },
    {
     "cell_type": "code",
     "collapsed": false,
     "input": [],
     "language": "python",
     "metadata": {},
     "outputs": []
    }
   ],
   "metadata": {}
  }
 ]
}