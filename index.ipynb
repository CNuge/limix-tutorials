{
 "metadata": {
  "name": "",
  "signature": "sha256:1cbcc3d0a827410745e534479d9cebc31ae78154335a241ecc8cc5d9b8dc4c89"
 },
 "nbformat": 3,
 "nbformat_minor": 0,
 "worksheets": [
  {
   "cells": [
    {
     "cell_type": "heading",
     "level": 1,
     "metadata": {},
     "source": [
      "Genotype to phenotpye mapping tutorials using LIMIX"
     ]
    },
    {
     "cell_type": "markdown",
     "metadata": {},
     "source": [
      "We here provide tutorials for common tasks in genotype to phenotye analysis, ranging from raw data processing to complex genetic analyses."
     ]
    },
    {
     "cell_type": "markdown",
     "metadata": {},
     "source": [
      "# Table of Contents\n",
      "\n",
      "1. Preprocessing and Quality control\n",
      "    * [Genotype Quality control](genotype_QC/genotype_QC.ipynb)\n",
      "    * [Genotype Quality control (solution)](genotype_QC/genotype_QC_solution.ipynb)\n",
      "2. Linear regression and false discovery rates\n",
      "    * [Linear regression and multiple testing](linear_regression_FDR/QTL_mapping1.ipynb)\n",
      "    * [Linear regression and multiple testing (solution)](linear_regression_FDR/QTL_mapping1_solution.ipynb)\n",
      "3. Linear mixed models and population structure\n",
      "    * [Linear mixed models](linear_mixed_models/QTL_mapping2.ipynb)\n",
      "    * [Simulating GWAS data, population structure and step-wise association analysis](linear_mixed_models/simulation_hapmap.ipynb)\n",
      "3. Multiple trait analyses\n",
      "    * To come\n",
      "3. eQTL mapping\n",
      "    * To come"
     ]
    },
    {
     "cell_type": "code",
     "collapsed": false,
     "input": [],
     "language": "python",
     "metadata": {},
     "outputs": []
    },
    {
     "cell_type": "code",
     "collapsed": false,
     "input": [],
     "language": "python",
     "metadata": {},
     "outputs": []
    }
   ],
   "metadata": {}
  }
 ]
}