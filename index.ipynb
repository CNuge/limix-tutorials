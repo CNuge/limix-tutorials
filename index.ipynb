{
 "metadata": {
  "name": "",
  "signature": "sha256:5b93c2d3050a09ebe1ffc8ea7bd424d63b1df161e6d65a39ca8c6143798d925c"
 },
 "nbformat": 3,
 "nbformat_minor": 0,
 "worksheets": [
  {
   "cells": [
    {
     "cell_type": "heading",
     "level": 1,
     "metadata": {},
     "source": [
      "Genotype to phenotpye mapping tutorials using LIMIX"
     ]
    },
    {
     "cell_type": "markdown",
     "metadata": {},
     "source": [
      "We here provide tutorials for common tasks in genotype to phenotye analysis, ranging from raw data processing to complex genetic analyses."
     ]
    },
    {
     "cell_type": "markdown",
     "metadata": {},
     "source": [
      "# Table of Contents\n",
      "\n",
      "1. Preprocessing and Quality control\n",
      "    * [Loading data](preprocessing_QC/loading_files.ipynb)\n",
      "    * [Genotype Quality control](preprocessing_QC/genotype_QC.ipynb)\n",
      "2. Linear regression and false discovery rates\n",
      "    * [Linear regression and multiple testing](linear_regression_FDR/QTL_mapping1.ipynb)\n",
      "3. Linear mixed models and population structure\n",
      "    * [Linear mixed models, example applications](LMM_singletrait/LMM_example.ipynb)\n",
      "    * [Simulating GWAS data, population structure and step-wise association analysis](LMM_singletrait/LMM_simulation.ipynb)\n",
      "3. Multiple trait analyses\n",
      "    * [Multitrait modelling, examples](LMM_multitrait/LMM_multitrait_example.ipynb)\n",
      "3. eQTL mapping\n",
      "    * To come"
     ]
    },
    {
     "cell_type": "code",
     "collapsed": false,
     "input": [],
     "language": "python",
     "metadata": {},
     "outputs": []
    },
    {
     "cell_type": "code",
     "collapsed": false,
     "input": [],
     "language": "python",
     "metadata": {},
     "outputs": []
    }
   ],
   "metadata": {}
  }
 ]
}