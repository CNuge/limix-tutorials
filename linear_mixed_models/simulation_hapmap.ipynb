{
 "metadata": {
  "name": "",
  "signature": "sha256:7204a2ee207b707a8f92adeaccfe5e8f3fddda19c7a5a997a2ffc58922764e2d"
 },
 "nbformat": 3,
 "nbformat_minor": 0,
 "worksheets": [
  {
   "cells": [
    {
     "cell_type": "code",
     "collapsed": false,
     "input": [
      "# activiate inline plotting\n",
      "%matplotlib inline\n",
      "from setup import *"
     ],
     "language": "python",
     "metadata": {},
     "outputs": [],
     "prompt_number": 1
    },
    {
     "cell_type": "heading",
     "level": 1,
     "metadata": {},
     "source": [
      "Tutorial on how to simulate genetic associations based on HapMap data"
     ]
    },
    {
     "cell_type": "markdown",
     "metadata": {},
     "source": [
      "This tutorial demonstrates how genotype data can be used to generate simulated phenotpye datasetes."
     ]
    },
    {
     "cell_type": "code",
     "collapsed": false,
     "input": [
      "# load 1000g data:\n",
      "\n",
      "#load 1000 genomes data\n",
      "#the data used in this study have been pre-converted into an hdf5 file. \n",
      "#to preprocess your own data, please use limix command line brinary\n",
      "genotype_file = './../data/1000g/1000g_chrom20_snps.hdf5'\n",
      "annotation_file = './../data/1000g/1000g_sample_annotation.hdf5'\n",
      "geno_reader_1000G  = gr.genotype_reader_tables(genotype_file)\n",
      "#read annotation\n",
      "fa = h5py.File(annotation_file,'r')\n",
      "population_1000G = fa['Population'][:]\n",
      "pos_1000G = geno_reader_1000G.getPos()\n",
      "\n",
      "\n"
     ],
     "language": "python",
     "metadata": {},
     "outputs": [],
     "prompt_number": 3
    },
    {
     "cell_type": "code",
     "collapsed": false,
     "input": [
      "#select YRI and CEU populations\n",
      "Ipop = (population_1000G=='CEU') | (population_1000G=='YRI') | (population_1000G=='GBR') | (population_1000G=='FIN')\n",
      "population_1000G = population_1000G[Ipop]\n",
      "M1000G = geno_reader_1000G.getGenotypes()[Ipop]\n",
      "#M1000G = geno_reader_1000G.getGenotypes()\n",
      "\n",
      "#note: the 1000g samples have different populational background.\n",
      "#a subset of the samples are YRI and the remaining CEU\n",
      "#you can query this information using the array \"popuatlion_1000G\"\n",
      "\n",
      "#filter by allele frequency\n",
      "af1000G = calc_AF(M1000G,minor=2)\n",
      "Iok = (af1000G['af']>=0.05) & ((af1000G['af']<0.95))\n",
      "M1000G = M1000G[:,Iok]\n",
      "pos_1000G = pos_1000G[Iok]\n"
     ],
     "language": "python",
     "metadata": {},
     "outputs": [],
     "prompt_number": 4
    },
    {
     "cell_type": "code",
     "collapsed": false,
     "input": [
      "N = M1000G.shape[0]\n",
      "#set random seed to make this reporducible\n",
      "sp.random.seed(5)\n",
      "\n",
      "snps = sp.array(M1000G,dtype='float')\n",
      "#specifiy number of causal variants and total variance attributable to genetic effects\n",
      "#10% are causal genetic effects\n",
      "Vfg = 0.2\n",
      "#variance due to non-causal population structure\n",
      "Vbg = 0.3\n",
      "#noise\n",
      "Vresidual = 1.0-Vbg-Vfg\n",
      "#number of causal loci and polygenic signal of population structure\n",
      "Nfg = 5\n",
      "#background:\n",
      "Nbg = 10\n",
      "\n",
      "#random selection of SNPs\n",
      "Irandom = sp.random.permutation(M1000G.shape[1])\n",
      "i_snp =0\n",
      "\n",
      "#simulate population structure effects\n",
      "W_bg = sp.randn(Nbg)\n",
      "\n",
      "#and causal loci\n",
      "W_fg = sp.randn(Nfg)\n",
      "\n",
      "#simulate random noise\n",
      "y_residual = sp.randn(N)\n",
      "\n",
      "#background snps (weak)\n",
      "I_bg = Irandom[i_snp:i_snp+Nbg]\n",
      "snps_bg  = snps[:,I_bg]\n",
      "snps_bg -= snps_bg.mean(axis=0)\n",
      "snps_bg /= snps_bg.std(axis=0)\n",
      "y_bg     = sp.dot(snps_bg,W_bg)\n",
      "i_snp+=Nbg\n",
      "\n",
      "#foreground SNPs (strong)\n",
      "I_fg = Irandom[i_snp:i_snp+Nfg]\n",
      "snps_fg = snps[:,I_fg]\n",
      "snps_fg -= snps_fg.mean(axis=0)\n",
      "snps_fg /= snps_fg.std(axis=0)\n",
      "y_fg      = sp.dot(snps_fg,W_fg)\n",
      "i_snp+=Nfg\n",
      "\n",
      "#\n",
      "I_causal = sp.concatenate([I_fg,I_bg])\n",
      "\n",
      "#normalize and add up\n",
      "y =   y_fg/y_fg.std()*sp.sqrt(Vfg) \n",
      "y +=  y_bg/y_bg.std()*sp.sqrt(Vbg)\n",
      "y +=  y_residual/y_residual.std()*sp.sqrt(Vresidual)\n",
      "y = y[:,sp.newaxis]\n"
     ],
     "language": "python",
     "metadata": {},
     "outputs": [],
     "prompt_number": "*"
    },
    {
     "cell_type": "code",
     "collapsed": false,
     "input": [
      "\n",
      "#run gwas:\n",
      "covs = None\n",
      "test = 'lrt'\n",
      "lm = qtl.test_lm(snps=snps,pheno=y,\n",
      "                   covs=covs, test=test)\n",
      "\n",
      "K = sp.dot(snps,snps.T)\n",
      "K /= K.diagonal().mean()\n",
      "\n",
      "lmm = qtl.test_lmm(snps=snps,pheno=y,K=K,\n",
      "                   covs=covs, test=test)\n",
      "pos = pos_1000G['pos'].values\n",
      "pv_lmm  = lmm.getPv().ravel()\n",
      "pv      = lm.getPv().ravel()"
     ],
     "language": "python",
     "metadata": {},
     "outputs": [],
     "prompt_number": "*"
    },
    {
     "cell_type": "heading",
     "level": 2,
     "metadata": {},
     "source": [
      "QTL scan on the simulated dataset"
     ]
    },
    {
     "cell_type": "code",
     "collapsed": false,
     "input": [
      "pl.figure(figsize=[17,5])\n",
      "plt.subplot(2,2,1)\n",
      "# Genome-wide manhatton plots for one phenotype:\n",
      "pos = pos_1000G['pos'].values\n",
      "plot_manhattan(pos,pv)\n",
      "pl.title('LM')\n",
      "plt.subplot(2,2,2)\n",
      "pos = pos_1000G['pos'].values\n",
      "plot_manhattan(pos,pv_lmm)\n",
      "pl.title('LMM')\n",
      "\n"
     ],
     "language": "python",
     "metadata": {},
     "outputs": [],
     "prompt_number": "*"
    },
    {
     "cell_type": "markdown",
     "metadata": {},
     "source": [
      "What are the loci that are being discovered. Are all associations found by LM background signals or SNPs with a large effect?"
     ]
    },
    {
     "cell_type": "code",
     "collapsed": false,
     "input": [
      "pl.figure(figsize=[17,5])\n",
      "plt.subplot(2,2,1)\n",
      "# Genome-wide manhatton plots for one phenotype:\n",
      "pos = pos_1000G['pos'].values\n",
      "plot_manhattan(pos,pv)\n",
      "#plot causal loci and background loci\n",
      "pl.plot(pos[I_bg],0.1*sp.ones(len(I_bg)),'g.',markersize=15,label='background')\n",
      "pl.plot(pos[I_fg],0.1*sp.ones(len(I_fg)),'r.',markersize=15,label='large effect')\n",
      "pl.legend(loc='upper left')\n",
      "pl.title('LM')\n",
      "plt.subplot(2,2,2)\n",
      "plot_manhattan(pos,pv_lmm)\n",
      "#plot causal loci and background loci\n",
      "pl.plot(pos[I_bg],0.1*sp.ones(len(I_bg)),'g.',markersize=15,label='background')\n",
      "pl.plot(pos[I_fg],0.1*sp.ones(len(I_fg)),'r.',markersize=15,label='large effect')\n",
      "pl.legend(loc='upper left')\n",
      "pl.title('LMM')"
     ],
     "language": "python",
     "metadata": {},
     "outputs": [],
     "prompt_number": "*"
    },
    {
     "cell_type": "markdown",
     "metadata": {},
     "source": [
      "#Observation\n",
      "* Population structure results in associations at non-causal loci (neither background nor foreground).\n",
      "* The LMM effectively corrects for structure such that causal loci stand out to a greater extent.\n",
      "* The power to detect causal loci (sensitivity) of the LMM decreases. "
     ]
    },
    {
     "cell_type": "code",
     "collapsed": false,
     "input": [
      "pl.figure(figsize=[8,5])\n",
      "pl.plot(-sp.log10(pv[I_causal]),-sp.log10(pv_lmm[I_causal]),'k.',markersize=10)\n",
      "maxx = max(pl.xlim()[1],pl.ylim()[1])\n",
      "pl.plot([0,maxx],[0,maxx],'k--')\n",
      "pl.xlabel('LM $-log_{10}(pv)$')\n",
      "pl.ylabel('LMN $-log_{10}(pv)$')"
     ],
     "language": "python",
     "metadata": {},
     "outputs": [],
     "prompt_number": "*"
    },
    {
     "cell_type": "markdown",
     "metadata": {},
     "source": [
      "#Stepwise association analysis\n",
      "* Stepwise inclusion of lead SNPs into the model\n"
     ]
    },
    {
     "cell_type": "code",
     "collapsed": false,
     "input": [
      "alpha = 0.05/snps.shape[1]\n",
      "lmm,RV = qtl.forward_lmm(snps=snps,pheno=y,K=K,\n",
      "                   covs=covs, test=test,threshold=alpha,maxiter=10)\n"
     ],
     "language": "python",
     "metadata": {},
     "outputs": [],
     "prompt_number": "*"
    },
    {
     "cell_type": "code",
     "collapsed": false,
     "input": [],
     "language": "python",
     "metadata": {},
     "outputs": [],
     "prompt_number": "*"
    },
    {
     "cell_type": "code",
     "collapsed": false,
     "input": [
      "pl.figure(figsize=[15,10])\n",
      "Nadded = RV['pvall'].shape[0]\n",
      "\n",
      "for i in xrange(Nadded):\n",
      "    plt.subplot(Nadded,1,1+i)\n",
      "    pv = RV['pvall'][i]\n",
      "    plot_manhattan(pos,pv)\n",
      "    pl.plot(pos[I_bg],0.1*sp.ones(len(I_bg)),'g.',markersize=15,label='background')\n",
      "    pl.plot(pos[I_fg],0.1*sp.ones(len(I_fg)),'r.',markersize=15,label='large effect')\n",
      "    \n",
      "    #mark the most associated SNP\n",
      "    if i<(Nadded-1):\n",
      "        pl.plot(pos[RV['iadded'][i]],-sp.log10(pv)[RV['iadded'][i]],'dy',markersize=10,label='lead SNP')    \n",
      "    pl.legend(loc='upper right')\n",
      "\n"
     ],
     "language": "python",
     "metadata": {},
     "outputs": [],
     "prompt_number": "*"
    },
    {
     "cell_type": "markdown",
     "metadata": {},
     "source": [
      "## observations\n",
      "* Nearby associaations can be dissected into individual causal signals (allelic heterogeneity).\n",
      "* Secondary associations can get stronger by conditioning on nearby SNPs."
     ]
    },
    {
     "cell_type": "code",
     "collapsed": false,
     "input": [],
     "language": "python",
     "metadata": {},
     "outputs": []
    }
   ],
   "metadata": {}
  }
 ]
}