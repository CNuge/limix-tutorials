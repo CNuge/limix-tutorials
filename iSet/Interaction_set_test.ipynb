{
 "cells": [
  {
   "cell_type": "markdown",
   "metadata": {},
   "source": [
    "# Using iSet in Python"
   ]
  },
  {
   "cell_type": "markdown",
   "metadata": {},
   "source": [
    "In this tutorial we show how to use iSet in Pyhton. The tutorial requires sample data at http://www.ebi.ac.uk/~casale/data.zip, which can be obtained running the following commands\n",
    "```bash\n",
    "wget http://www.ebi.ac.uk/~casale/data.zip\n",
    "unzip data.zip\n",
    "```\n",
    "As we show in this tutorial, iSet can be applied for interaction analysis in two data designs:\n",
    "* [complete design](#Complete-design), where all individuals have been phenotyped in each context\n",
    "* [stratified design](#Stratified-design), where each individual has been phenotyped in only one of the two contexts"
   ]
  },
  {
   "cell_type": "markdown",
   "metadata": {},
   "source": [
    "\n",
    "## Complete design"
   ]
  },
  {
   "cell_type": "markdown",
   "metadata": {},
   "source": [
    "iSet is an extension of mtSet that allows to test for polygenic interactions with environment or other contexts. iSet can be applied in designs where all individuals have been phenotyped in each context (complete design) as well as for populations that have been stratified by a context variable (stratified design). We will here see first an application of iSet for analysis of complete designs, and then an application for the analysis of stratified design in the next section."
   ]
  },
  {
   "cell_type": "markdown",
   "metadata": {},
   "source": [
    "### Setting up"
   ]
  },
  {
   "cell_type": "code",
   "execution_count": 1,
   "metadata": {
    "collapsed": false
   },
   "outputs": [],
   "source": [
    "# activiate inline plotting\n",
    "%matplotlib inline\n",
    "\n",
    "import scipy as sp\n",
    "import scipy.linalg\n",
    "import pandas as pd\n",
    "from limix.iSet.iset import fit_iSet\n",
    "from limix.io import read_plink\n",
    "from limix.util import sets_from_bim\n",
    "from limix.util import unique_variants\n",
    "import time"
   ]
  },
  {
   "cell_type": "markdown",
   "metadata": {},
   "source": [
    "### Import bed file"
   ]
  },
  {
   "cell_type": "code",
   "execution_count": 2,
   "metadata": {
    "collapsed": false
   },
   "outputs": [
    {
     "name": "stdout",
     "output_type": "stream",
     "text": [
      "Reading data/chrom22_subsample20_maf0.10.bim... done (0.09 s)\n",
      "Reading data/chrom22_subsample20_maf0.10.fam... done (0.01 s)\n",
      "Reading data/chrom22_subsample20_maf0.10.bed... done (0.01 s)\n"
     ]
    }
   ],
   "source": [
    "# import bed file\n",
    "bfile = 'data/chrom22_subsample20_maf0.10'\n",
    "(bim, fam, bed) = read_plink('data/chrom22_subsample20_maf0.10')"
   ]
  },
  {
   "cell_type": "markdown",
   "metadata": {},
   "source": [
    "### Defines variant-sets"
   ]
  },
  {
   "cell_type": "code",
   "execution_count": 3,
   "metadata": {
    "collapsed": false
   },
   "outputs": [
    {
     "name": "stdout",
     "output_type": "stream",
     "text": [
      "  chr     start       end nsnps\n",
      "0  22  16050612  16100612    23\n",
      "1  22  16100612  16150612     4\n",
      "2  22  16125612  16175612     7\n",
      "3  22  16225612  16275612     9\n",
      "4  22  16250612  16300612    16\n"
     ]
    }
   ],
   "source": [
    "# defines sets using a sliding-window approach.\n",
    "# window size = 50kb\n",
    "# step = 25kb\n",
    "# exclude regions with less than 4 variants.\n",
    "sets = sets_from_bim(bim, size=50000, step=25000, minSnps=4)\n",
    "print sets.head()"
   ]
  },
  {
   "cell_type": "markdown",
   "metadata": {},
   "source": [
    "``sets`` is a ``pandas.DataFrame``, where the rows are the different regions and the columns are the chromsome of the genomic region (chr), the start (start), the end (end) and the corresponding number of variants within the region.\n",
    "\n",
    "See ``limix.util.sets_from_bim`` ([here][1]) for more info.\n",
    "\n",
    "[1]: https://limix.readthedocs.io/util.html#limix.util.sets_from_bim"
   ]
  },
  {
   "cell_type": "markdown",
   "metadata": {},
   "source": [
    "### Apply"
   ]
  },
  {
   "cell_type": "markdown",
   "metadata": {},
   "source": [
    "Import phenotype data for $N=274$ individuals in $C=2$ contexts and the covariates to account.\n",
    "The covariates include the first 10 principal components of the genetic relatedness matrix and\n",
    "an intercept term ($K=11$ covariates in total)."
   ]
  },
  {
   "cell_type": "code",
   "execution_count": 4,
   "metadata": {
    "collapsed": false
   },
   "outputs": [],
   "source": [
    "pheno_file = './data/pheno.phe'\n",
    "covs_file = './data/covs.fe'\n",
    "Y = sp.loadtxt(pheno_file, usecols=(0,1))\n",
    "covs = sp.loadtxt(covs_file)"
   ]
  },
  {
   "cell_type": "markdown",
   "metadata": {},
   "source": [
    "We here showcase how to run iSet on $T=10$ region-sets and $J=10$ parametric bootstrapts/permutations.\n",
    "This last parameter determines the minimum P value that can be estimated.\n",
    "For example, for $J=10$ and $T=10$ tests, the minimum P value is $1/JT=10^{-2}$.\n",
    "\n",
    "The core function of the analysis is ``limix.iSet.fit_iSet``.\n",
    "See [here][1] for more info.\n",
    "\n",
    "[1]: https://limix.readthedocs.io/iSet.html"
   ]
  },
  {
   "cell_type": "code",
   "execution_count": 5,
   "metadata": {
    "collapsed": true
   },
   "outputs": [],
   "source": [
    "from sklearn.preprocessing import Imputer\n",
    "imputer = Imputer(missing_values=3.,\n",
    "                  strategy='mean',\n",
    "                  axis=0,\n",
    "                  copy=False)"
   ]
  },
  {
   "cell_type": "code",
   "execution_count": 6,
   "metadata": {
    "collapsed": false
   },
   "outputs": [
    {
     "name": "stdout",
     "output_type": "stream",
     "text": [
      ".. window 0 - (22, 16050612-16100612) - 23 snps\n",
      "Elapsed: 14.1367340088\n",
      ".. window 1 - (22, 16100612-16150612) - 4 snps\n",
      "Elapsed: 13.866382122\n",
      ".. window 2 - (22, 16125612-16175612) - 7 snps\n",
      "Elapsed: 14.0736939907\n",
      ".. window 3 - (22, 16225612-16275612) - 9 snps\n",
      "Elapsed: 15.6068398952\n",
      ".. window 4 - (22, 16250612-16300612) - 16 snps\n",
      "Elapsed: 14.0047211647\n",
      ".. window 5 - (22, 16275612-16325612) - 12 snps\n",
      "Elapsed: 14.018540144\n",
      ".. window 6 - (22, 16300612-16350612) - 4 snps\n",
      "Elapsed: 14.5835959911\n",
      ".. window 7 - (22, 16325612-16375612) - 5 snps\n",
      "Elapsed: 14.6842319965\n",
      ".. window 8 - (22, 16350612-16400612) - 5 snps\n",
      "Elapsed: 13.9321830273\n",
      ".. window 9 - (22, 16475612-16525612) - 8 snps\n",
      "Elapsed: 14.7056629658\n"
     ]
    }
   ],
   "source": [
    "n_wnds = 10 # 10 region-sets are considered\n",
    "n_nulls = 10 # number of bootstrapts/permutations \n",
    "\n",
    "# output is stored in pandas DataFrame\n",
    "df = pd.DataFrame()\n",
    "df0 = pd.DataFrame()\n",
    "\n",
    "iter_sets = sets.iterrows()\n",
    "for wnd_i in range(n_wnds):\n",
    "    \n",
    "    t0 = time.time()\n",
    "\n",
    "    # extract geno info\n",
    "    _, set = next(iter_sets)\n",
    "    print('.. window %d - (%s, %d-%d) - %d snps' %\n",
    "          (wnd_i, set['chr'], set['start'], set['end'], set['nsnps']))\n",
    "    query = \"chrom=='%s' & pos>=%d & pos<%d\" % (set['chr'], set['start'], set['end'])\n",
    "    chrom1 = bim.query(query)\n",
    "    Xr = bed[chrom1.i,:].compute().T.astype(float)\n",
    "    \n",
    "    # impute, consider only unique variants and normalize\n",
    "    Xr = imputer.fit_transform(Xr)\n",
    "    Xr = unique_variants(Xr)\n",
    "    Xr-= Xr.mean(0); Xr/= Xr.std(0)\n",
    "    Xr/= sp.sqrt(Xr.shape[1])\n",
    "\n",
    "    # run iSet\n",
    "    _df, _df0 = fit_iSet(Y, F=covs, Xr=Xr, n_nulls=10)\n",
    "    df  = df.append(_df, ignore_index=True)\n",
    "    df0 = df0.append(_df0, ignore_index=True)\n",
    "    \n",
    "    print 'Elapsed:', time.time()-t0"
   ]
  },
  {
   "cell_type": "markdown",
   "metadata": {},
   "source": [
    "The dataframe df contains log likelihood ratio scores for the different models, variance component attributable to persistent rescaling-GxC and heterogeneity-GxC."
   ]
  },
  {
   "cell_type": "code",
   "execution_count": 7,
   "metadata": {
    "collapsed": false
   },
   "outputs": [
    {
     "data": {
      "text/html": [
       "<div>\n",
       "<table border=\"1\" class=\"dataframe\">\n",
       "  <thead>\n",
       "    <tr style=\"text-align: right;\">\n",
       "      <th></th>\n",
       "      <th>Heterogeneity-GxC var</th>\n",
       "      <th>Persistent Var</th>\n",
       "      <th>Rescaling-GxC Var</th>\n",
       "      <th>iSet LLR</th>\n",
       "      <th>iSet-het LLR</th>\n",
       "      <th>mtSet LLR</th>\n",
       "    </tr>\n",
       "  </thead>\n",
       "  <tbody>\n",
       "    <tr>\n",
       "      <th>0</th>\n",
       "      <td>0.007778</td>\n",
       "      <td>0.010084</td>\n",
       "      <td>5.555646e-03</td>\n",
       "      <td>0.557219</td>\n",
       "      <td>3.393961e-01</td>\n",
       "      <td>1.605845e+00</td>\n",
       "    </tr>\n",
       "    <tr>\n",
       "      <th>1</th>\n",
       "      <td>0.000050</td>\n",
       "      <td>0.000050</td>\n",
       "      <td>2.192508e-15</td>\n",
       "      <td>0.004991</td>\n",
       "      <td>-1.070646e-09</td>\n",
       "      <td>-1.116746e-09</td>\n",
       "    </tr>\n",
       "    <tr>\n",
       "      <th>2</th>\n",
       "      <td>0.000050</td>\n",
       "      <td>0.000050</td>\n",
       "      <td>4.868945e-10</td>\n",
       "      <td>0.007582</td>\n",
       "      <td>-8.310600e-07</td>\n",
       "      <td>-8.311345e-07</td>\n",
       "    </tr>\n",
       "    <tr>\n",
       "      <th>3</th>\n",
       "      <td>0.000050</td>\n",
       "      <td>0.006019</td>\n",
       "      <td>1.255357e-02</td>\n",
       "      <td>2.000507</td>\n",
       "      <td>4.753929e-09</td>\n",
       "      <td>2.296841e+00</td>\n",
       "    </tr>\n",
       "  </tbody>\n",
       "</table>\n",
       "</div>"
      ],
      "text/plain": [
       "   Heterogeneity-GxC var  Persistent Var  Rescaling-GxC Var  iSet LLR  \\\n",
       "0               0.007778        0.010084       5.555646e-03  0.557219   \n",
       "1               0.000050        0.000050       2.192508e-15  0.004991   \n",
       "2               0.000050        0.000050       4.868945e-10  0.007582   \n",
       "3               0.000050        0.006019       1.255357e-02  2.000507   \n",
       "\n",
       "   iSet-het LLR     mtSet LLR  \n",
       "0  3.393961e-01  1.605845e+00  \n",
       "1 -1.070646e-09 -1.116746e-09  \n",
       "2 -8.310600e-07 -8.311345e-07  \n",
       "3  4.753929e-09  2.296841e+00  "
      ]
     },
     "execution_count": 7,
     "metadata": {},
     "output_type": "execute_result"
    }
   ],
   "source": [
    "df.head(4)"
   ]
  },
  {
   "cell_type": "markdown",
   "metadata": {},
   "source": [
    "The dataframe df0 contains log likelihood ratios when data are from the null. These are necessary to iSet to calculate P values."
   ]
  },
  {
   "cell_type": "code",
   "execution_count": 8,
   "metadata": {
    "collapsed": false
   },
   "outputs": [
    {
     "data": {
      "text/html": [
       "<div>\n",
       "<table border=\"1\" class=\"dataframe\">\n",
       "  <thead>\n",
       "    <tr style=\"text-align: right;\">\n",
       "      <th></th>\n",
       "      <th>iSet LLR0</th>\n",
       "      <th>iSet-het LLR0</th>\n",
       "      <th>mtSet LLR0</th>\n",
       "    </tr>\n",
       "  </thead>\n",
       "  <tbody>\n",
       "    <tr>\n",
       "      <th>0</th>\n",
       "      <td>0.006073</td>\n",
       "      <td>3.437245e-08</td>\n",
       "      <td>0.765659</td>\n",
       "    </tr>\n",
       "    <tr>\n",
       "      <th>1</th>\n",
       "      <td>2.523054</td>\n",
       "      <td>7.270557e-08</td>\n",
       "      <td>0.928534</td>\n",
       "    </tr>\n",
       "    <tr>\n",
       "      <th>2</th>\n",
       "      <td>0.347429</td>\n",
       "      <td>1.204769e-02</td>\n",
       "      <td>1.021066</td>\n",
       "    </tr>\n",
       "    <tr>\n",
       "      <th>3</th>\n",
       "      <td>0.003080</td>\n",
       "      <td>7.816530e-08</td>\n",
       "      <td>1.834483</td>\n",
       "    </tr>\n",
       "  </tbody>\n",
       "</table>\n",
       "</div>"
      ],
      "text/plain": [
       "   iSet LLR0  iSet-het LLR0  mtSet LLR0\n",
       "0   0.006073   3.437245e-08    0.765659\n",
       "1   2.523054   7.270557e-08    0.928534\n",
       "2   0.347429   1.204769e-02    1.021066\n",
       "3   0.003080   7.816530e-08    1.834483"
      ]
     },
     "execution_count": 8,
     "metadata": {},
     "output_type": "execute_result"
    }
   ],
   "source": [
    "df0.head(4)"
   ]
  },
  {
   "cell_type": "markdown",
   "metadata": {},
   "source": [
    "### Variance Component Plot"
   ]
  },
  {
   "cell_type": "code",
   "execution_count": 9,
   "metadata": {
    "collapsed": false
   },
   "outputs": [
    {
     "data": {
      "text/plain": [
       "<matplotlib.collections.PolyCollection at 0x115b2c6d0>"
      ]
     },
     "execution_count": 9,
     "metadata": {},
     "output_type": "execute_result"
    },
    {
     "data": {
      "image/png": "[encoded data removed]",
      "text/plain": [
       "<matplotlib.figure.Figure at 0x11194bed0>"
      ]
     },
     "metadata": {},
     "output_type": "display_data"
    }
   ],
   "source": [
    "import pylab as pl\n",
    "tot_var = df['Persistent Var'].values + df['Rescaling-GxC Var'].values + df['Heterogeneity-GxC var'].values\n",
    "nohet_var = df['Persistent Var'].values + df['Rescaling-GxC Var'].values\n",
    "wnd_start = sets['start'].values[:n_wnds].astype(int)\n",
    "pl.fill_between(wnd_start, 0, df['Persistent Var'].values, color='gray')\n",
    "pl.fill_between(wnd_start, df['Persistent Var'].values, nohet_var, color='Orange')\n",
    "pl.fill_between(wnd_start, nohet_var, tot_var, color='Gold')"
   ]
  },
  {
   "cell_type": "markdown",
   "metadata": {},
   "source": [
    "### P-values\n",
    "\n",
    "For each test, empirical P values can be computed from the test statistics observed on the data and the null testistics using ``limix.stats.empirical_pvalues``.\n",
    "See [here][1] for more info.\n",
    "\n",
    "[1]: https://limix.readthedocs.io/stats.html#limix.stats.empirical_pvalues"
   ]
  },
  {
   "cell_type": "code",
   "execution_count": 10,
   "metadata": {
    "collapsed": true
   },
   "outputs": [],
   "source": [
    "from limix.stats import empirical_pvalues\n",
    "#calculate P values for the three tests\n",
    "for test in ['mtSet', 'iSet', 'iSet-het']:\n",
    "    df[test+' pv'] = empirical_pvalues(df[test+' LLR'].values, df0[test+' LLR0'].values)"
   ]
  },
  {
   "cell_type": "code",
   "execution_count": 11,
   "metadata": {
    "collapsed": false
   },
   "outputs": [
    {
     "data": {
      "text/plain": [
       "[<matplotlib.lines.Line2D at 0x115b4f550>]"
      ]
     },
     "execution_count": 11,
     "metadata": {},
     "output_type": "execute_result"
    },
    {
     "data": {
      "image/png": "[encoded data removed]",
      "text/plain": [
       "<matplotlib.figure.Figure at 0x115c5a6d0>"
      ]
     },
     "metadata": {},
     "output_type": "display_data"
    }
   ],
   "source": [
    "#makes a manhattan plot\n",
    "wnd_start = sets['start'].values[:n_wnds].astype(int)\n",
    "import pylab as pl\n",
    "pl.plot(wnd_start, -sp.log10(df['mtSet pv'].values), 'o', color='DarkGreen')\n",
    "pl.plot(wnd_start, -sp.log10(df['iSet pv'].values), 'o', color='DarkRed')\n",
    "pl.plot(wnd_start, -sp.log10(df['iSet-het pv'].values), 'o', color='Gold')"
   ]
  },
  {
   "cell_type": "markdown",
   "metadata": {},
   "source": [
    "## Stratified design\n",
    "\n",
    "iSet is an extension of mtSet that allows to test for polygenic interactions with environment or other contexts.\n",
    "iSet can be applied in designs where all individuals have been phenotyped in each context (complete design) as well as for populations that have been stratified by a context variable (stratified design).\n",
    "We will here see application of iSet for analysis of stratified designs."
   ]
  },
  {
   "cell_type": "markdown",
   "metadata": {},
   "source": [
    "### Setting up"
   ]
  },
  {
   "cell_type": "markdown",
   "metadata": {},
   "source": [
    "See above (complete design) for "
   ]
  },
  {
   "cell_type": "code",
   "execution_count": 12,
   "metadata": {
    "collapsed": false
   },
   "outputs": [
    {
     "name": "stdout",
     "output_type": "stream",
     "text": [
      "Reading data/chrom22_subsample20_maf0.10.bim... done (0.09 s)\n",
      "Reading data/chrom22_subsample20_maf0.10.fam... done (0.00 s)\n",
      "Reading data/chrom22_subsample20_maf0.10.bed... done (0.01 s)\n",
      "  chr     start       end nsnps\n",
      "0  22  16050612  16100612    23\n",
      "1  22  16100612  16150612     4\n",
      "2  22  16125612  16175612     7\n",
      "3  22  16225612  16275612     9\n",
      "4  22  16250612  16300612    16\n"
     ]
    }
   ],
   "source": [
    "# activiate inline plotting\n",
    "%matplotlib inline\n",
    "\n",
    "import scipy as sp\n",
    "import scipy.linalg\n",
    "import pandas as pd\n",
    "from limix.iSet.iset import fit_iSet\n",
    "from limix.io import read_plink\n",
    "from limix.util import sets_from_bim\n",
    "from limix.util import unique_variants\n",
    "import time\n",
    "\n",
    "# import bed file\n",
    "bfile = 'data/chrom22_subsample20_maf0.10'\n",
    "(bim, fam, bed) = read_plink('data/chrom22_subsample20_maf0.10')\n",
    "\n",
    "# defines sets using a sliding-window approach.\n",
    "# window size = 50kb\n",
    "# step = 25kb\n",
    "# exclude regions with less than 4 variants.\n",
    "sets = sets_from_bim(bim, size=50000, step=25000, minSnps=4)\n",
    "print sets.head()"
   ]
  },
  {
   "cell_type": "markdown",
   "metadata": {},
   "source": [
    "### Import pheno data and covariates"
   ]
  },
  {
   "cell_type": "markdown",
   "metadata": {},
   "source": [
    "Import phenotype data for $N=274$ individuals, each phenotyped in one of in $C=2$ contexts."
   ]
  },
  {
   "cell_type": "code",
   "execution_count": 13,
   "metadata": {
    "collapsed": false
   },
   "outputs": [],
   "source": [
    "# import phenotype and sample relatedness\n",
    "pheno_file = './data/pheno.phe'\n",
    "Y = sp.loadtxt(pheno_file, usecols=[0])[:,sp.newaxis]"
   ]
  },
  {
   "cell_type": "markdown",
   "metadata": {},
   "source": [
    "We also need to define a boolean ndarray indicator that specifies in which context each individuals is phenotyped.\n",
    "For example, if we suppose that the first half of the individuals are phenotyped in context A and the second half in context B, we have:"
   ]
  },
  {
   "cell_type": "code",
   "execution_count": 14,
   "metadata": {
    "collapsed": true
   },
   "outputs": [],
   "source": [
    "Ie = sp.arange(Y.shape[0])<0.5*Y.shape[0]"
   ]
  },
  {
   "cell_type": "markdown",
   "metadata": {},
   "source": [
    "The covariates include the first 10 principal components of the genetic relatedness matrix and\n",
    "an intercept term ($K=11$ covariates in total)."
   ]
  },
  {
   "cell_type": "code",
   "execution_count": 15,
   "metadata": {
    "collapsed": true
   },
   "outputs": [],
   "source": [
    "covs_file = './data/covs.fe'\n",
    "covs = sp.loadtxt(covs_file)"
   ]
  },
  {
   "cell_type": "markdown",
   "metadata": {},
   "source": [
    "### Apply iSet"
   ]
  },
  {
   "cell_type": "markdown",
   "metadata": {},
   "source": [
    "We here showcase how to run iSet on $T=10$ region-sets and $J=10$ parametric bootstrapts/permutations.\n",
    "This last parameter determines the minimum P value that can be estimated.\n",
    "For example, for $J=10$ and $T=10$ tests, the minimum P value is $1/JT=10^{-2}$.\n",
    "\n",
    "The core function of the analysis is ``limix.iSet.fit_iSet``.\n",
    "See [here][1] for more info.\n",
    "\n",
    "[1]: https://limix.readthedocs.io/iSet.html"
   ]
  },
  {
   "cell_type": "code",
   "execution_count": 16,
   "metadata": {
    "collapsed": true
   },
   "outputs": [],
   "source": [
    "from sklearn.preprocessing import Imputer\n",
    "imputer = Imputer(missing_values=3.,\n",
    "                  strategy='mean',\n",
    "                  axis=0,\n",
    "                  copy=False)"
   ]
  },
  {
   "cell_type": "code",
   "execution_count": 17,
   "metadata": {
    "collapsed": false
   },
   "outputs": [
    {
     "name": "stdout",
     "output_type": "stream",
     "text": [
      ".. window 0 - (22, 16050612-16100612) - 23 snps\n",
      "Elapsed: 5.42739009857\n",
      ".. window 1 - (22, 16100612-16150612) - 4 snps\n",
      "Elapsed: 5.3012650013\n",
      ".. window 2 - (22, 16125612-16175612) - 7 snps\n",
      "Elapsed: 5.80481314659\n",
      ".. window 3 - (22, 16225612-16275612) - 9 snps\n",
      "Elapsed: 5.12378621101\n",
      ".. window 4 - (22, 16250612-16300612) - 16 snps\n",
      "Elapsed: 5.35974884033\n",
      ".. window 5 - (22, 16275612-16325612) - 12 snps\n",
      "Elapsed: 5.10933494568\n",
      ".. window 6 - (22, 16300612-16350612) - 4 snps\n",
      "Elapsed: 5.33015298843\n",
      ".. window 7 - (22, 16325612-16375612) - 5 snps\n",
      "Elapsed: 5.95581889153\n",
      ".. window 8 - (22, 16350612-16400612) - 5 snps\n",
      "Elapsed: 5.64678382874\n",
      ".. window 9 - (22, 16475612-16525612) - 8 snps\n",
      "Elapsed: 6.71362280846\n"
     ]
    }
   ],
   "source": [
    "n_wnds = 10 # 10 region-sets are considered\n",
    "n_nulls = 10 # number of bootstrapts/permutations \n",
    "\n",
    "# output is stored in pandas DataFrame\n",
    "df = pd.DataFrame()\n",
    "df0 = pd.DataFrame()\n",
    "\n",
    "iter_sets = sets.iterrows()\n",
    "for wnd_i in range(n_wnds):\n",
    "    \n",
    "    t0 = time.time()\n",
    "\n",
    "    # extract geno info\n",
    "    _, set = next(iter_sets)\n",
    "    print('.. window %d - (%s, %d-%d) - %d snps' %\n",
    "          (wnd_i, set['chr'], set['start'], set['end'], set['nsnps']))\n",
    "    query = \"chrom=='%s' & pos>=%d & pos<%d\" % (set['chr'], set['start'], set['end'])\n",
    "    chrom1 = bim.query(query)\n",
    "\n",
    "    # impute, consider only unique variants and normalize\n",
    "    Xr = imputer.fit_transform(Xr)\n",
    "    Xr = unique_variants(Xr)\n",
    "    Xr-= Xr.mean(0); Xr/= Xr.std(0)\n",
    "    Xr/= sp.sqrt(Xr.shape[1])\n",
    "\n",
    "    # run iSet\n",
    "    _df, _df0 = fit_iSet(Y, F=covs, Xr=Xr, Ie=Ie, n_nulls=10)\n",
    "    df  = df.append(_df, ignore_index=True)\n",
    "    df0 = df0.append(_df0, ignore_index=True)\n",
    "    \n",
    "    print 'Elapsed:', time.time()-t0"
   ]
  },
  {
   "cell_type": "markdown",
   "metadata": {},
   "source": [
    "The dataframes df and df0 have the same structures as in the complete design case.\n",
    "Please see above for the format of the output and plotting examples."
   ]
  },
  {
   "cell_type": "markdown",
   "metadata": {},
   "source": [
    "# Developers\n",
    "\n",
    "- Francesco Paolo Casale (<casale@ebi.ac.uk>)\n",
    "- Danilo Horta (<horta@ebi.ac.uk>)\n",
    "- Barbara Rakitsch (<rakitsch@ebi.ac.uk>)\n",
    "- Oliver Stegle (<stegle@ebi.ac.uk>)"
   ]
  }
 ],
 "metadata": {
  "anaconda-cloud": {},
  "kernelspec": {
   "display_name": "Python [conda root]",
   "language": "python",
   "name": "conda-root-py"
  },
  "language_info": {
   "codemirror_mode": {
    "name": "ipython",
    "version": 2
   },
   "file_extension": ".py",
   "mimetype": "text/x-python",
   "name": "python",
   "nbconvert_exporter": "python",
   "pygments_lexer": "ipython2",
   "version": "2.7.12"
  },
  "nav_menu": {},
  "toc": {
   "navigate_menu": true,
   "number_sections": true,
   "sideBar": true,
   "threshold": 6,
   "toc_cell": false,
   "toc_section_display": "block",
   "toc_window_display": true
  },
  "toc_position": {
   "height": "1211px",
   "left": "0px",
   "right": "auto",
   "top": "106px",
   "width": "215px"
  }
 },
 "nbformat": 4,
 "nbformat_minor": 0
}
