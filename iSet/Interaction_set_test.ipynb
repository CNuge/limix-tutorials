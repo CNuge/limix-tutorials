{
 "cells": [
  {
   "cell_type": "markdown",
   "metadata": {},
   "source": [
    "<h1 id=\"tocheading\">Table of Contents</h1>\n",
    "<div id=\"toc\"></div>"
   ]
  },
  {
   "cell_type": "code",
   "execution_count": 8,
   "metadata": {
    "collapsed": false
   },
   "outputs": [
    {
     "data": {
      "application/javascript": [
       "$.getScript('https://kmahelona.github.io/ipython_notebook_goodies/ipython_notebook_toc.js')"
      ],
      "text/plain": [
       "<IPython.core.display.Javascript object>"
      ]
     },
     "metadata": {},
     "output_type": "display_data"
    }
   ],
   "source": [
    "%%javascript\n",
    "$.getScript('https://kmahelona.github.io/ipython_notebook_goodies/ipython_notebook_toc.js')"
   ]
  },
  {
   "cell_type": "markdown",
   "metadata": {},
   "source": [
    "# Introduction\n",
    "\n",
    "Set tests are a powerful approach for association testing between groups of genetic variants and quantitative traits.\n",
    "In this tutorial we demonstrate how to use set tests within the LIMIX framework to test for gene-context interactions (iSet).\n",
    "As we show in this tutorial, iSet can be applied for interaction analysis in two data designs:\n",
    "* [complete design](#Complete-design), where all individuals have been phenotyped in each context\n",
    "* [stratified design](#Stratified-design), where each individual has been phenotyped in only one of the two contexts\n",
    "\n",
    "As shown in this tutorial, iSet can be used both with the command line interface using the limix scripts (`mtSet_preprocess`, `iSet_analyze`, `iSet_postprocess`, `mtSet_simPheno`) or within python."
   ]
  },
  {
   "cell_type": "markdown",
   "metadata": {},
   "source": [
    "# Using iSet from command line"
   ]
  },
  {
   "cell_type": "markdown",
   "metadata": {},
   "source": [
    "## Quick Start\n",
    "\n",
    "1. Download and install Limix\n",
    "```bash\n",
    "git clone --depth 1 https://github.com/PMBio/limix.git\n",
    "pushd limix\n",
    "python setup.py install\n",
    "```\n",
    "\n",
    "2. Download sample data from http://www.ebi.ac.uk/~casale/data.zip and unzip them\n",
    "```bash\n",
    "wget http://www.ebi.ac.uk/~casale/data.zip\n",
    "unzip data.zip\n",
    "```\n",
    "\n",
    "3. Define sets to consider in the analysis and export to file WFILE (see below for further information)\n",
    "```bash\n",
    "BFILE=data/chrom22_subsample20_maf0.10 #bed file basename\n",
    "WFILE=data/windows #file with the sets to analyse\n",
    "mtSet_preprocess --precompute_windows --bfile $BFILE --wfile $WFILE --window_size 30000 --plot_windows\n",
    "```\n",
    "\n",
    "5. Perform set tests from window 0 to window 9 for either complete or stratified designs (see below for further information). This command can be used to run iSet on multiple cores, each analysing a set of windows (for example, 0-9, 10-19, 20-29, etc).\n",
    "    - Complete design\n",
    "```bash\n",
    "PFILE=data/pheno_compl #phenotype matrix (N samples x 2)\n",
    "FFILE=data/covs #covariates (N samples x N covariates)\n",
    "RESDIR=results #output folder\n",
    "iSet_analyze --bfile $BFILE --ffile $FFILE --pfile $PFILE --wfile $WFILE --minSnps 4 --resdir $RESDIR --start_wnd 0 --end_wnd 10\n",
    "```\n",
    "\n",
    "    - Stratified design\n",
    "```bash\n",
    "PFILE=data/pheno_strat #phenotype vector (N samples x 1)\n",
    "FFILE=data/covs #covariates (N samples x N covariates)\n",
    "IFILE=data/indicator #environment indicator vector (0/1, N samples x 1)\n",
    "RESDIR=results #output folder\n",
    "iSet_analyze --bfile $BFILE --ffile $FFILE --pfile $PFILE --wfile $WFILE --minSnps 4 --resdir $RESDIR --start_wnd 0 --end_wnd 10 --ifile $IFILE\n",
    "```\n",
    "\n",
    "6. Merges all results present in RESDIR, calculate P values and exports to OUTFILE\n",
    "```bash\n",
    "OUTFILE=final\n",
    "iSet_postprocess --resdir $RESDIR --outfile $OUTFILE\n",
    "```"
   ]
  },
  {
   "cell_type": "markdown",
   "metadata": {},
   "source": [
    "## Precomputing the windows\n",
    "In order to apply iSet, the user is required to provide a file (wfile) that contains the variant-sets to consider in the analysis. The file needs to have the following format:\n",
    "* the rows correspond to the different variant sets,\n",
    "* the columns indicate: index, chromosome, start position, stop position, index of startposition (in the bed file) and number of SNPs (6 columns).\n",
    "\n",
    "While the user can specify the sets to consider arbitrarily, we here provide a method that produce the set file for sliding-window experiments:\n",
    "\n",
    "\n",
    "```bash\n",
    "mtSet_preprocess --precompute_windows --bfile bfile --wfile wfile --window_size window_size --plot_windows\n",
    "```\n",
    "\n",
    "where\n",
    "* __bfile__ is the base name of of the binary bed file (__bfile__.bim is required).\n",
    "* __window\\_size__ is the size of the window (in basepairs). The default value is 30kb.\n",
    "* __wfile__ is the base name of the output file.\n",
    "  If not specified, the file is saved as __bfile__.window\\_size.wnd in the current folder (output format described above).\n",
    "* __plot\\_windows__ if the flag is set, a histogram over the number of markers within a window is generated and saved as __wfile__.pdf."
   ]
  },
  {
   "cell_type": "markdown",
   "metadata": {},
   "source": [
    "## Running analysis\n",
    "\n",
    "The set test can be run by the following analysis script:\n",
    "\n",
    "```bash\n",
    "iSet_analyze --bfile bfile --pfile pfile --wfile wfile --ffile ffile --minSnps minSnps --start_wnd start_wnd --end_wnd end_wnd --resdir rdir --ifile $IFILE --n_perms 10\n",
    "```\n",
    "\n",
    "where\n",
    "\n",
    "- __bfile__ is the base name of of the binary bed file (__bfile__.bed, __bfile__.bim, __bfile__.fam are required).\n",
    "- __pfile__ is the base name of the phenotype file. The script requires the file __pfile__.phe containing the phenotype data.\n",
    "- __wfile__ is the base name of the file containing the windows to be considered in the set test. The script requires the file __wfile__.wnd.\n",
    "- __ffile__ is the name of the file containing the covariates. Each covariate is a column in the matrix.\n",
    "- __start\\_wnd__ is the index of the start window\n",
    "- __end\\_wnd__ is the index of the end window\n",
    "- __minSnps__ if set only windows containing at least minSnps are considered in the analysis\n",
    "rdir is the directory to which the results are exported.\n",
    "- __n_perms__ number of null (sampled) test statistics (obtained thrugh permutations/parametric bootstraps)\n",
    "- __rdir__ is the directory to which the results are exported. The command exports files *start_wnd*_*end_wnd*.iSet.real that contains test statistics and vairance components and *start_wnd*_*end_wnd*.iSet.perm that contains null statistics\n",
    "- __ifile__ is the file path to a csv file containing an indicator (True or False) for each sample. If specified the analysis is performed for a stratified design.\n",
    "- __startwnd\\_endwnd__.res and contains results in the following format: window index, chromosome, start position, stop position, index of startposition, number of SNPs and log likelihood ratio.\n",
    "\n",
    "Note that this command can be used to run iSet on multiple cores, each analysing a set of windows (for example, 0-9, 10-19, 20-29, etc)."
   ]
  },
  {
   "cell_type": "markdown",
   "metadata": {},
   "source": [
    "## Postprocessing\n",
    "\n",
    "After running iSet, the following script can be used to merge the result files and estimate the p-values (p-values are obtained by a parametric fit of the test statistics): \n",
    "\n",
    "```bash\n",
    "iSet_postprocess --resdir resdir --outfile outfile --strat\n",
    "```\n",
    "\n",
    "where \n",
    "* __resdir__ is a pointer to the folder containing the result files of the analysis.\n",
    "* __outfile__ is the prefix of the two output files.\n",
    "__outfile__.perm lists the test statistics (first column) and p-values (second column) of the permutated windows\n",
    "__outfile__.test contains the (index, chromosome, start position, stop position, SNP index, number of SNPs, test statistics and p-value) of each window. Each window is saved in one row.\n",
    "* __strat__ is a boolean flag that indicates stratified design when used."
   ]
  },
  {
   "cell_type": "markdown",
   "metadata": {},
   "source": [
    "# Using iSet within Python"
   ]
  },
  {
   "cell_type": "markdown",
   "metadata": {},
   "source": [
    "\n",
    "## Complete design"
   ]
  },
  {
   "cell_type": "markdown",
   "metadata": {},
   "source": [
    "iSet is an extension of mtSet that allows to test for polygenic interactions with environment or other contexts. iSet can be applied in designs where all individuals have been phenotyped in each context (complete design) as well as for populations that have been stratified by a context variable (stratified design). We will here see first an application of iSet for analysis of complete designs, and then an application for the analysis of stratified design in the next section."
   ]
  },
  {
   "cell_type": "markdown",
   "metadata": {},
   "source": [
    "### Setting up"
   ]
  },
  {
   "cell_type": "code",
   "execution_count": 4,
   "metadata": {
    "collapsed": false
   },
   "outputs": [],
   "source": [
    "# activiate inline plotting\n",
    "%matplotlib inline\n",
    "\n",
    "from download_examples import get_1000G_mtSet\n",
    "import scipy as sp\n",
    "import scipy.linalg\n",
    "import limix\n",
    "from limix.iSet.iset import fit_iSet\n",
    "import pandas as pd"
   ]
  },
  {
   "cell_type": "code",
   "execution_count": 5,
   "metadata": {
    "collapsed": false
   },
   "outputs": [],
   "source": [
    "# loading 1000G genotypes for mtSet demo\n",
    "get_1000G_mtSet()"
   ]
  },
  {
   "cell_type": "code",
   "execution_count": 6,
   "metadata": {
    "collapsed": true
   },
   "outputs": [],
   "source": [
    "# base name for bed, bim and fam\n",
    "bfile = './data/1000g/chrom22_subsample20_maf0.10'"
   ]
  },
  {
   "cell_type": "markdown",
   "metadata": {},
   "source": [
    "### Split genotypes into regions"
   ]
  },
  {
   "cell_type": "code",
   "execution_count": 4,
   "metadata": {
    "collapsed": true
   },
   "outputs": [],
   "source": [
    "from limix.mtSet.core import plink_reader"
   ]
  },
  {
   "cell_type": "code",
   "execution_count": 5,
   "metadata": {
    "collapsed": false
   },
   "outputs": [],
   "source": [
    "# import genotype positions\n",
    "bim = plink_reader.readBIM(bfile,usecols=(0,1,2,3))\n",
    "chrom = bim[:, 0].astype(float)\n",
    "pos = bim[:, -1].astype(float)"
   ]
  },
  {
   "cell_type": "code",
   "execution_count": 6,
   "metadata": {
    "collapsed": true
   },
   "outputs": [],
   "source": [
    "# uses splitter to split the genotypes\n",
    "from limix.mtSet.core.splitter import Splitter\n",
    "split = Splitter(pos=pos,chrom=chrom)"
   ]
  },
  {
   "cell_type": "markdown",
   "metadata": {},
   "source": [
    "The method `splitGeno` allows to define the regions that will then considered for the analysis with iSet.\n",
    "Information relative to the calculated regions can be cached in an external file by activating the cache option (see below).\n",
    "\n",
    "| Argument        | Default       | Datatype | Explanation |\n",
    "| ------------- |:-------------:|:--------:| --------|\n",
    "| __method__      | 'slidingWindow' | str | Uses a sliding window approach to define regions (a region-based approach will be availabe soon) |\n",
    "| __size__      | 5E+04 (50kb) | float | Window size. Pace is set at half the size of the window |\n",
    "| __minSnps__      | 1 | int | Windows with number of SNPs lower that this threshold are not considered |\n",
    "| __maxSnps__      | sp.inf | int | Windows with number of SNPs higher that this threshold are not considered |\n",
    "| __cache__       | False | bool | If true, it activates the caching |\n",
    "| __out\\_dir__     | './cache' | str | outdir of the cache file |\n",
    "| __fname__       | None | str | Name of the file |\n",
    "| __rewrite__     | False | bool | If true and the cache file already exists, the cache file is overwritten |"
   ]
  },
  {
   "cell_type": "code",
   "execution_count": 7,
   "metadata": {
    "collapsed": false
   },
   "outputs": [
    {
     "name": "stdout",
     "output_type": "stream",
     "text": [
      "1380 windows\n"
     ]
    }
   ],
   "source": [
    "split.splitGeno(cache=True, fname='regions.h5', minSnps=4)\n",
    "print '%d windows' % split.nWindows"
   ]
  },
  {
   "cell_type": "markdown",
   "metadata": {},
   "source": [
    "### Apply"
   ]
  },
  {
   "cell_type": "code",
   "execution_count": 8,
   "metadata": {
    "collapsed": false
   },
   "outputs": [],
   "source": [
    "# import phenotype and sample relatedness\n",
    "pheno_file = './data/pheno.phe'\n",
    "sample_relatedness_file = './data/chrom22.cov'\n",
    "sample_relatedness_file = './data/chrom22.cov'\n",
    "Y = sp.loadtxt(pheno_file)[:,:2]\n",
    "R = sp.loadtxt(sample_relatedness_file)"
   ]
  },
  {
   "cell_type": "code",
   "execution_count": 9,
   "metadata": {
    "collapsed": false
   },
   "outputs": [],
   "source": [
    "# load fixed effect covariates (10 PCs + intercept term)\n",
    "sp.loadtxt()"
   ]
  },
  {
   "cell_type": "code",
   "execution_count": 10,
   "metadata": {
    "collapsed": true
   },
   "outputs": [],
   "source": [
    "# read fam\n",
    "bim = plink_reader.readBIM(bfile,usecols=(0,1,2,3))\n",
    "fam = plink_reader.readFAM(bfile,usecols=(0,1))"
   ]
  },
  {
   "cell_type": "code",
   "execution_count": 11,
   "metadata": {
    "collapsed": false
   },
   "outputs": [
    {
     "name": "stdout",
     "output_type": "stream",
     "text": [
      ".. window 0 - (22, 16025000-16075000) - 21 snps\n"
     ]
    },
    {
     "name": "stderr",
     "output_type": "stream",
     "text": [
      "/Users/casale/anaconda/lib/python2.7/site-packages/limix-0.8.0.dev0-py2.7-macosx-10.6-x86_64.egg/limix/mtSet/core/plink_reader.py:127: VisibleDeprecationWarning: using a non-integer number instead of an integer will result in an error in the future\n",
      "  SNPs = SP.zeros(((SP.ceil(0.25*N)*4),nSNPs),order=order)\n",
      "/Users/casale/anaconda/lib/python2.7/site-packages/limix-0.8.0.dev0-py2.7-macosx-10.6-x86_64.egg/limix/mtSet/core/plink_reader.py:142: VisibleDeprecationWarning: using a non-integer number instead of an integer will result in an error in the future\n",
      "  bytes = SP.array(bytearray(f.read(nbyte))).reshape((SP.ceil(0.25*N),Sblock),order='F')\n"
     ]
    },
    {
     "name": "stdout",
     "output_type": "stream",
     "text": [
      "Elapsed: 11.3809649944\n",
      ".. window 1 - (22, 16050000-16100000) - 23 snps\n",
      "Elapsed: 12.6584079266\n",
      ".. window 2 - (22, 16125000-16175000) - 7 snps\n",
      "Elapsed: 16.8145720959\n",
      ".. window 3 - (22, 16225000-16275000) - 9 snps\n",
      "Elapsed: 104.873666048\n",
      ".. window 4 - (22, 16250000-16300000) - 16 snps\n",
      "Elapsed: 20.669064045\n",
      ".. window 5 - (22, 16275000-16325000) - 12 snps\n",
      "Elapsed: 14.1111199856\n",
      ".. window 6 - (22, 16325000-16375000) - 5 snps\n",
      "Elapsed: 12.9142489433\n",
      ".. window 7 - (22, 16350000-16400000) - 5 snps\n",
      "Elapsed: 13.7915680408\n",
      ".. window 8 - (22, 16475000-16525000) - 8 snps\n",
      "Elapsed: 16.0733628273\n",
      ".. window 9 - (22, 16500000-16550000) - 7 snps\n",
      "Elapsed: 19.4930050373\n"
     ]
    }
   ],
   "source": [
    "n_wnds = 10 # only 10 windows are considered\n",
    "LLR = sp.zeros(n_wnds) # vector with test statistics of the n_wnds regions\n",
    "df = pd.DataFrame()\n",
    "df0 = pd.DataFrame()\n",
    "import time\n",
    "\n",
    "for wnd_i in range(n_wnds):\n",
    "    t0 = time.time()\n",
    "    wnd_pos = split.wnd_pos[wnd_i]\n",
    "    nSnps = split.nSnps[wnd_i]\n",
    "    idx_wnd_start = split.idx_wnd_start[wnd_i]\n",
    "    print '.. window %d - (%d, %d-%d) - %d snps' % (wnd_i, wnd_pos[0], wnd_pos[1], wnd_pos[2], nSnps)\n",
    "\n",
    "    Xr = plink_reader.readBED(bfile, useMAFencoding=True, start = idx_wnd_start, nSNPs = nSnps, bim=bim , fam=fam)['snps']\n",
    "    xr = sp.dot(sp.rand(Xr.shape[0]), Xr)\n",
    "    idxs_u = sp.sort(sp.unique(xr, return_index=True)[1])\n",
    "    Xr = Xr[:,idxs_u]\n",
    "    Xr-= Xr.mean(0)\n",
    "    Xr/= Xr.std(0)\n",
    "    Xr/= sp.sqrt(Xr.shape[1])\n",
    "\n",
    "    _df, _df0 = fit_iSet(Y, F=F, Xr=Xr, n_nulls=10)\n",
    "    df  = df.append(_df)\n",
    "    df0 = df0.append(_df0)\n",
    "    print 'Elapsed:', time.time()-t0"
   ]
  },
  {
   "cell_type": "markdown",
   "metadata": {},
   "source": [
    "The dataframe df contains log likelihood ratio scores for the different models, variance component attributable to persistent rescaling-GxC and heterogeneity-GxC and information about convergence"
   ]
  },
  {
   "cell_type": "code",
   "execution_count": 12,
   "metadata": {
    "collapsed": false
   },
   "outputs": [
    {
     "data": {
      "text/html": [
       "<div>\n",
       "<table border=\"1\" class=\"dataframe\">\n",
       "  <thead>\n",
       "    <tr style=\"text-align: right;\">\n",
       "      <th></th>\n",
       "      <th>Heterogeneity-GxC var</th>\n",
       "      <th>Persistent Var</th>\n",
       "      <th>Rescaling-GxC Var</th>\n",
       "      <th>iSet LLR</th>\n",
       "      <th>iSet-het LLR</th>\n",
       "      <th>mtSet LLR</th>\n",
       "    </tr>\n",
       "  </thead>\n",
       "  <tbody>\n",
       "    <tr>\n",
       "      <th>0</th>\n",
       "      <td>0.005392</td>\n",
       "      <td>0.010507</td>\n",
       "      <td>7.101712e-03</td>\n",
       "      <td>5.746295e-01</td>\n",
       "      <td>2.224021e-01</td>\n",
       "      <td>1.655404e+00</td>\n",
       "    </tr>\n",
       "    <tr>\n",
       "      <th>0</th>\n",
       "      <td>0.007778</td>\n",
       "      <td>0.010084</td>\n",
       "      <td>5.555618e-03</td>\n",
       "      <td>5.572166e-01</td>\n",
       "      <td>3.393949e-01</td>\n",
       "      <td>1.605843e+00</td>\n",
       "    </tr>\n",
       "    <tr>\n",
       "      <th>0</th>\n",
       "      <td>0.000050</td>\n",
       "      <td>0.000050</td>\n",
       "      <td>4.840134e-10</td>\n",
       "      <td>7.581852e-03</td>\n",
       "      <td>-8.268391e-07</td>\n",
       "      <td>-8.269062e-07</td>\n",
       "    </tr>\n",
       "    <tr>\n",
       "      <th>0</th>\n",
       "      <td>0.000050</td>\n",
       "      <td>0.006019</td>\n",
       "      <td>1.255343e-02</td>\n",
       "      <td>2.000499e+00</td>\n",
       "      <td>4.871453e-09</td>\n",
       "      <td>2.296836e+00</td>\n",
       "    </tr>\n",
       "    <tr>\n",
       "      <th>0</th>\n",
       "      <td>0.000050</td>\n",
       "      <td>0.004385</td>\n",
       "      <td>1.233389e-02</td>\n",
       "      <td>1.820602e+00</td>\n",
       "      <td>-8.327561e-11</td>\n",
       "      <td>1.820689e+00</td>\n",
       "    </tr>\n",
       "    <tr>\n",
       "      <th>0</th>\n",
       "      <td>0.000050</td>\n",
       "      <td>0.000050</td>\n",
       "      <td>3.900443e-12</td>\n",
       "      <td>6.427395e-07</td>\n",
       "      <td>-2.638672e-10</td>\n",
       "      <td>-3.454943e-10</td>\n",
       "    </tr>\n",
       "    <tr>\n",
       "      <th>0</th>\n",
       "      <td>0.000050</td>\n",
       "      <td>0.000935</td>\n",
       "      <td>2.033645e-04</td>\n",
       "      <td>1.718735e-02</td>\n",
       "      <td>1.829665e-08</td>\n",
       "      <td>1.718657e-02</td>\n",
       "    </tr>\n",
       "    <tr>\n",
       "      <th>0</th>\n",
       "      <td>0.000050</td>\n",
       "      <td>0.000050</td>\n",
       "      <td>2.224766e-13</td>\n",
       "      <td>7.225904e-03</td>\n",
       "      <td>1.202191e-07</td>\n",
       "      <td>-2.722800e-10</td>\n",
       "    </tr>\n",
       "    <tr>\n",
       "      <th>0</th>\n",
       "      <td>0.000827</td>\n",
       "      <td>0.003191</td>\n",
       "      <td>8.814909e-03</td>\n",
       "      <td>8.597470e-01</td>\n",
       "      <td>1.172438e-02</td>\n",
       "      <td>8.970728e-01</td>\n",
       "    </tr>\n",
       "    <tr>\n",
       "      <th>0</th>\n",
       "      <td>0.000050</td>\n",
       "      <td>0.001833</td>\n",
       "      <td>8.049454e-03</td>\n",
       "      <td>5.902992e-01</td>\n",
       "      <td>1.579309e-08</td>\n",
       "      <td>5.902869e-01</td>\n",
       "    </tr>\n",
       "  </tbody>\n",
       "</table>\n",
       "</div>"
      ],
      "text/plain": [
       "   Heterogeneity-GxC var  Persistent Var  Rescaling-GxC Var      iSet LLR  \\\n",
       "0               0.005392        0.010507       7.101712e-03  5.746295e-01   \n",
       "0               0.007778        0.010084       5.555618e-03  5.572166e-01   \n",
       "0               0.000050        0.000050       4.840134e-10  7.581852e-03   \n",
       "0               0.000050        0.006019       1.255343e-02  2.000499e+00   \n",
       "0               0.000050        0.004385       1.233389e-02  1.820602e+00   \n",
       "0               0.000050        0.000050       3.900443e-12  6.427395e-07   \n",
       "0               0.000050        0.000935       2.033645e-04  1.718735e-02   \n",
       "0               0.000050        0.000050       2.224766e-13  7.225904e-03   \n",
       "0               0.000827        0.003191       8.814909e-03  8.597470e-01   \n",
       "0               0.000050        0.001833       8.049454e-03  5.902992e-01   \n",
       "\n",
       "   iSet-het LLR     mtSet LLR  \n",
       "0  2.224021e-01  1.655404e+00  \n",
       "0  3.393949e-01  1.605843e+00  \n",
       "0 -8.268391e-07 -8.269062e-07  \n",
       "0  4.871453e-09  2.296836e+00  \n",
       "0 -8.327561e-11  1.820689e+00  \n",
       "0 -2.638672e-10 -3.454943e-10  \n",
       "0  1.829665e-08  1.718657e-02  \n",
       "0  1.202191e-07 -2.722800e-10  \n",
       "0  1.172438e-02  8.970728e-01  \n",
       "0  1.579309e-08  5.902869e-01  "
      ]
     },
     "execution_count": 12,
     "metadata": {},
     "output_type": "execute_result"
    }
   ],
   "source": [
    "df"
   ]
  },
  {
   "cell_type": "markdown",
   "metadata": {},
   "source": [
    "The dataframe df0 contains log likelihood ratios when data are from the null. These are necessary to iSet to calculate P values."
   ]
  },
  {
   "cell_type": "code",
   "execution_count": 13,
   "metadata": {
    "collapsed": false
   },
   "outputs": [
    {
     "data": {
      "text/html": [
       "<div>\n",
       "<table border=\"1\" class=\"dataframe\">\n",
       "  <thead>\n",
       "    <tr style=\"text-align: right;\">\n",
       "      <th></th>\n",
       "      <th>iSet LLR0</th>\n",
       "      <th>iSet-het LLR0</th>\n",
       "      <th>mtSet LLR0</th>\n",
       "    </tr>\n",
       "  </thead>\n",
       "  <tbody>\n",
       "    <tr>\n",
       "      <th>0</th>\n",
       "      <td>1.555267e-02</td>\n",
       "      <td>-1.114967e-08</td>\n",
       "      <td>6.763972e-01</td>\n",
       "    </tr>\n",
       "    <tr>\n",
       "      <th>1</th>\n",
       "      <td>5.138475e-03</td>\n",
       "      <td>1.666820e-08</td>\n",
       "      <td>9.962754e-02</td>\n",
       "    </tr>\n",
       "    <tr>\n",
       "      <th>2</th>\n",
       "      <td>1.322256e+00</td>\n",
       "      <td>3.478742e-07</td>\n",
       "      <td>3.593482e-01</td>\n",
       "    </tr>\n",
       "    <tr>\n",
       "      <th>3</th>\n",
       "      <td>5.303700e-03</td>\n",
       "      <td>3.838863e-09</td>\n",
       "      <td>-1.591616e-12</td>\n",
       "    </tr>\n",
       "    <tr>\n",
       "      <th>4</th>\n",
       "      <td>2.649577e-02</td>\n",
       "      <td>1.236790e-07</td>\n",
       "      <td>4.307782e-01</td>\n",
       "    </tr>\n",
       "    <tr>\n",
       "      <th>5</th>\n",
       "      <td>2.371773e+00</td>\n",
       "      <td>1.979566e-08</td>\n",
       "      <td>-2.283286e-09</td>\n",
       "    </tr>\n",
       "    <tr>\n",
       "      <th>6</th>\n",
       "      <td>1.140588e-01</td>\n",
       "      <td>8.015625e-07</td>\n",
       "      <td>-3.249224e-07</td>\n",
       "    </tr>\n",
       "    <tr>\n",
       "      <th>7</th>\n",
       "      <td>7.300552e-05</td>\n",
       "      <td>-1.030742e-09</td>\n",
       "      <td>5.007758e-03</td>\n",
       "    </tr>\n",
       "    <tr>\n",
       "      <th>8</th>\n",
       "      <td>1.931133e-01</td>\n",
       "      <td>-8.095640e-10</td>\n",
       "      <td>-3.333867e-10</td>\n",
       "    </tr>\n",
       "    <tr>\n",
       "      <th>9</th>\n",
       "      <td>1.024240e-03</td>\n",
       "      <td>2.546921e-08</td>\n",
       "      <td>6.409358e-01</td>\n",
       "    </tr>\n",
       "    <tr>\n",
       "      <th>0</th>\n",
       "      <td>1.538946e+00</td>\n",
       "      <td>6.648315e-08</td>\n",
       "      <td>4.238569e-03</td>\n",
       "    </tr>\n",
       "    <tr>\n",
       "      <th>1</th>\n",
       "      <td>2.684850e-01</td>\n",
       "      <td>1.207556e-07</td>\n",
       "      <td>3.899477e-01</td>\n",
       "    </tr>\n",
       "    <tr>\n",
       "      <th>2</th>\n",
       "      <td>1.982851e-01</td>\n",
       "      <td>2.740084e-07</td>\n",
       "      <td>6.468065e-01</td>\n",
       "    </tr>\n",
       "    <tr>\n",
       "      <th>3</th>\n",
       "      <td>5.448258e-02</td>\n",
       "      <td>2.304423e-07</td>\n",
       "      <td>2.953999e-01</td>\n",
       "    </tr>\n",
       "    <tr>\n",
       "      <th>4</th>\n",
       "      <td>1.040587e-01</td>\n",
       "      <td>3.410205e-07</td>\n",
       "      <td>2.598717e-02</td>\n",
       "    </tr>\n",
       "    <tr>\n",
       "      <th>5</th>\n",
       "      <td>5.039921e-01</td>\n",
       "      <td>4.222368e-07</td>\n",
       "      <td>9.883369e-02</td>\n",
       "    </tr>\n",
       "    <tr>\n",
       "      <th>6</th>\n",
       "      <td>1.169442e-01</td>\n",
       "      <td>-1.964736e-09</td>\n",
       "      <td>4.058230e-01</td>\n",
       "    </tr>\n",
       "    <tr>\n",
       "      <th>7</th>\n",
       "      <td>4.981047e+00</td>\n",
       "      <td>-1.250402e-08</td>\n",
       "      <td>1.874179e-01</td>\n",
       "    </tr>\n",
       "    <tr>\n",
       "      <th>8</th>\n",
       "      <td>1.376885e-01</td>\n",
       "      <td>5.323929e-02</td>\n",
       "      <td>5.414452e-01</td>\n",
       "    </tr>\n",
       "    <tr>\n",
       "      <th>9</th>\n",
       "      <td>1.713601e-02</td>\n",
       "      <td>-9.514019e-08</td>\n",
       "      <td>-2.625995e-09</td>\n",
       "    </tr>\n",
       "    <tr>\n",
       "      <th>0</th>\n",
       "      <td>7.129975e-01</td>\n",
       "      <td>-7.318970e-07</td>\n",
       "      <td>-8.095083e-08</td>\n",
       "    </tr>\n",
       "    <tr>\n",
       "      <th>1</th>\n",
       "      <td>1.773877e-02</td>\n",
       "      <td>8.319699e-08</td>\n",
       "      <td>3.107571e-01</td>\n",
       "    </tr>\n",
       "    <tr>\n",
       "      <th>2</th>\n",
       "      <td>5.700531e-07</td>\n",
       "      <td>-1.459642e-08</td>\n",
       "      <td>-1.425803e-09</td>\n",
       "    </tr>\n",
       "    <tr>\n",
       "      <th>3</th>\n",
       "      <td>5.083909e-03</td>\n",
       "      <td>4.496542e-09</td>\n",
       "      <td>1.231549e-01</td>\n",
       "    </tr>\n",
       "    <tr>\n",
       "      <th>4</th>\n",
       "      <td>2.108239e-01</td>\n",
       "      <td>2.066857e-01</td>\n",
       "      <td>-2.949758e-08</td>\n",
       "    </tr>\n",
       "    <tr>\n",
       "      <th>5</th>\n",
       "      <td>2.454567e+00</td>\n",
       "      <td>8.748543e-09</td>\n",
       "      <td>-1.677336e-09</td>\n",
       "    </tr>\n",
       "    <tr>\n",
       "      <th>6</th>\n",
       "      <td>8.920570e-02</td>\n",
       "      <td>-2.443301e-09</td>\n",
       "      <td>1.382382e-01</td>\n",
       "    </tr>\n",
       "    <tr>\n",
       "      <th>7</th>\n",
       "      <td>3.982626e-01</td>\n",
       "      <td>1.240664e-09</td>\n",
       "      <td>3.098874e-01</td>\n",
       "    </tr>\n",
       "    <tr>\n",
       "      <th>8</th>\n",
       "      <td>6.941323e-01</td>\n",
       "      <td>3.221816e-07</td>\n",
       "      <td>6.301227e-02</td>\n",
       "    </tr>\n",
       "    <tr>\n",
       "      <th>9</th>\n",
       "      <td>5.363783e-03</td>\n",
       "      <td>1.982642e-09</td>\n",
       "      <td>1.342524e+00</td>\n",
       "    </tr>\n",
       "    <tr>\n",
       "      <th>...</th>\n",
       "      <td>...</td>\n",
       "      <td>...</td>\n",
       "      <td>...</td>\n",
       "    </tr>\n",
       "    <tr>\n",
       "      <th>0</th>\n",
       "      <td>6.824015e-03</td>\n",
       "      <td>-2.870593e-12</td>\n",
       "      <td>1.024917e-01</td>\n",
       "    </tr>\n",
       "    <tr>\n",
       "      <th>1</th>\n",
       "      <td>1.227777e-03</td>\n",
       "      <td>1.075570e-06</td>\n",
       "      <td>-8.662937e-11</td>\n",
       "    </tr>\n",
       "    <tr>\n",
       "      <th>2</th>\n",
       "      <td>2.025293e-02</td>\n",
       "      <td>3.847382e-07</td>\n",
       "      <td>5.108097e-01</td>\n",
       "    </tr>\n",
       "    <tr>\n",
       "      <th>3</th>\n",
       "      <td>8.013020e-01</td>\n",
       "      <td>8.046220e-08</td>\n",
       "      <td>3.585721e+00</td>\n",
       "    </tr>\n",
       "    <tr>\n",
       "      <th>4</th>\n",
       "      <td>7.454272e-03</td>\n",
       "      <td>5.885283e-10</td>\n",
       "      <td>-2.145043e-09</td>\n",
       "    </tr>\n",
       "    <tr>\n",
       "      <th>5</th>\n",
       "      <td>2.169429e-01</td>\n",
       "      <td>5.314251e-08</td>\n",
       "      <td>1.388684e-01</td>\n",
       "    </tr>\n",
       "    <tr>\n",
       "      <th>6</th>\n",
       "      <td>6.550467e-03</td>\n",
       "      <td>-4.160765e-08</td>\n",
       "      <td>6.302979e-01</td>\n",
       "    </tr>\n",
       "    <tr>\n",
       "      <th>7</th>\n",
       "      <td>1.268165e-01</td>\n",
       "      <td>-1.860755e-04</td>\n",
       "      <td>1.117286e+00</td>\n",
       "    </tr>\n",
       "    <tr>\n",
       "      <th>8</th>\n",
       "      <td>8.665353e-01</td>\n",
       "      <td>5.419619e-08</td>\n",
       "      <td>-1.076216e-09</td>\n",
       "    </tr>\n",
       "    <tr>\n",
       "      <th>9</th>\n",
       "      <td>1.980706e-03</td>\n",
       "      <td>8.179478e-08</td>\n",
       "      <td>7.312406e-01</td>\n",
       "    </tr>\n",
       "    <tr>\n",
       "      <th>0</th>\n",
       "      <td>1.366847e-03</td>\n",
       "      <td>1.222673e-07</td>\n",
       "      <td>-1.336459e-06</td>\n",
       "    </tr>\n",
       "    <tr>\n",
       "      <th>1</th>\n",
       "      <td>4.231934e-02</td>\n",
       "      <td>6.916301e-07</td>\n",
       "      <td>-1.545544e-08</td>\n",
       "    </tr>\n",
       "    <tr>\n",
       "      <th>2</th>\n",
       "      <td>6.360202e-01</td>\n",
       "      <td>6.561397e-07</td>\n",
       "      <td>2.556833e-01</td>\n",
       "    </tr>\n",
       "    <tr>\n",
       "      <th>3</th>\n",
       "      <td>3.579892e-01</td>\n",
       "      <td>1.243274e-06</td>\n",
       "      <td>-8.588472e-10</td>\n",
       "    </tr>\n",
       "    <tr>\n",
       "      <th>4</th>\n",
       "      <td>1.162855e-01</td>\n",
       "      <td>-4.903882e-10</td>\n",
       "      <td>1.918087e-01</td>\n",
       "    </tr>\n",
       "    <tr>\n",
       "      <th>5</th>\n",
       "      <td>2.841780e-01</td>\n",
       "      <td>-2.251682e-08</td>\n",
       "      <td>3.612482e-02</td>\n",
       "    </tr>\n",
       "    <tr>\n",
       "      <th>6</th>\n",
       "      <td>4.007141e-01</td>\n",
       "      <td>6.620144e-07</td>\n",
       "      <td>6.667211e-01</td>\n",
       "    </tr>\n",
       "    <tr>\n",
       "      <th>7</th>\n",
       "      <td>1.253339e+00</td>\n",
       "      <td>9.091066e-04</td>\n",
       "      <td>-2.502361e-09</td>\n",
       "    </tr>\n",
       "    <tr>\n",
       "      <th>8</th>\n",
       "      <td>3.956992e-03</td>\n",
       "      <td>8.407589e-07</td>\n",
       "      <td>-5.046115e-08</td>\n",
       "    </tr>\n",
       "    <tr>\n",
       "      <th>9</th>\n",
       "      <td>2.841871e-03</td>\n",
       "      <td>6.264202e-09</td>\n",
       "      <td>-5.674963e-09</td>\n",
       "    </tr>\n",
       "    <tr>\n",
       "      <th>0</th>\n",
       "      <td>8.987440e-02</td>\n",
       "      <td>-1.561793e-07</td>\n",
       "      <td>-5.309630e-09</td>\n",
       "    </tr>\n",
       "    <tr>\n",
       "      <th>1</th>\n",
       "      <td>1.802102e-06</td>\n",
       "      <td>1.770561e-07</td>\n",
       "      <td>5.294796e-02</td>\n",
       "    </tr>\n",
       "    <tr>\n",
       "      <th>2</th>\n",
       "      <td>1.271400e-02</td>\n",
       "      <td>2.876845e-09</td>\n",
       "      <td>2.589745e+00</td>\n",
       "    </tr>\n",
       "    <tr>\n",
       "      <th>3</th>\n",
       "      <td>1.451155e-02</td>\n",
       "      <td>-2.205797e-07</td>\n",
       "      <td>6.947324e-01</td>\n",
       "    </tr>\n",
       "    <tr>\n",
       "      <th>4</th>\n",
       "      <td>1.653160e+00</td>\n",
       "      <td>7.874888e-09</td>\n",
       "      <td>2.198925e+00</td>\n",
       "    </tr>\n",
       "    <tr>\n",
       "      <th>5</th>\n",
       "      <td>2.299080e-01</td>\n",
       "      <td>9.061552e-08</td>\n",
       "      <td>9.677878e-01</td>\n",
       "    </tr>\n",
       "    <tr>\n",
       "      <th>6</th>\n",
       "      <td>2.180528e-03</td>\n",
       "      <td>3.503377e-07</td>\n",
       "      <td>2.677990e-01</td>\n",
       "    </tr>\n",
       "    <tr>\n",
       "      <th>7</th>\n",
       "      <td>6.993240e-03</td>\n",
       "      <td>-9.168471e-08</td>\n",
       "      <td>3.555292e-02</td>\n",
       "    </tr>\n",
       "    <tr>\n",
       "      <th>8</th>\n",
       "      <td>3.878006e-01</td>\n",
       "      <td>-3.444711e-11</td>\n",
       "      <td>6.384556e-03</td>\n",
       "    </tr>\n",
       "    <tr>\n",
       "      <th>9</th>\n",
       "      <td>7.838907e-03</td>\n",
       "      <td>1.011358e-08</td>\n",
       "      <td>-8.930101e-11</td>\n",
       "    </tr>\n",
       "  </tbody>\n",
       "</table>\n",
       "<p>100 rows × 3 columns</p>\n",
       "</div>"
      ],
      "text/plain": [
       "       iSet LLR0  iSet-het LLR0    mtSet LLR0\n",
       "0   1.555267e-02  -1.114967e-08  6.763972e-01\n",
       "1   5.138475e-03   1.666820e-08  9.962754e-02\n",
       "2   1.322256e+00   3.478742e-07  3.593482e-01\n",
       "3   5.303700e-03   3.838863e-09 -1.591616e-12\n",
       "4   2.649577e-02   1.236790e-07  4.307782e-01\n",
       "5   2.371773e+00   1.979566e-08 -2.283286e-09\n",
       "6   1.140588e-01   8.015625e-07 -3.249224e-07\n",
       "7   7.300552e-05  -1.030742e-09  5.007758e-03\n",
       "8   1.931133e-01  -8.095640e-10 -3.333867e-10\n",
       "9   1.024240e-03   2.546921e-08  6.409358e-01\n",
       "0   1.538946e+00   6.648315e-08  4.238569e-03\n",
       "1   2.684850e-01   1.207556e-07  3.899477e-01\n",
       "2   1.982851e-01   2.740084e-07  6.468065e-01\n",
       "3   5.448258e-02   2.304423e-07  2.953999e-01\n",
       "4   1.040587e-01   3.410205e-07  2.598717e-02\n",
       "5   5.039921e-01   4.222368e-07  9.883369e-02\n",
       "6   1.169442e-01  -1.964736e-09  4.058230e-01\n",
       "7   4.981047e+00  -1.250402e-08  1.874179e-01\n",
       "8   1.376885e-01   5.323929e-02  5.414452e-01\n",
       "9   1.713601e-02  -9.514019e-08 -2.625995e-09\n",
       "0   7.129975e-01  -7.318970e-07 -8.095083e-08\n",
       "1   1.773877e-02   8.319699e-08  3.107571e-01\n",
       "2   5.700531e-07  -1.459642e-08 -1.425803e-09\n",
       "3   5.083909e-03   4.496542e-09  1.231549e-01\n",
       "4   2.108239e-01   2.066857e-01 -2.949758e-08\n",
       "5   2.454567e+00   8.748543e-09 -1.677336e-09\n",
       "6   8.920570e-02  -2.443301e-09  1.382382e-01\n",
       "7   3.982626e-01   1.240664e-09  3.098874e-01\n",
       "8   6.941323e-01   3.221816e-07  6.301227e-02\n",
       "9   5.363783e-03   1.982642e-09  1.342524e+00\n",
       "..           ...            ...           ...\n",
       "0   6.824015e-03  -2.870593e-12  1.024917e-01\n",
       "1   1.227777e-03   1.075570e-06 -8.662937e-11\n",
       "2   2.025293e-02   3.847382e-07  5.108097e-01\n",
       "3   8.013020e-01   8.046220e-08  3.585721e+00\n",
       "4   7.454272e-03   5.885283e-10 -2.145043e-09\n",
       "5   2.169429e-01   5.314251e-08  1.388684e-01\n",
       "6   6.550467e-03  -4.160765e-08  6.302979e-01\n",
       "7   1.268165e-01  -1.860755e-04  1.117286e+00\n",
       "8   8.665353e-01   5.419619e-08 -1.076216e-09\n",
       "9   1.980706e-03   8.179478e-08  7.312406e-01\n",
       "0   1.366847e-03   1.222673e-07 -1.336459e-06\n",
       "1   4.231934e-02   6.916301e-07 -1.545544e-08\n",
       "2   6.360202e-01   6.561397e-07  2.556833e-01\n",
       "3   3.579892e-01   1.243274e-06 -8.588472e-10\n",
       "4   1.162855e-01  -4.903882e-10  1.918087e-01\n",
       "5   2.841780e-01  -2.251682e-08  3.612482e-02\n",
       "6   4.007141e-01   6.620144e-07  6.667211e-01\n",
       "7   1.253339e+00   9.091066e-04 -2.502361e-09\n",
       "8   3.956992e-03   8.407589e-07 -5.046115e-08\n",
       "9   2.841871e-03   6.264202e-09 -5.674963e-09\n",
       "0   8.987440e-02  -1.561793e-07 -5.309630e-09\n",
       "1   1.802102e-06   1.770561e-07  5.294796e-02\n",
       "2   1.271400e-02   2.876845e-09  2.589745e+00\n",
       "3   1.451155e-02  -2.205797e-07  6.947324e-01\n",
       "4   1.653160e+00   7.874888e-09  2.198925e+00\n",
       "5   2.299080e-01   9.061552e-08  9.677878e-01\n",
       "6   2.180528e-03   3.503377e-07  2.677990e-01\n",
       "7   6.993240e-03  -9.168471e-08  3.555292e-02\n",
       "8   3.878006e-01  -3.444711e-11  6.384556e-03\n",
       "9   7.838907e-03   1.011358e-08 -8.930101e-11\n",
       "\n",
       "[100 rows x 3 columns]"
      ]
     },
     "execution_count": 13,
     "metadata": {},
     "output_type": "execute_result"
    }
   ],
   "source": [
    "df0"
   ]
  },
  {
   "cell_type": "markdown",
   "metadata": {},
   "source": [
    "### Variance Component Plot"
   ]
  },
  {
   "cell_type": "code",
   "execution_count": 14,
   "metadata": {
    "collapsed": false
   },
   "outputs": [
    {
     "data": {
      "text/plain": [
       "<matplotlib.collections.PolyCollection at 0x115777490>"
      ]
     },
     "execution_count": 14,
     "metadata": {},
     "output_type": "execute_result"
    },
    {
     "data": {
      "image/png": "[encoded data removed]",
      "text/plain": [
       "<matplotlib.figure.Figure at 0x1163cb590>"
      ]
     },
     "metadata": {},
     "output_type": "display_data"
    }
   ],
   "source": [
    "import pylab as pl\n",
    "tot_var = df['Persistent Var'].values + df['Rescaling-GxC Var'].values + df['Heterogeneity-GxC var'].values\n",
    "nohet_var = df['Persistent Var'].values + df['Rescaling-GxC Var'].values\n",
    "pl.fill_between(split.wnd_pos[:n_wnds,1], 0, df['Persistent Var'].values, color='gray')\n",
    "pl.fill_between(split.wnd_pos[:n_wnds,1], df['Persistent Var'].values, nohet_var, color='Orange')\n",
    "pl.fill_between(split.wnd_pos[:n_wnds,1], nohet_var, tot_var, color='Gold')"
   ]
  },
  {
   "cell_type": "markdown",
   "metadata": {},
   "source": [
    "### P-values\n",
    "\n",
    "Empirical P values are obtained from a relatively small number of genome-wide permutations by pooling across all conisdered steps."
   ]
  },
  {
   "cell_type": "code",
   "execution_count": 15,
   "metadata": {
    "collapsed": true
   },
   "outputs": [],
   "source": [
    "from limix.mtSet.core.iset_utils import calc_emp_pv_eff\n",
    "#calculate P values for the three tests\n",
    "for test in ['mtSet', 'iSet', 'iSet-het']:\n",
    "    df[test+' pv'] = calc_emp_pv_eff(df[test+' LLR'].values, df0[test+' LLR0'].values)"
   ]
  },
  {
   "cell_type": "code",
   "execution_count": 16,
   "metadata": {
    "collapsed": false
   },
   "outputs": [
    {
     "data": {
      "text/plain": [
       "[<matplotlib.lines.Line2D at 0x1163e2450>]"
      ]
     },
     "execution_count": 16,
     "metadata": {},
     "output_type": "execute_result"
    },
    {
     "data": {
      "image/png": "[encoded data removed]",
      "text/plain": [
       "<matplotlib.figure.Figure at 0x1196aced0>"
      ]
     },
     "metadata": {},
     "output_type": "display_data"
    }
   ],
   "source": [
    "#makes a manhattan plot\n",
    "wnd_start = split.wnd_pos[:n_wnds,1]\n",
    "wnd_end = split.wnd_pos[:n_wnds,2]\n",
    "import pylab as pl\n",
    "pl.plot(wnd_start, -sp.log10(df['mtSet pv'].values), 'o', color='DarkGreen')\n",
    "pl.plot(wnd_start, -sp.log10(df['iSet pv'].values), 'o', color='DarkRed')\n",
    "pl.plot(wnd_start, -sp.log10(df['iSet-het pv'].values), 'o', color='Gold')"
   ]
  },
  {
   "cell_type": "markdown",
   "metadata": {},
   "source": [
    "## Stratified design\n",
    "\n",
    "iSet is an extension of mtSet that allows to test for polygenic interactions with environment or other contexts.\n",
    "iSet can be applied in designs where all individuals have been phenotyped in each context (complete design) as well as for populations that have been stratified by a context variable (stratified design).\n",
    "We will here see application of iSet for analysis of stratified designs."
   ]
  },
  {
   "cell_type": "markdown",
   "metadata": {},
   "source": [
    "### Setting up"
   ]
  },
  {
   "cell_type": "code",
   "execution_count": 18,
   "metadata": {
    "collapsed": false
   },
   "outputs": [],
   "source": [
    "# activiate inline plotting\n",
    "%matplotlib inline\n",
    "\n",
    "from download_examples import get_1000G_mtSet\n",
    "import scipy as sp\n",
    "import scipy.linalg\n",
    "import limix\n",
    "from limix.iSet.iset import fit_iSet\n",
    "import pandas as pd"
   ]
  },
  {
   "cell_type": "code",
   "execution_count": 19,
   "metadata": {
    "collapsed": true
   },
   "outputs": [],
   "source": [
    "# loading 1000G genotypes for mtSet demo\n",
    "get_1000G_mtSet()"
   ]
  },
  {
   "cell_type": "code",
   "execution_count": 20,
   "metadata": {
    "collapsed": true
   },
   "outputs": [],
   "source": [
    "# base name for bed, bim and fam\n",
    "bfile = './data/1000g/chrom22_subsample20_maf0.10'"
   ]
  },
  {
   "cell_type": "markdown",
   "metadata": {},
   "source": [
    "### Split genotypes into regions"
   ]
  },
  {
   "cell_type": "code",
   "execution_count": 21,
   "metadata": {
    "collapsed": true
   },
   "outputs": [],
   "source": [
    "from limix.mtSet.core import plink_reader"
   ]
  },
  {
   "cell_type": "code",
   "execution_count": 22,
   "metadata": {
    "collapsed": true
   },
   "outputs": [],
   "source": [
    "# import genotype positions\n",
    "bim = plink_reader.readBIM(bfile,usecols=(0,1,2,3))\n",
    "chrom = bim[:, 0].astype(float)\n",
    "pos = bim[:, -1].astype(float)"
   ]
  },
  {
   "cell_type": "code",
   "execution_count": 23,
   "metadata": {
    "collapsed": true
   },
   "outputs": [],
   "source": [
    "# uses splitter to split the genotypes\n",
    "from limix.mtSet.core.splitter import Splitter\n",
    "split = Splitter(pos=pos,chrom=chrom)"
   ]
  },
  {
   "cell_type": "markdown",
   "metadata": {},
   "source": [
    "The method `splitGeno` allows to define the regions that will then considered for the analysis with iSet.\n",
    "Information relative to the calculated regions can be cached in an external file by activating the cache option (see below).\n",
    "\n",
    "| Argument        | Default       | Datatype | Explanation |\n",
    "| ------------- |:-------------:|:--------:| --------|\n",
    "| __method__      | 'slidingWindow' | str | Uses a sliding window approach to define regions (a region-based approach will be availabe soon) |\n",
    "| __size__      | 5E+04 (50kb) | float | Window size. Pace is set at half the size of the window |\n",
    "| __minSnps__      | 1 | int | Windows with number of SNPs lower that this threshold are not considered |\n",
    "| __maxSnps__      | sp.inf | int | Windows with number of SNPs higher that this threshold are not considered |\n",
    "| __cache__       | False | bool | If true, it activates the caching |\n",
    "| __out\\_dir__     | './cache' | str | outdir of the cache file |\n",
    "| __fname__       | None | str | Name of the file |\n",
    "| __rewrite__     | False | bool | If true and the cache file already exists, the cache file is overwritten |"
   ]
  },
  {
   "cell_type": "code",
   "execution_count": 24,
   "metadata": {
    "collapsed": false
   },
   "outputs": [
    {
     "name": "stdout",
     "output_type": "stream",
     "text": [
      "1380 windows\n"
     ]
    }
   ],
   "source": [
    "split.splitGeno(cache=True, fname='regions.h5', minSnps=4)\n",
    "print '%d windows' % split.nWindows"
   ]
  },
  {
   "cell_type": "markdown",
   "metadata": {},
   "source": [
    "### Apply"
   ]
  },
  {
   "cell_type": "code",
   "execution_count": 25,
   "metadata": {
    "collapsed": false
   },
   "outputs": [
    {
     "name": "stdout",
     "output_type": "stream",
     "text": [
      "(274, 1)\n"
     ]
    }
   ],
   "source": [
    "# import phenotype and sample relatedness\n",
    "pheno_file = './data/1000g/pheno.phe'\n",
    "sample_relatedness_file = './data/1000g/chrom22.cov'\n",
    "Y = sp.loadtxt(pheno_file)[:,:1]\n",
    "R = sp.loadtxt(sample_relatedness_file)\n",
    "print(Y.shape)"
   ]
  },
  {
   "cell_type": "code",
   "execution_count": 26,
   "metadata": {
    "collapsed": true
   },
   "outputs": [],
   "source": [
    "# let's suppose the first half of the individuals are phenotyped in context A and\n",
    "# the second half on context B\n",
    "Ie = sp.arange(R.shape[0])<0.5*R.shape[0]"
   ]
  },
  {
   "cell_type": "code",
   "execution_count": 27,
   "metadata": {
    "collapsed": true
   },
   "outputs": [],
   "source": [
    "# corrects for population structure using the first 10 PCs of the relatedness matrix\n",
    "S_R, U_R = scipy.linalg.eigh(R+1e-4*sp.eye(R.shape[0])) # these are needed for the full mtSet model\n",
    "F = sp.concatenate([U_R[:,-10:], sp.ones([U_R.shape[0], 1])], 1)"
   ]
  },
  {
   "cell_type": "code",
   "execution_count": 28,
   "metadata": {
    "collapsed": true
   },
   "outputs": [],
   "source": [
    "# read fam\n",
    "bim = plink_reader.readBIM(bfile,usecols=(0,1,2,3))\n",
    "fam = plink_reader.readFAM(bfile,usecols=(0,1))"
   ]
  },
  {
   "cell_type": "code",
   "execution_count": 29,
   "metadata": {
    "collapsed": false
   },
   "outputs": [
    {
     "name": "stdout",
     "output_type": "stream",
     "text": [
      ".. window 0 - (22, 16025000-16075000) - 21 snps\n",
      "Elapsed: 5.46386289597\n",
      ".. window 1 - (22, 16050000-16100000) - 23 snps\n",
      "Elapsed: 5.34179997444\n",
      ".. window 2 - (22, 16125000-16175000) - 7 snps\n",
      "Elapsed: 4.30499100685\n",
      ".. window 3 - (22, 16225000-16275000) - 9 snps\n",
      "Elapsed: 5.6210091114\n",
      ".. window 4 - (22, 16250000-16300000) - 16 snps\n",
      "Elapsed: 5.8319299221\n",
      ".. window 5 - (22, 16275000-16325000) - 12 snps\n",
      "Elapsed: 5.72252416611\n",
      ".. window 6 - (22, 16325000-16375000) - 5 snps\n",
      "Elapsed: 5.94124102592\n",
      ".. window 7 - (22, 16350000-16400000) - 5 snps\n",
      "Elapsed: 4.80616307259\n",
      ".. window 8 - (22, 16475000-16525000) - 8 snps\n",
      "Elapsed: 4.15918207169\n",
      ".. window 9 - (22, 16500000-16550000) - 7 snps\n",
      "Elapsed: 4.45016479492\n"
     ]
    }
   ],
   "source": [
    "n_wnds = 10 # only 10 windows are considered\n",
    "LLR = sp.zeros(n_wnds) # vector with test statistics of the n_wnds regions\n",
    "df = pd.DataFrame()\n",
    "df0 = pd.DataFrame()\n",
    "import time\n",
    "\n",
    "for wnd_i in range(n_wnds):\n",
    "    t0 = time.time()\n",
    "    wnd_pos = split.wnd_pos[wnd_i]\n",
    "    nSnps = split.nSnps[wnd_i]\n",
    "    idx_wnd_start = split.idx_wnd_start[wnd_i]\n",
    "    print '.. window %d - (%d, %d-%d) - %d snps' % (wnd_i, wnd_pos[0], wnd_pos[1], wnd_pos[2], nSnps)\n",
    "\n",
    "    Xr = plink_reader.readBED(bfile, useMAFencoding=True, start = idx_wnd_start, nSNPs = nSnps, bim=bim , fam=fam)['snps']\n",
    "    xr = sp.dot(sp.rand(Xr.shape[0]), Xr)\n",
    "    idxs_u = sp.sort(sp.unique(xr, return_index=True)[1])\n",
    "    Xr = Xr[:,idxs_u]\n",
    "    Xr-= Xr.mean(0)\n",
    "    Xr/= Xr.std(0)\n",
    "    Xr/= sp.sqrt(Xr.shape[1])\n",
    "\n",
    "    _df, _df0 = fit_iSet(Y, F=F, Xr=Xr, Ie=Ie, n_nulls=10)\n",
    "    df  = df.append(_df)\n",
    "    df0 = df0.append(_df0)\n",
    "    print 'Elapsed:', time.time()-t0"
   ]
  },
  {
   "cell_type": "markdown",
   "metadata": {},
   "source": [
    "The dataframe df contains log likelihood ratio scores for the different models, variance component attributable to persistent rescaling-GxC and heterogeneity-GxC and information about convergence."
   ]
  },
  {
   "cell_type": "code",
   "execution_count": 30,
   "metadata": {
    "collapsed": false
   },
   "outputs": [
    {
     "data": {
      "text/html": [
       "<div>\n",
       "<table border=\"1\" class=\"dataframe\">\n",
       "  <thead>\n",
       "    <tr style=\"text-align: right;\">\n",
       "      <th></th>\n",
       "      <th>Heterogeneity-GxC var</th>\n",
       "      <th>Persistent Var</th>\n",
       "      <th>Rescaling-GxC Var</th>\n",
       "      <th>iSet LLR</th>\n",
       "      <th>iSet-het LLR</th>\n",
       "      <th>mtSet LLR</th>\n",
       "    </tr>\n",
       "  </thead>\n",
       "  <tbody>\n",
       "    <tr>\n",
       "      <th>0</th>\n",
       "      <td>-0.025807</td>\n",
       "      <td>0.059489</td>\n",
       "      <td>1.620445e-02</td>\n",
       "      <td>2.536120e-01</td>\n",
       "      <td>1.431980e-01</td>\n",
       "      <td>1.253018e+00</td>\n",
       "    </tr>\n",
       "    <tr>\n",
       "      <th>0</th>\n",
       "      <td>-0.017351</td>\n",
       "      <td>0.051698</td>\n",
       "      <td>8.162345e-03</td>\n",
       "      <td>1.151319e-01</td>\n",
       "      <td>9.235339e-02</td>\n",
       "      <td>1.046717e+00</td>\n",
       "    </tr>\n",
       "    <tr>\n",
       "      <th>0</th>\n",
       "      <td>-0.000100</td>\n",
       "      <td>0.000100</td>\n",
       "      <td>4.437414e-11</td>\n",
       "      <td>1.728208e-07</td>\n",
       "      <td>-4.211657e-09</td>\n",
       "      <td>-4.237307e-09</td>\n",
       "    </tr>\n",
       "    <tr>\n",
       "      <th>0</th>\n",
       "      <td>-0.017640</td>\n",
       "      <td>0.002922</td>\n",
       "      <td>3.255356e-02</td>\n",
       "      <td>5.018203e-01</td>\n",
       "      <td>1.145868e-08</td>\n",
       "      <td>5.018202e-01</td>\n",
       "    </tr>\n",
       "    <tr>\n",
       "      <th>0</th>\n",
       "      <td>-0.003076</td>\n",
       "      <td>0.001255</td>\n",
       "      <td>4.877466e-03</td>\n",
       "      <td>2.303760e-02</td>\n",
       "      <td>-1.327507e-09</td>\n",
       "      <td>2.301929e-02</td>\n",
       "    </tr>\n",
       "    <tr>\n",
       "      <th>0</th>\n",
       "      <td>-0.000100</td>\n",
       "      <td>0.000100</td>\n",
       "      <td>7.126069e-14</td>\n",
       "      <td>7.600009e-07</td>\n",
       "      <td>2.849561e-10</td>\n",
       "      <td>-2.643219e-12</td>\n",
       "    </tr>\n",
       "    <tr>\n",
       "      <th>0</th>\n",
       "      <td>-0.013473</td>\n",
       "      <td>0.013947</td>\n",
       "      <td>1.353159e-02</td>\n",
       "      <td>3.469951e-01</td>\n",
       "      <td>-2.905769e-04</td>\n",
       "      <td>3.541518e-01</td>\n",
       "    </tr>\n",
       "    <tr>\n",
       "      <th>0</th>\n",
       "      <td>-0.000100</td>\n",
       "      <td>0.000100</td>\n",
       "      <td>1.501852e-07</td>\n",
       "      <td>4.185099e-07</td>\n",
       "      <td>-6.807419e-07</td>\n",
       "      <td>-6.841037e-07</td>\n",
       "    </tr>\n",
       "    <tr>\n",
       "      <th>0</th>\n",
       "      <td>-0.001059</td>\n",
       "      <td>0.050339</td>\n",
       "      <td>7.098318e-04</td>\n",
       "      <td>1.430663e+00</td>\n",
       "      <td>5.423559e-01</td>\n",
       "      <td>2.143354e+00</td>\n",
       "    </tr>\n",
       "    <tr>\n",
       "      <th>0</th>\n",
       "      <td>-0.014258</td>\n",
       "      <td>0.025472</td>\n",
       "      <td>1.755192e-02</td>\n",
       "      <td>9.496528e-01</td>\n",
       "      <td>5.507864e-02</td>\n",
       "      <td>9.827788e-01</td>\n",
       "    </tr>\n",
       "  </tbody>\n",
       "</table>\n",
       "</div>"
      ],
      "text/plain": [
       "   Heterogeneity-GxC var  Persistent Var  Rescaling-GxC Var      iSet LLR  \\\n",
       "0              -0.025807        0.059489       1.620445e-02  2.536120e-01   \n",
       "0              -0.017351        0.051698       8.162345e-03  1.151319e-01   \n",
       "0              -0.000100        0.000100       4.437414e-11  1.728208e-07   \n",
       "0              -0.017640        0.002922       3.255356e-02  5.018203e-01   \n",
       "0              -0.003076        0.001255       4.877466e-03  2.303760e-02   \n",
       "0              -0.000100        0.000100       7.126069e-14  7.600009e-07   \n",
       "0              -0.013473        0.013947       1.353159e-02  3.469951e-01   \n",
       "0              -0.000100        0.000100       1.501852e-07  4.185099e-07   \n",
       "0              -0.001059        0.050339       7.098318e-04  1.430663e+00   \n",
       "0              -0.014258        0.025472       1.755192e-02  9.496528e-01   \n",
       "\n",
       "   iSet-het LLR     mtSet LLR  \n",
       "0  1.431980e-01  1.253018e+00  \n",
       "0  9.235339e-02  1.046717e+00  \n",
       "0 -4.211657e-09 -4.237307e-09  \n",
       "0  1.145868e-08  5.018202e-01  \n",
       "0 -1.327507e-09  2.301929e-02  \n",
       "0  2.849561e-10 -2.643219e-12  \n",
       "0 -2.905769e-04  3.541518e-01  \n",
       "0 -6.807419e-07 -6.841037e-07  \n",
       "0  5.423559e-01  2.143354e+00  \n",
       "0  5.507864e-02  9.827788e-01  "
      ]
     },
     "execution_count": 30,
     "metadata": {},
     "output_type": "execute_result"
    }
   ],
   "source": [
    "df"
   ]
  },
  {
   "cell_type": "markdown",
   "metadata": {},
   "source": [
    "The dataframe df0 contains log likelihood ratios when data are from the null.\n",
    "These are necessary to iSet to calculate P values."
   ]
  },
  {
   "cell_type": "code",
   "execution_count": 31,
   "metadata": {
    "collapsed": false
   },
   "outputs": [
    {
     "data": {
      "text/html": [
       "<div>\n",
       "<table border=\"1\" class=\"dataframe\">\n",
       "  <thead>\n",
       "    <tr style=\"text-align: right;\">\n",
       "      <th></th>\n",
       "      <th>iSet LLR0</th>\n",
       "      <th>iSet-het LLR0</th>\n",
       "      <th>mtSet LLR0</th>\n",
       "    </tr>\n",
       "  </thead>\n",
       "  <tbody>\n",
       "    <tr>\n",
       "      <th>0</th>\n",
       "      <td>8.701465e-01</td>\n",
       "      <td>4.699373e-09</td>\n",
       "      <td>7.641269e-01</td>\n",
       "    </tr>\n",
       "    <tr>\n",
       "      <th>1</th>\n",
       "      <td>1.326539e+00</td>\n",
       "      <td>1.775959e-08</td>\n",
       "      <td>7.268617e-01</td>\n",
       "    </tr>\n",
       "    <tr>\n",
       "      <th>2</th>\n",
       "      <td>1.682668e-01</td>\n",
       "      <td>4.048806e-08</td>\n",
       "      <td>4.109243e-01</td>\n",
       "    </tr>\n",
       "    <tr>\n",
       "      <th>3</th>\n",
       "      <td>6.993162e-01</td>\n",
       "      <td>3.979626e-02</td>\n",
       "      <td>6.094640e-02</td>\n",
       "    </tr>\n",
       "    <tr>\n",
       "      <th>4</th>\n",
       "      <td>4.454416e-01</td>\n",
       "      <td>9.676313e-09</td>\n",
       "      <td>1.360218e+00</td>\n",
       "    </tr>\n",
       "    <tr>\n",
       "      <th>5</th>\n",
       "      <td>3.325469e-01</td>\n",
       "      <td>2.781690e-08</td>\n",
       "      <td>-2.262937e-10</td>\n",
       "    </tr>\n",
       "    <tr>\n",
       "      <th>6</th>\n",
       "      <td>3.882787e-03</td>\n",
       "      <td>3.794824e-08</td>\n",
       "      <td>-1.680718e-09</td>\n",
       "    </tr>\n",
       "    <tr>\n",
       "      <th>7</th>\n",
       "      <td>1.536725e+00</td>\n",
       "      <td>4.458499e-08</td>\n",
       "      <td>-1.468123e-09</td>\n",
       "    </tr>\n",
       "    <tr>\n",
       "      <th>8</th>\n",
       "      <td>4.738676e-02</td>\n",
       "      <td>1.543978e-08</td>\n",
       "      <td>-2.570744e-11</td>\n",
       "    </tr>\n",
       "    <tr>\n",
       "      <th>9</th>\n",
       "      <td>1.615154e+00</td>\n",
       "      <td>4.746059e-08</td>\n",
       "      <td>1.436369e+00</td>\n",
       "    </tr>\n",
       "    <tr>\n",
       "      <th>0</th>\n",
       "      <td>2.896440e+00</td>\n",
       "      <td>-3.513286e-07</td>\n",
       "      <td>7.101769e-01</td>\n",
       "    </tr>\n",
       "    <tr>\n",
       "      <th>1</th>\n",
       "      <td>5.469898e-01</td>\n",
       "      <td>1.827495e-08</td>\n",
       "      <td>-2.736243e-09</td>\n",
       "    </tr>\n",
       "    <tr>\n",
       "      <th>2</th>\n",
       "      <td>6.700332e-02</td>\n",
       "      <td>1.055858e-01</td>\n",
       "      <td>-1.757883e-11</td>\n",
       "    </tr>\n",
       "    <tr>\n",
       "      <th>3</th>\n",
       "      <td>9.861550e-02</td>\n",
       "      <td>3.519875e-08</td>\n",
       "      <td>-1.529388e-07</td>\n",
       "    </tr>\n",
       "    <tr>\n",
       "      <th>4</th>\n",
       "      <td>6.305888e-01</td>\n",
       "      <td>3.242017e-08</td>\n",
       "      <td>4.032068e-01</td>\n",
       "    </tr>\n",
       "    <tr>\n",
       "      <th>5</th>\n",
       "      <td>1.184665e+00</td>\n",
       "      <td>-7.830135e-08</td>\n",
       "      <td>9.479611e-01</td>\n",
       "    </tr>\n",
       "    <tr>\n",
       "      <th>6</th>\n",
       "      <td>7.165629e-01</td>\n",
       "      <td>1.139197e-02</td>\n",
       "      <td>-9.854688e-09</td>\n",
       "    </tr>\n",
       "    <tr>\n",
       "      <th>7</th>\n",
       "      <td>5.446231e-02</td>\n",
       "      <td>2.438270e-09</td>\n",
       "      <td>1.109642e-01</td>\n",
       "    </tr>\n",
       "    <tr>\n",
       "      <th>8</th>\n",
       "      <td>3.084690e-01</td>\n",
       "      <td>5.544223e-08</td>\n",
       "      <td>-3.404310e-09</td>\n",
       "    </tr>\n",
       "    <tr>\n",
       "      <th>9</th>\n",
       "      <td>8.050786e-02</td>\n",
       "      <td>1.705288e-09</td>\n",
       "      <td>1.399125e-02</td>\n",
       "    </tr>\n",
       "    <tr>\n",
       "      <th>0</th>\n",
       "      <td>6.840853e-04</td>\n",
       "      <td>5.868465e-01</td>\n",
       "      <td>3.604761e-01</td>\n",
       "    </tr>\n",
       "    <tr>\n",
       "      <th>1</th>\n",
       "      <td>9.845385e-08</td>\n",
       "      <td>1.434927e-09</td>\n",
       "      <td>1.186774e-02</td>\n",
       "    </tr>\n",
       "    <tr>\n",
       "      <th>2</th>\n",
       "      <td>1.190925e-03</td>\n",
       "      <td>-2.374596e-07</td>\n",
       "      <td>-5.115908e-13</td>\n",
       "    </tr>\n",
       "    <tr>\n",
       "      <th>3</th>\n",
       "      <td>2.072626e+00</td>\n",
       "      <td>1.207957e-08</td>\n",
       "      <td>1.874106e-03</td>\n",
       "    </tr>\n",
       "    <tr>\n",
       "      <th>4</th>\n",
       "      <td>2.848547e-01</td>\n",
       "      <td>-2.602064e-09</td>\n",
       "      <td>6.681083e-01</td>\n",
       "    </tr>\n",
       "    <tr>\n",
       "      <th>5</th>\n",
       "      <td>5.402823e-01</td>\n",
       "      <td>-2.528708e-09</td>\n",
       "      <td>-6.086225e-10</td>\n",
       "    </tr>\n",
       "    <tr>\n",
       "      <th>6</th>\n",
       "      <td>7.867916e-01</td>\n",
       "      <td>3.331607e-09</td>\n",
       "      <td>8.866508e-02</td>\n",
       "    </tr>\n",
       "    <tr>\n",
       "      <th>7</th>\n",
       "      <td>3.144970e-02</td>\n",
       "      <td>4.968342e-09</td>\n",
       "      <td>-6.268286e-08</td>\n",
       "    </tr>\n",
       "    <tr>\n",
       "      <th>8</th>\n",
       "      <td>9.240636e-06</td>\n",
       "      <td>6.960661e-09</td>\n",
       "      <td>-3.770140e-11</td>\n",
       "    </tr>\n",
       "    <tr>\n",
       "      <th>9</th>\n",
       "      <td>1.408660e-06</td>\n",
       "      <td>8.478040e-09</td>\n",
       "      <td>5.024917e-01</td>\n",
       "    </tr>\n",
       "    <tr>\n",
       "      <th>...</th>\n",
       "      <td>...</td>\n",
       "      <td>...</td>\n",
       "      <td>...</td>\n",
       "    </tr>\n",
       "    <tr>\n",
       "      <th>0</th>\n",
       "      <td>3.618376e-01</td>\n",
       "      <td>1.625580e-10</td>\n",
       "      <td>-9.757457e-10</td>\n",
       "    </tr>\n",
       "    <tr>\n",
       "      <th>1</th>\n",
       "      <td>1.296286e-02</td>\n",
       "      <td>-9.717652e-09</td>\n",
       "      <td>-3.811223e-09</td>\n",
       "    </tr>\n",
       "    <tr>\n",
       "      <th>2</th>\n",
       "      <td>2.637526e-01</td>\n",
       "      <td>-8.319745e-10</td>\n",
       "      <td>1.760752e-01</td>\n",
       "    </tr>\n",
       "    <tr>\n",
       "      <th>3</th>\n",
       "      <td>5.198513e-01</td>\n",
       "      <td>3.027425e-08</td>\n",
       "      <td>8.526513e-14</td>\n",
       "    </tr>\n",
       "    <tr>\n",
       "      <th>4</th>\n",
       "      <td>2.249842e-01</td>\n",
       "      <td>-1.295462e-09</td>\n",
       "      <td>-2.532204e-09</td>\n",
       "    </tr>\n",
       "    <tr>\n",
       "      <th>5</th>\n",
       "      <td>3.049868e-06</td>\n",
       "      <td>-1.456584e-09</td>\n",
       "      <td>7.744523e-01</td>\n",
       "    </tr>\n",
       "    <tr>\n",
       "      <th>6</th>\n",
       "      <td>1.695221e-01</td>\n",
       "      <td>8.543087e-08</td>\n",
       "      <td>2.239574e-03</td>\n",
       "    </tr>\n",
       "    <tr>\n",
       "      <th>7</th>\n",
       "      <td>7.297701e-01</td>\n",
       "      <td>1.763445e-08</td>\n",
       "      <td>1.270094e+00</td>\n",
       "    </tr>\n",
       "    <tr>\n",
       "      <th>8</th>\n",
       "      <td>2.980555e-01</td>\n",
       "      <td>7.361109e-09</td>\n",
       "      <td>1.076726e-02</td>\n",
       "    </tr>\n",
       "    <tr>\n",
       "      <th>9</th>\n",
       "      <td>6.107584e-01</td>\n",
       "      <td>1.563791e-09</td>\n",
       "      <td>5.718380e-01</td>\n",
       "    </tr>\n",
       "    <tr>\n",
       "      <th>0</th>\n",
       "      <td>3.746989e-01</td>\n",
       "      <td>8.190568e-10</td>\n",
       "      <td>-2.868344e-08</td>\n",
       "    </tr>\n",
       "    <tr>\n",
       "      <th>1</th>\n",
       "      <td>2.557176e-04</td>\n",
       "      <td>-9.237351e-08</td>\n",
       "      <td>-3.477284e-07</td>\n",
       "    </tr>\n",
       "    <tr>\n",
       "      <th>2</th>\n",
       "      <td>9.510620e-01</td>\n",
       "      <td>-7.084111e-11</td>\n",
       "      <td>8.870894e-02</td>\n",
       "    </tr>\n",
       "    <tr>\n",
       "      <th>3</th>\n",
       "      <td>7.999111e-02</td>\n",
       "      <td>1.019976e-08</td>\n",
       "      <td>4.138307e-01</td>\n",
       "    </tr>\n",
       "    <tr>\n",
       "      <th>4</th>\n",
       "      <td>3.914442e-02</td>\n",
       "      <td>1.043787e-08</td>\n",
       "      <td>-2.800391e-10</td>\n",
       "    </tr>\n",
       "    <tr>\n",
       "      <th>5</th>\n",
       "      <td>1.115584e+00</td>\n",
       "      <td>1.265378e+00</td>\n",
       "      <td>2.756960e-04</td>\n",
       "    </tr>\n",
       "    <tr>\n",
       "      <th>6</th>\n",
       "      <td>6.104677e-02</td>\n",
       "      <td>5.224194e-09</td>\n",
       "      <td>1.050632e-01</td>\n",
       "    </tr>\n",
       "    <tr>\n",
       "      <th>7</th>\n",
       "      <td>1.526689e+00</td>\n",
       "      <td>6.251213e-10</td>\n",
       "      <td>5.871766e-02</td>\n",
       "    </tr>\n",
       "    <tr>\n",
       "      <th>8</th>\n",
       "      <td>4.908732e-05</td>\n",
       "      <td>-6.544099e-11</td>\n",
       "      <td>1.440395e-01</td>\n",
       "    </tr>\n",
       "    <tr>\n",
       "      <th>9</th>\n",
       "      <td>1.342923e-01</td>\n",
       "      <td>6.910514e-08</td>\n",
       "      <td>1.195091e+00</td>\n",
       "    </tr>\n",
       "    <tr>\n",
       "      <th>0</th>\n",
       "      <td>2.524510e-01</td>\n",
       "      <td>1.705915e+00</td>\n",
       "      <td>7.643556e-03</td>\n",
       "    </tr>\n",
       "    <tr>\n",
       "      <th>1</th>\n",
       "      <td>2.279359e-01</td>\n",
       "      <td>2.201907e-08</td>\n",
       "      <td>1.626311e+00</td>\n",
       "    </tr>\n",
       "    <tr>\n",
       "      <th>2</th>\n",
       "      <td>2.878298e-01</td>\n",
       "      <td>1.038200e+00</td>\n",
       "      <td>1.202775e-01</td>\n",
       "    </tr>\n",
       "    <tr>\n",
       "      <th>3</th>\n",
       "      <td>1.121573e-06</td>\n",
       "      <td>3.969859e-09</td>\n",
       "      <td>4.472819e-01</td>\n",
       "    </tr>\n",
       "    <tr>\n",
       "      <th>4</th>\n",
       "      <td>1.029227e-01</td>\n",
       "      <td>-6.920686e-10</td>\n",
       "      <td>-2.700062e-13</td>\n",
       "    </tr>\n",
       "    <tr>\n",
       "      <th>5</th>\n",
       "      <td>1.121706e-05</td>\n",
       "      <td>1.542335e-07</td>\n",
       "      <td>6.712342e-01</td>\n",
       "    </tr>\n",
       "    <tr>\n",
       "      <th>6</th>\n",
       "      <td>1.083405e-01</td>\n",
       "      <td>3.995524e-10</td>\n",
       "      <td>6.778384e-02</td>\n",
       "    </tr>\n",
       "    <tr>\n",
       "      <th>7</th>\n",
       "      <td>7.616543e-01</td>\n",
       "      <td>1.344246e-08</td>\n",
       "      <td>7.651055e-01</td>\n",
       "    </tr>\n",
       "    <tr>\n",
       "      <th>8</th>\n",
       "      <td>2.134231e-02</td>\n",
       "      <td>9.555620e-09</td>\n",
       "      <td>3.038097e-01</td>\n",
       "    </tr>\n",
       "    <tr>\n",
       "      <th>9</th>\n",
       "      <td>3.509122e-02</td>\n",
       "      <td>3.415337e-09</td>\n",
       "      <td>1.191820e+00</td>\n",
       "    </tr>\n",
       "  </tbody>\n",
       "</table>\n",
       "<p>100 rows × 3 columns</p>\n",
       "</div>"
      ],
      "text/plain": [
       "       iSet LLR0  iSet-het LLR0    mtSet LLR0\n",
       "0   8.701465e-01   4.699373e-09  7.641269e-01\n",
       "1   1.326539e+00   1.775959e-08  7.268617e-01\n",
       "2   1.682668e-01   4.048806e-08  4.109243e-01\n",
       "3   6.993162e-01   3.979626e-02  6.094640e-02\n",
       "4   4.454416e-01   9.676313e-09  1.360218e+00\n",
       "5   3.325469e-01   2.781690e-08 -2.262937e-10\n",
       "6   3.882787e-03   3.794824e-08 -1.680718e-09\n",
       "7   1.536725e+00   4.458499e-08 -1.468123e-09\n",
       "8   4.738676e-02   1.543978e-08 -2.570744e-11\n",
       "9   1.615154e+00   4.746059e-08  1.436369e+00\n",
       "0   2.896440e+00  -3.513286e-07  7.101769e-01\n",
       "1   5.469898e-01   1.827495e-08 -2.736243e-09\n",
       "2   6.700332e-02   1.055858e-01 -1.757883e-11\n",
       "3   9.861550e-02   3.519875e-08 -1.529388e-07\n",
       "4   6.305888e-01   3.242017e-08  4.032068e-01\n",
       "5   1.184665e+00  -7.830135e-08  9.479611e-01\n",
       "6   7.165629e-01   1.139197e-02 -9.854688e-09\n",
       "7   5.446231e-02   2.438270e-09  1.109642e-01\n",
       "8   3.084690e-01   5.544223e-08 -3.404310e-09\n",
       "9   8.050786e-02   1.705288e-09  1.399125e-02\n",
       "0   6.840853e-04   5.868465e-01  3.604761e-01\n",
       "1   9.845385e-08   1.434927e-09  1.186774e-02\n",
       "2   1.190925e-03  -2.374596e-07 -5.115908e-13\n",
       "3   2.072626e+00   1.207957e-08  1.874106e-03\n",
       "4   2.848547e-01  -2.602064e-09  6.681083e-01\n",
       "5   5.402823e-01  -2.528708e-09 -6.086225e-10\n",
       "6   7.867916e-01   3.331607e-09  8.866508e-02\n",
       "7   3.144970e-02   4.968342e-09 -6.268286e-08\n",
       "8   9.240636e-06   6.960661e-09 -3.770140e-11\n",
       "9   1.408660e-06   8.478040e-09  5.024917e-01\n",
       "..           ...            ...           ...\n",
       "0   3.618376e-01   1.625580e-10 -9.757457e-10\n",
       "1   1.296286e-02  -9.717652e-09 -3.811223e-09\n",
       "2   2.637526e-01  -8.319745e-10  1.760752e-01\n",
       "3   5.198513e-01   3.027425e-08  8.526513e-14\n",
       "4   2.249842e-01  -1.295462e-09 -2.532204e-09\n",
       "5   3.049868e-06  -1.456584e-09  7.744523e-01\n",
       "6   1.695221e-01   8.543087e-08  2.239574e-03\n",
       "7   7.297701e-01   1.763445e-08  1.270094e+00\n",
       "8   2.980555e-01   7.361109e-09  1.076726e-02\n",
       "9   6.107584e-01   1.563791e-09  5.718380e-01\n",
       "0   3.746989e-01   8.190568e-10 -2.868344e-08\n",
       "1   2.557176e-04  -9.237351e-08 -3.477284e-07\n",
       "2   9.510620e-01  -7.084111e-11  8.870894e-02\n",
       "3   7.999111e-02   1.019976e-08  4.138307e-01\n",
       "4   3.914442e-02   1.043787e-08 -2.800391e-10\n",
       "5   1.115584e+00   1.265378e+00  2.756960e-04\n",
       "6   6.104677e-02   5.224194e-09  1.050632e-01\n",
       "7   1.526689e+00   6.251213e-10  5.871766e-02\n",
       "8   4.908732e-05  -6.544099e-11  1.440395e-01\n",
       "9   1.342923e-01   6.910514e-08  1.195091e+00\n",
       "0   2.524510e-01   1.705915e+00  7.643556e-03\n",
       "1   2.279359e-01   2.201907e-08  1.626311e+00\n",
       "2   2.878298e-01   1.038200e+00  1.202775e-01\n",
       "3   1.121573e-06   3.969859e-09  4.472819e-01\n",
       "4   1.029227e-01  -6.920686e-10 -2.700062e-13\n",
       "5   1.121706e-05   1.542335e-07  6.712342e-01\n",
       "6   1.083405e-01   3.995524e-10  6.778384e-02\n",
       "7   7.616543e-01   1.344246e-08  7.651055e-01\n",
       "8   2.134231e-02   9.555620e-09  3.038097e-01\n",
       "9   3.509122e-02   3.415337e-09  1.191820e+00\n",
       "\n",
       "[100 rows x 3 columns]"
      ]
     },
     "execution_count": 31,
     "metadata": {},
     "output_type": "execute_result"
    }
   ],
   "source": [
    "df0"
   ]
  },
  {
   "cell_type": "markdown",
   "metadata": {},
   "source": [
    "### Variance Component Plot"
   ]
  },
  {
   "cell_type": "code",
   "execution_count": 32,
   "metadata": {
    "collapsed": false
   },
   "outputs": [
    {
     "data": {
      "text/plain": [
       "<matplotlib.collections.PolyCollection at 0x11aea0ad0>"
      ]
     },
     "execution_count": 32,
     "metadata": {},
     "output_type": "execute_result"
    },
    {
     "data": {
      "image/png": "[encoded data removed]",
      "text/plain": [
       "<matplotlib.figure.Figure at 0x11ae62990>"
      ]
     },
     "metadata": {},
     "output_type": "display_data"
    }
   ],
   "source": [
    "import pylab as pl\n",
    "tot_var = df['Persistent Var'].values + df['Rescaling-GxC Var'].values + df['Heterogeneity-GxC var'].values\n",
    "nohet_var = df['Persistent Var'].values + df['Rescaling-GxC Var'].values\n",
    "pl.fill_between(split.wnd_pos[:n_wnds,1], 0, df['Persistent Var'].values, color='gray')\n",
    "pl.fill_between(split.wnd_pos[:n_wnds,1], df['Persistent Var'].values, nohet_var, color='Orange')\n",
    "pl.fill_between(split.wnd_pos[:n_wnds,1], nohet_var, tot_var, color='Gold')"
   ]
  },
  {
   "cell_type": "markdown",
   "metadata": {},
   "source": [
    "#### P-values\n",
    "\n",
    "Empirical P values are obtained from a relatively small number of genome-wide permutations by pooling across all considered steps."
   ]
  },
  {
   "cell_type": "code",
   "execution_count": 33,
   "metadata": {
    "collapsed": true
   },
   "outputs": [],
   "source": [
    "from limix.mtSet.core.iset_utils import calc_emp_pv_eff\n",
    "#calculate P values for the three tests\n",
    "for test in ['mtSet', 'iSet', 'iSet-het']:\n",
    "    df[test+' pv'] = calc_emp_pv_eff(df[test+' LLR'].values, df0[test+' LLR0'].values)"
   ]
  },
  {
   "cell_type": "code",
   "execution_count": 34,
   "metadata": {
    "collapsed": false
   },
   "outputs": [
    {
     "data": {
      "text/plain": [
       "[<matplotlib.lines.Line2D at 0x115bbbb90>]"
      ]
     },
     "execution_count": 34,
     "metadata": {},
     "output_type": "execute_result"
    },
    {
     "data": {
      "image/png": "[encoded data removed]",
      "text/plain": [
       "<matplotlib.figure.Figure at 0x115948f90>"
      ]
     },
     "metadata": {},
     "output_type": "display_data"
    }
   ],
   "source": [
    "#makes a manhattan plot\n",
    "wnd_start = split.wnd_pos[:n_wnds,1]\n",
    "wnd_end = split.wnd_pos[:n_wnds,2]\n",
    "import pylab as pl\n",
    "pl.plot(wnd_start, -sp.log10(df['mtSet pv'].values), 'o', color='DarkGreen')\n",
    "pl.plot(wnd_start, -sp.log10(df['iSet pv'].values), 'o', color='DarkRed')\n",
    "pl.plot(wnd_start, -sp.log10(df['iSet-het pv'].values), 'o', color='Gold')"
   ]
  },
  {
   "cell_type": "markdown",
   "metadata": {},
   "source": [
    "# Developers\n",
    "\n",
    "- Francesco Paolo Casale (<casale@ebi.ac.uk>)\n",
    "- Danilo Horta (<horta@ebi.ac.uk>)\n",
    "- Barbara Rakitsch (<rakitsch@ebi.ac.uk>)\n",
    "- Oliver Stegle (<stegle@ebi.ac.uk>)"
   ]
  },
  {
   "cell_type": "markdown",
   "metadata": {},
   "source": [
    "# References\n",
    "\n",
    "[1] Genomes Project, C. et al. An integrated map of genetic variation from 1,092 human genomes. Nature 491, 56-65 (2012)."
   ]
  },
  {
   "cell_type": "code",
   "execution_count": 2,
   "metadata": {
    "collapsed": false
   },
   "outputs": [
    {
     "data": {
      "application/javascript": [
       "$.getScript('https://kmahelona.github.io/ipython_notebook_goodies/ipython_notebook_toc.js')"
      ],
      "text/plain": [
       "<IPython.core.display.Javascript object>"
      ]
     },
     "metadata": {},
     "output_type": "display_data"
    }
   ],
   "source": []
  },
  {
   "cell_type": "code",
   "execution_count": null,
   "metadata": {
    "collapsed": true
   },
   "outputs": [],
   "source": []
  }
 ],
 "metadata": {
  "anaconda-cloud": {},
  "kernelspec": {
   "display_name": "Python [conda root]",
   "language": "python",
   "name": "conda-root-py"
  },
  "language_info": {
   "codemirror_mode": {
    "name": "ipython",
    "version": 2
   },
   "file_extension": ".py",
   "mimetype": "text/x-python",
   "name": "python",
   "nbconvert_exporter": "python",
   "pygments_lexer": "ipython2",
   "version": "2.7.12"
  },
  "nav_menu": {},
  "toc": {
   "navigate_menu": true,
   "number_sections": true,
   "sideBar": true,
   "threshold": 6,
   "toc_cell": false,
   "toc_section_display": "block",
   "toc_window_display": true
  },
  "toc_position": {
   "height": "1211px",
   "left": "0px",
   "right": "auto",
   "top": "106px",
   "width": "215px"
  }
 },
 "nbformat": 4,
 "nbformat_minor": 0
}
