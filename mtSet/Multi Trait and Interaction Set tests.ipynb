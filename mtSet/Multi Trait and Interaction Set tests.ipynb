{
 "cells": [
  {
   "cell_type": "markdown",
   "metadata": {},
   "source": [
    "# Introduction\n",
    "\n",
    "Set tests are a powerful approach for association testing between groups of genetic variants and quantitative traits.\n",
    "In this tutorial we demonstrate how to use set tests within the LIMIX framework to test for association (mtSet) and genetic interactions with context (iSet).\n",
    "\n",
    "# mtSet\n",
    "\n",
    "Multi Trait Set test is an implementation of efficient set test algorithms for testing for associations between multiple genetic variants and multiple traits.\n",
    "mtSet can account for confounding factors such as relatedness and can be used for analysis of single traits.\n",
    "mtSet can be used both with the command line interface using the limix scripts (`mtSet_preprocess`, `mtSet_analyze`, `mtSet_postprocess`, `mtSet_simPheno`) or within python."
   ]
  },
  {
   "cell_type": "markdown",
   "metadata": {},
   "source": [
    "## Quick Start\n",
    "\n",
    "In the following, we give a brief example on how to use mtSet. As a case study, we use a subset of the genotypes from the 1000 project [1] and simulated phenotypes.\n",
    "\n",
    "All commands can be found in `_demos/runmtSet.sh`. In the following, we give a short summary of the individual steps. A demo for running mtSet-PC can be found in `_demos/runmtSetPC.sh` and it is not showcased here."
   ]
  },
  {
   "cell_type": "markdown",
   "metadata": {},
   "source": [
    "0. Our software depends on [Plink](https://www.cog-genomics.org/plink2) version 1.9 (or greater) for preprocessing. Please, make sure you have it before proceeding.\n",
    "\n",
    "1. Download and install Limix\n",
    "```bash\n",
    "git clone --depth 1 https://github.com/PMBio/private-limix.git\n",
    "pushd private-limix\n",
    "python setup.py install\n",
    "popd\n",
    "```\n",
    "\n",
    "2. Download tutorial\n",
    "```bash\n",
    "git clone --depth 1 https://github.com/PMBio/private-limix-tutorials.git\n",
    "cd private-limix-tutorials/mtSet\n",
    "python download_examples.py\n",
    "cd data\n",
    "mkdir out\n",
    "ls 1000g/\n",
    "```\n",
    "\n",
    "3. Set some handy shell variables\n",
    "```bash\n",
    "BFILE=1000g/chrom22_subsample20_maf0.10\n",
    "CFILE=out/chrom22\n",
    "PFILE=1000g/pheno\n",
    "WFILE=out/windows\n",
    "NFILE=out/null\n",
    "WSIZE=30000\n",
    "RESDIR=out/results\n",
    "OUTFILE=out/final\n",
    "```\n",
    "\n",
    "4. Preprocess and phenotype simulation\n",
    "```bash\n",
    "# Kinship matrix estimation\n",
    "mtSet_preprocess --compute_covariance --bfile $BFILE --cfile $CFILE \n",
    "# Fitting the null model and assigning the markers to windows\n",
    "mtSet_preprocess --precompute_windows --fit_null --bfile $BFILE --cfile $CFILE --pfile $PFILE --wfile $WFILE --nfile $NFILE --window_size $WSIZE --plot_windows\n",
    "```\n",
    "\n",
    "5. Analysing true genotypes\n",
    "```bash\n",
    "mtSet_analyze --bfile $BFILE --cfile $CFILE --pfile $PFILE --nfile $NFILE --wfile $WFILE --minSnps 4 --resdir $RESDIR --start_wnd 0 --end_wnd 100\n",
    "```\n",
    "\n",
    "6. Analysing permuted genotypes\n",
    "```bash\n",
    "for i in `seq 0 10`; do\n",
    "    mtSet_analyze --bfile $BFILE --cfile $CFILE --pfile $PFILE --nfile $NFILE --wfile $WFILE --minSnps 4 --resdir $RESDIR --start_wnd 0 --end_wnd 100 --perm $i\n",
    "done\n",
    "```\n",
    "\n",
    "7. Postprocess\n",
    "```bash\n",
    "mtSet_postprocess --resdir $RESDIR --outfile $OUTFILE --manhattan_plot\n",
    "```"
   ]
  },
  {
   "cell_type": "markdown",
   "metadata": {},
   "source": [
    "## Processing\n",
    "\n",
    "Before getting started, we have to compute the sample-to-sample genetic covariance matrix, assign the markers to windows and estimate the trait-to-trait covariance matrices on the null model.\n",
    "\n",
    "### Computing the Covariance Matrix\n",
    "The covariance matrix can be pre-computed as follows:\n",
    "\n",
    "```bash\n",
    "mtSet_preprocess --compute_covariance --plink_path plink_path  --bfile bfile  --cfile cfile\n",
    "```\n",
    "\n",
    "where\n",
    "* __plink\\_path__ (default: plink) is a pointer to the [plink software](https://www.cog-genomics.org/plink2) (Version 1.9 or greater must be installed).\n",
    "  If not set, a python covariance reader is employed.\n",
    "  We strongly recommend using the plink reader for large datasets.\n",
    "* __bfile__ is the base name of of the binary bed file (__bfile__.bed, __bfile__.bim, __bfile__.fam are required).\n",
    "* __cfile__ is the base name of the output file.\n",
    "  The relatedness matrix will be written to __cfile__.cov while the identifiers of the individuals are written to the file __cfile__.cov.id.\n",
    "  The eigenvalue decomposition of the matrix is saved in the files __cfile__.cov.eval (eigenvalues) and __cfile__.cov.evec (eigenvectors).\n",
    "  If __cfile__ is not specified, the files will be exported to the current directory with the following filenames __bfile__.cov, __bfile__.cov.id, __bfile__.cov.eval, __bfile__.cov.evec.\n",
    "\n",
    "### Precomputing the Principal Components \n",
    "The principal components can be pre-computed as follows:\n",
    "\n",
    "```bash\n",
    "mtSet_preprocess --compute_PCs k --plink_path plink_path --ffile ffile  --bfile bfile\n",
    "```\n",
    "\n",
    "where\n",
    "* __k__ is the number of top principal components that are saved\n",
    "* __plink\\_path__ (default: plink) is a pointer to the [plink software](https://www.cog-genomics.org/plink2) (Version 1.9 or greater must be installed).\n",
    "  If not set, a python genotype reader is employed.\n",
    "  We strongly recommend using the plink reader for large datasets.\n",
    "* __ffile__ is the name of the fixed effects file, to which the principal components are written to.\n",
    "* __bfile__ is the base name of of the binary bed file (__bfile__.bed, __bfile__.bim, __bfile__.fam are required).\n",
    "\n",
    "\n",
    "### Fitting the null model\n",
    "\n",
    "To efficiently apply mtSet, it is neccessary to compute the null model beforehand.\n",
    "This can be done with the following command:\n",
    "\n",
    "```bash\n",
    "mtSet_preprocess --fit_null --bfile bfile --cfile cfile --nfile nfile --pfile pfile --ffile ffile --trait_idx trait_idx\n",
    "```\n",
    "\n",
    "where\n",
    "* __bfile__ is the base name of of the binary bed file (_bfile_.bed,_bfile_.bim,_bfile_.fam are required).\n",
    "* __cfile__ is the base name of the covariance file and its eigen decomposition (__cfile__.cov, __cfile__.cov.eval and __cfile__.cov.evec).\n",
    "If __cfile__ is not set, the relatedness component is omitted from the model.\n",
    "* __nfile__ is the base name of the output file.\n",
    "The estimated parameters are saved in __nfile__.p0, the negative log likelihood ratio in __nfile__.nll0, the trait-to-trait genetic covariance matrix in __nfile__.cg0 and the trait-to-trait residual covariance matrix in __nfile__.cn0. \n",
    "* __pfile__ is the base name of the phenotype file.\n",
    "* __ffile__ is the name of the file containing the covariates. Each covariate is saved in one column\n",
    "* __trait\\_idx__ can be used to specify a subset of the phenotypes. If more than one phenotype is selected, the phenotypes have to be seperated by commas. For instance, `--trait_idx 3,4` selects the phenotypes saved in the forth and fifth column (indexing starts with zero).\n",
    "\n",
    "Notice that phenotypes are standardized prior to model fitting.\n",
    "\n",
    "### Precomputing the windows\n",
    "For applying our set test, the markers have to be assigned to windows. We provide a method that splits the genome in windows of fixed sizes:\n",
    "\n",
    "```bash\n",
    "mtSet_preprocess --precompute_windows --bfile bfile --wfile wfile --window_size window_size --plot_windows\n",
    "```\n",
    "\n",
    "where\n",
    "* __bfile__ is the base name of of the binary bed file (__bfile__.bim is required).\n",
    "* __window\\_size__ is the size of the window (in basepairs). The default value is 30kb.\n",
    "* __wfile__ is the base name of the output file.\n",
    "  If not specified, the file is saved as __bfile__.window\\_size.wnd in the current folder.\n",
    "  Each window is stored in one line having the following format: index, chromosome, start position, stop position, index of startposition and number of SNPs.\n",
    "* __plot\\_windows__ if the flag is set, a histogram over the number of markers within a window is generated and saved as __wfile__.pdf.\n",
    "\n",
    "### Merging the preprocessing steps\n",
    "\n",
    "Here, we provided the commands to execute the three preprocessing operations individually. However, it is also possible to combine all steps in a single command:\n",
    "\n",
    "```bash\n",
    "mtSet_preprocess --compute_covariance --fit_null --precompute_windows ...\n",
    "```"
   ]
  },
  {
   "cell_type": "markdown",
   "metadata": {},
   "source": [
    "## Phenotype simulation\n",
    "\n",
    "Our software package also includes a command-line simulator that allows to generate phenotypes with a wide range of different genetic architectures.\n",
    "In brief, the simulator assumes a linear-additive model, considering the contribution of a randomly selected (causal) genetic region for the set component, polygenic background effects from all remaining genome-wide variants, a contribution from unmeasured factors and iid observation noise.\n",
    "For a detailed description of the simulation procedure, we refer to the Supplementary Methods. \n",
    "\n",
    "The simulator requires as input the genotypes and the relatedness component:\n",
    "\n",
    "```bash\n",
    "mtSet_simPheno --bfile bfile --cfile cfile --pfile pfile\n",
    "```\n",
    "\n",
    "where\n",
    "* __bfile__ is the name of of the binary bed file (__bfile__.bed, __bfile__.bim, __bfile__.fam are required).\n",
    "* __cfile__ is the name of the covariance matrix file (__cfile__.cov, __cfile__.cov.id are required).\n",
    "If none is specified, the covariance matrix is expected to be in the current folder, having the same filename as the bed file.\n",
    "* __pfile__ is the name of the output file (__pfile__.phe, __pfile__.region).\n",
    "The file __pfile__.phe contains the phenotypic values (each sample is saved in one row, each trait in one column).\n",
    "The file __pfile__.region contains the randomly selected causal region (chromsom, start position, end position). \n",
    "If __pfile__ is not specified, the files are saved in the current folder having an automatic generated filename containing the bed filename and the values of all simulation parameters.\n",
    "\n",
    "By changing the following parameters different genetic architectures can be simulated and, in particular, the simulation experiments of our paper can be reproduced.\n",
    "\n",
    "\n",
    "| Option        | Default       | Datatype | Explanation |\n",
    "| ------------- |:-------------:|:--------:| --------|\n",
    "| `--seed`       | 0 | int | seed for random number generator |\n",
    "| `--nTraits`    | 4 | int | number of simulated phenotypes |\n",
    "| `--windowSize` | 1.5e4 | int | size of causal region |\n",
    "| `--vTotR` | 0.05 | float |   variance explained by the causal region |\n",
    "| `--nCausalR`  | 10 | int |   number of causal variants in the region |\n",
    "| `--pCommonR` | 0.8 | float | percentage of shared causal variants |\n",
    "| `--vTotBg` | 0.4 | float  | variance explained by the polygenic background effects |\n",
    "| `--pHidden` | 0.6 | float | residual variance explained by hidden confounders (in %) |\n",
    "| `--pCommon` | 0.8 | float | background and residual signal that is shared across traits (in %) |\n",
    "| `--chrom` | None | int | specifies the chromosome of the causal region |\n",
    "| `--minPos` | None | int | specifies the min. chromosomal position of the causal region (in basepairs) |\n",
    "| `--maxPos` | None | int | specifies the max. chromosomal position of the causal region (in basepairs) |"
   ]
  },
  {
   "cell_type": "markdown",
   "metadata": {},
   "source": [
    "## Running analysis\n",
    "\n",
    "Once the preprocessing step has been used to obtain the genetic relatedness matrix, to fit the null model and to identify the genetic regions to be considered in the analysis, the set test can be run by the following analysis script:\n",
    "\n",
    "```bash\n",
    "mtSet_analyze --bfile bfile --cfile cfile --pfile pfile --nfile nfile --wfile wfile --ffile ffile --minSnps minSnps --start_wnd start_wnd --end_wnd end_wnd --resdir rdir --trait_idx traitIdx\n",
    "```\n",
    "\n",
    "where\n",
    "\n",
    "- __bfile__ is the base name of of the binary bed file (__bfile__.bed, __bfile__.bim, __bfile__.fam are required).\n",
    "- __cfile__ is the base name of the covariance matrix file. The script requires the files: __cfile__.cov containing the the genetic relatedness matrix, cfile.cov.id containing the corresponding sample identifiers, __cfile__.cov.eval and __cfile__.cov.evec containing the eigenvalues and eigenvectors of the matrix. If cfile is not set, the relatedness component is omitted from the model.\n",
    "- __pfile__ is the base name of the phenotype file. The script requires the file __pfile__.phe containing the phenotype data.\n",
    "- __nfile__ is the base name of the null model file. The script requires the file __nfile__.p0 containing the optimal null model parameters. If covariates are set, it also requires the file __nfile__.f0.\n",
    "- __wfile__ is the base name of the file containing the windows to be considered in the set test. The script requires the file __wfile__.wnd.\n",
    "- __ffile__ is the name of the file containing the covariates. Each covariate is saved in one column.\n",
    "- __perm__ is the seed used when permuting the genotypes. If the option is not specified then no permutation is considered.\n",
    "- __start\\_wnd__ is the index of the start window\n",
    "- __end\\_wnd__ is the index of the end window\n",
    "- __minSnps__ if set only windows containing at least minSnps are considered in the analysis\n",
    "rdir is the directory to which the results are exported. The results are exported in the folder rdir/perm if a permutation seed has been set, otherwise in the folder rdir/test. The output file is named - __start\\_wnd\\_endwnd__.res and contains results in the following format: window index, chromosome, start position, stop position, index of start position, number of SNPs and log likelihood ratio.\n",
    "- __rdir__ is the directory to which the results are exported. The results are exported in the folder rdir/perm if a permutation seed has been set, otherwise in the folder rdir/test. The output file is named __start\\_wnd\\_end\\_wnd__.res and contains results in the following format: window index, chromosome, start position, stop position, index of startposition, number of SNPs and log likelihood ratio.\n",
    "- __trait\\_idx__ can be used to specify a subset of the phenotypes. If more than one phenotype is selected, the phenotypes have to be seperated by commas. For instance __trait\\_idx__ 3,4 selects the phenotypes saved in the forth and fifth column (indexing starts with zero).\n",
    "Notice that phenotypes are standardized prior to model fitting."
   ]
  },
  {
   "cell_type": "markdown",
   "metadata": {},
   "source": [
    "## Postprocessing\n",
    "\n",
    "After running mtSet, the following script can be used to merge the result files and estimate the p-values (p-values are obtained by a parametric fit of the test statistics): \n",
    "\n",
    "```bash\n",
    "mtSet_postprocess --resdir resdir --outfile outfile --manhattan_plot\n",
    "```\n",
    "\n",
    "where \n",
    "* __resdir__ is a pointer to the folder containing the result files of the analysis.\n",
    "* __outfile__ is the prefix of the two output files.\n",
    "__outfile__.perm lists the test statistics (first column) and p-values (second column) of the permutated windows\n",
    "__outfile__.test contains the (index, chromosome, start position, stop position, SNP index, number of SNPs, test statistics and p-value) of each window. Each window is saved in one row.\n",
    "* __manhattan\\_plot__ is a flag. If set, a manhattan plot is saved in __outfile__.manhattan.jpg (default: False)."
   ]
  },
  {
   "cell_type": "markdown",
   "metadata": {},
   "source": [
    "## Within Python\n",
    "\n",
    "This part of the tutorial shows how to use mtSet within python.\n",
    "For a tutorial on how to use mtSet from the command line using the limix scripts (mtSet_preprocess, mtSet_analyze, mtSet_postprocess, mtSet_simPheno) please refer to sections [Processing](#Processing), [Phenotype simulation](#Phenotype-simulation), [Running analysis](#Running-analysis), and [Postprocessing](#Postprocessing).\n",
    "\n"
   ]
  },
  {
   "cell_type": "markdown",
   "metadata": {},
   "source": [
    "### Setting up"
   ]
  },
  {
   "cell_type": "code",
   "execution_count": 1,
   "metadata": {
    "collapsed": false
   },
   "outputs": [],
   "source": [
    "# activiate inline plotting\n",
    "%matplotlib inline\n",
    "\n",
    "from download_examples import get_1000G_mtSet\n",
    "import scipy as sp\n",
    "import scipy.linalg\n",
    "import limix"
   ]
  },
  {
   "cell_type": "code",
   "execution_count": 2,
   "metadata": {
    "collapsed": true
   },
   "outputs": [],
   "source": [
    "# loading 1000G genotypes for mtSet demo\n",
    "get_1000G_mtSet()"
   ]
  },
  {
   "cell_type": "code",
   "execution_count": 3,
   "metadata": {
    "collapsed": true
   },
   "outputs": [],
   "source": [
    "# base name for bed, bim and fam\n",
    "bfile = './data/1000g/chrom22_subsample20_maf0.10'"
   ]
  },
  {
   "cell_type": "markdown",
   "metadata": {},
   "source": [
    "### Split genotypes into regions"
   ]
  },
  {
   "cell_type": "code",
   "execution_count": 4,
   "metadata": {
    "collapsed": true
   },
   "outputs": [],
   "source": [
    "from limix.mtSet.core import plink_reader"
   ]
  },
  {
   "cell_type": "code",
   "execution_count": 5,
   "metadata": {
    "collapsed": false
   },
   "outputs": [],
   "source": [
    "# import genotype positions\n",
    "bim = plink_reader.readBIM(bfile,usecols=(0,1,2,3))\n",
    "chrom = bim[:, 0].astype(float)\n",
    "pos = bim[:, -1].astype(float)"
   ]
  },
  {
   "cell_type": "code",
   "execution_count": 6,
   "metadata": {
    "collapsed": true
   },
   "outputs": [],
   "source": [
    "# uses splitter to split the genotypes\n",
    "from limix.mtSet.core.splitter import Splitter\n",
    "split = Splitter(pos=pos,chrom=chrom)"
   ]
  },
  {
   "cell_type": "markdown",
   "metadata": {},
   "source": [
    "The method `splitGeno` allows to define the regions that will then considered for the analysis with mtSet.\n",
    "Information relative to the calculated regions can be cached in an external file by activating the cache option (see below).\n",
    "\n",
    "| Argument        | Default       | Datatype | Explanation |\n",
    "| ------------- |:-------------:|:--------:| --------|\n",
    "| __method__      | 'slidingWindow' | str | Uses a sliding window approach to define regions (a region-based approach will be availabe soon) |\n",
    "| __size__      | 5E+04 (50kb) | float | Window size. Pace is set at half the size of the window |\n",
    "| __minSnps__      | 1 | int | Windows with number of SNPs lower that this threshold are not considered |\n",
    "| __maxSnps__      | sp.inf | int | Windows with number of SNPs higher that this threshold are not considered |\n",
    "| __cache__       | False | bool | If true, it activates the caching |\n",
    "| __out\\_dir__     | './cache' | str | outdir of the cache file |\n",
    "| __fname__       | None | str | Name of the file |\n",
    "| __rewrite__     | False | bool | If true and the cache file already exists, the cache file is overwritten |"
   ]
  },
  {
   "cell_type": "code",
   "execution_count": 7,
   "metadata": {
    "collapsed": false
   },
   "outputs": [
    {
     "name": "stdout",
     "output_type": "stream",
     "text": [
      "1380 windows\n"
     ]
    }
   ],
   "source": [
    "split.splitGeno(cache=True, fname='regions.h5', minSnps=4)\n",
    "print '%d windows' % split.nWindows"
   ]
  },
  {
   "cell_type": "markdown",
   "metadata": {},
   "source": [
    "### Apply\n",
    "\n",
    "In this section we showcase how to construct the mtSet class that will then be used for the set test analysis. We showcase both the full mtSet that models relatedness as random effect by the means of an individual-to-individual covariance matrix and the approximated model (mtSetPC) that models relatedness as fixed effect using principal component from the covariance."
   ]
  },
  {
   "cell_type": "code",
   "execution_count": 8,
   "metadata": {
    "collapsed": true
   },
   "outputs": [],
   "source": [
    "# import phenotype and sample relatedness\n",
    "pheno_file = './data/1000g/pheno.phe'\n",
    "sample_relatedness_file = './data/1000g/chrom22.cov'\n",
    "Y = sp.loadtxt(pheno_file)\n",
    "R = sp.loadtxt(sample_relatedness_file)"
   ]
  },
  {
   "cell_type": "code",
   "execution_count": 9,
   "metadata": {
    "collapsed": true
   },
   "outputs": [],
   "source": [
    "# compute eigenvalues and eigenvectors of the sample relatedness matrix\n",
    "S_R, U_R = scipy.linalg.eigh(R) # these are needed for the full mtSet model"
   ]
  },
  {
   "cell_type": "code",
   "execution_count": 10,
   "metadata": {
    "collapsed": true
   },
   "outputs": [],
   "source": [
    "# caculate fixed effects with rel\n",
    "F = U_R[:, ::-1][:, :10] # it considered the first 10 PCs\n",
    "F = sp.concatenate([F, sp.ones((F.shape[0], 1))], 1) # add an intercept term"
   ]
  },
  {
   "cell_type": "code",
   "execution_count": 11,
   "metadata": {
    "collapsed": true
   },
   "outputs": [],
   "source": [
    "if 0:\n",
    "    # use full mtSet implementation\n",
    "    # (relatedness is modeled as random effect by the means of\n",
    "    # an individual-to-individual covariance matrix)\n",
    "    mtSet = limix.MTSet(Y, S_R=S_R, U_R=U_R)\n",
    "else:\n",
    "    # use mtSetPC\n",
    "    # (relatedness s modelled as fixed effect\n",
    "    # using principal component from the covariance)\n",
    "    mtSet = limix.MTSet(Y, F=F)"
   ]
  },
  {
   "cell_type": "markdown",
   "metadata": {},
   "source": [
    "### Null model\n",
    "\n",
    "If the analysis is parallelized across different set of regions and permutations,\n",
    "it might be convenient to cache the results from the optimization of the null model\n",
    "(as the null model need to be optimized only once).\n",
    "\n",
    "| Argument        | Default       | Datatype | Explanation |\n",
    "| ------------- |:-------------:|:--------:| --------|\n",
    "| __cache__       | False | bool | If true, it activates the caching |\n",
    "| __out\\_dir__     | './cache' | str | outdir of the cache file |\n",
    "| __fname__       | None | str | Name of the file |\n",
    "| __rewrite__     | False | bool | If true and the cache file already exists, the cache file is overwritten |"
   ]
  },
  {
   "cell_type": "code",
   "execution_count": 12,
   "metadata": {
    "collapsed": true
   },
   "outputs": [],
   "source": [
    "RV = mtSet.fitNull()"
   ]
  },
  {
   "cell_type": "markdown",
   "metadata": {},
   "source": [
    "The returned dictionary contains:\n",
    "* __B__: value of the optimized effect sizes\n",
    "* __Cg__: value of the genetic trait-to-trait covariance\n",
    "* __Cn__: value of the residual trait-to-trait covariance\n",
    "* __conv__: bool that indicates convergence of the optimization\n",
    "* __time__: time elpased for optimizing the parameters\n",
    "* __NLL0__: negative log likelihood of the null model\n",
    "* __LMLgrad__: norm of the gradient of the negative log likelihood dividived by the number of parameters"
   ]
  },
  {
   "cell_type": "markdown",
   "metadata": {},
   "source": [
    "### Test"
   ]
  },
  {
   "cell_type": "code",
   "execution_count": 13,
   "metadata": {
    "collapsed": true
   },
   "outputs": [],
   "source": [
    "# read fam\n",
    "bim = plink_reader.readBIM(bfile,usecols=(0,1,2,3))\n",
    "fam = plink_reader.readFAM(bfile,usecols=(0,1))"
   ]
  },
  {
   "cell_type": "code",
   "execution_count": 14,
   "metadata": {
    "collapsed": false
   },
   "outputs": [
    {
     "name": "stdout",
     "output_type": "stream",
     "text": [
      ".. window 0 - (22, 16025000-16075000) - 21 snps\n",
      ".. window 1 - (22, 16050000-16100000) - 23 snps\n",
      ".. window 2 - (22, 16125000-16175000) - 7 snps\n",
      ".. window 3 - (22, 16225000-16275000) - 9 snps\n",
      ".. window 4 - (22, 16250000-16300000) - 16 snps\n",
      ".. window 5 - (22, 16275000-16325000) - 12 snps\n",
      ".. window 6 - (22, 16325000-16375000) - 5 snps\n",
      ".. window 7 - (22, 16350000-16400000) - 5 snps\n",
      ".. window 8 - (22, 16475000-16525000) - 8 snps\n",
      ".. window 9 - (22, 16500000-16550000) - 7 snps\n",
      ".. window 10 - (22, 16550000-16600000) - 5 snps\n",
      ".. window 11 - (22, 16600000-16650000) - 13 snps\n",
      ".. window 12 - (22, 16625000-16675000) - 18 snps\n",
      ".. window 13 - (22, 16650000-16700000) - 10 snps\n",
      ".. window 14 - (22, 16825000-16875000) - 46 snps\n",
      ".. window 15 - (22, 16850000-16900000) - 75 snps\n",
      ".. window 16 - (22, 16875000-16925000) - 68 snps\n",
      ".. window 17 - (22, 16900000-16950000) - 62 snps\n",
      ".. window 18 - (22, 16925000-16975000) - 43 snps\n",
      ".. window 19 - (22, 16950000-17000000) - 22 snps\n",
      ".. window 20 - (22, 16975000-17025000) - 34 snps\n",
      ".. window 21 - (22, 17000000-17050000) - 73 snps\n",
      ".. window 22 - (22, 17025000-17075000) - 80 snps\n",
      ".. window 23 - (22, 17050000-17100000) - 71 snps\n",
      ".. window 24 - (22, 17075000-17125000) - 61 snps\n",
      ".. window 25 - (22, 17100000-17150000) - 64 snps\n",
      ".. window 26 - (22, 17125000-17175000) - 42 snps\n",
      ".. window 27 - (22, 17150000-17200000) - 9 snps\n",
      ".. window 28 - (22, 17175000-17225000) - 24 snps\n",
      ".. window 29 - (22, 17200000-17250000) - 39 snps\n",
      ".. window 30 - (22, 17225000-17275000) - 26 snps\n",
      ".. window 31 - (22, 17250000-17300000) - 55 snps\n",
      ".. window 32 - (22, 17275000-17325000) - 109 snps\n",
      ".. window 33 - (22, 17300000-17350000) - 115 snps\n",
      ".. window 34 - (22, 17325000-17375000) - 92 snps\n",
      ".. window 35 - (22, 17350000-17400000) - 77 snps\n",
      ".. window 36 - (22, 17375000-17425000) - 92 snps\n",
      ".. window 37 - (22, 17400000-17450000) - 97 snps\n",
      ".. window 38 - (22, 17425000-17475000) - 68 snps\n",
      ".. window 39 - (22, 17450000-17500000) - 54 snps\n",
      ".. window 40 - (22, 17475000-17525000) - 61 snps\n",
      ".. window 41 - (22, 17500000-17550000) - 83 snps\n",
      ".. window 42 - (22, 17525000-17575000) - 81 snps\n",
      ".. window 43 - (22, 17550000-17600000) - 72 snps\n",
      ".. window 44 - (22, 17575000-17625000) - 88 snps\n",
      ".. window 45 - (22, 17600000-17650000) - 99 snps\n",
      ".. window 46 - (22, 17625000-17675000) - 158 snps\n",
      ".. window 47 - (22, 17650000-17700000) - 156 snps\n",
      ".. window 48 - (22, 17675000-17725000) - 96 snps\n",
      ".. window 49 - (22, 17700000-17750000) - 89 snps\n",
      ".. window 50 - (22, 17725000-17775000) - 65 snps\n",
      ".. window 51 - (22, 17750000-17800000) - 77 snps\n",
      ".. window 52 - (22, 17775000-17825000) - 111 snps\n",
      ".. window 53 - (22, 17800000-17850000) - 102 snps\n",
      ".. window 54 - (22, 17825000-17875000) - 73 snps\n",
      ".. window 55 - (22, 17850000-17900000) - 69 snps\n",
      ".. window 56 - (22, 17875000-17925000) - 129 snps\n",
      ".. window 57 - (22, 17900000-17950000) - 156 snps\n",
      ".. window 58 - (22, 17925000-17975000) - 120 snps\n",
      ".. window 59 - (22, 17950000-18000000) - 91 snps\n",
      ".. window 60 - (22, 17975000-18025000) - 93 snps\n",
      ".. window 61 - (22, 18000000-18050000) - 88 snps\n",
      ".. window 62 - (22, 18025000-18075000) - 68 snps\n",
      ".. window 63 - (22, 18050000-18100000) - 112 snps\n",
      ".. window 64 - (22, 18075000-18125000) - 113 snps\n",
      ".. window 65 - (22, 18100000-18150000) - 73 snps\n",
      ".. window 66 - (22, 18125000-18175000) - 71 snps\n",
      ".. window 67 - (22, 18150000-18200000) - 58 snps\n",
      ".. window 68 - (22, 18175000-18225000) - 74 snps\n",
      ".. window 69 - (22, 18200000-18250000) - 75 snps\n",
      ".. window 70 - (22, 18225000-18275000) - 56 snps\n",
      ".. window 71 - (22, 18250000-18300000) - 77 snps\n",
      ".. window 72 - (22, 18275000-18325000) - 103 snps\n",
      ".. window 73 - (22, 18300000-18350000) - 88 snps\n",
      ".. window 74 - (22, 18325000-18375000) - 67 snps\n",
      ".. window 75 - (22, 18350000-18400000) - 63 snps\n",
      ".. window 76 - (22, 18375000-18425000) - 65 snps\n",
      ".. window 77 - (22, 18400000-18450000) - 116 snps\n",
      ".. window 78 - (22, 18425000-18475000) - 153 snps\n",
      ".. window 79 - (22, 18450000-18500000) - 124 snps\n",
      ".. window 80 - (22, 18475000-18525000) - 125 snps\n",
      ".. window 81 - (22, 18500000-18550000) - 111 snps\n",
      ".. window 82 - (22, 18525000-18575000) - 65 snps\n",
      ".. window 83 - (22, 18550000-18600000) - 50 snps\n",
      ".. window 84 - (22, 18575000-18625000) - 45 snps\n",
      ".. window 85 - (22, 18600000-18650000) - 80 snps\n",
      ".. window 86 - (22, 18625000-18675000) - 74 snps\n",
      ".. window 87 - (22, 18650000-18700000) - 17 snps\n",
      ".. window 88 - (22, 18675000-18725000) - 11 snps\n",
      ".. window 89 - (22, 18700000-18750000) - 19 snps\n",
      ".. window 90 - (22, 18725000-18775000) - 14 snps\n",
      ".. window 91 - (22, 18750000-18800000) - 11 snps\n",
      ".. window 92 - (22, 18775000-18825000) - 8 snps\n",
      ".. window 93 - (22, 18800000-18850000) - 11 snps\n",
      ".. window 94 - (22, 18825000-18875000) - 14 snps\n",
      ".. window 95 - (22, 18850000-18900000) - 42 snps\n",
      ".. window 96 - (22, 18875000-18925000) - 102 snps\n",
      ".. window 97 - (22, 18900000-18950000) - 101 snps\n",
      ".. window 98 - (22, 18925000-18975000) - 93 snps\n",
      ".. window 99 - (22, 18950000-19000000) - 78 snps\n"
     ]
    }
   ],
   "source": [
    "n_wnds = 100 # only hundred windows are considered\n",
    "LLR = sp.zeros(n_wnds) # vector with test statistics of the n_wnds regions\n",
    "for wnd_i in range(n_wnds):\n",
    "    wnd_pos = split.wnd_pos[wnd_i]\n",
    "    nSnps = split.nSnps[wnd_i]\n",
    "    idx_wnd_start = split.idx_wnd_start[wnd_i]\n",
    "    print('.. window %d - (%d, %d-%d) - %d snps' % (wnd_i, wnd_pos[0], wnd_pos[1], wnd_pos[2], nSnps))\n",
    "    \n",
    "    Xr = plink_reader.readBED(bfile, useMAFencoding=True, start = idx_wnd_start, nSNPs = nSnps, bim=bim , fam=fam)['snps']\n",
    "\n",
    "    # multi trait set test fit\n",
    "    RV = mtSet.optimize(Xr)\n",
    "    LLR[wnd_i] = RV['LLR'][0]"
   ]
  },
  {
   "cell_type": "markdown",
   "metadata": {},
   "source": [
    "The returned dictionary from _mtSet.optimize_ contains:\n",
    "* __Cr__: value of the region-term trait-to-trait covariance\n",
    "* __Cg__: value of the genetic trait-to-trait covariance\n",
    "* __Cn__: value of the residual trait-to-trait covariance\n",
    "* __variances__: n_traits-by-3 matrix of variance explained by the three contributions (region, background, noise) for the  traits\n",
    "* __conv__: bool that indicates convergence of the optimization\n",
    "* __time__: time elpased for optimizing the parameters\n",
    "* __NLLAlt__: negative log likelihood of the alternative model\n",
    "* __LLR__: test statistics\n",
    "* __LMLgrad__: norm of the gradient of the negative log likelihood dividived by the number of parameters"
   ]
  },
  {
   "cell_type": "markdown",
   "metadata": {},
   "source": [
    "### P-values\n",
    "\n",
    "P values are obtained from a relatively small number of genome-wide permutations, fitting a parametric model to the null distribution. Here we showcase the permutation procedure by considering 10 permutations for the 10 regions analyzed."
   ]
  },
  {
   "cell_type": "code",
   "execution_count": 15,
   "metadata": {
    "collapsed": false
   },
   "outputs": [
    {
     "name": "stdout",
     "output_type": "stream",
     "text": [
      "permutation 0\n",
      "permutation 1\n",
      "permutation 2\n",
      "permutation 3\n",
      "permutation 4\n",
      "permutation 5\n",
      "permutation 6\n",
      "permutation 7\n",
      "permutation 8\n",
      "permutation 9\n"
     ]
    }
   ],
   "source": [
    "n_perms = 10\n",
    "LLR_null = [] # in this list test statistics from permutations will be stored\n",
    "for perm_i in range(n_perms):\n",
    "    \n",
    "    #1. generate permutation\n",
    "    print 'permutation %d' % perm_i\n",
    "    sp.random.seed(perm_i)\n",
    "    perm_idxs = sp.random.permutation(Y.shape[0])\n",
    "    \n",
    "    #2. scan on the 100 regions\n",
    "    for wnd_i in range(n_wnds):\n",
    "        wnd_pos = split.wnd_pos[wnd_i]\n",
    "        nSnps = split.nSnps[wnd_i]\n",
    "        idx_wnd_start = split.idx_wnd_start[wnd_i]\n",
    "        Xr = plink_reader.readBED(bfile, useMAFencoding=True, start = idx_wnd_start, nSNPs = nSnps, bim=bim , fam=fam)['snps']\n",
    "        Xr = Xr[perm_idxs, :] # permute samples in region term\n",
    "        RV = mtSet.optimize(Xr)\n",
    "        LLR_null.append(RV['LLR'][0])\n",
    "LLR_null = sp.array(LLR_null)"
   ]
  },
  {
   "cell_type": "markdown",
   "metadata": {},
   "source": [
    "The parametric fit to the ditribution of the test statistics under the null and the consequent conversion of the observed test statistics in P values is performed by the module `limix.stats.chi2mixture` as shown below."
   ]
  },
  {
   "cell_type": "code",
   "execution_count": 16,
   "metadata": {
    "collapsed": true
   },
   "outputs": [],
   "source": [
    "from limix.stats.chi2mixture import Chi2mixture\n",
    "c2m = Chi2mixture(tol=4e-3)\n",
    "c2m.estimate_chi2mixture(LLR_null)\n",
    "pv = c2m.sf(LLR)"
   ]
  },
  {
   "cell_type": "code",
   "execution_count": 17,
   "metadata": {
    "collapsed": false
   },
   "outputs": [
    {
     "data": {
      "text/plain": [
       "[<matplotlib.lines.Line2D at 0x115fe4fd0>]"
      ]
     },
     "execution_count": 17,
     "metadata": {},
     "output_type": "execute_result"
    },
    {
     "data": {
      "image/png": "[encoded data removed]",
      "text/plain": [
       "<matplotlib.figure.Figure at 0x10e16ac90>"
      ]
     },
     "metadata": {},
     "output_type": "display_data"
    }
   ],
   "source": [
    "#makes a manhattan plot\n",
    "wnd_chrom = split.wnd_pos[:n_wnds,0]\n",
    "wnd_start = split.wnd_pos[:n_wnds,1]\n",
    "wnd_end = split.wnd_pos[:n_wnds,2]\n",
    "import pylab as pl\n",
    "pl.plot(wnd_start, -sp.log10(pv), 'o', color='MidnightBlue')"
   ]
  },
  {
   "cell_type": "markdown",
   "metadata": {},
   "source": [
    "# iSet\n",
    "\n",
    "Interaction Set test is an extension of mtSet to test for gene-context interactions.\n",
    "As we show in this tutorial, iSet can be applied for interaction analysis in two data designs:\n",
    "* [complete design](#Complete-design), where all individuals have been phenotyped in each context\n",
    "* [stratified design](#Stratified-design), where each individual has been phenotyped in only one of the two contexts"
   ]
  },
  {
   "cell_type": "markdown",
   "metadata": {},
   "source": [
    "## Quick Start\n",
    "\n",
    "iSet uses the same tools for preprocessing as the ones used for mtSet.\n",
    "We thus refer the reader to the steps 0 to 5 presented in the [Quick Start](#Quick-Start) section of mtSet.\n",
    "After those steps have been applied, we are therefore ready for the following commands."
   ]
  },
  {
   "cell_type": "markdown",
   "metadata": {},
   "source": [
    "0. Our software depends on [Plink](https://www.cog-genomics.org/plink2) version 1.9 (or greater) for preprocessing. Please, make sure you have it before proceeding.\n",
    "\n",
    "1. Download and install Limix\n",
    "```bash\n",
    "git clone --depth 1 https://github.com/PMBio/private-limix.git\n",
    "pushd private-limix\n",
    "python setup.py install\n",
    "popd\n",
    "```\n",
    "\n",
    "2. Download tutorial\n",
    "```bash\n",
    "git clone --depth 1 https://github.com/PMBio/private-limix-tutorials.git\n",
    "cd private-limix-tutorials/mtSet\n",
    "python download_examples.py\n",
    "cd data\n",
    "mkdir out\n",
    "ls 1000g/\n",
    "```\n",
    "\n",
    "3. Set some handy shell variables\n",
    "```bash\n",
    "BFILE=1000g/chrom22_subsample20_maf0.10\n",
    "CFILE=out/chrom22\n",
    "PFILE=1000g/pheno\n",
    "WFILE=out/windows\n",
    "NFILE=out/null\n",
    "WSIZE=30000\n",
    "RESDIR=out/results\n",
    "OUTFILE=out/final\n",
    "IFILE=1000g/indicator.csv\n",
    "```\n",
    "\n",
    "4. Preprocess and phenotype simulation\n",
    "```bash\n",
    "# Kinship matrix estimation\n",
    "mtSet_preprocess --compute_covariance --bfile $BFILE --cfile $CFILE \n",
    "# Fitting the null model and assigning the markers to windows\n",
    "mtSet_preprocess --precompute_windows --bfile $BFILE --wfile $WFILE --window_size $WSIZE --plot_windows\n",
    "```\n",
    "\n",
    "5. Analyzing the genotypes\n",
    "    - Complete design\n",
    "```bash\n",
    "# notice the lack of IFILE\n",
    "iSet_analyze --bfile $BFILE --cfile $CFILE --pfile $PFILE --wfile $WFILE --minSnps 4 --resdir $RESDIR --start_wnd 0 --end_wnd 10\n",
    "```\n",
    "\n",
    "    - Stratified design\n",
    "```bash\n",
    "iSet_analyze --bfile $BFILE --cfile $CFILE --pfile $PFILE --wfile $WFILE --minSnps 4 --resdir $RESDIR --start_wnd 0 --end_wnd 10 --ifile $IFILE\n",
    "```\n",
    "\n",
    "6. Postprocess\n",
    "    - Complete design\n",
    "```bash\n",
    "iSet_postprocess --resdir $RESDIR --outfile $OUTFILE --manhattan_plot\n",
    "```"
   ]
  },
  {
   "cell_type": "markdown",
   "metadata": {},
   "source": [
    "\n",
    "## Complete design"
   ]
  },
  {
   "cell_type": "markdown",
   "metadata": {},
   "source": [
    "iSet is an extension of mtSet that allows to test for polygenic interactions with environment or other contexts. iSet can be applied in designs where all individuals have been phenotyped in each context (complete design) as well as for populations that have been stratified by a context variable (stratified design). We will here see first an application of iSet for analysis of complete designs, and then an application for the analysis of stratified design in the next section."
   ]
  },
  {
   "cell_type": "markdown",
   "metadata": {},
   "source": [
    "### Setting up"
   ]
  },
  {
   "cell_type": "code",
   "execution_count": 18,
   "metadata": {
    "collapsed": true
   },
   "outputs": [],
   "source": [
    "# activiate inline plotting\n",
    "%matplotlib inline\n",
    "\n",
    "from download_examples import get_1000G_mtSet\n",
    "import scipy as sp\n",
    "import scipy.linalg\n",
    "import limix\n",
    "from limix.mtSet.iset import fit_iSet\n",
    "import pandas as pd"
   ]
  },
  {
   "cell_type": "code",
   "execution_count": 19,
   "metadata": {
    "collapsed": true
   },
   "outputs": [],
   "source": [
    "# loading 1000G genotypes for mtSet demo\n",
    "get_1000G_mtSet()"
   ]
  },
  {
   "cell_type": "code",
   "execution_count": 20,
   "metadata": {
    "collapsed": true
   },
   "outputs": [],
   "source": [
    "# base name for bed, bim and fam\n",
    "bfile = './data/1000g/chrom22_subsample20_maf0.10'"
   ]
  },
  {
   "cell_type": "markdown",
   "metadata": {},
   "source": [
    "### Split genotypes into regions"
   ]
  },
  {
   "cell_type": "code",
   "execution_count": 21,
   "metadata": {
    "collapsed": true
   },
   "outputs": [],
   "source": [
    "from limix.mtSet.core import plink_reader"
   ]
  },
  {
   "cell_type": "code",
   "execution_count": 22,
   "metadata": {
    "collapsed": false
   },
   "outputs": [],
   "source": [
    "# import genotype positions\n",
    "bim = plink_reader.readBIM(bfile,usecols=(0,1,2,3))\n",
    "chrom = bim[:, 0].astype(float)\n",
    "pos = bim[:, -1].astype(float)"
   ]
  },
  {
   "cell_type": "code",
   "execution_count": 23,
   "metadata": {
    "collapsed": true
   },
   "outputs": [],
   "source": [
    "# uses splitter to split the genotypes\n",
    "from limix.mtSet.core.splitter import Splitter\n",
    "split = Splitter(pos=pos,chrom=chrom)"
   ]
  },
  {
   "cell_type": "markdown",
   "metadata": {},
   "source": [
    "The method `splitGeno` allows to define the regions that will then considered for the analysis with iSet.\n",
    "Information relative to the calculated regions can be cached in an external file by activating the cache option (see below).\n",
    "\n",
    "| Argument        | Default       | Datatype | Explanation |\n",
    "| ------------- |:-------------:|:--------:| --------|\n",
    "| __method__      | 'slidingWindow' | str | Uses a sliding window approach to define regions (a region-based approach will be availabe soon) |\n",
    "| __size__      | 5E+04 (50kb) | float | Window size. Pace is set at half the size of the window |\n",
    "| __minSnps__      | 1 | int | Windows with number of SNPs lower that this threshold are not considered |\n",
    "| __maxSnps__      | sp.inf | int | Windows with number of SNPs higher that this threshold are not considered |\n",
    "| __cache__       | False | bool | If true, it activates the caching |\n",
    "| __out\\_dir__     | './cache' | str | outdir of the cache file |\n",
    "| __fname__       | None | str | Name of the file |\n",
    "| __rewrite__     | False | bool | If true and the cache file already exists, the cache file is overwritten |"
   ]
  },
  {
   "cell_type": "code",
   "execution_count": 24,
   "metadata": {
    "collapsed": false
   },
   "outputs": [
    {
     "name": "stdout",
     "output_type": "stream",
     "text": [
      "1380 windows\n"
     ]
    }
   ],
   "source": [
    "split.splitGeno(cache=True, fname='regions.h5', minSnps=4)\n",
    "print '%d windows' % split.nWindows"
   ]
  },
  {
   "cell_type": "markdown",
   "metadata": {},
   "source": [
    "### Apply"
   ]
  },
  {
   "cell_type": "code",
   "execution_count": 25,
   "metadata": {
    "collapsed": false
   },
   "outputs": [],
   "source": [
    "# import phenotype and sample relatedness\n",
    "pheno_file = './data/1000g/pheno.phe'\n",
    "sample_relatedness_file = './data/1000g/chrom22.cov'\n",
    "Y = sp.loadtxt(pheno_file)[:,:2]\n",
    "R = sp.loadtxt(sample_relatedness_file)"
   ]
  },
  {
   "cell_type": "code",
   "execution_count": 26,
   "metadata": {
    "collapsed": true
   },
   "outputs": [],
   "source": [
    "# compute eigenvalues and eigenvectors of the sample relatedness matrix\n",
    "S_R, U_R = scipy.linalg.eigh(R+1e-4*sp.eye(R.shape[0])) # these are needed for the full mtSet model"
   ]
  },
  {
   "cell_type": "code",
   "execution_count": 27,
   "metadata": {
    "collapsed": true
   },
   "outputs": [],
   "source": [
    "# read fam\n",
    "bim = plink_reader.readBIM(bfile,usecols=(0,1,2,3))\n",
    "fam = plink_reader.readFAM(bfile,usecols=(0,1))"
   ]
  },
  {
   "cell_type": "code",
   "execution_count": 31,
   "metadata": {
    "collapsed": false
   },
   "outputs": [
    {
     "name": "stdout",
     "output_type": "stream",
     "text": [
      ".. window 0 - (22, 16025000-16075000) - 21 snps\n",
      "fittng iSet\n",
      "permutation 0 / 10\n",
      "permutation 1 / 10\n",
      "permutation 2 / 10\n",
      "permutation 3 / 10\n",
      "permutation 4 / 10\n",
      "permutation 5 / 10\n",
      "permutation 6 / 10\n",
      "permutation 7 / 10\n",
      "permutation 8 / 10\n",
      "permutation 9 / 10\n",
      ".. window 1 - (22, 16050000-16100000) - 23 snps\n",
      "fittng iSet\n",
      "permutation 0 / 10\n",
      "permutation 1 / 10\n",
      "permutation 2 / 10\n",
      "permutation 3 / 10\n",
      "permutation 4 / 10\n",
      "permutation 5 / 10\n",
      "permutation 6 / 10\n",
      "permutation 7 / 10\n",
      "permutation 8 / 10\n",
      "permutation 9 / 10\n",
      ".. window 2 - (22, 16125000-16175000) - 7 snps\n",
      "fittng iSet\n",
      "permutation 0 / 10\n",
      "permutation 1 / 10\n",
      "permutation 2 / 10\n",
      "permutation 3 / 10\n",
      "permutation 4 / 10\n",
      "permutation 5 / 10\n",
      "permutation 6 / 10\n",
      "permutation 7 / 10\n",
      "permutation 8 / 10\n",
      "permutation 9 / 10\n",
      ".. window 3 - (22, 16225000-16275000) - 9 snps\n",
      "fittng iSet\n",
      "permutation 0 / 10\n",
      "permutation 1 / 10\n",
      "permutation 2 / 10\n",
      "permutation 3 / 10\n",
      "permutation 4 / 10\n",
      "permutation 5 / 10\n",
      "permutation 6 / 10\n",
      "permutation 7 / 10\n",
      "permutation 8 / 10\n",
      "permutation 9 / 10\n",
      ".. window 4 - (22, 16250000-16300000) - 16 snps\n",
      "fittng iSet\n",
      "permutation 0 / 10\n",
      "permutation 1 / 10\n",
      "permutation 2 / 10\n",
      "permutation 3 / 10\n",
      "permutation 4 / 10\n",
      "permutation 5 / 10\n",
      "permutation 6 / 10\n",
      "permutation 7 / 10\n",
      "permutation 8 / 10\n",
      "permutation 9 / 10\n",
      ".. window 5 - (22, 16275000-16325000) - 12 snps\n",
      "fittng iSet\n",
      "permutation 0 / 10\n",
      "permutation 1 / 10\n",
      "permutation 2 / 10\n",
      "permutation 3 / 10\n",
      "permutation 4 / 10\n",
      "permutation 5 / 10\n",
      "permutation 6 / 10\n",
      "permutation 7 / 10\n",
      "permutation 8 / 10\n",
      "permutation 9 / 10\n",
      ".. window 6 - (22, 16325000-16375000) - 5 snps\n",
      "fittng iSet\n",
      "permutation 0 / 10\n",
      "permutation 1 / 10\n",
      "permutation 2 / 10\n",
      "permutation 3 / 10\n",
      "permutation 4 / 10\n",
      "permutation 5 / 10\n",
      "permutation 6 / 10\n",
      "permutation 7 / 10\n",
      "permutation 8 / 10\n",
      "permutation 9 / 10\n",
      ".. window 7 - (22, 16350000-16400000) - 5 snps\n",
      "fittng iSet\n",
      "permutation 0 / 10\n",
      "permutation 1 / 10\n",
      "permutation 2 / 10\n",
      "permutation 3 / 10\n",
      "permutation 4 / 10\n",
      "permutation 5 / 10\n",
      "permutation 6 / 10\n",
      "permutation 7 / 10\n",
      "permutation 8 / 10\n",
      "permutation 9 / 10\n",
      ".. window 8 - (22, 16475000-16525000) - 8 snps\n",
      "fittng iSet\n",
      "permutation 0 / 10\n",
      "permutation 1 / 10\n",
      "permutation 2 / 10\n",
      "permutation 3 / 10\n",
      "permutation 4 / 10\n",
      "permutation 5 / 10\n",
      "permutation 6 / 10\n",
      "permutation 7 / 10\n",
      "permutation 8 / 10\n",
      "permutation 9 / 10\n",
      ".. window 9 - (22, 16500000-16550000) - 7 snps\n",
      "fittng iSet\n",
      "permutation 0 / 10\n",
      "permutation 1 / 10\n",
      "permutation 2 / 10\n",
      "permutation 3 / 10\n",
      "permutation 4 / 10\n",
      "permutation 5 / 10\n",
      "permutation 6 / 10\n",
      "permutation 7 / 10\n",
      "permutation 8 / 10\n",
      "permutation 9 / 10\n",
      "Elapsed: 144.055334091\n"
     ]
    }
   ],
   "source": [
    "n_wnds = 10 # only 10 windows are considered\n",
    "LLR = sp.zeros(n_wnds) # vector with test statistics of the n_wnds regions\n",
    "df = pd.DataFrame()\n",
    "df0 = pd.DataFrame()\n",
    "import time\n",
    "t0 = time.time()\n",
    "for wnd_i in range(n_wnds):\n",
    "    wnd_pos = split.wnd_pos[wnd_i]\n",
    "    nSnps = split.nSnps[wnd_i]\n",
    "    idx_wnd_start = split.idx_wnd_start[wnd_i]\n",
    "    print '.. window %d - (%d, %d-%d) - %d snps' % (wnd_i, wnd_pos[0], wnd_pos[1], wnd_pos[2], nSnps)\n",
    "    \n",
    "    Xr = plink_reader.readBED(bfile, useMAFencoding=True, start = idx_wnd_start, nSNPs = nSnps, bim=bim , fam=fam)['snps']\n",
    "    Xr-= Xr.mean(0)\n",
    "    Xr/= Xr.std(0)\n",
    "    Xr/= sp.sqrt(Xr.shape[1])\n",
    "    \n",
    "    _df, _df0 = fit_iSet(Y, U_R=U_R, S_R=S_R, Xr=Xr, n_perms=10)\n",
    "    df  = df.append(_df)\n",
    "    df0 = df0.append(_df0)\n",
    "print 'Elapsed:', time.time()-t0"
   ]
  },
  {
   "cell_type": "markdown",
   "metadata": {},
   "source": [
    "The dataframe df contains log likelihood ratio scores for the different models, variance component attributable to persistent rescaling-GxC and heterogeneity-GxC and information about convergence"
   ]
  },
  {
   "cell_type": "code",
   "execution_count": 32,
   "metadata": {
    "collapsed": false
   },
   "outputs": [
    {
     "data": {
      "text/html": [
       "<div>\n",
       "<table border=\"1\" class=\"dataframe\">\n",
       "  <thead>\n",
       "    <tr style=\"text-align: right;\">\n",
       "      <th></th>\n",
       "      <th>mtSet LLR</th>\n",
       "      <th>iSet LLR</th>\n",
       "      <th>iSet-het LLR</th>\n",
       "      <th>Persistent Var</th>\n",
       "      <th>Rescaling-GxC Var</th>\n",
       "      <th>Heterogeneity-GxC var</th>\n",
       "      <th>Converged</th>\n",
       "    </tr>\n",
       "  </thead>\n",
       "  <tbody>\n",
       "    <tr>\n",
       "      <th>0</th>\n",
       "      <td>6.861452e-01</td>\n",
       "      <td>1.355344e-01</td>\n",
       "      <td>9.473803e-05</td>\n",
       "      <td>5.629045e-03</td>\n",
       "      <td>1.232303e-03</td>\n",
       "      <td>1.360568e-04</td>\n",
       "      <td>1.0</td>\n",
       "    </tr>\n",
       "    <tr>\n",
       "      <th>0</th>\n",
       "      <td>6.696768e-01</td>\n",
       "      <td>1.124126e-01</td>\n",
       "      <td>5.509369e-02</td>\n",
       "      <td>6.200410e-03</td>\n",
       "      <td>2.832236e-04</td>\n",
       "      <td>4.398604e-03</td>\n",
       "      <td>1.0</td>\n",
       "    </tr>\n",
       "    <tr>\n",
       "      <th>0</th>\n",
       "      <td>-3.961816e-09</td>\n",
       "      <td>1.233456e-07</td>\n",
       "      <td>1.226718e-07</td>\n",
       "      <td>7.586155e-12</td>\n",
       "      <td>8.896655e-12</td>\n",
       "      <td>5.222866e-14</td>\n",
       "      <td>1.0</td>\n",
       "    </tr>\n",
       "    <tr>\n",
       "      <th>0</th>\n",
       "      <td>2.359830e+00</td>\n",
       "      <td>1.891169e+00</td>\n",
       "      <td>3.018965e-08</td>\n",
       "      <td>8.217359e-03</td>\n",
       "      <td>1.179826e-02</td>\n",
       "      <td>4.764017e-13</td>\n",
       "      <td>1.0</td>\n",
       "    </tr>\n",
       "    <tr>\n",
       "      <th>0</th>\n",
       "      <td>1.445056e+00</td>\n",
       "      <td>1.425267e+00</td>\n",
       "      <td>1.702829e-07</td>\n",
       "      <td>5.358896e-03</td>\n",
       "      <td>8.962482e-03</td>\n",
       "      <td>4.162493e-12</td>\n",
       "      <td>1.0</td>\n",
       "    </tr>\n",
       "    <tr>\n",
       "      <th>0</th>\n",
       "      <td>-6.795801e-09</td>\n",
       "      <td>1.293916e-07</td>\n",
       "      <td>1.271491e-07</td>\n",
       "      <td>1.637149e-11</td>\n",
       "      <td>2.355878e-12</td>\n",
       "      <td>4.018054e-12</td>\n",
       "      <td>1.0</td>\n",
       "    </tr>\n",
       "    <tr>\n",
       "      <th>0</th>\n",
       "      <td>-4.030488e-08</td>\n",
       "      <td>1.341367e-07</td>\n",
       "      <td>1.333494e-07</td>\n",
       "      <td>3.045545e-11</td>\n",
       "      <td>5.935558e-11</td>\n",
       "      <td>1.092629e-11</td>\n",
       "      <td>1.0</td>\n",
       "    </tr>\n",
       "    <tr>\n",
       "      <th>0</th>\n",
       "      <td>-6.048992e-09</td>\n",
       "      <td>1.548281e-07</td>\n",
       "      <td>1.547081e-07</td>\n",
       "      <td>7.019006e-12</td>\n",
       "      <td>1.727846e-11</td>\n",
       "      <td>2.873181e-12</td>\n",
       "      <td>1.0</td>\n",
       "    </tr>\n",
       "    <tr>\n",
       "      <th>0</th>\n",
       "      <td>1.862853e-01</td>\n",
       "      <td>1.404531e-01</td>\n",
       "      <td>2.273234e-02</td>\n",
       "      <td>3.094510e-03</td>\n",
       "      <td>2.436964e-03</td>\n",
       "      <td>1.300229e-03</td>\n",
       "      <td>1.0</td>\n",
       "    </tr>\n",
       "    <tr>\n",
       "      <th>0</th>\n",
       "      <td>9.830342e-02</td>\n",
       "      <td>9.830421e-02</td>\n",
       "      <td>1.228078e-07</td>\n",
       "      <td>1.584804e-03</td>\n",
       "      <td>2.020737e-03</td>\n",
       "      <td>2.559616e-11</td>\n",
       "      <td>1.0</td>\n",
       "    </tr>\n",
       "  </tbody>\n",
       "</table>\n",
       "</div>"
      ],
      "text/plain": [
       "      mtSet LLR      iSet LLR  iSet-het LLR  Persistent Var  \\\n",
       "0  6.861452e-01  1.355344e-01  9.473803e-05    5.629045e-03   \n",
       "0  6.696768e-01  1.124126e-01  5.509369e-02    6.200410e-03   \n",
       "0 -3.961816e-09  1.233456e-07  1.226718e-07    7.586155e-12   \n",
       "0  2.359830e+00  1.891169e+00  3.018965e-08    8.217359e-03   \n",
       "0  1.445056e+00  1.425267e+00  1.702829e-07    5.358896e-03   \n",
       "0 -6.795801e-09  1.293916e-07  1.271491e-07    1.637149e-11   \n",
       "0 -4.030488e-08  1.341367e-07  1.333494e-07    3.045545e-11   \n",
       "0 -6.048992e-09  1.548281e-07  1.547081e-07    7.019006e-12   \n",
       "0  1.862853e-01  1.404531e-01  2.273234e-02    3.094510e-03   \n",
       "0  9.830342e-02  9.830421e-02  1.228078e-07    1.584804e-03   \n",
       "\n",
       "   Rescaling-GxC Var  Heterogeneity-GxC var  Converged  \n",
       "0       1.232303e-03           1.360568e-04        1.0  \n",
       "0       2.832236e-04           4.398604e-03        1.0  \n",
       "0       8.896655e-12           5.222866e-14        1.0  \n",
       "0       1.179826e-02           4.764017e-13        1.0  \n",
       "0       8.962482e-03           4.162493e-12        1.0  \n",
       "0       2.355878e-12           4.018054e-12        1.0  \n",
       "0       5.935558e-11           1.092629e-11        1.0  \n",
       "0       1.727846e-11           2.873181e-12        1.0  \n",
       "0       2.436964e-03           1.300229e-03        1.0  \n",
       "0       2.020737e-03           2.559616e-11        1.0  "
      ]
     },
     "execution_count": 32,
     "metadata": {},
     "output_type": "execute_result"
    }
   ],
   "source": [
    "df"
   ]
  },
  {
   "cell_type": "markdown",
   "metadata": {},
   "source": [
    "The dataframe df0 contains log likelihood ratios when data are from the null. These are necessary to iSet to calculate P values."
   ]
  },
  {
   "cell_type": "code",
   "execution_count": 33,
   "metadata": {
    "collapsed": false
   },
   "outputs": [
    {
     "data": {
      "text/html": [
       "<div>\n",
       "<table border=\"1\" class=\"dataframe\">\n",
       "  <thead>\n",
       "    <tr style=\"text-align: right;\">\n",
       "      <th></th>\n",
       "      <th>iSet LLR0</th>\n",
       "      <th>iSet-het LLR0</th>\n",
       "      <th>mtSet LLR0</th>\n",
       "    </tr>\n",
       "  </thead>\n",
       "  <tbody>\n",
       "    <tr>\n",
       "      <th>0</th>\n",
       "      <td>1.360521e+00</td>\n",
       "      <td>-7.355845e-07</td>\n",
       "      <td>2.220135e-01</td>\n",
       "    </tr>\n",
       "    <tr>\n",
       "      <th>1</th>\n",
       "      <td>2.759036e-01</td>\n",
       "      <td>7.833876e-08</td>\n",
       "      <td>-1.774329e-07</td>\n",
       "    </tr>\n",
       "    <tr>\n",
       "      <th>2</th>\n",
       "      <td>1.214048e-01</td>\n",
       "      <td>8.048272e-08</td>\n",
       "      <td>2.850607e-01</td>\n",
       "    </tr>\n",
       "    <tr>\n",
       "      <th>3</th>\n",
       "      <td>4.126475e-01</td>\n",
       "      <td>-1.027745e-07</td>\n",
       "      <td>3.282828e-01</td>\n",
       "    </tr>\n",
       "    <tr>\n",
       "      <th>4</th>\n",
       "      <td>1.887856e-01</td>\n",
       "      <td>2.042060e-08</td>\n",
       "      <td>3.522579e-01</td>\n",
       "    </tr>\n",
       "    <tr>\n",
       "      <th>5</th>\n",
       "      <td>3.751626e-01</td>\n",
       "      <td>6.228377e-07</td>\n",
       "      <td>5.218640e-01</td>\n",
       "    </tr>\n",
       "    <tr>\n",
       "      <th>6</th>\n",
       "      <td>8.386440e-01</td>\n",
       "      <td>-7.174253e-08</td>\n",
       "      <td>3.012096e+00</td>\n",
       "    </tr>\n",
       "    <tr>\n",
       "      <th>7</th>\n",
       "      <td>4.969153e-01</td>\n",
       "      <td>1.500001e-06</td>\n",
       "      <td>-2.697449e-07</td>\n",
       "    </tr>\n",
       "    <tr>\n",
       "      <th>8</th>\n",
       "      <td>1.245288e+00</td>\n",
       "      <td>1.624942e-07</td>\n",
       "      <td>1.893771e+00</td>\n",
       "    </tr>\n",
       "    <tr>\n",
       "      <th>9</th>\n",
       "      <td>3.641889e-01</td>\n",
       "      <td>-7.848695e-08</td>\n",
       "      <td>6.988932e-01</td>\n",
       "    </tr>\n",
       "    <tr>\n",
       "      <th>0</th>\n",
       "      <td>8.340846e-02</td>\n",
       "      <td>1.100548e-08</td>\n",
       "      <td>4.169597e+00</td>\n",
       "    </tr>\n",
       "    <tr>\n",
       "      <th>1</th>\n",
       "      <td>3.194083e-03</td>\n",
       "      <td>2.206632e-06</td>\n",
       "      <td>4.571741e-02</td>\n",
       "    </tr>\n",
       "    <tr>\n",
       "      <th>2</th>\n",
       "      <td>7.391245e-02</td>\n",
       "      <td>4.054073e-09</td>\n",
       "      <td>1.451948e+00</td>\n",
       "    </tr>\n",
       "    <tr>\n",
       "      <th>3</th>\n",
       "      <td>8.535279e-02</td>\n",
       "      <td>-4.655814e-08</td>\n",
       "      <td>5.123031e-01</td>\n",
       "    </tr>\n",
       "    <tr>\n",
       "      <th>4</th>\n",
       "      <td>1.416816e+00</td>\n",
       "      <td>7.669317e-08</td>\n",
       "      <td>5.040575e-01</td>\n",
       "    </tr>\n",
       "    <tr>\n",
       "      <th>5</th>\n",
       "      <td>1.309247e+00</td>\n",
       "      <td>1.904358e-07</td>\n",
       "      <td>5.586640e-01</td>\n",
       "    </tr>\n",
       "    <tr>\n",
       "      <th>6</th>\n",
       "      <td>2.231531e-08</td>\n",
       "      <td>2.703102e-07</td>\n",
       "      <td>5.482419e-02</td>\n",
       "    </tr>\n",
       "    <tr>\n",
       "      <th>7</th>\n",
       "      <td>-2.955728e-01</td>\n",
       "      <td>6.102004e-07</td>\n",
       "      <td>1.028298e-01</td>\n",
       "    </tr>\n",
       "    <tr>\n",
       "      <th>8</th>\n",
       "      <td>1.447525e-01</td>\n",
       "      <td>4.464522e-08</td>\n",
       "      <td>4.676463e-01</td>\n",
       "    </tr>\n",
       "    <tr>\n",
       "      <th>9</th>\n",
       "      <td>3.342302e-02</td>\n",
       "      <td>-1.065115e-07</td>\n",
       "      <td>-2.634442e-08</td>\n",
       "    </tr>\n",
       "    <tr>\n",
       "      <th>0</th>\n",
       "      <td>2.482373e+00</td>\n",
       "      <td>8.092843e-08</td>\n",
       "      <td>7.236777e-02</td>\n",
       "    </tr>\n",
       "    <tr>\n",
       "      <th>1</th>\n",
       "      <td>3.032138e-01</td>\n",
       "      <td>1.399766e-06</td>\n",
       "      <td>5.396782e-01</td>\n",
       "    </tr>\n",
       "    <tr>\n",
       "      <th>2</th>\n",
       "      <td>1.037822e-01</td>\n",
       "      <td>3.790886e-07</td>\n",
       "      <td>9.398845e-01</td>\n",
       "    </tr>\n",
       "    <tr>\n",
       "      <th>3</th>\n",
       "      <td>2.623648e-01</td>\n",
       "      <td>2.197535e-07</td>\n",
       "      <td>-4.396402e-07</td>\n",
       "    </tr>\n",
       "    <tr>\n",
       "      <th>4</th>\n",
       "      <td>9.421878e-02</td>\n",
       "      <td>1.389190e-07</td>\n",
       "      <td>7.969082e-01</td>\n",
       "    </tr>\n",
       "    <tr>\n",
       "      <th>5</th>\n",
       "      <td>-1.276188e-07</td>\n",
       "      <td>-1.917246e-07</td>\n",
       "      <td>1.971514e+00</td>\n",
       "    </tr>\n",
       "    <tr>\n",
       "      <th>6</th>\n",
       "      <td>-3.669504e-08</td>\n",
       "      <td>5.176890e-07</td>\n",
       "      <td>1.184178e+00</td>\n",
       "    </tr>\n",
       "    <tr>\n",
       "      <th>7</th>\n",
       "      <td>7.622222e-07</td>\n",
       "      <td>3.687808e-08</td>\n",
       "      <td>9.394785e-02</td>\n",
       "    </tr>\n",
       "    <tr>\n",
       "      <th>8</th>\n",
       "      <td>4.918012e-01</td>\n",
       "      <td>2.756071e-07</td>\n",
       "      <td>-3.402789e-08</td>\n",
       "    </tr>\n",
       "    <tr>\n",
       "      <th>9</th>\n",
       "      <td>2.013678e-01</td>\n",
       "      <td>-5.408992e-09</td>\n",
       "      <td>-1.554179e-07</td>\n",
       "    </tr>\n",
       "    <tr>\n",
       "      <th>...</th>\n",
       "      <td>...</td>\n",
       "      <td>...</td>\n",
       "      <td>...</td>\n",
       "    </tr>\n",
       "    <tr>\n",
       "      <th>0</th>\n",
       "      <td>8.973760e-03</td>\n",
       "      <td>1.180063e-07</td>\n",
       "      <td>-1.450138e-08</td>\n",
       "    </tr>\n",
       "    <tr>\n",
       "      <th>1</th>\n",
       "      <td>3.056055e-07</td>\n",
       "      <td>2.021701e-06</td>\n",
       "      <td>1.073540e+00</td>\n",
       "    </tr>\n",
       "    <tr>\n",
       "      <th>2</th>\n",
       "      <td>4.380448e-07</td>\n",
       "      <td>-4.551117e-08</td>\n",
       "      <td>5.619224e-02</td>\n",
       "    </tr>\n",
       "    <tr>\n",
       "      <th>3</th>\n",
       "      <td>5.929794e-01</td>\n",
       "      <td>6.699662e-08</td>\n",
       "      <td>5.592625e-01</td>\n",
       "    </tr>\n",
       "    <tr>\n",
       "      <th>4</th>\n",
       "      <td>3.540801e-02</td>\n",
       "      <td>9.074217e-07</td>\n",
       "      <td>7.111829e-03</td>\n",
       "    </tr>\n",
       "    <tr>\n",
       "      <th>5</th>\n",
       "      <td>7.626484e-02</td>\n",
       "      <td>-2.019290e-07</td>\n",
       "      <td>9.215822e-01</td>\n",
       "    </tr>\n",
       "    <tr>\n",
       "      <th>6</th>\n",
       "      <td>3.108537e-02</td>\n",
       "      <td>5.068404e-08</td>\n",
       "      <td>1.444515e+00</td>\n",
       "    </tr>\n",
       "    <tr>\n",
       "      <th>7</th>\n",
       "      <td>8.180173e-01</td>\n",
       "      <td>-8.828723e-07</td>\n",
       "      <td>-2.643458e-08</td>\n",
       "    </tr>\n",
       "    <tr>\n",
       "      <th>8</th>\n",
       "      <td>2.537270e-07</td>\n",
       "      <td>2.131279e-07</td>\n",
       "      <td>-2.150489e-08</td>\n",
       "    </tr>\n",
       "    <tr>\n",
       "      <th>9</th>\n",
       "      <td>7.951720e-01</td>\n",
       "      <td>5.444549e-07</td>\n",
       "      <td>9.352085e-01</td>\n",
       "    </tr>\n",
       "    <tr>\n",
       "      <th>0</th>\n",
       "      <td>1.031273e+00</td>\n",
       "      <td>2.538571e-01</td>\n",
       "      <td>-3.731316e-08</td>\n",
       "    </tr>\n",
       "    <tr>\n",
       "      <th>1</th>\n",
       "      <td>3.159951e-02</td>\n",
       "      <td>3.005877e-01</td>\n",
       "      <td>2.107945e-01</td>\n",
       "    </tr>\n",
       "    <tr>\n",
       "      <th>2</th>\n",
       "      <td>1.654261e+00</td>\n",
       "      <td>1.832025e-07</td>\n",
       "      <td>6.247272e-02</td>\n",
       "    </tr>\n",
       "    <tr>\n",
       "      <th>3</th>\n",
       "      <td>4.920372e-02</td>\n",
       "      <td>6.284597e-08</td>\n",
       "      <td>5.284401e-01</td>\n",
       "    </tr>\n",
       "    <tr>\n",
       "      <th>4</th>\n",
       "      <td>1.337460e-07</td>\n",
       "      <td>3.337478e-07</td>\n",
       "      <td>9.163463e-01</td>\n",
       "    </tr>\n",
       "    <tr>\n",
       "      <th>5</th>\n",
       "      <td>1.067868e+00</td>\n",
       "      <td>7.932371e-07</td>\n",
       "      <td>2.958950e-01</td>\n",
       "    </tr>\n",
       "    <tr>\n",
       "      <th>6</th>\n",
       "      <td>2.929794e-04</td>\n",
       "      <td>-6.763602e-08</td>\n",
       "      <td>2.463510e-02</td>\n",
       "    </tr>\n",
       "    <tr>\n",
       "      <th>7</th>\n",
       "      <td>1.647750e-02</td>\n",
       "      <td>5.354302e-07</td>\n",
       "      <td>-3.224662e-07</td>\n",
       "    </tr>\n",
       "    <tr>\n",
       "      <th>8</th>\n",
       "      <td>6.001720e-02</td>\n",
       "      <td>1.028212e-08</td>\n",
       "      <td>-7.384965e-07</td>\n",
       "    </tr>\n",
       "    <tr>\n",
       "      <th>9</th>\n",
       "      <td>4.130414e-01</td>\n",
       "      <td>-1.558143e-07</td>\n",
       "      <td>1.062708e-01</td>\n",
       "    </tr>\n",
       "    <tr>\n",
       "      <th>0</th>\n",
       "      <td>4.297950e-01</td>\n",
       "      <td>-9.396780e-07</td>\n",
       "      <td>7.417344e-01</td>\n",
       "    </tr>\n",
       "    <tr>\n",
       "      <th>1</th>\n",
       "      <td>3.502377e-07</td>\n",
       "      <td>5.690885e-08</td>\n",
       "      <td>5.776158e-02</td>\n",
       "    </tr>\n",
       "    <tr>\n",
       "      <th>2</th>\n",
       "      <td>1.103582e-07</td>\n",
       "      <td>1.992217e-07</td>\n",
       "      <td>3.360471e-01</td>\n",
       "    </tr>\n",
       "    <tr>\n",
       "      <th>3</th>\n",
       "      <td>-4.665654e-08</td>\n",
       "      <td>1.645566e-07</td>\n",
       "      <td>-1.375408e-07</td>\n",
       "    </tr>\n",
       "    <tr>\n",
       "      <th>4</th>\n",
       "      <td>-2.751278e-08</td>\n",
       "      <td>9.420637e-08</td>\n",
       "      <td>5.398853e-01</td>\n",
       "    </tr>\n",
       "    <tr>\n",
       "      <th>5</th>\n",
       "      <td>3.092860e-07</td>\n",
       "      <td>-9.773244e-07</td>\n",
       "      <td>2.149365e+00</td>\n",
       "    </tr>\n",
       "    <tr>\n",
       "      <th>6</th>\n",
       "      <td>8.316730e-02</td>\n",
       "      <td>-5.510898e-08</td>\n",
       "      <td>2.403713e-01</td>\n",
       "    </tr>\n",
       "    <tr>\n",
       "      <th>7</th>\n",
       "      <td>-4.019157e-08</td>\n",
       "      <td>1.613259e-07</td>\n",
       "      <td>2.207714e+00</td>\n",
       "    </tr>\n",
       "    <tr>\n",
       "      <th>8</th>\n",
       "      <td>2.295884e-02</td>\n",
       "      <td>9.274578e-07</td>\n",
       "      <td>1.833526e-03</td>\n",
       "    </tr>\n",
       "    <tr>\n",
       "      <th>9</th>\n",
       "      <td>9.490367e-02</td>\n",
       "      <td>7.731916e-08</td>\n",
       "      <td>1.102538e+00</td>\n",
       "    </tr>\n",
       "  </tbody>\n",
       "</table>\n",
       "<p>100 rows × 3 columns</p>\n",
       "</div>"
      ],
      "text/plain": [
       "       iSet LLR0  iSet-het LLR0    mtSet LLR0\n",
       "0   1.360521e+00  -7.355845e-07  2.220135e-01\n",
       "1   2.759036e-01   7.833876e-08 -1.774329e-07\n",
       "2   1.214048e-01   8.048272e-08  2.850607e-01\n",
       "3   4.126475e-01  -1.027745e-07  3.282828e-01\n",
       "4   1.887856e-01   2.042060e-08  3.522579e-01\n",
       "5   3.751626e-01   6.228377e-07  5.218640e-01\n",
       "6   8.386440e-01  -7.174253e-08  3.012096e+00\n",
       "7   4.969153e-01   1.500001e-06 -2.697449e-07\n",
       "8   1.245288e+00   1.624942e-07  1.893771e+00\n",
       "9   3.641889e-01  -7.848695e-08  6.988932e-01\n",
       "0   8.340846e-02   1.100548e-08  4.169597e+00\n",
       "1   3.194083e-03   2.206632e-06  4.571741e-02\n",
       "2   7.391245e-02   4.054073e-09  1.451948e+00\n",
       "3   8.535279e-02  -4.655814e-08  5.123031e-01\n",
       "4   1.416816e+00   7.669317e-08  5.040575e-01\n",
       "5   1.309247e+00   1.904358e-07  5.586640e-01\n",
       "6   2.231531e-08   2.703102e-07  5.482419e-02\n",
       "7  -2.955728e-01   6.102004e-07  1.028298e-01\n",
       "8   1.447525e-01   4.464522e-08  4.676463e-01\n",
       "9   3.342302e-02  -1.065115e-07 -2.634442e-08\n",
       "0   2.482373e+00   8.092843e-08  7.236777e-02\n",
       "1   3.032138e-01   1.399766e-06  5.396782e-01\n",
       "2   1.037822e-01   3.790886e-07  9.398845e-01\n",
       "3   2.623648e-01   2.197535e-07 -4.396402e-07\n",
       "4   9.421878e-02   1.389190e-07  7.969082e-01\n",
       "5  -1.276188e-07  -1.917246e-07  1.971514e+00\n",
       "6  -3.669504e-08   5.176890e-07  1.184178e+00\n",
       "7   7.622222e-07   3.687808e-08  9.394785e-02\n",
       "8   4.918012e-01   2.756071e-07 -3.402789e-08\n",
       "9   2.013678e-01  -5.408992e-09 -1.554179e-07\n",
       "..           ...            ...           ...\n",
       "0   8.973760e-03   1.180063e-07 -1.450138e-08\n",
       "1   3.056055e-07   2.021701e-06  1.073540e+00\n",
       "2   4.380448e-07  -4.551117e-08  5.619224e-02\n",
       "3   5.929794e-01   6.699662e-08  5.592625e-01\n",
       "4   3.540801e-02   9.074217e-07  7.111829e-03\n",
       "5   7.626484e-02  -2.019290e-07  9.215822e-01\n",
       "6   3.108537e-02   5.068404e-08  1.444515e+00\n",
       "7   8.180173e-01  -8.828723e-07 -2.643458e-08\n",
       "8   2.537270e-07   2.131279e-07 -2.150489e-08\n",
       "9   7.951720e-01   5.444549e-07  9.352085e-01\n",
       "0   1.031273e+00   2.538571e-01 -3.731316e-08\n",
       "1   3.159951e-02   3.005877e-01  2.107945e-01\n",
       "2   1.654261e+00   1.832025e-07  6.247272e-02\n",
       "3   4.920372e-02   6.284597e-08  5.284401e-01\n",
       "4   1.337460e-07   3.337478e-07  9.163463e-01\n",
       "5   1.067868e+00   7.932371e-07  2.958950e-01\n",
       "6   2.929794e-04  -6.763602e-08  2.463510e-02\n",
       "7   1.647750e-02   5.354302e-07 -3.224662e-07\n",
       "8   6.001720e-02   1.028212e-08 -7.384965e-07\n",
       "9   4.130414e-01  -1.558143e-07  1.062708e-01\n",
       "0   4.297950e-01  -9.396780e-07  7.417344e-01\n",
       "1   3.502377e-07   5.690885e-08  5.776158e-02\n",
       "2   1.103582e-07   1.992217e-07  3.360471e-01\n",
       "3  -4.665654e-08   1.645566e-07 -1.375408e-07\n",
       "4  -2.751278e-08   9.420637e-08  5.398853e-01\n",
       "5   3.092860e-07  -9.773244e-07  2.149365e+00\n",
       "6   8.316730e-02  -5.510898e-08  2.403713e-01\n",
       "7  -4.019157e-08   1.613259e-07  2.207714e+00\n",
       "8   2.295884e-02   9.274578e-07  1.833526e-03\n",
       "9   9.490367e-02   7.731916e-08  1.102538e+00\n",
       "\n",
       "[100 rows x 3 columns]"
      ]
     },
     "execution_count": 33,
     "metadata": {},
     "output_type": "execute_result"
    }
   ],
   "source": [
    "df0"
   ]
  },
  {
   "cell_type": "markdown",
   "metadata": {},
   "source": [
    "### Variance Component Plot"
   ]
  },
  {
   "cell_type": "code",
   "execution_count": 34,
   "metadata": {
    "collapsed": false
   },
   "outputs": [
    {
     "data": {
      "text/plain": [
       "<matplotlib.collections.PolyCollection at 0x114cf48d0>"
      ]
     },
     "execution_count": 34,
     "metadata": {},
     "output_type": "execute_result"
    },
    {
     "data": {
      "image/png": "[encoded data removed]",
      "text/plain": [
       "<matplotlib.figure.Figure at 0x115e38a50>"
      ]
     },
     "metadata": {},
     "output_type": "display_data"
    }
   ],
   "source": [
    "import pylab as pl\n",
    "tot_var = df['Persistent Var'].values + df['Rescaling-GxC Var'].values + df['Heterogeneity-GxC var'].values\n",
    "nohet_var = df['Persistent Var'].values + df['Rescaling-GxC Var'].values\n",
    "pl.fill_between(split.wnd_pos[:n_wnds,1], 0, df['Persistent Var'].values, color='gray')\n",
    "pl.fill_between(split.wnd_pos[:n_wnds,1], df['Persistent Var'].values, nohet_var, color='Orange')\n",
    "pl.fill_between(split.wnd_pos[:n_wnds,1], nohet_var, tot_var, color='Gold')"
   ]
  },
  {
   "cell_type": "markdown",
   "metadata": {},
   "source": [
    "### P-values\n",
    "\n",
    "Empirical P values are obtained from a relatively small number of genome-wide permutations by pooling across all conisdered steps."
   ]
  },
  {
   "cell_type": "code",
   "execution_count": 35,
   "metadata": {
    "collapsed": true
   },
   "outputs": [],
   "source": [
    "from limix.mtSet.core.iset_utils import calc_emp_pv_eff\n",
    "#calculate P values for the three tests\n",
    "for test in ['mtSet', 'iSet', 'iSet-het']:\n",
    "    df[test+' pv'] = calc_emp_pv_eff(df[test+' LLR'].values, df0[test+' LLR0'].values)"
   ]
  },
  {
   "cell_type": "code",
   "execution_count": 36,
   "metadata": {
    "collapsed": false
   },
   "outputs": [
    {
     "data": {
      "text/plain": [
       "[<matplotlib.lines.Line2D at 0x114b92210>]"
      ]
     },
     "execution_count": 36,
     "metadata": {},
     "output_type": "execute_result"
    },
    {
     "data": {
      "image/png": "[encoded data removed]",
      "text/plain": [
       "<matplotlib.figure.Figure at 0x115bcfe50>"
      ]
     },
     "metadata": {},
     "output_type": "display_data"
    }
   ],
   "source": [
    "#makes a manhattan plot\n",
    "wnd_start = split.wnd_pos[:n_wnds,1]\n",
    "wnd_end = split.wnd_pos[:n_wnds,2]\n",
    "import pylab as pl\n",
    "pl.plot(wnd_start, -sp.log10(df['mtSet pv'].values), 'o', color='DarkGreen')\n",
    "pl.plot(wnd_start, -sp.log10(df['iSet pv'].values), 'o', color='DarkRed')\n",
    "pl.plot(wnd_start, -sp.log10(df['iSet-het pv'].values), 'o', color='Gold')"
   ]
  },
  {
   "cell_type": "markdown",
   "metadata": {},
   "source": [
    "## Stratified design\n",
    "\n",
    "iSet is an extension of mtSet that allows to test for polygenic interactions with environment or other contexts.\n",
    "iSet can be applied in designs where all individuals have been phenotyped in each context (complete design) as well as for populations that have been stratified by a context variable (stratified design).\n",
    "We will here see application of iSet for analysis of stratified designs."
   ]
  },
  {
   "cell_type": "markdown",
   "metadata": {},
   "source": [
    "### Setting up"
   ]
  },
  {
   "cell_type": "code",
   "execution_count": 3,
   "metadata": {
    "collapsed": false
   },
   "outputs": [],
   "source": [
    "# activiate inline plotting\n",
    "%matplotlib inline\n",
    "\n",
    "from download_examples import get_1000G_mtSet\n",
    "import scipy as sp\n",
    "import scipy.linalg\n",
    "import limix\n",
    "from limix.mtSet.iset import fit_iSet\n",
    "import pandas as pd"
   ]
  },
  {
   "cell_type": "code",
   "execution_count": 40,
   "metadata": {
    "collapsed": true
   },
   "outputs": [],
   "source": [
    "# loading 1000G genotypes for mtSet demo\n",
    "get_1000G_mtSet()"
   ]
  },
  {
   "cell_type": "code",
   "execution_count": 41,
   "metadata": {
    "collapsed": true
   },
   "outputs": [],
   "source": [
    "# base name for bed, bim and fam\n",
    "bfile = './data/1000g/chrom22_subsample20_maf0.10'"
   ]
  },
  {
   "cell_type": "markdown",
   "metadata": {},
   "source": [
    "### Split genotypes into regions"
   ]
  },
  {
   "cell_type": "code",
   "execution_count": 42,
   "metadata": {
    "collapsed": true
   },
   "outputs": [],
   "source": [
    "from limix.mtSet.core import plink_reader"
   ]
  },
  {
   "cell_type": "code",
   "execution_count": 43,
   "metadata": {
    "collapsed": true
   },
   "outputs": [],
   "source": [
    "# import genotype positions\n",
    "bim = plink_reader.readBIM(bfile,usecols=(0,1,2,3))\n",
    "chrom = bim[:, 0].astype(float)\n",
    "pos = bim[:, -1].astype(float)"
   ]
  },
  {
   "cell_type": "code",
   "execution_count": 44,
   "metadata": {
    "collapsed": true
   },
   "outputs": [],
   "source": [
    "# uses splitter to split the genotypes\n",
    "from limix.mtSet.core.splitter import Splitter\n",
    "split = Splitter(pos=pos,chrom=chrom)"
   ]
  },
  {
   "cell_type": "markdown",
   "metadata": {},
   "source": [
    "The method `splitGeno` allows to define the regions that will then considered for the analysis with iSet.\n",
    "Information relative to the calculated regions can be cached in an external file by activating the cache option (see below).\n",
    "\n",
    "| Argument        | Default       | Datatype | Explanation |\n",
    "| ------------- |:-------------:|:--------:| --------|\n",
    "| __method__      | 'slidingWindow' | str | Uses a sliding window approach to define regions (a region-based approach will be availabe soon) |\n",
    "| __size__      | 5E+04 (50kb) | float | Window size. Pace is set at half the size of the window |\n",
    "| __minSnps__      | 1 | int | Windows with number of SNPs lower that this threshold are not considered |\n",
    "| __maxSnps__      | sp.inf | int | Windows with number of SNPs higher that this threshold are not considered |\n",
    "| __cache__       | False | bool | If true, it activates the caching |\n",
    "| __out\\_dir__     | './cache' | str | outdir of the cache file |\n",
    "| __fname__       | None | str | Name of the file |\n",
    "| __rewrite__     | False | bool | If true and the cache file already exists, the cache file is overwritten |"
   ]
  },
  {
   "cell_type": "code",
   "execution_count": 45,
   "metadata": {
    "collapsed": false
   },
   "outputs": [
    {
     "name": "stdout",
     "output_type": "stream",
     "text": [
      "1380 windows\n"
     ]
    }
   ],
   "source": [
    "split.splitGeno(cache=True, fname='regions.h5', minSnps=4)\n",
    "print '%d windows' % split.nWindows"
   ]
  },
  {
   "cell_type": "markdown",
   "metadata": {},
   "source": [
    "### Apply"
   ]
  },
  {
   "cell_type": "code",
   "execution_count": 5,
   "metadata": {
    "collapsed": false
   },
   "outputs": [
    {
     "name": "stdout",
     "output_type": "stream",
     "text": [
      "(274, 1)\n"
     ]
    }
   ],
   "source": [
    "# import phenotype and sample relatedness\n",
    "pheno_file = './data/1000g/pheno.phe'\n",
    "sample_relatedness_file = './data/1000g/chrom22.cov'\n",
    "Y = sp.loadtxt(pheno_file)[:,:1]\n",
    "R = sp.loadtxt(sample_relatedness_file)\n",
    "print(Y.shape)"
   ]
  },
  {
   "cell_type": "code",
   "execution_count": 47,
   "metadata": {
    "collapsed": true
   },
   "outputs": [],
   "source": [
    "# let's suppose the first half of the individuals are phenotyped in context A and\n",
    "# the second half on context B\n",
    "Ie = sp.arange(R.shape[0])<0.5*R.shape[0]"
   ]
  },
  {
   "cell_type": "code",
   "execution_count": 48,
   "metadata": {
    "collapsed": true
   },
   "outputs": [],
   "source": [
    "# corrects for population structure using the first 10 PCs of the relatedness matrix\n",
    "S_R, U_R = scipy.linalg.eigh(R+1e-4*sp.eye(R.shape[0])) # these are needed for the full mtSet model\n",
    "covs = sp.concatenate([U_R[:,-10:], sp.ones([U_R.shape[0], 1])], 1)"
   ]
  },
  {
   "cell_type": "code",
   "execution_count": 49,
   "metadata": {
    "collapsed": true
   },
   "outputs": [],
   "source": [
    "# read fam\n",
    "bim = plink_reader.readBIM(bfile,usecols=(0,1,2,3))\n",
    "fam = plink_reader.readFAM(bfile,usecols=(0,1))"
   ]
  },
  {
   "cell_type": "code",
   "execution_count": 51,
   "metadata": {
    "collapsed": false
   },
   "outputs": [
    {
     "name": "stdout",
     "output_type": "stream",
     "text": [
      ".. window 0 - (22, 16025000-16075000) - 21 snps\n",
      "fittng iSet\n",
      "permutation 0 / 10\n",
      "permutation 1 / 10\n",
      "permutation 2 / 10\n",
      "permutation 3 / 10\n",
      "permutation 4 / 10\n",
      "permutation 5 / 10\n",
      "permutation 6 / 10\n",
      "permutation 7 / 10\n",
      "permutation 8 / 10\n",
      "permutation 9 / 10\n",
      ".. window 1 - (22, 16050000-16100000) - 23 snps\n",
      "fittng iSet\n",
      "permutation 0 / 10\n",
      "permutation 1 / 10\n",
      "permutation 2 / 10\n",
      "permutation 3 / 10\n",
      "permutation 4 / 10\n",
      "permutation 5 / 10\n",
      "permutation 6 / 10\n",
      "permutation 7 / 10\n",
      "permutation 8 / 10\n",
      "permutation 9 / 10\n",
      ".. window 2 - (22, 16125000-16175000) - 7 snps\n",
      "fittng iSet\n",
      "permutation 0 / 10\n",
      "permutation 1 / 10\n",
      "permutation 2 / 10\n",
      "permutation 3 / 10\n",
      "permutation 4 / 10\n",
      "permutation 5 / 10\n",
      "permutation 6 / 10\n",
      "permutation 7 / 10\n",
      "permutation 8 / 10\n",
      "permutation 9 / 10\n",
      ".. window 3 - (22, 16225000-16275000) - 9 snps\n",
      "fittng iSet\n",
      "permutation 0 / 10\n",
      "permutation 1 / 10\n",
      "permutation 2 / 10\n",
      "permutation 3 / 10\n",
      "permutation 4 / 10\n",
      "permutation 5 / 10\n",
      "permutation 6 / 10\n",
      "permutation 7 / 10\n",
      "permutation 8 / 10\n",
      "permutation 9 / 10\n",
      ".. window 4 - (22, 16250000-16300000) - 16 snps\n",
      "fittng iSet\n",
      "permutation 0 / 10\n",
      "permutation 1 / 10\n",
      "permutation 2 / 10\n",
      "permutation 3 / 10\n",
      "permutation 4 / 10\n",
      "permutation 5 / 10\n",
      "permutation 6 / 10\n",
      "permutation 7 / 10\n",
      "permutation 8 / 10\n",
      "permutation 9 / 10\n",
      ".. window 5 - (22, 16275000-16325000) - 12 snps\n",
      "fittng iSet\n",
      "permutation 0 / 10\n",
      "permutation 1 / 10\n",
      "permutation 2 / 10\n",
      "permutation 3 / 10\n",
      "permutation 4 / 10\n",
      "permutation 5 / 10\n",
      "permutation 6 / 10\n",
      "permutation 7 / 10\n",
      "permutation 8 / 10\n",
      "permutation 9 / 10\n",
      ".. window 6 - (22, 16325000-16375000) - 5 snps\n",
      "fittng iSet\n",
      "permutation 0 / 10\n",
      "permutation 1 / 10\n",
      "permutation 2 / 10\n",
      "permutation 3 / 10\n",
      "permutation 4 / 10\n",
      "permutation 5 / 10\n",
      "permutation 6 / 10\n",
      "permutation 7 / 10\n",
      "permutation 8 / 10\n",
      "permutation 9 / 10\n",
      ".. window 7 - (22, 16350000-16400000) - 5 snps\n",
      "fittng iSet\n",
      "permutation 0 / 10\n",
      "permutation 1 / 10\n",
      "permutation 2 / 10\n",
      "permutation 3 / 10\n",
      "permutation 4 / 10\n",
      "permutation 5 / 10\n",
      "permutation 6 / 10\n",
      "permutation 7 / 10\n",
      "permutation 8 / 10\n",
      "permutation 9 / 10\n",
      ".. window 8 - (22, 16475000-16525000) - 8 snps\n",
      "fittng iSet\n",
      "permutation 0 / 10\n",
      "permutation 1 / 10\n",
      "permutation 2 / 10\n",
      "permutation 3 / 10\n",
      "permutation 4 / 10\n",
      "permutation 5 / 10\n",
      "permutation 6 / 10\n",
      "permutation 7 / 10\n",
      "permutation 8 / 10\n",
      "permutation 9 / 10\n",
      ".. window 9 - (22, 16500000-16550000) - 7 snps\n",
      "fittng iSet\n",
      "permutation 0 / 10\n",
      "permutation 1 / 10\n",
      "permutation 2 / 10\n",
      "permutation 3 / 10\n",
      "permutation 4 / 10\n",
      "permutation 5 / 10\n",
      "permutation 6 / 10\n",
      "permutation 7 / 10\n",
      "permutation 8 / 10\n",
      "permutation 9 / 10\n",
      "Elapsed: 56.8374550343\n"
     ]
    }
   ],
   "source": [
    "n_wnds = 10 # only 10 windows are considered\n",
    "LLR = sp.zeros(n_wnds) # vector with test statistics of the n_wnds regions\n",
    "df = pd.DataFrame()\n",
    "df0 = pd.DataFrame()\n",
    "import time\n",
    "t0 = time.time()\n",
    "for wnd_i in range(n_wnds):\n",
    "    wnd_pos = split.wnd_pos[wnd_i]\n",
    "    nSnps = split.nSnps[wnd_i]\n",
    "    idx_wnd_start = split.idx_wnd_start[wnd_i]\n",
    "    print '.. window %d - (%d, %d-%d) - %d snps' % (wnd_i, wnd_pos[0], wnd_pos[1], wnd_pos[2], nSnps)\n",
    "    \n",
    "    Xr = plink_reader.readBED(bfile, useMAFencoding=True, start = idx_wnd_start, nSNPs = nSnps, bim=bim , fam=fam)['snps']\n",
    "    Xr-= Xr.mean(0)\n",
    "    Xr/= Xr.std(0)\n",
    "    Xr/= sp.sqrt(Xr.shape[1])\n",
    "    \n",
    "    _df, _df0 = fit_iSet(Y[:,[0]], Xr=Xr, covs=covs, n_perms=10, Ie=Ie, strat=True)\n",
    "    df  = df.append(_df)\n",
    "    df0 = df0.append(_df0)\n",
    "print 'Elapsed:', time.time()-t0"
   ]
  },
  {
   "cell_type": "markdown",
   "metadata": {},
   "source": [
    "The dataframe df contains log likelihood ratio scores for the different models, variance component attributable to persistent rescaling-GxC and heterogeneity-GxC and information about convergence."
   ]
  },
  {
   "cell_type": "code",
   "execution_count": 52,
   "metadata": {
    "collapsed": false
   },
   "outputs": [
    {
     "data": {
      "text/html": [
       "<div>\n",
       "<table border=\"1\" class=\"dataframe\">\n",
       "  <thead>\n",
       "    <tr style=\"text-align: right;\">\n",
       "      <th></th>\n",
       "      <th>mtSet LLR</th>\n",
       "      <th>iSet LLR</th>\n",
       "      <th>iSet-het LLR</th>\n",
       "      <th>Persistent Var</th>\n",
       "      <th>Rescaling-GxC Var</th>\n",
       "      <th>Heterogeneity-GxC var</th>\n",
       "      <th>Converged</th>\n",
       "    </tr>\n",
       "  </thead>\n",
       "  <tbody>\n",
       "    <tr>\n",
       "      <th>0</th>\n",
       "      <td>1.253016e+00</td>\n",
       "      <td>2.536109e-01</td>\n",
       "      <td>1.431984e-01</td>\n",
       "      <td>2.688312e-02</td>\n",
       "      <td>7.333731e-03</td>\n",
       "      <td>1.188360e-02</td>\n",
       "      <td>1.0</td>\n",
       "    </tr>\n",
       "    <tr>\n",
       "      <th>0</th>\n",
       "      <td>1.046720e+00</td>\n",
       "      <td>1.151325e-01</td>\n",
       "      <td>9.235410e-02</td>\n",
       "      <td>2.349201e-02</td>\n",
       "      <td>3.715896e-03</td>\n",
       "      <td>1.198250e-02</td>\n",
       "      <td>1.0</td>\n",
       "    </tr>\n",
       "    <tr>\n",
       "      <th>0</th>\n",
       "      <td>-7.773338e-12</td>\n",
       "      <td>-4.703793e-12</td>\n",
       "      <td>-7.574386e-12</td>\n",
       "      <td>3.825724e-14</td>\n",
       "      <td>2.680818e-15</td>\n",
       "      <td>1.386274e-14</td>\n",
       "      <td>1.0</td>\n",
       "    </tr>\n",
       "    <tr>\n",
       "      <th>0</th>\n",
       "      <td>5.018209e-01</td>\n",
       "      <td>5.018225e-01</td>\n",
       "      <td>7.699907e-08</td>\n",
       "      <td>1.309366e-03</td>\n",
       "      <td>1.511329e-02</td>\n",
       "      <td>1.335997e-11</td>\n",
       "      <td>1.0</td>\n",
       "    </tr>\n",
       "    <tr>\n",
       "      <th>0</th>\n",
       "      <td>2.301945e-02</td>\n",
       "      <td>2.302026e-02</td>\n",
       "      <td>7.006940e-08</td>\n",
       "      <td>5.349272e-04</td>\n",
       "      <td>2.259426e-03</td>\n",
       "      <td>6.429277e-14</td>\n",
       "      <td>1.0</td>\n",
       "    </tr>\n",
       "    <tr>\n",
       "      <th>0</th>\n",
       "      <td>-1.626164e-07</td>\n",
       "      <td>-1.625444e-07</td>\n",
       "      <td>-1.626098e-07</td>\n",
       "      <td>5.070048e-13</td>\n",
       "      <td>3.452770e-13</td>\n",
       "      <td>2.296414e-14</td>\n",
       "      <td>1.0</td>\n",
       "    </tr>\n",
       "    <tr>\n",
       "      <th>0</th>\n",
       "      <td>3.544433e-01</td>\n",
       "      <td>3.472862e-01</td>\n",
       "      <td>-1.232679e-07</td>\n",
       "      <td>6.576218e-03</td>\n",
       "      <td>6.109491e-03</td>\n",
       "      <td>1.819593e-09</td>\n",
       "      <td>1.0</td>\n",
       "    </tr>\n",
       "    <tr>\n",
       "      <th>0</th>\n",
       "      <td>-6.524161e-09</td>\n",
       "      <td>-6.384354e-09</td>\n",
       "      <td>-6.511513e-09</td>\n",
       "      <td>1.032236e-12</td>\n",
       "      <td>1.208656e-12</td>\n",
       "      <td>1.005793e-14</td>\n",
       "      <td>1.0</td>\n",
       "    </tr>\n",
       "    <tr>\n",
       "      <th>0</th>\n",
       "      <td>2.143352e+00</td>\n",
       "      <td>1.430663e+00</td>\n",
       "      <td>5.423550e-01</td>\n",
       "      <td>2.342530e-02</td>\n",
       "      <td>3.305018e-04</td>\n",
       "      <td>2.340622e-02</td>\n",
       "      <td>1.0</td>\n",
       "    </tr>\n",
       "    <tr>\n",
       "      <th>0</th>\n",
       "      <td>9.827811e-01</td>\n",
       "      <td>9.496539e-01</td>\n",
       "      <td>5.507960e-02</td>\n",
       "      <td>1.201311e-02</td>\n",
       "      <td>8.315638e-03</td>\n",
       "      <td>6.524066e-03</td>\n",
       "      <td>1.0</td>\n",
       "    </tr>\n",
       "  </tbody>\n",
       "</table>\n",
       "</div>"
      ],
      "text/plain": [
       "      mtSet LLR      iSet LLR  iSet-het LLR  Persistent Var  \\\n",
       "0  1.253016e+00  2.536109e-01  1.431984e-01    2.688312e-02   \n",
       "0  1.046720e+00  1.151325e-01  9.235410e-02    2.349201e-02   \n",
       "0 -7.773338e-12 -4.703793e-12 -7.574386e-12    3.825724e-14   \n",
       "0  5.018209e-01  5.018225e-01  7.699907e-08    1.309366e-03   \n",
       "0  2.301945e-02  2.302026e-02  7.006940e-08    5.349272e-04   \n",
       "0 -1.626164e-07 -1.625444e-07 -1.626098e-07    5.070048e-13   \n",
       "0  3.544433e-01  3.472862e-01 -1.232679e-07    6.576218e-03   \n",
       "0 -6.524161e-09 -6.384354e-09 -6.511513e-09    1.032236e-12   \n",
       "0  2.143352e+00  1.430663e+00  5.423550e-01    2.342530e-02   \n",
       "0  9.827811e-01  9.496539e-01  5.507960e-02    1.201311e-02   \n",
       "\n",
       "   Rescaling-GxC Var  Heterogeneity-GxC var  Converged  \n",
       "0       7.333731e-03           1.188360e-02        1.0  \n",
       "0       3.715896e-03           1.198250e-02        1.0  \n",
       "0       2.680818e-15           1.386274e-14        1.0  \n",
       "0       1.511329e-02           1.335997e-11        1.0  \n",
       "0       2.259426e-03           6.429277e-14        1.0  \n",
       "0       3.452770e-13           2.296414e-14        1.0  \n",
       "0       6.109491e-03           1.819593e-09        1.0  \n",
       "0       1.208656e-12           1.005793e-14        1.0  \n",
       "0       3.305018e-04           2.340622e-02        1.0  \n",
       "0       8.315638e-03           6.524066e-03        1.0  "
      ]
     },
     "execution_count": 52,
     "metadata": {},
     "output_type": "execute_result"
    }
   ],
   "source": [
    "df"
   ]
  },
  {
   "cell_type": "markdown",
   "metadata": {},
   "source": [
    "The dataframe df0 contains log likelihood ratios when data are from the null.\n",
    "These are necessary to iSet to calculate P values."
   ]
  },
  {
   "cell_type": "code",
   "execution_count": 53,
   "metadata": {
    "collapsed": false
   },
   "outputs": [
    {
     "data": {
      "text/html": [
       "<div>\n",
       "<table border=\"1\" class=\"dataframe\">\n",
       "  <thead>\n",
       "    <tr style=\"text-align: right;\">\n",
       "      <th></th>\n",
       "      <th>iSet LLR0</th>\n",
       "      <th>iSet-het LLR0</th>\n",
       "      <th>mtSet LLR0</th>\n",
       "    </tr>\n",
       "  </thead>\n",
       "  <tbody>\n",
       "    <tr>\n",
       "      <th>0</th>\n",
       "      <td>1.157551e-01</td>\n",
       "      <td>3.146971e-02</td>\n",
       "      <td>9.392742e-01</td>\n",
       "    </tr>\n",
       "    <tr>\n",
       "      <th>1</th>\n",
       "      <td>3.342326e-01</td>\n",
       "      <td>-4.533675e-09</td>\n",
       "      <td>4.976342e-01</td>\n",
       "    </tr>\n",
       "    <tr>\n",
       "      <th>2</th>\n",
       "      <td>7.706905e-02</td>\n",
       "      <td>-2.585153e-09</td>\n",
       "      <td>-6.821210e-13</td>\n",
       "    </tr>\n",
       "    <tr>\n",
       "      <th>3</th>\n",
       "      <td>1.942498e-02</td>\n",
       "      <td>7.758158e-01</td>\n",
       "      <td>7.468017e-01</td>\n",
       "    </tr>\n",
       "    <tr>\n",
       "      <th>4</th>\n",
       "      <td>1.812480e+00</td>\n",
       "      <td>1.034408e-09</td>\n",
       "      <td>3.012027e+00</td>\n",
       "    </tr>\n",
       "    <tr>\n",
       "      <th>5</th>\n",
       "      <td>9.503370e-02</td>\n",
       "      <td>-5.384493e-11</td>\n",
       "      <td>3.597152e-01</td>\n",
       "    </tr>\n",
       "    <tr>\n",
       "      <th>6</th>\n",
       "      <td>2.910768e-01</td>\n",
       "      <td>7.354060e-09</td>\n",
       "      <td>1.381280e+00</td>\n",
       "    </tr>\n",
       "    <tr>\n",
       "      <th>7</th>\n",
       "      <td>1.562252e-01</td>\n",
       "      <td>-1.258655e-10</td>\n",
       "      <td>1.860364e+00</td>\n",
       "    </tr>\n",
       "    <tr>\n",
       "      <th>8</th>\n",
       "      <td>6.399505e-02</td>\n",
       "      <td>-4.213888e-09</td>\n",
       "      <td>2.770256e+00</td>\n",
       "    </tr>\n",
       "    <tr>\n",
       "      <th>9</th>\n",
       "      <td>2.809304e-01</td>\n",
       "      <td>3.076389e-08</td>\n",
       "      <td>2.825720e-03</td>\n",
       "    </tr>\n",
       "    <tr>\n",
       "      <th>0</th>\n",
       "      <td>9.917079e-01</td>\n",
       "      <td>2.940773e-01</td>\n",
       "      <td>1.550455e-05</td>\n",
       "    </tr>\n",
       "    <tr>\n",
       "      <th>1</th>\n",
       "      <td>6.485047e-01</td>\n",
       "      <td>-2.453277e-09</td>\n",
       "      <td>-6.410417e-08</td>\n",
       "    </tr>\n",
       "    <tr>\n",
       "      <th>2</th>\n",
       "      <td>3.215907e-01</td>\n",
       "      <td>5.981036e-09</td>\n",
       "      <td>3.899442e-01</td>\n",
       "    </tr>\n",
       "    <tr>\n",
       "      <th>3</th>\n",
       "      <td>6.603102e-09</td>\n",
       "      <td>-2.073321e-09</td>\n",
       "      <td>1.640523e+00</td>\n",
       "    </tr>\n",
       "    <tr>\n",
       "      <th>4</th>\n",
       "      <td>3.043475e-01</td>\n",
       "      <td>-2.918199e-10</td>\n",
       "      <td>1.938276e-01</td>\n",
       "    </tr>\n",
       "    <tr>\n",
       "      <th>5</th>\n",
       "      <td>9.838037e-01</td>\n",
       "      <td>-3.814904e-10</td>\n",
       "      <td>-7.403855e-11</td>\n",
       "    </tr>\n",
       "    <tr>\n",
       "      <th>6</th>\n",
       "      <td>6.158151e-03</td>\n",
       "      <td>-5.302070e-10</td>\n",
       "      <td>2.652397e-03</td>\n",
       "    </tr>\n",
       "    <tr>\n",
       "      <th>7</th>\n",
       "      <td>2.716214e+00</td>\n",
       "      <td>-8.256507e-12</td>\n",
       "      <td>1.250185e+00</td>\n",
       "    </tr>\n",
       "    <tr>\n",
       "      <th>8</th>\n",
       "      <td>7.301949e-02</td>\n",
       "      <td>-7.980532e-10</td>\n",
       "      <td>5.453648e-02</td>\n",
       "    </tr>\n",
       "    <tr>\n",
       "      <th>9</th>\n",
       "      <td>6.402865e-01</td>\n",
       "      <td>2.292097e-09</td>\n",
       "      <td>2.124771e-01</td>\n",
       "    </tr>\n",
       "    <tr>\n",
       "      <th>0</th>\n",
       "      <td>1.336473e-01</td>\n",
       "      <td>-8.891135e-09</td>\n",
       "      <td>2.290437e+00</td>\n",
       "    </tr>\n",
       "    <tr>\n",
       "      <th>1</th>\n",
       "      <td>2.449725e-01</td>\n",
       "      <td>-4.889145e-09</td>\n",
       "      <td>9.493565e-01</td>\n",
       "    </tr>\n",
       "    <tr>\n",
       "      <th>2</th>\n",
       "      <td>7.353276e-01</td>\n",
       "      <td>3.775925e-08</td>\n",
       "      <td>5.710663e-01</td>\n",
       "    </tr>\n",
       "    <tr>\n",
       "      <th>3</th>\n",
       "      <td>-5.258016e-12</td>\n",
       "      <td>-1.165182e-08</td>\n",
       "      <td>-6.344529e-07</td>\n",
       "    </tr>\n",
       "    <tr>\n",
       "      <th>4</th>\n",
       "      <td>7.326978e-01</td>\n",
       "      <td>-9.691803e-12</td>\n",
       "      <td>2.033642e+00</td>\n",
       "    </tr>\n",
       "    <tr>\n",
       "      <th>5</th>\n",
       "      <td>1.364790e-01</td>\n",
       "      <td>1.050849e-08</td>\n",
       "      <td>3.272429e-01</td>\n",
       "    </tr>\n",
       "    <tr>\n",
       "      <th>6</th>\n",
       "      <td>2.173033e-03</td>\n",
       "      <td>-9.094947e-13</td>\n",
       "      <td>-7.720331e-10</td>\n",
       "    </tr>\n",
       "    <tr>\n",
       "      <th>7</th>\n",
       "      <td>-8.740955e-09</td>\n",
       "      <td>-9.505641e-11</td>\n",
       "      <td>3.614521e-02</td>\n",
       "    </tr>\n",
       "    <tr>\n",
       "      <th>8</th>\n",
       "      <td>-4.962118e-09</td>\n",
       "      <td>-1.277805e-08</td>\n",
       "      <td>6.699934e-01</td>\n",
       "    </tr>\n",
       "    <tr>\n",
       "      <th>9</th>\n",
       "      <td>1.627419e-01</td>\n",
       "      <td>-6.693313e-12</td>\n",
       "      <td>1.405050e+00</td>\n",
       "    </tr>\n",
       "    <tr>\n",
       "      <th>...</th>\n",
       "      <td>...</td>\n",
       "      <td>...</td>\n",
       "      <td>...</td>\n",
       "    </tr>\n",
       "    <tr>\n",
       "      <th>0</th>\n",
       "      <td>2.713335e-09</td>\n",
       "      <td>3.332445e-10</td>\n",
       "      <td>3.796603e-01</td>\n",
       "    </tr>\n",
       "    <tr>\n",
       "      <th>1</th>\n",
       "      <td>-3.552714e-12</td>\n",
       "      <td>-2.047024e-07</td>\n",
       "      <td>2.669569e+00</td>\n",
       "    </tr>\n",
       "    <tr>\n",
       "      <th>2</th>\n",
       "      <td>-5.462084e-10</td>\n",
       "      <td>9.812595e-11</td>\n",
       "      <td>2.446515e+00</td>\n",
       "    </tr>\n",
       "    <tr>\n",
       "      <th>3</th>\n",
       "      <td>5.224708e-01</td>\n",
       "      <td>-2.174261e-12</td>\n",
       "      <td>2.241549e+00</td>\n",
       "    </tr>\n",
       "    <tr>\n",
       "      <th>4</th>\n",
       "      <td>-1.069040e-09</td>\n",
       "      <td>2.448792e-08</td>\n",
       "      <td>2.790719e-03</td>\n",
       "    </tr>\n",
       "    <tr>\n",
       "      <th>5</th>\n",
       "      <td>3.448229e-01</td>\n",
       "      <td>1.604064e-09</td>\n",
       "      <td>-1.445585e-09</td>\n",
       "    </tr>\n",
       "    <tr>\n",
       "      <th>6</th>\n",
       "      <td>1.089427e-01</td>\n",
       "      <td>3.836959e-09</td>\n",
       "      <td>-4.111058e-09</td>\n",
       "    </tr>\n",
       "    <tr>\n",
       "      <th>7</th>\n",
       "      <td>1.193874e+00</td>\n",
       "      <td>-3.102798e-10</td>\n",
       "      <td>4.741511e-04</td>\n",
       "    </tr>\n",
       "    <tr>\n",
       "      <th>8</th>\n",
       "      <td>1.309349e-01</td>\n",
       "      <td>-2.435399e-09</td>\n",
       "      <td>2.105381e-01</td>\n",
       "    </tr>\n",
       "    <tr>\n",
       "      <th>9</th>\n",
       "      <td>1.761721e-01</td>\n",
       "      <td>-1.874474e-08</td>\n",
       "      <td>-1.401332e-10</td>\n",
       "    </tr>\n",
       "    <tr>\n",
       "      <th>0</th>\n",
       "      <td>2.022584e-01</td>\n",
       "      <td>2.383825e-03</td>\n",
       "      <td>-4.263256e-13</td>\n",
       "    </tr>\n",
       "    <tr>\n",
       "      <th>1</th>\n",
       "      <td>9.566831e-02</td>\n",
       "      <td>-9.350742e-11</td>\n",
       "      <td>1.136868e-13</td>\n",
       "    </tr>\n",
       "    <tr>\n",
       "      <th>2</th>\n",
       "      <td>4.022456e-01</td>\n",
       "      <td>7.307588e-01</td>\n",
       "      <td>3.872539e-01</td>\n",
       "    </tr>\n",
       "    <tr>\n",
       "      <th>3</th>\n",
       "      <td>3.283077e-09</td>\n",
       "      <td>-8.928680e-11</td>\n",
       "      <td>-1.790312e-09</td>\n",
       "    </tr>\n",
       "    <tr>\n",
       "      <th>4</th>\n",
       "      <td>2.387192e-01</td>\n",
       "      <td>-4.399681e-10</td>\n",
       "      <td>2.467809e-01</td>\n",
       "    </tr>\n",
       "    <tr>\n",
       "      <th>5</th>\n",
       "      <td>1.020905e+00</td>\n",
       "      <td>-1.320188e-11</td>\n",
       "      <td>7.601927e-01</td>\n",
       "    </tr>\n",
       "    <tr>\n",
       "      <th>6</th>\n",
       "      <td>1.576178e-01</td>\n",
       "      <td>3.001716e-02</td>\n",
       "      <td>-5.471179e-11</td>\n",
       "    </tr>\n",
       "    <tr>\n",
       "      <th>7</th>\n",
       "      <td>-2.052701e-09</td>\n",
       "      <td>1.733827e-08</td>\n",
       "      <td>3.014170e-01</td>\n",
       "    </tr>\n",
       "    <tr>\n",
       "      <th>8</th>\n",
       "      <td>4.666381e-01</td>\n",
       "      <td>-3.853671e-09</td>\n",
       "      <td>6.327765e-01</td>\n",
       "    </tr>\n",
       "    <tr>\n",
       "      <th>9</th>\n",
       "      <td>5.821572e-02</td>\n",
       "      <td>-9.091025e-08</td>\n",
       "      <td>4.041285e-01</td>\n",
       "    </tr>\n",
       "    <tr>\n",
       "      <th>0</th>\n",
       "      <td>1.110625e+00</td>\n",
       "      <td>5.217061e-09</td>\n",
       "      <td>-1.294978e-09</td>\n",
       "    </tr>\n",
       "    <tr>\n",
       "      <th>1</th>\n",
       "      <td>1.630449e+00</td>\n",
       "      <td>6.052687e-10</td>\n",
       "      <td>-7.140386e-10</td>\n",
       "    </tr>\n",
       "    <tr>\n",
       "      <th>2</th>\n",
       "      <td>2.887231e-02</td>\n",
       "      <td>-1.471648e-09</td>\n",
       "      <td>4.458999e-01</td>\n",
       "    </tr>\n",
       "    <tr>\n",
       "      <th>3</th>\n",
       "      <td>3.231661e-01</td>\n",
       "      <td>-3.741778e-08</td>\n",
       "      <td>1.752804e+00</td>\n",
       "    </tr>\n",
       "    <tr>\n",
       "      <th>4</th>\n",
       "      <td>4.885354e-03</td>\n",
       "      <td>1.441754e-01</td>\n",
       "      <td>5.331497e-02</td>\n",
       "    </tr>\n",
       "    <tr>\n",
       "      <th>5</th>\n",
       "      <td>1.248592e+00</td>\n",
       "      <td>3.818669e-02</td>\n",
       "      <td>-3.062411e-09</td>\n",
       "    </tr>\n",
       "    <tr>\n",
       "      <th>6</th>\n",
       "      <td>4.851263e-02</td>\n",
       "      <td>-5.039169e-11</td>\n",
       "      <td>1.431895e-02</td>\n",
       "    </tr>\n",
       "    <tr>\n",
       "      <th>7</th>\n",
       "      <td>1.470752e+00</td>\n",
       "      <td>1.005773e-09</td>\n",
       "      <td>6.637828e-01</td>\n",
       "    </tr>\n",
       "    <tr>\n",
       "      <th>8</th>\n",
       "      <td>1.049762e+00</td>\n",
       "      <td>7.566712e-09</td>\n",
       "      <td>4.529209e-01</td>\n",
       "    </tr>\n",
       "    <tr>\n",
       "      <th>9</th>\n",
       "      <td>4.642759e-04</td>\n",
       "      <td>-2.607692e-09</td>\n",
       "      <td>3.806354e+00</td>\n",
       "    </tr>\n",
       "  </tbody>\n",
       "</table>\n",
       "<p>100 rows × 3 columns</p>\n",
       "</div>"
      ],
      "text/plain": [
       "       iSet LLR0  iSet-het LLR0    mtSet LLR0\n",
       "0   1.157551e-01   3.146971e-02  9.392742e-01\n",
       "1   3.342326e-01  -4.533675e-09  4.976342e-01\n",
       "2   7.706905e-02  -2.585153e-09 -6.821210e-13\n",
       "3   1.942498e-02   7.758158e-01  7.468017e-01\n",
       "4   1.812480e+00   1.034408e-09  3.012027e+00\n",
       "5   9.503370e-02  -5.384493e-11  3.597152e-01\n",
       "6   2.910768e-01   7.354060e-09  1.381280e+00\n",
       "7   1.562252e-01  -1.258655e-10  1.860364e+00\n",
       "8   6.399505e-02  -4.213888e-09  2.770256e+00\n",
       "9   2.809304e-01   3.076389e-08  2.825720e-03\n",
       "0   9.917079e-01   2.940773e-01  1.550455e-05\n",
       "1   6.485047e-01  -2.453277e-09 -6.410417e-08\n",
       "2   3.215907e-01   5.981036e-09  3.899442e-01\n",
       "3   6.603102e-09  -2.073321e-09  1.640523e+00\n",
       "4   3.043475e-01  -2.918199e-10  1.938276e-01\n",
       "5   9.838037e-01  -3.814904e-10 -7.403855e-11\n",
       "6   6.158151e-03  -5.302070e-10  2.652397e-03\n",
       "7   2.716214e+00  -8.256507e-12  1.250185e+00\n",
       "8   7.301949e-02  -7.980532e-10  5.453648e-02\n",
       "9   6.402865e-01   2.292097e-09  2.124771e-01\n",
       "0   1.336473e-01  -8.891135e-09  2.290437e+00\n",
       "1   2.449725e-01  -4.889145e-09  9.493565e-01\n",
       "2   7.353276e-01   3.775925e-08  5.710663e-01\n",
       "3  -5.258016e-12  -1.165182e-08 -6.344529e-07\n",
       "4   7.326978e-01  -9.691803e-12  2.033642e+00\n",
       "5   1.364790e-01   1.050849e-08  3.272429e-01\n",
       "6   2.173033e-03  -9.094947e-13 -7.720331e-10\n",
       "7  -8.740955e-09  -9.505641e-11  3.614521e-02\n",
       "8  -4.962118e-09  -1.277805e-08  6.699934e-01\n",
       "9   1.627419e-01  -6.693313e-12  1.405050e+00\n",
       "..           ...            ...           ...\n",
       "0   2.713335e-09   3.332445e-10  3.796603e-01\n",
       "1  -3.552714e-12  -2.047024e-07  2.669569e+00\n",
       "2  -5.462084e-10   9.812595e-11  2.446515e+00\n",
       "3   5.224708e-01  -2.174261e-12  2.241549e+00\n",
       "4  -1.069040e-09   2.448792e-08  2.790719e-03\n",
       "5   3.448229e-01   1.604064e-09 -1.445585e-09\n",
       "6   1.089427e-01   3.836959e-09 -4.111058e-09\n",
       "7   1.193874e+00  -3.102798e-10  4.741511e-04\n",
       "8   1.309349e-01  -2.435399e-09  2.105381e-01\n",
       "9   1.761721e-01  -1.874474e-08 -1.401332e-10\n",
       "0   2.022584e-01   2.383825e-03 -4.263256e-13\n",
       "1   9.566831e-02  -9.350742e-11  1.136868e-13\n",
       "2   4.022456e-01   7.307588e-01  3.872539e-01\n",
       "3   3.283077e-09  -8.928680e-11 -1.790312e-09\n",
       "4   2.387192e-01  -4.399681e-10  2.467809e-01\n",
       "5   1.020905e+00  -1.320188e-11  7.601927e-01\n",
       "6   1.576178e-01   3.001716e-02 -5.471179e-11\n",
       "7  -2.052701e-09   1.733827e-08  3.014170e-01\n",
       "8   4.666381e-01  -3.853671e-09  6.327765e-01\n",
       "9   5.821572e-02  -9.091025e-08  4.041285e-01\n",
       "0   1.110625e+00   5.217061e-09 -1.294978e-09\n",
       "1   1.630449e+00   6.052687e-10 -7.140386e-10\n",
       "2   2.887231e-02  -1.471648e-09  4.458999e-01\n",
       "3   3.231661e-01  -3.741778e-08  1.752804e+00\n",
       "4   4.885354e-03   1.441754e-01  5.331497e-02\n",
       "5   1.248592e+00   3.818669e-02 -3.062411e-09\n",
       "6   4.851263e-02  -5.039169e-11  1.431895e-02\n",
       "7   1.470752e+00   1.005773e-09  6.637828e-01\n",
       "8   1.049762e+00   7.566712e-09  4.529209e-01\n",
       "9   4.642759e-04  -2.607692e-09  3.806354e+00\n",
       "\n",
       "[100 rows x 3 columns]"
      ]
     },
     "execution_count": 53,
     "metadata": {},
     "output_type": "execute_result"
    }
   ],
   "source": [
    "df0"
   ]
  },
  {
   "cell_type": "markdown",
   "metadata": {},
   "source": [
    "### Variance Component Plot"
   ]
  },
  {
   "cell_type": "code",
   "execution_count": 54,
   "metadata": {
    "collapsed": false
   },
   "outputs": [
    {
     "data": {
      "text/plain": [
       "<matplotlib.collections.PolyCollection at 0x11dffdb90>"
      ]
     },
     "execution_count": 54,
     "metadata": {},
     "output_type": "execute_result"
    },
    {
     "data": {
      "image/png": "[encoded data removed]",
      "text/plain": [
       "<matplotlib.figure.Figure at 0x114bdf4d0>"
      ]
     },
     "metadata": {},
     "output_type": "display_data"
    }
   ],
   "source": [
    "import pylab as pl\n",
    "tot_var = df['Persistent Var'].values + df['Rescaling-GxC Var'].values + df['Heterogeneity-GxC var'].values\n",
    "nohet_var = df['Persistent Var'].values + df['Rescaling-GxC Var'].values\n",
    "pl.fill_between(split.wnd_pos[:n_wnds,1], 0, df['Persistent Var'].values, color='gray')\n",
    "pl.fill_between(split.wnd_pos[:n_wnds,1], df['Persistent Var'].values, nohet_var, color='Orange')\n",
    "pl.fill_between(split.wnd_pos[:n_wnds,1], nohet_var, tot_var, color='Gold')"
   ]
  },
  {
   "cell_type": "markdown",
   "metadata": {},
   "source": [
    "### P-values\n",
    "\n",
    "Empirical P values are obtained from a relatively small number of genome-wide permutations by pooling across all considered steps."
   ]
  },
  {
   "cell_type": "code",
   "execution_count": 55,
   "metadata": {
    "collapsed": true
   },
   "outputs": [],
   "source": [
    "from limix.mtSet.core.iset_utils import calc_emp_pv_eff\n",
    "#calculate P values for the three tests\n",
    "for test in ['mtSet', 'iSet', 'iSet-het']:\n",
    "    df[test+' pv'] = calc_emp_pv_eff(df[test+' LLR'].values, df0[test+' LLR0'].values)"
   ]
  },
  {
   "cell_type": "code",
   "execution_count": 56,
   "metadata": {
    "collapsed": false
   },
   "outputs": [
    {
     "data": {
      "text/plain": [
       "[<matplotlib.lines.Line2D at 0x11da61110>]"
      ]
     },
     "execution_count": 56,
     "metadata": {},
     "output_type": "execute_result"
    },
    {
     "data": {
      "image/png": "[encoded data removed]",
      "text/plain": [
       "<matplotlib.figure.Figure at 0x11c697050>"
      ]
     },
     "metadata": {},
     "output_type": "display_data"
    }
   ],
   "source": [
    "#makes a manhattan plot\n",
    "wnd_start = split.wnd_pos[:n_wnds,1]\n",
    "wnd_end = split.wnd_pos[:n_wnds,2]\n",
    "import pylab as pl\n",
    "pl.plot(wnd_start, -sp.log10(df['mtSet pv'].values), 'o', color='DarkGreen')\n",
    "pl.plot(wnd_start, -sp.log10(df['iSet pv'].values), 'o', color='DarkRed')\n",
    "pl.plot(wnd_start, -sp.log10(df['iSet-het pv'].values), 'o', color='Gold')"
   ]
  },
  {
   "cell_type": "markdown",
   "metadata": {},
   "source": [
    "## Running analysis\n",
    "\n",
    "Once the preprocessing step has been used to obtain the genetic relatedness matrix, to fit the null model and to identify the genetic regions to be considered in the analysis, the set test can be run by the following analysis script:\n",
    "\n",
    "```bash\n",
    "iSet_analyze --bfile bfile --cfile cfile --pfile pfile --nfile nfile --wfile wfile --ffile ffile --minSnps minSnps --start_wnd start_wnd --end_wnd end_wnd --resdir rdir --trait_idx traitIdx --ifile $IFILE --n_perms 10\n",
    "```\n",
    "\n",
    "where\n",
    "\n",
    "- __bfile__ is the base name of of the binary bed file (__bfile__.bed, __bfile__.bim, __bfile__.fam are required).\n",
    "- __cfile__ is the base name of the covariance matrix file. The script requires the files: __cfile__.cov containing the the genetic relatedness matrix, __cfile__.cov.id containing the corresponding sample identifiers, __cfile__.cov.eval and __cfile__.cov.evec containing the eigenvalues and eigenvectors of the matrix. If __cfile__ is not set, the relatedness component is omitted from the model.\n",
    "- __pfile__ is the base name of the phenotype file. The script requires the file __pfile__.phe containing the phenotype data.\n",
    "- __nfile__ is the base name of the null model file. The script requires the file __nfile__.p0 containing the optimal null model parameters. If covariates are set, it also requires the file __nfile__.f0.\n",
    "- __wfile__ is the base name of the file containing the windows to be considered in the set test. The script requires the file __wfile__.wnd.\n",
    "- __ffile__ is the name of the file containing the covariates. Each covariate is saved in one column.\n",
    "- __perm__ is the seed used when permuting the genotypes. If the option is not specified then no permutation is considered.\n",
    "- __start\\_wnd__ is the index of the start window\n",
    "- __end\\_wnd__ is the index of the end window\n",
    "- __minSnps__ if set only windows containing at least minSnps are considered in the analysis\n",
    "rdir is the directory to which the results are exported. The results are exported in the folder rdir/perm if a permutation seed has been set, otherwise in the folder rdir/test. The output file is named - __start\\_wnd\\_endwnd__.res and contains results in the following format: window index, chromosome, start position, stop position, index of startposition, number of SNPs and log likelihood ratio.\n",
    "- __rdir__ is the directory to which the results are exported. The results are exported in the folder rdir/perm if a permutation seed has been set, otherwise in the folder rdir/test. The output file is named __start\\_wnd\\_end\\_wnd__.res and contains results in the following format: window index, chromosome, start position, stop position, index of startposition, number of SNPs and log likelihood ratio.\n",
    "- __trait\\_idx__ can be used to specify a subset of the phenotypes. If more than one phenotype is selected, the phenotypes have to be seperated by commas. For instance `--trait_idx` 3,4 selects the phenotypes saved in the forth and fifth column (indexing starts with zero).\n",
    "Notice that phenotypes are standardized prior to model fitting.\n",
    "- __ifile__ is the file path to a csv file containing an indicator (True or False) for each sample, implying stratified design if given."
   ]
  },
  {
   "cell_type": "markdown",
   "metadata": {},
   "source": [
    "## Postprocessing\n",
    "\n",
    "After running iSet, the following script can be used to merge the result files and estimate the p-values (p-values are obtained by a parametric fit of the test statistics): \n",
    "\n",
    "```bash\n",
    "iSet_postprocess --resdir resdir --outfile outfile --manhattan_plot --strat\n",
    "```\n",
    "\n",
    "where \n",
    "* __resdir__ is a pointer to the folder containing the result files of the analysis.\n",
    "* __outfile__ is the prefix of the two output files.\n",
    "__outfile__.perm lists the test statistics (first column) and p-values (second column) of the permutated windows\n",
    "__outfile__.test contains the (index, chromosome, start position, stop position, SNP index, number of SNPs, test statistics and p-value) of each window. Each window is saved in one row.\n",
    "* __manhattan\\_plot__ is a flag. If set, a manhattan plot is saved in __outfile__.manhattan.jpg (default: False).\n",
    "* __strat__ is a boolean flag that indicates stratified design when used."
   ]
  },
  {
   "cell_type": "markdown",
   "metadata": {},
   "source": [
    "# Developers\n",
    "\n",
    "- Francesco Paolo Casale (<casale@ebi.ac.uk>)\n",
    "- Barbara Rakitsch (<rakitsch@ebi.ac.uk>)\n",
    "- Danilo Horta (<horta@ebi.ac.uk>)\n",
    "- Oliver Stegle (<stegle@ebi.ac.uk>)"
   ]
  },
  {
   "cell_type": "markdown",
   "metadata": {},
   "source": [
    "# References\n",
    "\n",
    "[1] Genomes Project, C. et al. An integrated map of genetic variation from 1,092 human genomes. Nature 491, 56-65 (2012)."
   ]
  }
 ],
 "metadata": {
  "kernelspec": {
   "display_name": "Python 2",
   "language": "python",
   "name": "python2"
  },
  "language_info": {
   "codemirror_mode": {
    "name": "ipython",
    "version": 2
   },
   "file_extension": ".py",
   "mimetype": "text/x-python",
   "name": "python",
   "nbconvert_exporter": "python",
   "pygments_lexer": "ipython2",
   "version": "2.7.11"
  },
  "nav_menu": {},
  "toc": {
   "navigate_menu": true,
   "number_sections": true,
   "sideBar": true,
   "threshold": 6,
   "toc_cell": false,
   "toc_section_display": "block",
   "toc_window_display": true
  },
  "toc_position": {
   "height": "1211px",
   "left": "0px",
   "right": "auto",
   "top": "106px",
   "width": "215px"
  }
 },
 "nbformat": 4,
 "nbformat_minor": 0
}
