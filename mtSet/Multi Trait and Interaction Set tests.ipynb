{
 "cells": [
  {
   "cell_type": "markdown",
   "metadata": {},
   "source": [
    "# Introduction\n",
    "\n",
    "Set tests are a powerful approach for association testing between groups of genetic variants and quantitative traits.\n",
    "In this tutorial we demonstrate how to use set tests within the LIMIX framework to test for association (mtSet) and genetic interactions with context (iSet).\n",
    "\n",
    "# mtSet\n",
    "\n",
    "Multi Trait Set test is an implementation of efficient set test algorithms for testing for associations between multiple genetic variants and multiple traits.\n",
    "mtSet can account for confounding factors such as relatedness and can be used for analysis of single traits.\n",
    "mtSet can be used both with the command line interface using the limix scripts (mtSet_preprocess, mtSet_analyze, mtSet_postprocess, mtSet_simPheno) or within python."
   ]
  },
  {
   "cell_type": "markdown",
   "metadata": {},
   "source": [
    "## Quick Start\n",
    "\n",
    "In the following, we give a brief example on how to use mtSet. As a case study, we use a subset of the genotypes from the 1000 project [1] and simulated phenotypes.\n",
    "\n",
    "All commands can be found in _demos/runmtSet.sh. In the following, we give a short summary of the individual steps. A demo for running mtSet-PC can be found in _demos/runmtSetPC.sh and it is not showcased here.\n",
    "Go to the bin folder, create the output folder, set the filenames and parameters:"
   ]
  },
  {
   "cell_type": "markdown",
   "metadata": {},
   "source": [
    "0. Our software depends on [Plink](https://www.cog-genomics.org/plink2) version 1.9 (or greater) for preprocessing. Please, make sure you have it before proceeding.\n",
    "\n",
    "1. Download and install Limix\n",
    "```bash\n",
    "git clone --depth 1 https://horta@scm.ebi.ac.uk/git/limix.git\n",
    "pushd limix\n",
    "python setup.py install\n",
    "popd\n",
    "```\n",
    "\n",
    "2. Download tutorial\n",
    "```bash\n",
    "git clone --depth 1 https://github.com/PMBio/private-limix-tutorials.git\n",
    "cd private-limix-tutorials/mtSet\n",
    "python download_examples.py\n",
    "cd data\n",
    "mkdir out\n",
    "ls 1000g/\n",
    "```\n",
    "\n",
    "3. Set some handy shell variables\n",
    "```bash\n",
    "BFILE=1000g/chrom22_subsample20_maf0.10\n",
    "CFILE=out/chrom22\n",
    "PFILE=1000g/pheno\n",
    "WFILE=out/windows\n",
    "NFILE=out/null\n",
    "WSIZE=30000\n",
    "RESDIR=out/results\n",
    "OUTFILE=out/final\n",
    "```\n",
    "\n",
    "4. Preprocess and phenotype simulation\n",
    "```bash\n",
    "# Kinship matrix estimation\n",
    "mtSet_preprocess --compute_covariance --bfile $BFILE --cfile $CFILE \n",
    "# Fitting the null model and assigning the markers to windows\n",
    "mtSet_preprocess --precompute_windows --fit_null --bfile $BFILE --cfile $CFILE --pfile $PFILE --wfile $WFILE --nfile $NFILE --window_size $WSIZE --plot_windows\n",
    "```\n",
    "\n",
    "5. Analysing true genotypes\n",
    "```bash\n",
    "mtSet_analyze --bfile $BFILE --cfile $CFILE --pfile $PFILE --nfile $NFILE --wfile $WFILE --minSnps 4 --resdir $RESDIR --start_wnd 0 --end_wnd 100\n",
    "```\n",
    "\n",
    "6. Analysing permuted genotypes\n",
    "```bash\n",
    "for i in `seq 0 10`; do\n",
    "    mtSet_analyze --bfile $BFILE --cfile $CFILE --pfile $PFILE --nfile $NFILE --wfile $WFILE --minSnps 4 --resdir $RESDIR --start_wnd 0 --end_wnd 100 --perm $i\n",
    "done\n",
    "```\n",
    "\n",
    "7. Postprocess\n",
    "```bash\n",
    "mtSet_postprocess --resdir $RESDIR --outfile $OUTFILE --manhattan_plot\n",
    "```"
   ]
  },
  {
   "cell_type": "markdown",
   "metadata": {},
   "source": [
    "### Processing\n",
    "\n",
    "Before getting started, we have to compute the sample-to-sample genetic covariance matrix, assign the markers to windows and estimate the trait-to-trait covariance matrices on the null model.\n",
    "\n",
    "#### Computing the Covariance Matrix\n",
    "The covariance matrix can be pre-computed as follows:\n",
    "\n",
    "```bash\n",
    "mtSet_preprocess --compute_covariance --plink_path plink_path  --bfile bfile  --cfile cfile\n",
    "```\n",
    "\n",
    "where\n",
    "* __plink\\_path__ (default: plink) is a pointer to the [plink software](https://www.cog-genomics.org/plink2) (Version 1.9 or greater must be installed).\n",
    "  If not set, a python covariance reader is employed.\n",
    "  We strongly recommend using the plink reader for large datasets.\n",
    "* __bfile__ is the base name of of the binary bed file (__bfile__.bed, __bfile__.bim, __bfile__.fam are required).\n",
    "* __cfile__ is the base name of the output file.\n",
    "  The relatedness matrix will be written to __cfile__.cov while the identifiers of the individuals are written to the file __cfile__.cov.id.\n",
    "  The eigenvalue decomposition of the matrix is saved in the files __cfile__.cov.eval (eigenvalues) and __cfile__.cov.evec (eigenvectors).\n",
    "  If __cfile__ is not specified, the files will be exported to the current directory with the following filenames __bfile__.cov, __bfile__.cov.id, __bfile__.cov.eval, __bfile__.cov.evec.\n",
    "\n",
    "#### Precomputing the Principal Components \n",
    "The principal components can be pre-computed as follows:\n",
    "\n",
    "```bash\n",
    "mtSet_preprocess --compute_PCs k --plink_path plink_path --ffile ffile  --bfile bfile\n",
    "```\n",
    "\n",
    "where\n",
    "* __k__ is the number of top principal components that are saved\n",
    "* __plink\\_path__ (default: plink) is a pointer to the [plink software](https://www.cog-genomics.org/plink2) (Version 1.9 or greater must be installed).\n",
    "  If not set, a python genotype reader is employed.\n",
    "  We strongly recommend using the plink reader for large datasets.\n",
    "* __ffile__ is the name of the fixed effects file, to which the principal components are written to.\n",
    "* __bfile__ is the base name of of the binary bed file (__bfile__.bed, __bfile__.bim, __bfile__.fam are required).\n",
    "\n",
    "\n",
    "#### Fitting the null model\n",
    "\n",
    "To efficiently apply mtSet, it is neccessary to compute the null model beforehand.\n",
    "This can be done with the following command:\n",
    "\n",
    "```bash\n",
    "mtSet_preprocess --fit_null --bfile bfile --cfile cfile --nfile nfile --pfile pfile --ffile ffile --trait_idx trait_idx\n",
    "```\n",
    "\n",
    "where\n",
    "* __bfile__ is the base name of of the binary bed file (_bfile_.bed,_bfile_.bim,_bfile_.fam are required).\n",
    "* __cfile__ is the base name of the covariance file and its eigen decomposition (__cfile__.cov, __cfile__.cov.eval and __cfile__.cov.evec).\n",
    "If __cfile__ is not set, the relatedness component is omitted from the model.\n",
    "* __nfile__ is the base name of the output file.\n",
    "The estimated parameters are saved in __nfile__.p0, the negative log likelihood ratio in __nfile__.nll0, the trait-to-trait genetic covariance matrix in __nfile__.cg0 and the trait-to-trait residual covariance matrix in __nfile__.cn0. \n",
    "* __pfile__ is the base name of the phenotype file.\n",
    "* __ffile__ is the name of the file containing the covariates. Each covariate is saved in one column\n",
    "* __trait\\_idx__ can be used to specify a subset of the phenotypes. If more than one phenotype is selected, the phenotypes have to be seperated by commas. For instance, `--trait_idx 3,4` selects the phenotypes saved in the forth and fifth column (indexing starts with zero).\n",
    "\n",
    "Notice that phenotypes are standardized prior to model fitting.\n",
    "\n",
    "#### Precomputing the windows\n",
    "For applying our set test, the markers have to be assigned to windows. We provide a method that splits the genome in windows of fixed sizes:\n",
    "\n",
    "```bash\n",
    "mtSet_preprocess --precompute_windows --bfile bfile --wfile wfile --window_size window_size --plot_windows\n",
    "```\n",
    "\n",
    "where\n",
    "* __bfile__ is the base name of of the binary bed file (__bfile__.bim is required).\n",
    "* __window\\_size__ is the size of the window (in basepairs). The default value is 30kb.\n",
    "* __wfile__ is the base name of the output file.\n",
    "  If not specified, the file is saved as __bfile__.window\\_size.wnd in the current folder.\n",
    "  Each window is stored in one line having the following format: index, chromosome, start position, stop position, index of startposition and number of SNPs.\n",
    "* __plot\\_windows__ if the flag is set, a histogram over the number of markers within a window is generated and saved as __wfile__.pdf.\n",
    "\n",
    "#### Merging the preprocessing steps\n",
    "\n",
    "Here, we provided the commands to execute the three preprocessing operations individually. However, it is also possible to combine all steps in a single command:\n",
    "\n",
    "```bash\n",
    "mtSet_preprocess --compute_covariance --fit_null --precompute_windows ...\n",
    "```"
   ]
  },
  {
   "cell_type": "markdown",
   "metadata": {},
   "source": [
    "### Phenotype simulation\n",
    "\n",
    "Our software package also includes a command-line simulator that allows to generate phenotypes with a wide range of different genetic architectures.\n",
    "In brief, the simulator assumes a linear-additive model, considering the contribution of a randomly selected (causal) genetic region for the set component, polygenic background effects from all remaining genome-wide variants, a contribution from unmeasured factors and iid observation noise.\n",
    "For a detailed description of the simulation procedure, we refer to the Supplementary Methods. \n",
    "\n",
    "The simulator requires as input the genotypes and the relatedness component:\n",
    "\n",
    "```bash\n",
    "mtSet_simPheno --bfile bfile --cfile cfile --pfile pfile\n",
    "```\n",
    "\n",
    "where\n",
    "* __bfile__ is the name of of the binary bed file (__bfile__.bed, __bfile__.bim, __bfile__.fam are required).\n",
    "* __cfile__ is the name of the covariance matrix file (__cfile__.cov, __cfile__.cov.id are required).\n",
    "If none is specified, the covariance matrix is expected to be in the current folder, having the same filename as the bed file.\n",
    "* __pfile__ is the name of the output file (__pfile__.phe, __pfile__.region).\n",
    "The file __pfile__.phe contains the phenotypic values (each sample is saved in one row, each trait in one column).\n",
    "The file __pfile__.region contains the randomly selected causal region (chromsom, start position, end position). \n",
    "If __pfile__ is not specified, the files are saved in the current folder having an automatic generated filename containing the bed filename and the values of all simulation parameters.\n",
    "\n",
    "By changing the following parameters different genetic architectures can be simulated and, in particular, the simulation experiments of our paper can be reproduced.\n",
    "\n",
    "\n",
    "| Option        | Default       | Datatype | Explanation |\n",
    "| ------------- |:-------------:|:--------:| --------|\n",
    "| _--seed_       | 0 | int | seed for random number generator |\n",
    "| _--nTraits_    | 4 | int | number of simulated phenotypes |\n",
    "| _--windowSize_ | 1.5e4 | int | size of causal region |\n",
    "| _--vTotR_ | 0.05 | float |   variance explained by the causal region |\n",
    "| _--nCausalR_  | 10 | int |   number of causal variants in the region |\n",
    "| _--pCommonR_ | 0.8 | float | percentage of shared causal variants |\n",
    "| _--vTotBg_ | 0.4 | float  | variance explained by the polygenic background effects |\n",
    "| _--pHidden_ | 0.6 | float | residual variance explained by hidden confounders (in %) |\n",
    "| _--pCommon_ | 0.8 | float | background and residual signal that is shared across traits (in %) |\n",
    "| _--chrom_ | None | int | specifies the chromosome of the causal region |\n",
    "| _--minPos_ | None | int | specifies the min. chromosomal position of the causal region (in basepairs) |\n",
    "| _--maxPos_ | None | int | specifies the max. chromosomal position of the causal region (in basepairs) |"
   ]
  },
  {
   "cell_type": "markdown",
   "metadata": {},
   "source": [
    "### Running mtSet\n",
    "\n",
    "Once the preprocessing step has been used to obtain the genetic relatedness matrix, to fit the null model and to identify the genetic regions to be considered in the analysis, the set test can be run by the following analysis script:\n",
    "\n",
    "```bash\n",
    "mtSet_analyze --bfile bfile --cfile cfile --pfile pfile --nfile nfile --wfile wfile --ffile ffile --minSnps minSnps --start_wnd start_wnd --end_wnd end_wnd --resdir rdir --trait_idx traitIdx\n",
    "```\n",
    "\n",
    "where\n",
    "\n",
    "- __bfile__ is the base name of of the binary bed file (bfile.bed,bfile.bim,bfile.fam are required).\n",
    "- __cfile__ is the base name of the covariance matrix file. The script requires the files: cfile.cov containing the the genetic relatedness matrix, cfile.cov.id containing the corresponding sample identifiers, cfile.cov.eval and _cfile.cov.evec containing the eigenvalues and eigenvectors of the matrix. If cfile is not set, the relatedness component is omitted from the model.\n",
    "- __pfile__ is the base name of the phenotype file. The script requires the file pfile.phe containing the phenotype data.\n",
    "- __nfile__ is the base name of the null model file. The script requires the file nfile.p0 containing the optimal null model parameters. If covariates are set, it also requires the file nfile.f0.\n",
    "- __wfile__ is the base name of the file containing the windows to be considered in the set test. The script requires the file wfile.wnd.\n",
    "- __ffile__ is the name of the file containing the covariates. Each covariate is saved in one column.\n",
    "- __perm__ is the seed used when permuting the genotypes. If the option is not specified then no permutation is considered.\n",
    "- __start\\_wnd__ is the index of the start window\n",
    "- __end\\_wnd__ is the index of the end window\n",
    "- __minSnps__ if set only windows containing at least minSnps are considered in the analysis\n",
    "rdir is the directory to which the results are exported. The results are exported in the folder rdir/perm if a permutation seed has been set, otherwise in the folder rdir/test. The output file is named - _start_wnd_endwnd.res and contains results in the following format: window index, chromosome, start position, stop position, index of startposition, number of SNPs and log likelihood ratio.\n",
    "- __rdir__ is the directory to which the results are exported. The results are exported in the folder rdir/perm if a permutation seed has been set, otherwise in the folder rdir/test. The output file is named start_wnd_end_wnd.res and contains results in the following format: window index, chromosome, start position, stop position, index of startposition, number of SNPs and log likelihood ratio.\n",
    "- __trait\\_idx__ can be used to specify a subset of the phenotypes. If more than one phenotype is selected, the phenotypes have to be seperated by commas. For instance _traitidx 3,4 selects the phenotypes saved in the forth and fifth column (indexing starts with zero).\n",
    "Notice that phenotypes are standardized prior to model fitting."
   ]
  },
  {
   "cell_type": "markdown",
   "metadata": {},
   "source": [
    "### Postprocessing\n",
    "\n",
    "After running mtSet, the following script can be used to merge the result files and estimate the p-values (p-values are obtained by a parametric fit of the test statistics): \n",
    "\n",
    "```bash\n",
    "mtSet_postprocess --resdir resdir --outfile outfile --manhattan_plot\n",
    "```\n",
    "\n",
    "where \n",
    "* __resdir__ is a pointer to the folder containing the result files of the analysis.\n",
    "* __outfile__ is the prefix of the two output files.\n",
    "_outfile_.perm lists the test statistics (first column) and p-values (second column) of the permutated windows\n",
    "_outfile_.test contains the (index, chromosome, start position, stop position, SNP index, number of SNPs, test statistics and p-value) of each window. Each window is saved in one row.\n",
    "* __manhattan\\_plot__ is a flag. If set, a manhattan plot is saved in outfile.manhattan.jpg (default: False)."
   ]
  },
  {
   "cell_type": "markdown",
   "metadata": {},
   "source": [
    "## Within Python\n",
    "\n",
    "This tutorial shows how to use mtSet within python.\n",
    "For a tutorial on how to use mtSet from the command line using the limix scripts (mtSet_preprocess, mtSet_analyze, mtSet_postprocess, mtSet_simPheno) please refer to the tutorials:\n",
    "* [Tutorial on how to use mtSet from command line](mtSet_scripts.ipynb)\n",
    "* [Example for command line usage](example_usage.ipynb)\n",
    "\n"
   ]
  },
  {
   "cell_type": "markdown",
   "metadata": {},
   "source": [
    "### Setting up"
   ]
  },
  {
   "cell_type": "code",
   "execution_count": 19,
   "metadata": {
    "collapsed": false
   },
   "outputs": [],
   "source": [
    "# activiate inline plotting\n",
    "%matplotlib inline\n",
    "\n",
    "from download_examples import get_1000G_mtSet\n",
    "import scipy as sp\n",
    "import scipy.linalg\n",
    "import limix"
   ]
  },
  {
   "cell_type": "code",
   "execution_count": 20,
   "metadata": {
    "collapsed": true
   },
   "outputs": [],
   "source": [
    "# loading 1000G genotypes for mtSet demo\n",
    "get_1000G_mtSet()"
   ]
  },
  {
   "cell_type": "code",
   "execution_count": 21,
   "metadata": {
    "collapsed": true
   },
   "outputs": [],
   "source": [
    "# base name for bed, bim and fam\n",
    "bfile = './data/1000g/chrom22_subsample20_maf0.10'"
   ]
  },
  {
   "cell_type": "markdown",
   "metadata": {},
   "source": [
    "### Split genotypes into regions"
   ]
  },
  {
   "cell_type": "code",
   "execution_count": 22,
   "metadata": {
    "collapsed": true
   },
   "outputs": [],
   "source": [
    "from limix.mtSet.core import plink_reader"
   ]
  },
  {
   "cell_type": "code",
   "execution_count": 23,
   "metadata": {
    "collapsed": false
   },
   "outputs": [],
   "source": [
    "# import genotype positions\n",
    "bim = plink_reader.readBIM(bfile,usecols=(0,1,2,3))\n",
    "chrom = bim[:, 0].astype(float)\n",
    "pos = bim[:, -1].astype(float)"
   ]
  },
  {
   "cell_type": "code",
   "execution_count": 24,
   "metadata": {
    "collapsed": true
   },
   "outputs": [],
   "source": [
    "# uses splitter to split the genotypes\n",
    "from limix.mtSet.core.splitter import Splitter\n",
    "split = Splitter(pos=pos,chrom=chrom)"
   ]
  },
  {
   "cell_type": "markdown",
   "metadata": {},
   "source": [
    "The method __splitGeno__ allows to define the regions that will then considered for the analysis with mtSet.\n",
    "Information relative to the calculated regions can be cached in an external file by activating the cache option (see below).\n",
    "\n",
    "| Argument        | Default       | Datatype | Explanation |\n",
    "| ------------- |:-------------:|:--------:| --------|\n",
    "| _method_      | 'slidingWindow' | str | Uses a sliding window approach to define regions (a region-based approach will be availabe soon) |\n",
    "| _size_      | 5E+04 (50kb) | float | Window size. Pace is set at half the size of the window |\n",
    "| _minSnps_      | 1 | int | Windows with number of SNPs lower that this threshold are not considered |\n",
    "| _maxSnps_      | sp.inf | int | Windows with number of SNPs higher that this threshold are not considered |\n",
    "| _cache_       | False | bool | If true, it activates the caching |\n",
    "| _out_dir_     | './cache' | str | outdir of the cache file |\n",
    "| _fname_       | None | str | Name of the file |\n",
    "| _rewrite_     | False | bool | If true and the cache file already exists, the cache file is overwritten |"
   ]
  },
  {
   "cell_type": "code",
   "execution_count": 25,
   "metadata": {
    "collapsed": false
   },
   "outputs": [
    {
     "name": "stdout",
     "output_type": "stream",
     "text": [
      "1380 windows\n"
     ]
    }
   ],
   "source": [
    "split.splitGeno(cache=True, fname='regions.h5', minSnps=4)\n",
    "print '%d windows' % split.nWindows"
   ]
  },
  {
   "cell_type": "markdown",
   "metadata": {},
   "source": [
    "### Apply\n",
    "\n",
    "In this paragraph we showcase how to construct the mtSet class that will then be used for the set test analysis. We showcase both the full mtSet that models relatedness as random effect by the means of an individual-to-individual covariance matrix and the approximated model (mtSetPC) that models relatedness as fixed effect using principal component from the covariance."
   ]
  },
  {
   "cell_type": "code",
   "execution_count": 26,
   "metadata": {
    "collapsed": true
   },
   "outputs": [],
   "source": [
    "# import phenotype and sample relatedness\n",
    "pheno_file = './data/1000g/pheno.phe'\n",
    "sample_relatedness_file = './data/1000g/chrom22.cov'\n",
    "Y = sp.loadtxt(pheno_file)\n",
    "R = sp.loadtxt(sample_relatedness_file)"
   ]
  },
  {
   "cell_type": "code",
   "execution_count": 27,
   "metadata": {
    "collapsed": true
   },
   "outputs": [],
   "source": [
    "# compute eigenvalues and eigenvectors of the sample relatedness matrix\n",
    "S_R, U_R = scipy.linalg.eigh(R) # these are needed for the full mtSet model"
   ]
  },
  {
   "cell_type": "code",
   "execution_count": 28,
   "metadata": {
    "collapsed": true
   },
   "outputs": [],
   "source": [
    "# caculate fixed effects with rel\n",
    "F = U_R[:, ::-1][:, :10] # it considered the first 10 PCs\n",
    "F = sp.concatenate([F, sp.ones((F.shape[0], 1))], 1) # add an intercept term"
   ]
  },
  {
   "cell_type": "code",
   "execution_count": 29,
   "metadata": {
    "collapsed": true
   },
   "outputs": [],
   "source": [
    "if 0:\n",
    "    # use full mtSet implementation\n",
    "    # (relatedness is modeled as random effect by the means of\n",
    "    # an individual-to-individual covariance matrix)\n",
    "    mtSet = limix.MTSet(Y, S_R=S_R, U_R=U_R)\n",
    "else:\n",
    "    # use mtSetPC\n",
    "    # (relatedness s modelled as fixed effect\n",
    "    # using principal component from the covariance)\n",
    "    mtSet = limix.MTSet(Y, F=F)"
   ]
  },
  {
   "cell_type": "markdown",
   "metadata": {},
   "source": [
    "### Null model\n",
    "\n",
    "If the analysis is parallelized across different set of regions and permutations,\n",
    "it might be convenient to cache the results from the optimization of the null model\n",
    "(as the null model need to be optimized only once).\n",
    "\n",
    "| Argument        | Default       | Datatype | Explanation |\n",
    "| ------------- |:-------------:|:--------:| --------|\n",
    "| _cache_       | False | bool | If true, it activates the caching |\n",
    "| _out\\_dir_     | './cache' | str | outdir of the cache file |\n",
    "| _fname_       | None | str | Name of the file |\n",
    "| _rewrite_     | False | bool | If true and the cache file already exists, the cache file is overwritten |"
   ]
  },
  {
   "cell_type": "code",
   "execution_count": 30,
   "metadata": {
    "collapsed": true
   },
   "outputs": [],
   "source": [
    "RV = mtSet.fitNull()"
   ]
  },
  {
   "cell_type": "markdown",
   "metadata": {},
   "source": [
    "The returned dictionary contains:\n",
    "* __B__: value of the optimized effect sizes\n",
    "* __Cg__: value of the genetic trait-to-trait covariance\n",
    "* __Cn__: value of the residual trait-to-trait covariance\n",
    "* __conv__: bool that indicates convergence of the optimization\n",
    "* __time__: time elpased for optimizing the parameters\n",
    "* __NLL0__: negative log likelihood of the null model\n",
    "* __LMLgrad__: norm of the gradient of the negative log likelihood dividived by the number of parameters"
   ]
  },
  {
   "cell_type": "markdown",
   "metadata": {},
   "source": [
    "### Test"
   ]
  },
  {
   "cell_type": "code",
   "execution_count": 31,
   "metadata": {
    "collapsed": true
   },
   "outputs": [],
   "source": [
    "# read fam\n",
    "bim = plink_reader.readBIM(bfile,usecols=(0,1,2,3))\n",
    "fam = plink_reader.readFAM(bfile,usecols=(0,1))"
   ]
  },
  {
   "cell_type": "code",
   "execution_count": 32,
   "metadata": {
    "collapsed": false
   },
   "outputs": [
    {
     "name": "stdout",
     "output_type": "stream",
     "text": [
      ".. window 0 - (22, 16025000-16075000) - 21 snps\n",
      ".. window 1 - (22, 16050000-16100000) - 23 snps\n",
      ".. window 2 - (22, 16125000-16175000) - 7 snps\n",
      ".. window 3 - (22, 16225000-16275000) - 9 snps\n",
      ".. window 4 - (22, 16250000-16300000) - 16 snps\n",
      ".. window 5 - (22, 16275000-16325000) - 12 snps\n",
      ".. window 6 - (22, 16325000-16375000) - 5 snps\n",
      ".. window 7 - (22, 16350000-16400000) - 5 snps\n",
      ".. window 8 - (22, 16475000-16525000) - 8 snps\n",
      ".. window 9 - (22, 16500000-16550000) - 7 snps\n",
      ".. window 10 - (22, 16550000-16600000) - 5 snps\n",
      ".. window 11 - (22, 16600000-16650000) - 13 snps\n",
      ".. window 12 - (22, 16625000-16675000) - 18 snps\n",
      ".. window 13 - (22, 16650000-16700000) - 10 snps\n",
      ".. window 14 - (22, 16825000-16875000) - 46 snps\n",
      ".. window 15 - (22, 16850000-16900000) - 75 snps\n",
      ".. window 16 - (22, 16875000-16925000) - 68 snps\n",
      ".. window 17 - (22, 16900000-16950000) - 62 snps\n",
      ".. window 18 - (22, 16925000-16975000) - 43 snps\n",
      ".. window 19 - (22, 16950000-17000000) - 22 snps\n",
      ".. window 20 - (22, 16975000-17025000) - 34 snps\n",
      ".. window 21 - (22, 17000000-17050000) - 73 snps\n",
      ".. window 22 - (22, 17025000-17075000) - 80 snps\n",
      ".. window 23 - (22, 17050000-17100000) - 71 snps\n",
      ".. window 24 - (22, 17075000-17125000) - 61 snps\n",
      ".. window 25 - (22, 17100000-17150000) - 64 snps\n",
      ".. window 26 - (22, 17125000-17175000) - 42 snps\n",
      ".. window 27 - (22, 17150000-17200000) - 9 snps\n",
      ".. window 28 - (22, 17175000-17225000) - 24 snps\n",
      ".. window 29 - (22, 17200000-17250000) - 39 snps\n",
      ".. window 30 - (22, 17225000-17275000) - 26 snps\n",
      ".. window 31 - (22, 17250000-17300000) - 55 snps\n",
      ".. window 32 - (22, 17275000-17325000) - 109 snps\n",
      ".. window 33 - (22, 17300000-17350000) - 115 snps\n",
      ".. window 34 - (22, 17325000-17375000) - 92 snps\n",
      ".. window 35 - (22, 17350000-17400000) - 77 snps\n",
      ".. window 36 - (22, 17375000-17425000) - 92 snps\n",
      ".. window 37 - (22, 17400000-17450000) - 97 snps\n",
      ".. window 38 - (22, 17425000-17475000) - 68 snps\n",
      ".. window 39 - (22, 17450000-17500000) - 54 snps\n",
      ".. window 40 - (22, 17475000-17525000) - 61 snps\n",
      ".. window 41 - (22, 17500000-17550000) - 83 snps\n",
      ".. window 42 - (22, 17525000-17575000) - 81 snps\n",
      ".. window 43 - (22, 17550000-17600000) - 72 snps\n",
      ".. window 44 - (22, 17575000-17625000) - 88 snps\n",
      ".. window 45 - (22, 17600000-17650000) - 99 snps\n",
      ".. window 46 - (22, 17625000-17675000) - 158 snps\n",
      ".. window 47 - (22, 17650000-17700000) - 156 snps\n",
      ".. window 48 - (22, 17675000-17725000) - 96 snps\n",
      ".. window 49 - (22, 17700000-17750000) - 89 snps\n",
      ".. window 50 - (22, 17725000-17775000) - 65 snps\n",
      ".. window 51 - (22, 17750000-17800000) - 77 snps\n",
      ".. window 52 - (22, 17775000-17825000) - 111 snps\n",
      ".. window 53 - (22, 17800000-17850000) - 102 snps\n",
      ".. window 54 - (22, 17825000-17875000) - 73 snps\n",
      ".. window 55 - (22, 17850000-17900000) - 69 snps\n",
      ".. window 56 - (22, 17875000-17925000) - 129 snps\n",
      ".. window 57 - (22, 17900000-17950000) - 156 snps\n",
      ".. window 58 - (22, 17925000-17975000) - 120 snps\n",
      ".. window 59 - (22, 17950000-18000000) - 91 snps\n",
      ".. window 60 - (22, 17975000-18025000) - 93 snps\n",
      ".. window 61 - (22, 18000000-18050000) - 88 snps\n",
      ".. window 62 - (22, 18025000-18075000) - 68 snps\n",
      ".. window 63 - (22, 18050000-18100000) - 112 snps\n",
      ".. window 64 - (22, 18075000-18125000) - 113 snps\n",
      ".. window 65 - (22, 18100000-18150000) - 73 snps\n",
      ".. window 66 - (22, 18125000-18175000) - 71 snps\n",
      ".. window 67 - (22, 18150000-18200000) - 58 snps\n",
      ".. window 68 - (22, 18175000-18225000) - 74 snps\n",
      ".. window 69 - (22, 18200000-18250000) - 75 snps\n",
      ".. window 70 - (22, 18225000-18275000) - 56 snps\n",
      ".. window 71 - (22, 18250000-18300000) - 77 snps\n",
      ".. window 72 - (22, 18275000-18325000) - 103 snps\n",
      ".. window 73 - (22, 18300000-18350000) - 88 snps\n",
      ".. window 74 - (22, 18325000-18375000) - 67 snps\n",
      ".. window 75 - (22, 18350000-18400000) - 63 snps\n",
      ".. window 76 - (22, 18375000-18425000) - 65 snps\n",
      ".. window 77 - (22, 18400000-18450000) - 116 snps\n",
      ".. window 78 - (22, 18425000-18475000) - 153 snps\n",
      ".. window 79 - (22, 18450000-18500000) - 124 snps\n",
      ".. window 80 - (22, 18475000-18525000) - 125 snps\n",
      ".. window 81 - (22, 18500000-18550000) - 111 snps\n",
      ".. window 82 - (22, 18525000-18575000) - 65 snps\n",
      ".. window 83 - (22, 18550000-18600000) - 50 snps\n",
      ".. window 84 - (22, 18575000-18625000) - 45 snps\n",
      ".. window 85 - (22, 18600000-18650000) - 80 snps\n",
      ".. window 86 - (22, 18625000-18675000) - 74 snps\n",
      ".. window 87 - (22, 18650000-18700000) - 17 snps\n",
      ".. window 88 - (22, 18675000-18725000) - 11 snps\n",
      ".. window 89 - (22, 18700000-18750000) - 19 snps\n",
      ".. window 90 - (22, 18725000-18775000) - 14 snps\n",
      ".. window 91 - (22, 18750000-18800000) - 11 snps\n",
      ".. window 92 - (22, 18775000-18825000) - 8 snps\n",
      ".. window 93 - (22, 18800000-18850000) - 11 snps\n",
      ".. window 94 - (22, 18825000-18875000) - 14 snps\n",
      ".. window 95 - (22, 18850000-18900000) - 42 snps\n",
      ".. window 96 - (22, 18875000-18925000) - 102 snps\n",
      ".. window 97 - (22, 18900000-18950000) - 101 snps\n",
      ".. window 98 - (22, 18925000-18975000) - 93 snps\n",
      ".. window 99 - (22, 18950000-19000000) - 78 snps\n"
     ]
    }
   ],
   "source": [
    "n_wnds = 100 # only hundred windows are considered\n",
    "LLR = sp.zeros(n_wnds) # vector with test statistics of the n_wnds regions\n",
    "for wnd_i in range(n_wnds):\n",
    "    wnd_pos = split.wnd_pos[wnd_i]\n",
    "    nSnps = split.nSnps[wnd_i]\n",
    "    idx_wnd_start = split.idx_wnd_start[wnd_i]\n",
    "    print('.. window %d - (%d, %d-%d) - %d snps' % (wnd_i, wnd_pos[0], wnd_pos[1], wnd_pos[2], nSnps))\n",
    "    \n",
    "    Xr = plink_reader.readBED(bfile, useMAFencoding=True, start = idx_wnd_start, nSNPs = nSnps, bim=bim , fam=fam)['snps']\n",
    "\n",
    "    # multi trait set test fit\n",
    "    RV = mtSet.optimize(Xr)\n",
    "    LLR[wnd_i] = RV['LLR'][0]"
   ]
  },
  {
   "cell_type": "markdown",
   "metadata": {},
   "source": [
    "The returned dictionary from _mtSet.optimize_ contains:\n",
    "* __Cr__: value of the region-term trait-to-trait covariance\n",
    "* __Cg__: value of the genetic trait-to-trait covariance\n",
    "* __Cn__: value of the residual trait-to-trait covariance\n",
    "* __variances__: n_traits-by-3 matrix of variance explained by the three contributions (region, background, noise) for the  traits\n",
    "* __conv__: bool that indicates convergence of the optimization\n",
    "* __time__: time elpased for optimizing the parameters\n",
    "* __NLLAlt__: negative log likelihood of the alternative model\n",
    "* __LLR__: test statistics\n",
    "* __LMLgrad__: norm of the gradient of the negative log likelihood dividived by the number of parameters"
   ]
  },
  {
   "cell_type": "markdown",
   "metadata": {},
   "source": [
    "### P-values\n",
    "\n",
    "P values are obtained from a relatively small number of genome-wide permutations, fitting a parametric model to the null distribution. Here we showcase the permutation procedure by considering 10 permutations for the 10 regions analyzed."
   ]
  },
  {
   "cell_type": "code",
   "execution_count": 33,
   "metadata": {
    "collapsed": false
   },
   "outputs": [
    {
     "name": "stdout",
     "output_type": "stream",
     "text": [
      "permutation 0\n",
      "permutation 1\n",
      "permutation 2\n",
      "permutation 3\n",
      "permutation 4\n",
      "permutation 5\n",
      "permutation 6\n",
      "permutation 7\n",
      "permutation 8\n",
      "permutation 9\n"
     ]
    }
   ],
   "source": [
    "n_perms = 10\n",
    "LLR_null = [] # in this list test statistics from permutations will be stored\n",
    "for perm_i in range(n_perms):\n",
    "    \n",
    "    #1. generate permutation\n",
    "    print 'permutation %d' % perm_i\n",
    "    sp.random.seed(perm_i)\n",
    "    perm_idxs = sp.random.permutation(Y.shape[0])\n",
    "    \n",
    "    #2. scan on the 100 regions\n",
    "    for wnd_i in range(n_wnds):\n",
    "        wnd_pos = split.wnd_pos[wnd_i]\n",
    "        nSnps = split.nSnps[wnd_i]\n",
    "        idx_wnd_start = split.idx_wnd_start[wnd_i]\n",
    "        Xr = plink_reader.readBED(bfile, useMAFencoding=True, start = idx_wnd_start, nSNPs = nSnps, bim=bim , fam=fam)['snps']\n",
    "        Xr = Xr[perm_idxs, :] # permute samples in region term\n",
    "        RV = mtSet.optimize(Xr)\n",
    "        LLR_null.append(RV['LLR'][0])\n",
    "LLR_null = sp.array(LLR_null)"
   ]
  },
  {
   "cell_type": "markdown",
   "metadata": {},
   "source": [
    "The parametric fit to the ditribution of the test statistics under the null and the consequent conversion of the observed test statistics in P values is performed by the module `limix.stats.chi2mixture` as shown below."
   ]
  },
  {
   "cell_type": "code",
   "execution_count": 34,
   "metadata": {
    "collapsed": true
   },
   "outputs": [],
   "source": [
    "from limix.stats.chi2mixture import Chi2mixture\n",
    "c2m = Chi2mixture(tol=4e-3)\n",
    "c2m.estimate_chi2mixture(LLR_null)\n",
    "pv = c2m.sf(LLR)"
   ]
  },
  {
   "cell_type": "code",
   "execution_count": 35,
   "metadata": {
    "collapsed": false
   },
   "outputs": [
    {
     "data": {
      "text/plain": [
       "[<matplotlib.lines.Line2D at 0x116b3cad0>]"
      ]
     },
     "execution_count": 35,
     "metadata": {},
     "output_type": "execute_result"
    },
    {
     "data": {
      "image/png": "[encoded data removed]",
      "text/plain": [
       "<matplotlib.figure.Figure at 0x11a37acd0>"
      ]
     },
     "metadata": {},
     "output_type": "display_data"
    }
   ],
   "source": [
    "#makes a manhattan plot\n",
    "wnd_chrom = split.wnd_pos[:n_wnds,0]\n",
    "wnd_start = split.wnd_pos[:n_wnds,1]\n",
    "wnd_end = split.wnd_pos[:n_wnds,2]\n",
    "import pylab as pl\n",
    "pl.plot(wnd_start, -sp.log10(pv), 'o', color='MidnightBlue')"
   ]
  },
  {
   "cell_type": "markdown",
   "metadata": {},
   "source": [
    "# iSet\n",
    "\n",
    "Interaction Set test is an extension of mtSet to test for gene-context interactions.\n",
    "Currently iSet can only be used within python, but a command line interface will be available soon.\n",
    "As we show in this tutorial, iSet can be applied for interaction analysis in two data designs:\n",
    "* [Complete design](#Complete-design), where all individuals have been phenotyped in each context\n",
    "* [Stratified design](#Stratified-design), where each individual has been phenotyped only in one of the two contexts.\n"
   ]
  },
  {
   "cell_type": "markdown",
   "metadata": {},
   "source": [
    "## Complete design"
   ]
  },
  {
   "cell_type": "markdown",
   "metadata": {},
   "source": [
    "### Within Python\n",
    "\n",
    "iSet is an extension of mtSet that allows to test for polygenic interactions with environment or other contexts. iSet can be applied in designs where all individuals have been phenotyped in each context (complete design) as well as for populations that have been stratified by a context variable (stratified design). We will here see application of iSet for analysis of complete designs, please look here for analysis of stratified designs."
   ]
  },
  {
   "cell_type": "markdown",
   "metadata": {},
   "source": [
    "### Setting up"
   ]
  },
  {
   "cell_type": "code",
   "execution_count": 39,
   "metadata": {
    "collapsed": true
   },
   "outputs": [],
   "source": [
    "# activiate inline plotting\n",
    "%matplotlib inline\n",
    "\n",
    "from download_examples import get_1000G_mtSet\n",
    "import scipy as sp\n",
    "import scipy.linalg\n",
    "import limix\n",
    "from limix.mtSet.iset import fit_iSet\n",
    "import pandas as pd"
   ]
  },
  {
   "cell_type": "code",
   "execution_count": 40,
   "metadata": {
    "collapsed": true
   },
   "outputs": [],
   "source": [
    "# loading 1000G genotypes for mtSet demo\n",
    "get_1000G_mtSet()"
   ]
  },
  {
   "cell_type": "code",
   "execution_count": 41,
   "metadata": {
    "collapsed": true
   },
   "outputs": [],
   "source": [
    "# base name for bed, bim and fam\n",
    "bfile = './data/1000g/chrom22_subsample20_maf0.10'"
   ]
  },
  {
   "cell_type": "markdown",
   "metadata": {},
   "source": [
    "### Split genotypes into regions"
   ]
  },
  {
   "cell_type": "code",
   "execution_count": 42,
   "metadata": {
    "collapsed": true
   },
   "outputs": [],
   "source": [
    "from limix.mtSet.core import plink_reader"
   ]
  },
  {
   "cell_type": "code",
   "execution_count": 43,
   "metadata": {
    "collapsed": false
   },
   "outputs": [],
   "source": [
    "# import genotype positions\n",
    "bim = plink_reader.readBIM(bfile,usecols=(0,1,2,3))\n",
    "chrom = bim[:, 0].astype(float)\n",
    "pos = bim[:, -1].astype(float)"
   ]
  },
  {
   "cell_type": "code",
   "execution_count": 44,
   "metadata": {
    "collapsed": true
   },
   "outputs": [],
   "source": [
    "# uses splitter to split the genotypes\n",
    "from limix.mtSet.core.splitter import Splitter\n",
    "split = Splitter(pos=pos,chrom=chrom)"
   ]
  },
  {
   "cell_type": "markdown",
   "metadata": {},
   "source": [
    "The method _splitGeno_ allows to define the regions that will then considered for the analysis with mtSet.\n",
    "Information relative to the calculated regions can be cached in an external file by activating the cache option (see below).\n",
    "\n",
    "| Argument        | Default       | Datatype | Explanation |\n",
    "| ------------- |:-------------:|:--------:| --------|\n",
    "| _method_      | 'slidingWindow' | str | Uses a sliding window approach to define regions (a region-based approach will be availabe soon) |\n",
    "| _size_      | 5E+04 (50kb) | float | Window size. Pace is set at half the size of the window |\n",
    "| _minSnps_      | 1 | int | Windows with number of SNPs lower that this threshold are not considered |\n",
    "| _maxSnps_      | sp.inf | int | Windows with number of SNPs higher that this threshold are not considered |\n",
    "| _cache_       | False | bool | If true, it activates the caching |\n",
    "| _out_dir_     | './cache' | str | outdir of the cache file |\n",
    "| _fname_       | None | str | Name of the file |\n",
    "| _rewrite_     | False | bool | If true and the cache file already exists, the cache file is overwritten |"
   ]
  },
  {
   "cell_type": "code",
   "execution_count": 45,
   "metadata": {
    "collapsed": false
   },
   "outputs": [
    {
     "name": "stdout",
     "output_type": "stream",
     "text": [
      "1380 windows\n"
     ]
    }
   ],
   "source": [
    "split.splitGeno(cache=True, fname='regions.h5', minSnps=4)\n",
    "print '%d windows' % split.nWindows"
   ]
  },
  {
   "cell_type": "markdown",
   "metadata": {},
   "source": [
    "### Apply"
   ]
  },
  {
   "cell_type": "code",
   "execution_count": 46,
   "metadata": {
    "collapsed": false
   },
   "outputs": [],
   "source": [
    "# import phenotype and sample relatedness\n",
    "pheno_file = './data/1000g/pheno.phe'\n",
    "sample_relatedness_file = './data/1000g/chrom22.cov'\n",
    "Y = sp.loadtxt(pheno_file)[:,:2]\n",
    "R = sp.loadtxt(sample_relatedness_file)"
   ]
  },
  {
   "cell_type": "code",
   "execution_count": 47,
   "metadata": {
    "collapsed": true
   },
   "outputs": [],
   "source": [
    "# compute eigenvalues and eigenvectors of the sample relatedness matrix\n",
    "S_R, U_R = scipy.linalg.eigh(R+1e-4*sp.eye(R.shape[0])) # these are needed for the full mtSet model"
   ]
  },
  {
   "cell_type": "code",
   "execution_count": 48,
   "metadata": {
    "collapsed": true
   },
   "outputs": [],
   "source": [
    "# read fam\n",
    "bim = plink_reader.readBIM(bfile,usecols=(0,1,2,3))\n",
    "fam = plink_reader.readFAM(bfile,usecols=(0,1))"
   ]
  },
  {
   "cell_type": "code",
   "execution_count": 50,
   "metadata": {
    "collapsed": false
   },
   "outputs": [
    {
     "name": "stdout",
     "output_type": "stream",
     "text": [
      ".. window 0 - (22, 16025000-16075000) - 21 snps\n"
     ]
    },
    {
     "ename": "NameError",
     "evalue": "name 'fit_iSet_full' is not defined",
     "output_type": "error",
     "traceback": [
      "\u001b[0;31m---------------------------------------------------------------------------\u001b[0m",
      "\u001b[0;31mNameError\u001b[0m                                 Traceback (most recent call last)",
      "\u001b[0;32m<ipython-input-50-bd32976bd63e>\u001b[0m in \u001b[0;36m<module>\u001b[0;34m()\u001b[0m\n\u001b[1;32m     16\u001b[0m     \u001b[0mXr\u001b[0m\u001b[0;34m/=\u001b[0m \u001b[0msp\u001b[0m\u001b[0;34m.\u001b[0m\u001b[0msqrt\u001b[0m\u001b[0;34m(\u001b[0m\u001b[0mXr\u001b[0m\u001b[0;34m.\u001b[0m\u001b[0mshape\u001b[0m\u001b[0;34m[\u001b[0m\u001b[0;36m1\u001b[0m\u001b[0;34m]\u001b[0m\u001b[0;34m)\u001b[0m\u001b[0;34m\u001b[0m\u001b[0m\n\u001b[1;32m     17\u001b[0m \u001b[0;34m\u001b[0m\u001b[0m\n\u001b[0;32m---> 18\u001b[0;31m     \u001b[0m_df\u001b[0m\u001b[0;34m,\u001b[0m \u001b[0m_df0\u001b[0m \u001b[0;34m=\u001b[0m \u001b[0mfit_iSet_full\u001b[0m\u001b[0;34m(\u001b[0m\u001b[0mY\u001b[0m\u001b[0;34m,\u001b[0m \u001b[0mU_R\u001b[0m\u001b[0;34m,\u001b[0m \u001b[0mS_R\u001b[0m\u001b[0;34m,\u001b[0m \u001b[0mXr\u001b[0m\u001b[0;34m,\u001b[0m \u001b[0mn_perms\u001b[0m\u001b[0;34m=\u001b[0m\u001b[0;36m10\u001b[0m\u001b[0;34m)\u001b[0m\u001b[0;34m\u001b[0m\u001b[0m\n\u001b[0m\u001b[1;32m     19\u001b[0m     \u001b[0mdf\u001b[0m  \u001b[0;34m=\u001b[0m \u001b[0mdf\u001b[0m\u001b[0;34m.\u001b[0m\u001b[0mappend\u001b[0m\u001b[0;34m(\u001b[0m\u001b[0m_df\u001b[0m\u001b[0;34m)\u001b[0m\u001b[0;34m\u001b[0m\u001b[0m\n\u001b[1;32m     20\u001b[0m     \u001b[0mdf0\u001b[0m \u001b[0;34m=\u001b[0m \u001b[0mdf0\u001b[0m\u001b[0;34m.\u001b[0m\u001b[0mappend\u001b[0m\u001b[0;34m(\u001b[0m\u001b[0m_df0\u001b[0m\u001b[0;34m)\u001b[0m\u001b[0;34m\u001b[0m\u001b[0m\n",
      "\u001b[0;31mNameError\u001b[0m: name 'fit_iSet_full' is not defined"
     ]
    }
   ],
   "source": [
    "n_wnds = 10 # only 10 windows are considered\n",
    "LLR = sp.zeros(n_wnds) # vector with test statistics of the n_wnds regions\n",
    "df = pd.DataFrame()\n",
    "df0 = pd.DataFrame()\n",
    "import time\n",
    "t0 = time.time()\n",
    "for wnd_i in range(n_wnds):\n",
    "    wnd_pos = split.wnd_pos[wnd_i]\n",
    "    nSnps = split.nSnps[wnd_i]\n",
    "    idx_wnd_start = split.idx_wnd_start[wnd_i]\n",
    "    print '.. window %d - (%d, %d-%d) - %d snps' % (wnd_i, wnd_pos[0], wnd_pos[1], wnd_pos[2], nSnps)\n",
    "    \n",
    "    Xr = plink_reader.readBED(bfile, useMAFencoding=True, start = idx_wnd_start, nSNPs = nSnps, bim=bim , fam=fam)['snps']\n",
    "    Xr-= Xr.mean(0)\n",
    "    Xr/= Xr.std(0)\n",
    "    Xr/= sp.sqrt(Xr.shape[1])\n",
    "    \n",
    "    _df, _df0 = fit_iSet_full(Y, U_R, S_R, Xr, n_perms=10)\n",
    "    df  = df.append(_df)\n",
    "    df0 = df0.append(_df0)\n",
    "print 'Elapsed:', time.time()-t0"
   ]
  },
  {
   "cell_type": "markdown",
   "metadata": {},
   "source": [
    "The dataframe df contains log likelihood ratio scores for the different models, variance component attributable to persistent rescaling-GxC and heterogeneity-GxC and information about convergence"
   ]
  },
  {
   "cell_type": "code",
   "execution_count": null,
   "metadata": {
    "collapsed": true
   },
   "outputs": [],
   "source": [
    "df"
   ]
  },
  {
   "cell_type": "markdown",
   "metadata": {},
   "source": [
    "The dataframe df0 contains log likelihood ratios when data are from the null. These are necessary to iSet to calculate P values."
   ]
  },
  {
   "cell_type": "code",
   "execution_count": null,
   "metadata": {
    "collapsed": true
   },
   "outputs": [],
   "source": [
    "df0"
   ]
  },
  {
   "cell_type": "markdown",
   "metadata": {},
   "source": [
    "### Variance Component Plot"
   ]
  },
  {
   "cell_type": "code",
   "execution_count": null,
   "metadata": {
    "collapsed": true
   },
   "outputs": [],
   "source": [
    "import pylab as pl\n",
    "tot_var = df['Persistent Var'].values + df['Rescaling-GxC Var'].values + df['Heterogeneity-GxC var'].values\n",
    "nohet_var = df['Persistent Var'].values + df['Rescaling-GxC Var'].values\n",
    "pl.fill_between(split.wnd_pos[:n_wnds,1], 0, df['Persistent Var'].values, color='gray')\n",
    "pl.fill_between(split.wnd_pos[:n_wnds,1], df['Persistent Var'].values, nohet_var, color='Orange')\n",
    "pl.fill_between(split.wnd_pos[:n_wnds,1], nohet_var, tot_var, color='Gold')"
   ]
  },
  {
   "cell_type": "markdown",
   "metadata": {},
   "source": [
    "### P-values\n",
    "\n",
    "Emprical P values are obtained from a relatively small number of genome-wide permutations by pooling across all conisdered steps."
   ]
  },
  {
   "cell_type": "code",
   "execution_count": null,
   "metadata": {
    "collapsed": true
   },
   "outputs": [],
   "source": [
    "from limix.mtSet.core.iset_utils import calc_emp_pv_eff\n",
    "#calculate P values for the three tests\n",
    "for test in ['mtSet', 'iSet', 'iSet-het']:\n",
    "    df[test+' pv'] = calc_emp_pv_eff(df[test+' LLR'].values, df0[test+' LLR0'].values)"
   ]
  },
  {
   "cell_type": "code",
   "execution_count": null,
   "metadata": {
    "collapsed": true
   },
   "outputs": [],
   "source": [
    "#makes a manhattan plot\n",
    "wnd_start = split.wnd_pos[:n_wnds,1]\n",
    "wnd_end = split.wnd_pos[:n_wnds,2]\n",
    "import pylab as pl\n",
    "pl.plot(wnd_start, -sp.log10(df['mtSet pv'].values), 'o', color='DarkGreen')\n",
    "pl.plot(wnd_start, -sp.log10(df['iSet pv'].values), 'o', color='DarkRed')\n",
    "pl.plot(wnd_start, -sp.log10(df['iSet-het pv'].values), 'o', color='Gold')"
   ]
  },
  {
   "cell_type": "markdown",
   "metadata": {},
   "source": [
    "## Stratified design\n",
    "\n",
    "iSet is an extension of mtSet that allows to test for polygenic interactions with environment or other contexts.\n",
    "iSet can be applied in designs where all individuals have been phenotyped in each context (complete design) as well as for populations that have been stratified by a context variable (stratified design).\n",
    "We will here see application of iSet for analysis of stratified designs, please look [here](iSet_python_strat.ipynb) for analysis of complete designs.\n",
    "\n",
    "A command line implementatin of iSet will be available soon."
   ]
  },
  {
   "cell_type": "markdown",
   "metadata": {},
   "source": [
    "### Setting up"
   ]
  },
  {
   "cell_type": "code",
   "execution_count": 38,
   "metadata": {
    "collapsed": false
   },
   "outputs": [
    {
     "ename": "ImportError",
     "evalue": "cannot import name get_1000G_mtSet",
     "output_type": "error",
     "traceback": [
      "\u001b[0;31m---------------------------------------------------------------------------\u001b[0m",
      "\u001b[0;31mImportError\u001b[0m                               Traceback (most recent call last)",
      "\u001b[0;32m<ipython-input-38-6631c51adb98>\u001b[0m in \u001b[0;36m<module>\u001b[0;34m()\u001b[0m\n\u001b[1;32m      2\u001b[0m \u001b[0mget_ipython\u001b[0m\u001b[0;34m(\u001b[0m\u001b[0;34m)\u001b[0m\u001b[0;34m.\u001b[0m\u001b[0mmagic\u001b[0m\u001b[0;34m(\u001b[0m\u001b[0;34mu'matplotlib inline'\u001b[0m\u001b[0;34m)\u001b[0m\u001b[0;34m\u001b[0m\u001b[0m\n\u001b[1;32m      3\u001b[0m \u001b[0;34m\u001b[0m\u001b[0m\n\u001b[0;32m----> 4\u001b[0;31m \u001b[0;32mfrom\u001b[0m \u001b[0msetup\u001b[0m \u001b[0;32mimport\u001b[0m \u001b[0mget_1000G_mtSet\u001b[0m\u001b[0;34m\u001b[0m\u001b[0m\n\u001b[0m\u001b[1;32m      5\u001b[0m \u001b[0;32mimport\u001b[0m \u001b[0mscipy\u001b[0m \u001b[0;32mas\u001b[0m \u001b[0msp\u001b[0m\u001b[0;34m\u001b[0m\u001b[0m\n\u001b[1;32m      6\u001b[0m \u001b[0;32mimport\u001b[0m \u001b[0mscipy\u001b[0m\u001b[0;34m.\u001b[0m\u001b[0mlinalg\u001b[0m\u001b[0;34m\u001b[0m\u001b[0m\n",
      "\u001b[0;31mImportError\u001b[0m: cannot import name get_1000G_mtSet"
     ]
    }
   ],
   "source": [
    "# activiate inline plotting\n",
    "%matplotlib inline\n",
    "\n",
    "from setup import get_1000G_mtSet\n",
    "import scipy as sp\n",
    "import scipy.linalg\n",
    "import limix\n",
    "from limix.mtSet.iset import fit_iSet\n",
    "import pandas as pd"
   ]
  },
  {
   "cell_type": "code",
   "execution_count": null,
   "metadata": {
    "collapsed": true
   },
   "outputs": [],
   "source": [
    "# loading 1000G genotypes for mtSet demo\n",
    "get_1000G_mtSet()"
   ]
  },
  {
   "cell_type": "code",
   "execution_count": null,
   "metadata": {
    "collapsed": true
   },
   "outputs": [],
   "source": [
    "# base name for bed, bim and fam\n",
    "bfile = './../data/1000g/chrom22_subsample20_maf0.10'"
   ]
  },
  {
   "cell_type": "markdown",
   "metadata": {},
   "source": [
    "### Split genotypes into regions"
   ]
  },
  {
   "cell_type": "code",
   "execution_count": null,
   "metadata": {
    "collapsed": true
   },
   "outputs": [],
   "source": [
    "from limix.mtSet.core import plink_reader"
   ]
  },
  {
   "cell_type": "code",
   "execution_count": null,
   "metadata": {
    "collapsed": true
   },
   "outputs": [],
   "source": [
    "# import genotype positions\n",
    "bim = plink_reader.readBIM(bfile,usecols=(0,1,2,3))\n",
    "chrom = bim[:, 0].astype(float)\n",
    "pos = bim[:, -1].astype(float)"
   ]
  },
  {
   "cell_type": "code",
   "execution_count": null,
   "metadata": {
    "collapsed": true
   },
   "outputs": [],
   "source": [
    "# uses splitter to split the genotypes\n",
    "from limix.mtSet.core.splitter import Splitter\n",
    "split = Splitter(pos=pos,chrom=chrom)"
   ]
  },
  {
   "cell_type": "markdown",
   "metadata": {},
   "source": [
    "The method _splitGeno_ allows to define the regions that will then considered for the analysis with mtSet.\n",
    "Information relative to the calculated regions can be cached in an external file by activating the cache option (see below).\n",
    "\n",
    "| Argument        | Default       | Datatype | Explanation |\n",
    "| ------------- |:-------------:|:--------:| --------|\n",
    "| _method_      | 'slidingWindow' | str | Uses a sliding window approach to define regions (a region-based approach will be availabe soon) |\n",
    "| _size_      | 5E+04 (50kb) | float | Window size. Pace is set at half the size of the window |\n",
    "| _minSnps_      | 1 | int | Windows with number of SNPs lower that this threshold are not considered |\n",
    "| _maxSnps_      | sp.inf | int | Windows with number of SNPs higher that this threshold are not considered |\n",
    "| _cache_       | False | bool | If true, it activates the caching |\n",
    "| _out_dir_     | './cache' | str | outdir of the cache file |\n",
    "| _fname_       | None | str | Name of the file |\n",
    "| _rewrite_     | False | bool | If true and the cache file already exists, the cache file is overwritten |"
   ]
  },
  {
   "cell_type": "code",
   "execution_count": null,
   "metadata": {
    "collapsed": true
   },
   "outputs": [],
   "source": [
    "split.splitGeno(cache=True, fname='regions.h5', minSnps=4)\n",
    "print '%d windows' % split.nWindows"
   ]
  },
  {
   "cell_type": "markdown",
   "metadata": {},
   "source": [
    "### Apply"
   ]
  },
  {
   "cell_type": "code",
   "execution_count": null,
   "metadata": {
    "collapsed": true
   },
   "outputs": [],
   "source": [
    "# import phenotype and sample relatedness\n",
    "pheno_file = './../data/1000g/pheno.phe'\n",
    "sample_relatedness_file = './../data/1000g/chrom22.cov'\n",
    "Y = sp.loadtxt(pheno_file)[:,:1]\n",
    "R = sp.loadtxt(sample_relatedness_file)"
   ]
  },
  {
   "cell_type": "code",
   "execution_count": null,
   "metadata": {
    "collapsed": true
   },
   "outputs": [],
   "source": [
    "# let's suppose the first half of the individuals are phenotyped in context A and\n",
    "# the second half on context B\n",
    "Ie = sp.arange(R.shape[0])<0.5*R.shape[0]"
   ]
  },
  {
   "cell_type": "code",
   "execution_count": null,
   "metadata": {
    "collapsed": true
   },
   "outputs": [],
   "source": [
    "# corrects for population structure using the first 10 PCs of the relatedness matrix\n",
    "S_R, U_R = scipy.linalg.eigh(R+1e-4*sp.eye(R.shape[0])) # these are needed for the full mtSet model\n",
    "covs = sp.concatenate([U_R[:,-10:], sp.ones([U_R.shape[0], 1])], 1)"
   ]
  },
  {
   "cell_type": "code",
   "execution_count": null,
   "metadata": {
    "collapsed": true
   },
   "outputs": [],
   "source": [
    "# read fam\n",
    "bim = plink_reader.readBIM(bfile,usecols=(0,1,2,3))\n",
    "fam = plink_reader.readFAM(bfile,usecols=(0,1))"
   ]
  },
  {
   "cell_type": "code",
   "execution_count": null,
   "metadata": {
    "collapsed": true
   },
   "outputs": [],
   "source": [
    "n_wnds = 10 # only 10 windows are considered\n",
    "LLR = sp.zeros(n_wnds) # vector with test statistics of the n_wnds regions\n",
    "df = pd.DataFrame()\n",
    "df0 = pd.DataFrame()\n",
    "import time\n",
    "t0 = time.time()\n",
    "for wnd_i in range(n_wnds):\n",
    "    wnd_pos = split.wnd_pos[wnd_i]\n",
    "    nSnps = split.nSnps[wnd_i]\n",
    "    idx_wnd_start = split.idx_wnd_start[wnd_i]\n",
    "    print '.. window %d - (%d, %d-%d) - %d snps' % (wnd_i, wnd_pos[0], wnd_pos[1], wnd_pos[2], nSnps)\n",
    "    \n",
    "    Xr = plink_reader.readBED(bfile, useMAFencoding=True, start = idx_wnd_start, nSNPs = nSnps, bim=bim , fam=fam)['snps']\n",
    "    Xr-= Xr.mean(0)\n",
    "    Xr/= Xr.std(0)\n",
    "    Xr/= sp.sqrt(Xr.shape[1])\n",
    "    \n",
    "    _df, _df0 = fit_iSet_full(Y[:,[0]], Xr=Xr, covs=covs, n_perms=10, Ie=Ie, strat=True)\n",
    "    df  = df.append(_df)\n",
    "    df0 = df0.append(_df0)\n",
    "print 'Elapsed:', time.time()-t0"
   ]
  },
  {
   "cell_type": "markdown",
   "metadata": {},
   "source": [
    "The dataframe df contains log likelihood ratio scores for the different models, variance component attributable to persistent rescaling-GxC and heterogeneity-GxC and information about convergence"
   ]
  },
  {
   "cell_type": "code",
   "execution_count": null,
   "metadata": {
    "collapsed": true
   },
   "outputs": [],
   "source": [
    "df"
   ]
  },
  {
   "cell_type": "markdown",
   "metadata": {},
   "source": [
    "The dataframe df0 contains log likelihood ratios when data are from the null.\n",
    "These are necessary to iSet to calculate P values."
   ]
  },
  {
   "cell_type": "code",
   "execution_count": null,
   "metadata": {
    "collapsed": true
   },
   "outputs": [],
   "source": [
    "df0"
   ]
  },
  {
   "cell_type": "markdown",
   "metadata": {},
   "source": [
    "### Variance Component Plot"
   ]
  },
  {
   "cell_type": "code",
   "execution_count": null,
   "metadata": {
    "collapsed": true
   },
   "outputs": [],
   "source": [
    "import pylab as pl\n",
    "tot_var = df['Persistent Var'].values + df['Rescaling-GxC Var'].values + df['Heterogeneity-GxC var'].values\n",
    "nohet_var = df['Persistent Var'].values + df['Rescaling-GxC Var'].values\n",
    "pl.fill_between(split.wnd_pos[:n_wnds,1], 0, df['Persistent Var'].values, color='gray')\n",
    "pl.fill_between(split.wnd_pos[:n_wnds,1], df['Persistent Var'].values, nohet_var, color='Orange')\n",
    "pl.fill_between(split.wnd_pos[:n_wnds,1], nohet_var, tot_var, color='Gold')"
   ]
  },
  {
   "cell_type": "markdown",
   "metadata": {},
   "source": [
    "### P-values\n",
    "\n",
    "Empirical P values are obtained from a relatively small number of genome-wide permutations by pooling across all conisdered steps."
   ]
  },
  {
   "cell_type": "code",
   "execution_count": null,
   "metadata": {
    "collapsed": true
   },
   "outputs": [],
   "source": [
    "from limix.mtSet.core.iset_utils import calc_emp_pv_eff\n",
    "#calculate P values for the three tests\n",
    "for test in ['mtSet', 'iSet', 'iSet-het']:\n",
    "    df[test+' pv'] = calc_emp_pv_eff(df[test+' LLR'].values, df0[test+' LLR0'].values)"
   ]
  },
  {
   "cell_type": "code",
   "execution_count": null,
   "metadata": {
    "collapsed": true
   },
   "outputs": [],
   "source": [
    "#makes a manhattan plot\n",
    "wnd_start = split.wnd_pos[:n_wnds,1]\n",
    "wnd_end = split.wnd_pos[:n_wnds,2]\n",
    "import pylab as pl\n",
    "pl.plot(wnd_start, -sp.log10(df['mtSet pv'].values), 'o', color='DarkGreen')\n",
    "pl.plot(wnd_start, -sp.log10(df['iSet pv'].values), 'o', color='DarkRed')\n",
    "pl.plot(wnd_start, -sp.log10(df['iSet-het pv'].values), 'o', color='Gold')"
   ]
  },
  {
   "cell_type": "markdown",
   "metadata": {},
   "source": [
    "# Developers\n",
    "\n",
    "- Francesco Paolo Casale (casale@ebi.ac.uk)\n",
    "- Barbara Rakitsch (rakitsch@ebi.ac.uk)\n",
    "- Danilo Horta (horta@ebi.ac.uk)\n",
    "- Oliver Stegle (stegle@ebi.ac.uk)"
   ]
  },
  {
   "cell_type": "markdown",
   "metadata": {},
   "source": [
    "# References\n",
    "\n",
    "[1] Genomes Project, C. et al. An integrated map of genetic variation from 1,092 human genomes. Nature 491, 56-65 (2012)."
   ]
  }
 ],
 "metadata": {
  "kernelspec": {
   "display_name": "Python 2",
   "language": "python",
   "name": "python2"
  },
  "language_info": {
   "codemirror_mode": {
    "name": "ipython",
    "version": 2
   },
   "file_extension": ".py",
   "mimetype": "text/x-python",
   "name": "python",
   "nbconvert_exporter": "python",
   "pygments_lexer": "ipython2",
   "version": "2.7.11"
  },
  "nav_menu": {},
  "toc": {
   "navigate_menu": true,
   "number_sections": true,
   "sideBar": true,
   "threshold": 6,
   "toc_cell": false,
   "toc_section_display": "block",
   "toc_window_display": true
  },
  "toc_position": {
   "height": "1250px",
   "left": "0px",
   "right": "auto",
   "top": "106px",
   "width": "279px"
  }
 },
 "nbformat": 4,
 "nbformat_minor": 0
}
