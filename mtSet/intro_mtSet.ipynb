{
 "cells": [
  {
   "cell_type": "markdown",
   "metadata": {},
   "source": [
    "# MTSet\n",
    "\n",
    "Set tests are a powerful approach for genome-wide association testing between groups of genetic variants and individual quantitative traits. mtSet is an implementation of efficient set test algorithms for joint analysis across multiple traits. mtSet can account for confounding factors such as relatedness and can be used for analysis of single traits.\n",
    "\n",
    "mtSet can be used both with the command line interface using the limix scripts (mtSet_preprocess, mtSet_simPheno, mtSet_analyze, mtSet_postprocess) or within python.\n",
    "\n",
    "* [Tutorial on how to use mtSet from command line](mtSet_scripts.ipynb)\n",
    "* [Example for command line usage](example_usage.ipynb)\n",
    "* [Tutorial on how to use mtSet within python](mtSet_python.ipynb)\n",
    "\n",
    "The developers,\n",
    "Francesco Paolo Casale (casale@ebi.ac.uk), Barbara Rakitsch (rakitsch@ebi.ac.uk) and Oliver Stegle (stegle@ebi.ac.uk)"
   ]
  },
  {
   "cell_type": "code",
   "execution_count": null,
   "metadata": {
    "collapsed": true
   },
   "outputs": [],
   "source": []
  }
 ],
 "metadata": {
  "kernelspec": {
   "display_name": "Python 2",
   "language": "python",
   "name": "python2"
  },
  "language_info": {
   "codemirror_mode": {
    "name": "ipython",
    "version": 2
   },
   "file_extension": ".py",
   "mimetype": "text/x-python",
   "name": "python",
   "nbconvert_exporter": "python",
   "pygments_lexer": "ipython2",
   "version": "2.7.10"
  }
 },
 "nbformat": 4,
 "nbformat_minor": 0
}
