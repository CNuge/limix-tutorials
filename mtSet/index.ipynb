{
 "cells": [
  {
   "cell_type": "markdown",
   "metadata": {
    "collapsed": true
   },
   "source": [
    "# Contents\n",
    "\n",
    "mtSet: set tests for association analysis\n",
    "* [How to use mtSet from command line](mtSet_scripts.ipynb)\n",
    "    * [Preprocessing](mtSet_preprocess.ipynb)\n",
    "    * [Phenotype Simulator](mtSet_phenosim.ipynb)\n",
    "    * [Running mtSet](mtSet_analyze.ipynb)\n",
    "    * [Postprocessing](mtSet_postprocess.ipynb)\n",
    "    * [Example for command line usage](example_usage.ipynb)\n",
    "* [How to use mtSet within python](mtSet_python.ipynb)\n",
    "\n",
    "iSet: set tests for genetic interactions with context (beta)\n",
    "* [Analysis of complete designs](iSet_python_compl.ipynb)\n",
    "* [Analysis of stratified designs](iSet_python_strat.ipynb)"
   ]
  },
  {
   "cell_type": "markdown",
   "metadata": {},
   "source": [
    "# MTSet and ISet\n",
    "\n",
    "Set tests are a powerful approach for association testing between groups of genetic variants and quantitative traits. In this tutorial we demonstrate how to use set tests within the LIMIX framework to test for association (MTSet) and genetic interactions with context (iSet).\n",
    "\n",
    "### MTSet: Multi Trait Set test for association testing\n",
    "mtSet is an implementation of efficient set test algorithms for testing for associations between multiple genetic variants and multiple traits.\n",
    "mtSet can account for confounding factors such as relatedness and can be used for analysis of single traits.\n",
    "mtSet can be used both with the command line interface using the limix scripts (mtSet_preprocess, mtSet_analyze, mtSet_postprocess, mtSet_simPheno) or within python.\n",
    "\n",
    "\n",
    "### ISet: Interaction Set test\n",
    "We also showcase how to use iSet, an extension of mtSet to test for gene-context interactions.\n",
    "Currently iSet can only be used within python, but a command line interface will be available soon.\n",
    "As we show in this tutorial, iSet can be applied for interaction analysis in two data designs:\n",
    "* [Complete designs], where all individuals have been phenotyped in each context\n",
    "* [Stratified design], where each individual has been phenotyped only in one of the two contexts.\n",
    "\n",
    "#### Developers\n",
    "Francesco Paolo Casale (casale@ebi.ac.uk), Barbara Rakitsch (rakitsch@ebi.ac.uk), Danilo Horta (horta@ebi.ac.uk) and Oliver Stegle (stegle@ebi.ac.uk)"
   ]
  },
  {
   "cell_type": "code",
   "execution_count": null,
   "metadata": {
    "collapsed": true
   },
   "outputs": [],
   "source": []
  }
 ],
 "metadata": {
  "kernelspec": {
   "display_name": "Python 2",
   "language": "python",
   "name": "python2"
  },
  "language_info": {
   "codemirror_mode": {
    "name": "ipython",
    "version": 2
   },
   "file_extension": ".py",
   "mimetype": "text/x-python",
   "name": "python",
   "nbconvert_exporter": "python",
   "pygments_lexer": "ipython2",
   "version": "2.7.11"
  },
  "nav_menu": {},
  "toc": {
   "navigate_menu": true,
   "number_sections": true,
   "sideBar": true,
   "threshold": 6,
   "toc_cell": false,
   "toc_section_display": "block",
   "toc_window_display": false
  }
 },
 "nbformat": 4,
 "nbformat_minor": 0
}
