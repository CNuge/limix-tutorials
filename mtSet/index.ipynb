{
 "cells": [
  {
   "cell_type": "markdown",
   "metadata": {
    "collapsed": true
   },
   "source": [
    "# Contents\n",
    "\n",
    "* [How to use mtSet from command line](mtSet_scripts.ipynb)\n",
    "    * [Preprocessing](mtSet_preprocess.ipynb)\n",
    "    * [Phenotype Simulator](mtSet_phenosim.ipynb)\n",
    "    * [Running mtSet](mtSet_analyze.ipynb)\n",
    "    * [Postprocessing](mtSet_postprocess.ipynb)\n",
    "    * [Example for command line usage](example_usage.ipynb)\n",
    "* [How to use mtSet within python](mtSet_python.ipynb)"
   ]
  },
  {
   "cell_type": "markdown",
   "metadata": {},
   "source": [
    "# MTSet\n",
    "\n",
    "Set tests are a powerful approach for genome-wide association testing between groups of genetic variants and individual quantitative traits. mtSet is an implementation of efficient set test algorithms for joint analysis across multiple traits. mtSet can account for confounding factors such as relatedness and can be used for analysis of single traits.\n",
    "\n",
    "mtSet can be used both with the command line interface using the limix scripts (mtSet_preprocess, mtSet_analyze, mtSet_postprocess, mtSet_simPheno) or within python.\n",
    "\n",
    "#### Developers\n",
    "Francesco Paolo Casale (casale@ebi.ac.uk), Barbara Rakitsch (rakitsch@ebi.ac.uk) and Oliver Stegle (stegle@ebi.ac.uk)"
   ]
  },
  {
   "cell_type": "code",
   "execution_count": null,
   "metadata": {
    "collapsed": true
   },
   "outputs": [],
   "source": []
  }
 ],
 "metadata": {
  "kernelspec": {
   "display_name": "Python 2",
   "language": "python",
   "name": "python2"
  },
  "language_info": {
   "codemirror_mode": {
    "name": "ipython",
    "version": 2
   },
   "file_extension": ".py",
   "mimetype": "text/x-python",
   "name": "python",
   "nbconvert_exporter": "python",
   "pygments_lexer": "ipython2",
   "version": "2.7.10"
  }
 },
 "nbformat": 4,
 "nbformat_minor": 0
}
