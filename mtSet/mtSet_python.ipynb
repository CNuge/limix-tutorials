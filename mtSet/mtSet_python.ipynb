{
 "cells": [
  {
   "cell_type": "markdown",
   "metadata": {},
   "source": [
    "# Contents\n",
    "\n",
    "* [How to use mtSet from command line](mtSet_scripts.ipynb)\n",
    "    * [Preprocessing](mtSet_preprocess.ipynb)\n",
    "    * [Phenotype Simulator](mtSet_phenosim.ipynb)\n",
    "    * [Running mtSet](mtSet_analyze.ipynb)\n",
    "    * [Postprocessing](mtSet_postprocess.ipynb)\n",
    "    * [Example for command line usage](example_usage.ipynb)\n",
    "* [How to use mtSet within python](mtSet_python.ipynb)"
   ]
  },
  {
   "cell_type": "markdown",
   "metadata": {},
   "source": [
    "#How to use mtSet within python\n",
    "\n",
    "This tutorial shows how to use mtSet within python. For a tutorial on how to use mtSet from the command line using the limix scripts (mtSet_preprocess, mtSet_analyze, mtSet_postprocess, mtSet_simPheno) please refer to the tutorials:\n",
    "* [Tutorial on how to use mtSet from command line](mtSet_scripts.ipynb)\n",
    "* [Example for command line usage](example_usage.ipynb)"
   ]
  },
  {
   "cell_type": "markdown",
   "metadata": {
    "slideshow": {
     "slide_type": "slide"
    }
   },
   "source": [
    "## Setting up"
   ]
  },
  {
   "cell_type": "code",
   "execution_count": 2,
   "metadata": {
    "collapsed": false,
    "slideshow": {
     "slide_type": "notes"
    }
   },
   "outputs": [],
   "source": [
    "# activiate inline plotting\n",
    "%matplotlib inline\n",
    "\n",
    "from setup import get_1000G_mtSet\n",
    "import scipy as sp\n",
    "import scipy.linalg\n",
    "import limix"
   ]
  },
  {
   "cell_type": "code",
   "execution_count": 3,
   "metadata": {
    "collapsed": false
   },
   "outputs": [
    {
     "name": "stdout",
     "output_type": "stream",
     "text": [
      "File ./../data/1000g/chrom22_subsample20_maf0.10.bed exsits\n",
      "File ./../data/1000g/chrom22_subsample20_maf0.10.bim exsits\n",
      "File ./../data/1000g/chrom22_subsample20_maf0.10.fam exsits\n",
      "File ./../data/1000g/pheno.phe exsits\n",
      "File ./../data/1000g/chrom22.cov exsits\n"
     ]
    }
   ],
   "source": [
    "# loading 1000G genotypes for mtSet demo\n",
    "get_1000G_mtSet()"
   ]
  },
  {
   "cell_type": "code",
   "execution_count": 4,
   "metadata": {
    "collapsed": true
   },
   "outputs": [],
   "source": [
    "# base name for bed, bim and fam\n",
    "bfile = './../data/1000g/chrom22_subsample20_maf0.10'"
   ]
  },
  {
   "cell_type": "markdown",
   "metadata": {},
   "source": [
    "## Split genotypes into regions"
   ]
  },
  {
   "cell_type": "code",
   "execution_count": 5,
   "metadata": {
    "collapsed": false
   },
   "outputs": [],
   "source": [
    "from limix.mtSet.core import plink_reader"
   ]
  },
  {
   "cell_type": "code",
   "execution_count": 6,
   "metadata": {
    "collapsed": true
   },
   "outputs": [],
   "source": [
    "# import genotype positions\n",
    "bim = plink_reader.readBIM(bfile,usecols=(0,1,2,3))\n",
    "chrom = bim[:, 0].astype(float)\n",
    "pos = bim[:, -1].astype(float)"
   ]
  },
  {
   "cell_type": "code",
   "execution_count": 7,
   "metadata": {
    "collapsed": false
   },
   "outputs": [],
   "source": [
    "# uses splitter to split the genotypes\n",
    "from limix.mtSet.core.splitter import Splitter\n",
    "split = Splitter(pos=pos,chrom=chrom)"
   ]
  },
  {
   "cell_type": "markdown",
   "metadata": {},
   "source": [
    "The method _splitGeno_ allows to define the regions that will then considered for the analysis with mtSet.\n",
    "Information relative to the calculated regions can be cached in an external file by activating the cache option (see below).\n",
    "\n",
    "| Argument        | Default       | Datatype | Explanation |\n",
    "| ------------- |:-------------:|:--------:| --------|\n",
    "| _method_      | 'slidingWindow' | str | Uses a sliding window approach to define regions (a region-based approach will be availabe soon) |\n",
    "| _size_      | 5E+04 (50kb) | float | Window size. Pace is set at half the size of the window |\n",
    "| _minSnps_      | 1 | int | Windows with number of SNPs lower that this threshold are not considered |\n",
    "| _maxSnps_      | sp.inf | int | Windows with number of SNPs higher that this threshold are not considered |\n",
    "| _cache_       | False | bool | If true, it activates the caching |\n",
    "| _out_dir_     | './cache' | str | outdir of the cache file |\n",
    "| _fname_       | None | str | Name of the file |\n",
    "| _rewrite_     | False | bool | If true and the cache file already exists, the cache file is overwritten |"
   ]
  },
  {
   "cell_type": "code",
   "execution_count": 8,
   "metadata": {
    "collapsed": false
   },
   "outputs": [
    {
     "name": "stdout",
     "output_type": "stream",
     "text": [
      "1380 windows\n"
     ]
    }
   ],
   "source": [
    "split.splitGeno(cache=True, fname='regions.h5', minSnps=4)\n",
    "print '%d windows' % split.nWindows"
   ]
  },
  {
   "cell_type": "markdown",
   "metadata": {},
   "source": [
    "## Apply mtSet"
   ]
  },
  {
   "cell_type": "markdown",
   "metadata": {},
   "source": [
    "In this paragraph we showcase how to construct the mtSet class that will then be used for the set test analysis.\n",
    "We showcase both the full mtSet that models relatedness as random effect by the means of an individual-to-individual covariance matrix and the approximated model (mtSetPC) that models relatedness as fixed effect using principal component from the covariance."
   ]
  },
  {
   "cell_type": "code",
   "execution_count": 9,
   "metadata": {
    "collapsed": false
   },
   "outputs": [],
   "source": [
    "# import phenotype and sample relatedness\n",
    "pheno_file = './../data/1000g/pheno.phe'\n",
    "sample_relatedness_file = './../data/1000g/chrom22.cov'\n",
    "Y = sp.loadtxt(pheno_file)\n",
    "R = sp.loadtxt(sample_relatedness_file)"
   ]
  },
  {
   "cell_type": "code",
   "execution_count": 10,
   "metadata": {
    "collapsed": false
   },
   "outputs": [],
   "source": [
    "# compute eigenvalues and eigenvectors of the sample relatedness matrix\n",
    "S_R, U_R = scipy.linalg.eigh(R) # these are needed for the full mtSet model"
   ]
  },
  {
   "cell_type": "code",
   "execution_count": 11,
   "metadata": {
    "collapsed": false
   },
   "outputs": [],
   "source": [
    "# caculate fixed effects with rel\n",
    "F = U_R[:, ::-1][:, :10] # it considered the first 10 PCs\n",
    "F = sp.concatenate([F, sp.ones((F.shape[0], 1))], 1) # add an intercept term"
   ]
  },
  {
   "cell_type": "code",
   "execution_count": 12,
   "metadata": {
    "collapsed": false
   },
   "outputs": [],
   "source": [
    "if 0:\n",
    "    # use full mtSet implementation\n",
    "    # (relatedness is modeled as random effect by the means of\n",
    "    # an individual-to-individual covariance matrix)\n",
    "    mtSet = limix.MTSet(Y, S_R=S_R, U_R=U_R)\n",
    "else:\n",
    "    # use mtSetPC\n",
    "    # (relatedness s modelled as fixed effect\n",
    "    # using principal component from the covariance)\n",
    "    mtSet = limix.MTSet(Y, F=F)"
   ]
  },
  {
   "cell_type": "markdown",
   "metadata": {},
   "source": [
    "### Null model"
   ]
  },
  {
   "cell_type": "markdown",
   "metadata": {},
   "source": [
    "If the analysis is parallelized across different set of regions and permutations,\n",
    "it might be convenient to cache the results from the optimization of the null model\n",
    "(as the null model need to be optimized only once).\n",
    "\n",
    "| Argument        | Default       | Datatype | Explanation |\n",
    "| ------------- |:-------------:|:--------:| --------|\n",
    "| _cache_       | False | bool | If true, it activates the caching |\n",
    "| _out_dir_     | './cache' | str | outdir of the cache file |\n",
    "| _fname_       | None | str | Name of the file |\n",
    "| _rewrite_     | False | bool | If true and the cache file already exists, the cache file is overwritten |"
   ]
  },
  {
   "cell_type": "code",
   "execution_count": 13,
   "metadata": {
    "collapsed": false
   },
   "outputs": [],
   "source": [
    "RV = mtSet.fitNull()"
   ]
  },
  {
   "cell_type": "markdown",
   "metadata": {},
   "source": [
    "The returned dictionary contains:\n",
    "* B: value of the optimized effect sizes\n",
    "* Cg: value of the genetic trait-to-trait covariance\n",
    "* Cn: value of the residual trait-to-trait covariance\n",
    "* conv: bool that indicates convergence of the optimization\n",
    "* time: time elpased for optimizing the parameters\n",
    "* NLL0: negative log likelihood of the null model\n",
    "* LMLgrad: norm of the gradient of the negative log likelihood dividived by the number of parameters"
   ]
  },
  {
   "cell_type": "markdown",
   "metadata": {},
   "source": [
    "### Test"
   ]
  },
  {
   "cell_type": "code",
   "execution_count": 14,
   "metadata": {
    "collapsed": false
   },
   "outputs": [],
   "source": [
    "# read fam\n",
    "bim = plink_reader.readBIM(bfile,usecols=(0,1,2,3))\n",
    "fam = plink_reader.readFAM(bfile,usecols=(0,1))"
   ]
  },
  {
   "cell_type": "code",
   "execution_count": 15,
   "metadata": {
    "collapsed": false
   },
   "outputs": [
    {
     "name": "stdout",
     "output_type": "stream",
     "text": [
      ".. window 0 - (22, 16025000-16075000) - 21 snps\n",
      ".. window 1 - (22, 16050000-16100000) - 23 snps\n",
      ".. window 2 - (22, 16125000-16175000) - 7 snps\n",
      ".. window 3 - (22, 16225000-16275000) - 9 snps\n",
      ".. window 4 - (22, 16250000-16300000) - 16 snps\n",
      ".. window 5 - (22, 16275000-16325000) - 12 snps\n",
      ".. window 6 - (22, 16325000-16375000) - 5 snps\n",
      ".. window 7 - (22, 16350000-16400000) - 5 snps\n",
      ".. window 8 - (22, 16475000-16525000) - 8 snps\n",
      ".. window 9 - (22, 16500000-16550000) - 7 snps\n"
     ]
    }
   ],
   "source": [
    "n_wnds = 100 # only hundred windows are considered\n",
    "LLR = sp.zeros(n_wnds) # vector with test statistics of the n_wnds regions\n",
    "for wnd_i in range(n_wnds):\n",
    "    wnd_pos = split.wnd_pos[wnd_i]\n",
    "    nSnps = split.nSnps[wnd_i]\n",
    "    idx_wnd_start = split.idx_wnd_start[wnd_i]\n",
    "    print '.. window %d - (%d, %d-%d) - %d snps' % (wnd_i, wnd_pos[0], wnd_pos[1], wnd_pos[2], nSnps)\n",
    "    \n",
    "    Xr = plink_reader.readBED(bfile, useMAFencoding=True, start = idx_wnd_start, nSNPs = nSnps, bim=bim , fam=fam)['snps']\n",
    "\n",
    "    # multi trait set test fit\n",
    "    RV = mtSet.optimize(Xr)\n",
    "    LLR[wnd_i] = RV['LLR'][0]"
   ]
  },
  {
   "cell_type": "markdown",
   "metadata": {},
   "source": [
    "The returned dictionary from _mtSet.optimize_ contains:\n",
    "* Cr: value of the region-term trait-to-trait covariance\n",
    "* Cg: value of the genetic trait-to-trait covariance\n",
    "* Cn: value of the residual trait-to-trait covariance\n",
    "* variances: n_traits-by-3 matrix of variance explained by the three contributions (region, background, noise) for the  traits\n",
    "* conv: bool that indicates convergence of the optimization\n",
    "* time: time elpased for optimizing the parameters\n",
    "* NLLAlt: negative log likelihood of the alternative model\n",
    "* LLR: test statistics\n",
    "* LMLgrad: norm of the gradient of the negative log likelihood dividived by the number of parameters"
   ]
  },
  {
   "cell_type": "markdown",
   "metadata": {},
   "source": [
    "### P-values"
   ]
  },
  {
   "cell_type": "markdown",
   "metadata": {
    "collapsed": true
   },
   "source": [
    "P values are obtained from a relatively small number of genome-wide permutations, fitting a parametric model to the null distribution. Here we showcase the permutation procedure by considering 10 permutations for the 10 regions analyzed."
   ]
  },
  {
   "cell_type": "code",
   "execution_count": 16,
   "metadata": {
    "collapsed": false
   },
   "outputs": [
    {
     "name": "stdout",
     "output_type": "stream",
     "text": [
      "permutation 0\n",
      "permutation 1\n",
      "permutation 2\n",
      "permutation 3\n",
      "permutation 4\n",
      "permutation 5\n",
      "permutation 6\n",
      "permutation 7\n",
      "permutation 8\n",
      "permutation 9\n"
     ]
    }
   ],
   "source": [
    "n_perms = 10\n",
    "LLR_null = [] # in this list test statistics from permutations will be stored\n",
    "for perm_i in range(n_perms):\n",
    "    \n",
    "    #1. generate permutation\n",
    "    print 'permutation %d' % perm_i\n",
    "    sp.random.seed(perm_i)\n",
    "    perm_idxs = sp.random.permutation(Y.shape[0])\n",
    "    \n",
    "    #2. scan on the 100 regions\n",
    "    for wnd_i in range(n_wnds):\n",
    "        wnd_pos = split.wnd_pos[wnd_i]\n",
    "        nSnps = split.nSnps[wnd_i]\n",
    "        idx_wnd_start = split.idx_wnd_start[wnd_i]\n",
    "        Xr = plink_reader.readBED(bfile, useMAFencoding=True, start = idx_wnd_start, nSNPs = nSnps, bim=bim , fam=fam)['snps']\n",
    "        Xr = Xr[perm_idxs, :] # permute samples in region term\n",
    "        RV = mtSet.optimize(Xr)\n",
    "        LLR_null.append(RV['LLR'][0])\n",
    "LLR_null = sp.array(LLR_null)"
   ]
  },
  {
   "cell_type": "markdown",
   "metadata": {},
   "source": [
    "The parametric fit to the ditribution of the test statistics under the null and the consequent conversion of the observed test statistics in P values is performed by the module _limix.stats.chi2mixture_ as shown below."
   ]
  },
  {
   "cell_type": "code",
   "execution_count": 19,
   "metadata": {
    "collapsed": false
   },
   "outputs": [],
   "source": [
    "from limix.stats.chi2mixture import Chi2mixture\n",
    "c2m = Chi2mixture(tol=4e-3)\n",
    "c2m.estimate_chi2mixture(LLR_null)\n",
    "pv = c2m.sf(LLR)"
   ]
  },
  {
   "cell_type": "code",
   "execution_count": 26,
   "metadata": {
    "collapsed": false
   },
   "outputs": [
    {
     "data": {
      "text/plain": [
       "[<matplotlib.lines.Line2D at 0x10fe3f490>]"
      ]
     },
     "execution_count": 26,
     "metadata": {},
     "output_type": "execute_result"
    },
    {
     "data": {
      "image/png": "[encoded data removed]",
      "text/plain": [
       "<matplotlib.figure.Figure at 0x110369990>"
      ]
     },
     "metadata": {},
     "output_type": "display_data"
    }
   ],
   "source": [
    "#makes a manhattan plot\n",
    "wnd_chrom = split.wnd_pos[:n_wnds,0]\n",
    "wnd_start = split.wnd_pos[:n_wnds,1]\n",
    "wnd_end = split.wnd_pos[:n_wnds,2]\n",
    "import pylab as pl\n",
    "pl.plot(wnd_start, -sp.log10(pv), 'o', color='MidnightBlue')"
   ]
  },
  {
   "cell_type": "code",
   "execution_count": null,
   "metadata": {
    "collapsed": true
   },
   "outputs": [],
   "source": []
  }
 ],
 "metadata": {
  "kernelspec": {
   "display_name": "Python 2",
   "language": "python",
   "name": "python2"
  },
  "language_info": {
   "codemirror_mode": {
    "name": "ipython",
    "version": 2
   },
   "file_extension": ".py",
   "mimetype": "text/x-python",
   "name": "python",
   "nbconvert_exporter": "python",
   "pygments_lexer": "ipython2",
   "version": "2.7.10"
  }
 },
 "nbformat": 4,
 "nbformat_minor": 0
}
