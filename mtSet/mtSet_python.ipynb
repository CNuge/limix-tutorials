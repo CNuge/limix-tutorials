{
 "cells": [
  {
   "cell_type": "markdown",
   "metadata": {},
   "source": [
    "# Contents\n",
    "\n",
    "* [How to use mtSet from command line](mtSet_scripts.ipynb)\n",
    "    * [Preprocessing](mtSet_preprocess.ipynb)\n",
    "    * [Phenotype Simulator](mtSet_phenosim.ipynb)\n",
    "    * [Running mtSet](mtSet_analyze.ipynb)\n",
    "    * [Postprocessing](mtSet_postprocess.ipynb)\n",
    "    * [Example for command line usage](example_usage.ipynb)\n",
    "* [How to use mtSet within python](mtSet_python.ipynb)"
   ]
  },
  {
   "cell_type": "markdown",
   "metadata": {},
   "source": [
    "#Tutorial on how to use mtSet within python\n",
    "\n",
    "This tutorial shows how to use mtSet within python. For a tutorial on how to use mtSet from the command line using the limix scripts (mtSet_preprocess, mtSet_analyze, mtSet_postprocess, mtSet_simPheno) please refer to the tutorials:\n",
    "* [Tutorial on how to use mtSet from command line](mtSet_scripts.ipynb)\n",
    "* [Example for command line usage](example_usage.ipynb)"
   ]
  },
  {
   "cell_type": "markdown",
   "metadata": {
    "slideshow": {
     "slide_type": "slide"
    }
   },
   "source": [
    "## Setting up"
   ]
  },
  {
   "cell_type": "code",
   "execution_count": 1,
   "metadata": {
    "collapsed": false,
    "slideshow": {
     "slide_type": "notes"
    }
   },
   "outputs": [],
   "source": [
    "# activiate inline plotting\n",
    "%matplotlib inline\n",
    "\n",
    "from setup import get_1000G_mtSet\n",
    "import scipy as sp\n",
    "import scipy.linalg\n",
    "import limix"
   ]
  },
  {
   "cell_type": "code",
   "execution_count": 2,
   "metadata": {
    "collapsed": false
   },
   "outputs": [
    {
     "name": "stdout",
     "output_type": "stream",
     "text": [
      "File ./../data/1000g/chrom22_subsample20_maf0.10.bed exsits\n",
      "File ./../data/1000g/chrom22_subsample20_maf0.10.bim exsits\n",
      "File ./../data/1000g/chrom22_subsample20_maf0.10.fam exsits\n",
      "File ./../data/1000g/pheno.phe exsits\n",
      "File ./../data/1000g/chrom22.cov exsits\n"
     ]
    }
   ],
   "source": [
    "# loading 1000G genotypes for mtSet demo\n",
    "get_1000G_mtSet()"
   ]
  },
  {
   "cell_type": "markdown",
   "metadata": {},
   "source": [
    "## Split genotypes into regions"
   ]
  },
  {
   "cell_type": "code",
   "execution_count": 3,
   "metadata": {
    "collapsed": true
   },
   "outputs": [],
   "source": [
    "# import genotype positions\n",
    "bim_file = './../data/1000g/chrom22_subsample20_maf0.10.bim'\n",
    "R = sp.loadtxt(bim_file, dtype='float', usecols=(0,3))\n",
    "chrom = R[:, 0]; pos = R[:, 1]"
   ]
  },
  {
   "cell_type": "code",
   "execution_count": 4,
   "metadata": {
    "collapsed": false
   },
   "outputs": [],
   "source": [
    "# uses splitter to split the genotypes\n",
    "import sys\n",
    "sys.path.insert(0,'/Users/casale/Documents/limix/limix/limix/mtSet/core')\n",
    "from splitter import Splitter\n",
    "split = Splitter(pos=pos,chrom=chrom)"
   ]
  },
  {
   "cell_type": "markdown",
   "metadata": {},
   "source": [
    "The method _splitGeno_ allows to define the regions that will then considered for the analysis with mtSet.\n",
    "Information relative to the calculated regions can be cached in an external file by activating the cache option (see below).\n",
    "\n",
    "| Argument        | Default       | Datatype | Explanation |\n",
    "| ------------- |:-------------:|:--------:| --------|\n",
    "| _method_      | 'slidingWindow' | str | Uses a sliding window approach to define regions (a region-based approach will be availabe soon) |\n",
    "| _size_      | 5E+04 (50kb) | float | Window size. Pace is set at half the size of the window |\n",
    "| _minSnps_      | 1 | int | Windows with number of SNPs lower that this threshold are not considered |\n",
    "| _maxSnps_      | sp.inf | int | Windows with number of SNPs higher that this threshold are not considered |\n",
    "| _cache_       | False | bool | If true, it activates the caching |\n",
    "| _out_dir_     | './cache' | str | outdir of the cache file |\n",
    "| _fname_       | None | str | Name of the file |\n",
    "| _rewrite_     | False | bool | If true and the cache file already exists, the cache file is overwritten |"
   ]
  },
  {
   "cell_type": "code",
   "execution_count": 5,
   "metadata": {
    "collapsed": false
   },
   "outputs": [
    {
     "name": "stdout",
     "output_type": "stream",
     "text": [
      "1396 windows\n"
     ]
    }
   ],
   "source": [
    "split.splitGeno(cache=True, fname='regions.h5')\n",
    "print '%d windows' % split.nWindows"
   ]
  },
  {
   "cell_type": "markdown",
   "metadata": {},
   "source": [
    "## Apply mtSet"
   ]
  },
  {
   "cell_type": "code",
   "execution_count": 6,
   "metadata": {
    "collapsed": false
   },
   "outputs": [],
   "source": [
    "# import phenotype and sample relatedness\n",
    "pheno_file = './../data/1000g/pheno.phe'\n",
    "sample_relatedness_file = './../data/1000g/chrom22.cov'\n",
    "Y = sp.loadtxt(pheno_file)\n",
    "R = sp.loadtxt(sample_relatedness_file)"
   ]
  },
  {
   "cell_type": "code",
   "execution_count": 7,
   "metadata": {
    "collapsed": false
   },
   "outputs": [],
   "source": [
    "# compute eigenvalues and eigenvectors of the sample relatedness matrix\n",
    "S_R, U_R = scipy.linalg.eigh(R)"
   ]
  },
  {
   "cell_type": "code",
   "execution_count": 8,
   "metadata": {
    "collapsed": false
   },
   "outputs": [],
   "source": [
    "mtSet = limix.MTSet(Y, S_R=S_R, U_R=U_R)"
   ]
  },
  {
   "cell_type": "markdown",
   "metadata": {},
   "source": [
    "### Null model"
   ]
  },
  {
   "cell_type": "markdown",
   "metadata": {},
   "source": [
    "If the analysis is parallelized across different set of regions and permutations,\n",
    "it might be convenient to cache the results from the optimization of the null model\n",
    "(as the null model need to be optimized only once).\n",
    "\n",
    "| Argument        | Default       | Datatype | Explanation |\n",
    "| ------------- |:-------------:|:--------:| --------|\n",
    "| _cache_       | False | bool | If true, it activates the caching |\n",
    "| _out_dir_     | './cache' | str | outdir of the cache file |\n",
    "| _fname_       | None | str | Name of the file |\n",
    "| _rewrite_     | False | bool | If true and the cache file already exists, the cache file is overwritten |"
   ]
  },
  {
   "cell_type": "code",
   "execution_count": 9,
   "metadata": {
    "collapsed": false
   },
   "outputs": [],
   "source": [
    "RV = mtSet.fitNull(cache=True, fname='null.h5')"
   ]
  },
  {
   "cell_type": "markdown",
   "metadata": {},
   "source": [
    "The returned dictionary contains:\n",
    "* B: value of the optimized effect sizes\n",
    "* Cg: value of the genetic trait-to-trait covariance\n",
    "* Cn: value of the residual trait-to-trait covariance\n",
    "* conv: bool that indicates convergence of the optimization\n",
    "* time: time elpased for optimizing the parameters\n",
    "* NLL0: negative log likelihood of the null model\n",
    "* LMLgrad: norm of the gradient of the negative log likelihood dividived by the number of parameters"
   ]
  },
  {
   "cell_type": "markdown",
   "metadata": {},
   "source": [
    "### Test"
   ]
  },
  {
   "cell_type": "code",
   "execution_count": 20,
   "metadata": {
    "collapsed": true
   },
   "outputs": [],
   "source": [
    "# fam bim and bed file\n",
    "bfile = './../data/1000g/chrom22_subsample20_maf0.10'"
   ]
  },
  {
   "cell_type": "code",
   "execution_count": 21,
   "metadata": {
    "collapsed": false
   },
   "outputs": [],
   "source": [
    "# read bim and fam\n",
    "bim = plink_reader.readBIM(bfile,usecols=(0,1,2,3))\n",
    "fam = plink_reader.readFAM(bfile,usecols=(0,1))"
   ]
  },
  {
   "cell_type": "code",
   "execution_count": 24,
   "metadata": {
    "collapsed": false
   },
   "outputs": [
    {
     "name": "stdout",
     "output_type": "stream",
     "text": [
      ".. window 0 - (22, 16025000-16075000) - 21 snps\n"
     ]
    },
    {
     "ename": "KeyError",
     "evalue": "'params0_g'",
     "output_type": "error",
     "traceback": [
      "\u001b[0;31m---------------------------------------------------------------------------\u001b[0m",
      "\u001b[0;31mKeyError\u001b[0m                                  Traceback (most recent call last)",
      "\u001b[0;32m<ipython-input-24-becf4f49510e>\u001b[0m in \u001b[0;36m<module>\u001b[0;34m()\u001b[0m\n\u001b[1;32m     11\u001b[0m \u001b[0;34m\u001b[0m\u001b[0m\n\u001b[1;32m     12\u001b[0m     \u001b[0;31m# multi trait set test fit\u001b[0m\u001b[0;34m\u001b[0m\u001b[0;34m\u001b[0m\u001b[0m\n\u001b[0;32m---> 13\u001b[0;31m     \u001b[0mRV\u001b[0m \u001b[0;34m=\u001b[0m \u001b[0mmtSet\u001b[0m\u001b[0;34m.\u001b[0m\u001b[0moptimize\u001b[0m\u001b[0;34m(\u001b[0m\u001b[0mXr\u001b[0m\u001b[0;34m)\u001b[0m\u001b[0;34m\u001b[0m\u001b[0m\n\u001b[0m\u001b[1;32m     14\u001b[0m     \u001b[0mLLR\u001b[0m\u001b[0;34m[\u001b[0m\u001b[0mwnd_i\u001b[0m\u001b[0;34m]\u001b[0m \u001b[0;34m=\u001b[0m \u001b[0mRV\u001b[0m\u001b[0;34m[\u001b[0m\u001b[0;34m'LLR'\u001b[0m\u001b[0;34m]\u001b[0m\u001b[0;34m[\u001b[0m\u001b[0;36m0\u001b[0m\u001b[0;34m]\u001b[0m\u001b[0;34m\u001b[0m\u001b[0m\n",
      "\u001b[0;32m/opt/local/Library/Frameworks/Python.framework/Versions/2.7/lib/python2.7/site-packages/limix-0.7.6-py2.7-macosx-10.8-x86_64.egg/limix/mtSet/mtset.pyc\u001b[0m in \u001b[0;36moptimize\u001b[0;34m(self, G, params0, n_times, verbose, vmax, perturb, factr)\u001b[0m\n\u001b[1;32m    229\u001b[0m                 \u001b[0mself\u001b[0m\u001b[0;34m.\u001b[0m\u001b[0mfitNull\u001b[0m\u001b[0;34m(\u001b[0m\u001b[0;34m)\u001b[0m\u001b[0;34m\u001b[0m\u001b[0m\n\u001b[1;32m    230\u001b[0m             \u001b[0;32mif\u001b[0m \u001b[0mself\u001b[0m\u001b[0;34m.\u001b[0m\u001b[0mbgRE\u001b[0m\u001b[0;34m:\u001b[0m\u001b[0;34m\u001b[0m\u001b[0m\n\u001b[0;32m--> 231\u001b[0;31m                 \u001b[0mparams0\u001b[0m \u001b[0;34m=\u001b[0m \u001b[0msp\u001b[0m\u001b[0;34m.\u001b[0m\u001b[0mconcatenate\u001b[0m\u001b[0;34m(\u001b[0m\u001b[0;34m[\u001b[0m\u001b[0mself\u001b[0m\u001b[0;34m.\u001b[0m\u001b[0mnull\u001b[0m\u001b[0;34m[\u001b[0m\u001b[0;34m'params0_g'\u001b[0m\u001b[0;34m]\u001b[0m\u001b[0;34m,\u001b[0m \u001b[0mself\u001b[0m\u001b[0;34m.\u001b[0m\u001b[0mnull\u001b[0m\u001b[0;34m[\u001b[0m\u001b[0;34m'params0_n'\u001b[0m\u001b[0;34m]\u001b[0m\u001b[0;34m]\u001b[0m\u001b[0;34m)\u001b[0m\u001b[0;34m\u001b[0m\u001b[0m\n\u001b[0m\u001b[1;32m    232\u001b[0m             \u001b[0;32melse\u001b[0m\u001b[0;34m:\u001b[0m\u001b[0;34m\u001b[0m\u001b[0m\n\u001b[1;32m    233\u001b[0m                 \u001b[0mparams0\u001b[0m \u001b[0;34m=\u001b[0m \u001b[0mself\u001b[0m\u001b[0;34m.\u001b[0m\u001b[0mnull\u001b[0m\u001b[0;34m[\u001b[0m\u001b[0;34m'params0_n'\u001b[0m\u001b[0;34m]\u001b[0m\u001b[0;34m\u001b[0m\u001b[0m\n",
      "\u001b[0;31mKeyError\u001b[0m: 'params0_g'"
     ]
    }
   ],
   "source": [
    "from limix.mtSet.core import plink_reader\n",
    "\n",
    "n_wnds = 100 # only hundred windows are considered\n",
    "for wnd_i in range(n_wnds):\n",
    "    wnd_pos = split.wnd_pos[wnd_i]\n",
    "    nSnps = split.nSnps[wnd_i]\n",
    "    idx_wnd_start = split.idx_wnd_start[wnd_i]\n",
    "    print '.. window %d - (%d, %d-%d) - %d snps' % (wnd_i, wnd_pos[0], wnd_pos[1], wnd_pos[2], nSnps)\n",
    "    \n",
    "    Xr = plink_reader.readBED(bfile, useMAFencoding=True, start = idx_wnd_start, nSNPs = nSnps, bim=bim , fam=fam)['snps']\n",
    "\n",
    "    # multi trait set test fit\n",
    "    RV = mtSet.optimize(Xr)\n",
    "    LLR[wnd_i] = RV['LLR'][0]"
   ]
  },
  {
   "cell_type": "markdown",
   "metadata": {},
   "source": [
    "The returned dictionary from _mtSet.optimize_ contains:\n",
    "* B: value of the optimized effect sizes\n",
    "* Cg: value of the genetic trait-to-trait covariance\n",
    "* Cn: value of the residual trait-to-trait covariance\n",
    "* conv: bool that indicates convergence of the optimization\n",
    "* time: time elpased for optimizing the parameters\n",
    "* NLL0: negative log likelihood of the null model\n",
    "* LMLgrad: norm of the gradient of the negative log likelihood dividived by the number of parameters"
   ]
  },
  {
   "cell_type": "markdown",
   "metadata": {},
   "source": [
    "### Permutations"
   ]
  },
  {
   "cell_type": "markdown",
   "metadata": {},
   "source": [
    "### Postprocess"
   ]
  }
 ],
 "metadata": {
  "kernelspec": {
   "display_name": "Python 2",
   "language": "python",
   "name": "python2"
  },
  "language_info": {
   "codemirror_mode": {
    "name": "ipython",
    "version": 2
   },
   "file_extension": ".py",
   "mimetype": "text/x-python",
   "name": "python",
   "nbconvert_exporter": "python",
   "pygments_lexer": "ipython2",
   "version": "2.7.10"
  }
 },
 "nbformat": 4,
 "nbformat_minor": 0
}
