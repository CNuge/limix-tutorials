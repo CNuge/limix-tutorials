{
 "cells": [
  {
   "cell_type": "markdown",
   "metadata": {},
   "source": [
    "# Contents\n",
    "\n",
    "mtSet: set tests for association analysis\n",
    "* [How to use mtSet from command line](mtSet_scripts.ipynb)\n",
    "    * [Preprocessing](mtSet_preprocess.ipynb)\n",
    "    * [Phenotype Simulator](mtSet_phenosim.ipynb)\n",
    "    * [Running mtSet](mtSet_analyze.ipynb)\n",
    "    * [Postprocessing](mtSet_postprocess.ipynb)\n",
    "    * [Example for command line usage](example_usage.ipynb)\n",
    "* [How to use mtSet within python](mtSet_python.ipynb)\n",
    "\n",
    "iSet: set tests for genetic interactions with context (beta)\n",
    "* [Analysis of complete designs](iSet_python_compl.ipynb)\n",
    "* [Analysis of stratified designs](iSet_python_strat.ipynb)"
   ]
  },
  {
   "cell_type": "markdown",
   "metadata": {},
   "source": [
    "## iSet for analysis of stratified designs (python)\n",
    "\n",
    "iSet is an extension of mtSet that allows to test for polygenic interactions with environment or other contexts.\n",
    "iSet can be applied in designs where all individuals have been phenotyped in each context (complete design) as well as for populations that have been stratified by a context variable (stratified design).\n",
    "We will here see application of mtSet for analysis of stratified designs, please look [here](iSet_python_strat.ipynb) for analysis of complete designs.\n",
    "\n",
    "A command line implementatin of iSet will be available soon."
   ]
  },
  {
   "cell_type": "markdown",
   "metadata": {
    "slideshow": {
     "slide_type": "slide"
    }
   },
   "source": [
    "## Setting up"
   ]
  },
  {
   "cell_type": "code",
   "execution_count": 1,
   "metadata": {
    "collapsed": false,
    "slideshow": {
     "slide_type": "notes"
    }
   },
   "outputs": [],
   "source": [
    "# activiate inline plotting\n",
    "%matplotlib inline\n",
    "\n",
    "from setup import get_1000G_mtSet\n",
    "import scipy as sp\n",
    "import scipy.linalg\n",
    "import limix\n",
    "from limix.mtSet.iset import fit_iSet\n",
    "import pandas as pd"
   ]
  },
  {
   "cell_type": "code",
   "execution_count": 2,
   "metadata": {
    "collapsed": false
   },
   "outputs": [
    {
     "name": "stdout",
     "output_type": "stream",
     "text": [
      "File ./../data/1000g/chrom22_subsample20_maf0.10.bed exsits\n",
      "File ./../data/1000g/chrom22_subsample20_maf0.10.bim exsits\n",
      "File ./../data/1000g/chrom22_subsample20_maf0.10.fam exsits\n",
      "File ./../data/1000g/pheno.phe exsits\n",
      "File ./../data/1000g/chrom22.cov exsits\n"
     ]
    }
   ],
   "source": [
    "# loading 1000G genotypes for mtSet demo\n",
    "get_1000G_mtSet()"
   ]
  },
  {
   "cell_type": "code",
   "execution_count": 3,
   "metadata": {
    "collapsed": true
   },
   "outputs": [],
   "source": [
    "# base name for bed, bim and fam\n",
    "bfile = './../data/1000g/chrom22_subsample20_maf0.10'"
   ]
  },
  {
   "cell_type": "markdown",
   "metadata": {},
   "source": [
    "## Split genotypes into regions"
   ]
  },
  {
   "cell_type": "code",
   "execution_count": 4,
   "metadata": {
    "collapsed": false
   },
   "outputs": [],
   "source": [
    "from limix.mtSet.core import plink_reader"
   ]
  },
  {
   "cell_type": "code",
   "execution_count": 5,
   "metadata": {
    "collapsed": true
   },
   "outputs": [],
   "source": [
    "# import genotype positions\n",
    "bim = plink_reader.readBIM(bfile,usecols=(0,1,2,3))\n",
    "chrom = bim[:, 0].astype(float)\n",
    "pos = bim[:, -1].astype(float)"
   ]
  },
  {
   "cell_type": "code",
   "execution_count": 6,
   "metadata": {
    "collapsed": false
   },
   "outputs": [],
   "source": [
    "# uses splitter to split the genotypes\n",
    "from limix.mtSet.core.splitter import Splitter\n",
    "split = Splitter(pos=pos,chrom=chrom)"
   ]
  },
  {
   "cell_type": "markdown",
   "metadata": {},
   "source": [
    "The method _splitGeno_ allows to define the regions that will then considered for the analysis with mtSet.\n",
    "Information relative to the calculated regions can be cached in an external file by activating the cache option (see below).\n",
    "\n",
    "| Argument        | Default       | Datatype | Explanation |\n",
    "| ------------- |:-------------:|:--------:| --------|\n",
    "| _method_      | 'slidingWindow' | str | Uses a sliding window approach to define regions (a region-based approach will be availabe soon) |\n",
    "| _size_      | 5E+04 (50kb) | float | Window size. Pace is set at half the size of the window |\n",
    "| _minSnps_      | 1 | int | Windows with number of SNPs lower that this threshold are not considered |\n",
    "| _maxSnps_      | sp.inf | int | Windows with number of SNPs higher that this threshold are not considered |\n",
    "| _cache_       | False | bool | If true, it activates the caching |\n",
    "| _out_dir_     | './cache' | str | outdir of the cache file |\n",
    "| _fname_       | None | str | Name of the file |\n",
    "| _rewrite_     | False | bool | If true and the cache file already exists, the cache file is overwritten |"
   ]
  },
  {
   "cell_type": "code",
   "execution_count": 7,
   "metadata": {
    "collapsed": false
   },
   "outputs": [
    {
     "name": "stdout",
     "output_type": "stream",
     "text": [
      "1380 windows\n"
     ]
    }
   ],
   "source": [
    "split.splitGeno(cache=True, fname='regions.h5', minSnps=4)\n",
    "print '%d windows' % split.nWindows"
   ]
  },
  {
   "cell_type": "markdown",
   "metadata": {},
   "source": [
    "## Apply mtSet"
   ]
  },
  {
   "cell_type": "code",
   "execution_count": 8,
   "metadata": {
    "collapsed": false
   },
   "outputs": [],
   "source": [
    "# import phenotype and sample relatedness\n",
    "pheno_file = './../data/1000g/pheno.phe'\n",
    "sample_relatedness_file = './../data/1000g/chrom22.cov'\n",
    "Y = sp.loadtxt(pheno_file)[:,:1]\n",
    "R = sp.loadtxt(sample_relatedness_file)"
   ]
  },
  {
   "cell_type": "code",
   "execution_count": 9,
   "metadata": {
    "collapsed": false
   },
   "outputs": [],
   "source": [
    "# let's suppose the first half of the individuals are phenotyped in context A and\n",
    "# the second half on context B\n",
    "Ie = sp.arange(R.shape[0])<0.5*R.shape[0]"
   ]
  },
  {
   "cell_type": "code",
   "execution_count": 10,
   "metadata": {
    "collapsed": false
   },
   "outputs": [],
   "source": [
    "# corrects for population structure using the first 10 PCs of the relatedness matrix\n",
    "S_R, U_R = scipy.linalg.eigh(R+1e-4*sp.eye(R.shape[0])) # these are needed for the full mtSet model\n",
    "covs = sp.concatenate([U_R[:,-10:], sp.ones([U_R.shape[0], 1])], 1)"
   ]
  },
  {
   "cell_type": "code",
   "execution_count": 11,
   "metadata": {
    "collapsed": false
   },
   "outputs": [],
   "source": [
    "# read fam\n",
    "bim = plink_reader.readBIM(bfile,usecols=(0,1,2,3))\n",
    "fam = plink_reader.readFAM(bfile,usecols=(0,1))"
   ]
  },
  {
   "cell_type": "code",
   "execution_count": 12,
   "metadata": {
    "collapsed": false
   },
   "outputs": [
    {
     "name": "stdout",
     "output_type": "stream",
     "text": [
      ".. window 0 - (22, 16025000-16075000) - 21 snps\n",
      "fittng iSet\n"
     ]
    },
    {
     "name": "stderr",
     "output_type": "stream",
     "text": [
      "/opt/local/Library/Frameworks/Python.framework/Versions/2.7/lib/python2.7/site-packages/limix-0.7.9-py2.7-macosx-10.8-x86_64.egg/limix/mtSet/core/plink_reader.py:127: VisibleDeprecationWarning: using a non-integer number instead of an integer will result in an error in the future\n",
      "  SNPs = SP.zeros(((SP.ceil(0.25*N)*4),nSNPs),order=order)\n",
      "/opt/local/Library/Frameworks/Python.framework/Versions/2.7/lib/python2.7/site-packages/limix-0.7.9-py2.7-macosx-10.8-x86_64.egg/limix/mtSet/core/plink_reader.py:142: VisibleDeprecationWarning: using a non-integer number instead of an integer will result in an error in the future\n",
      "  bytes = SP.array(bytearray(f.read(nbyte))).reshape((SP.ceil(0.25*N),Sblock),order='F')\n"
     ]
    },
    {
     "name": "stdout",
     "output_type": "stream",
     "text": [
      "permutation 0 / 10\n",
      "permutation 1 / 10\n",
      "permutation 2 / 10\n",
      "permutation 3 / 10\n",
      "permutation 4 / 10\n",
      "permutation 5 / 10\n",
      "permutation 6 / 10\n",
      "permutation 7 / 10\n",
      "permutation 8 / 10\n",
      "permutation 9 / 10\n",
      ".. window 1 - (22, 16050000-16100000) - 23 snps\n",
      "fittng iSet\n",
      "permutation 0 / 10\n",
      "permutation 1 / 10\n",
      "permutation 2 / 10\n",
      "permutation 3 / 10\n",
      "permutation 4 / 10\n",
      "permutation 5 / 10\n",
      "permutation 6 / 10\n",
      "permutation 7 / 10\n",
      "permutation 8 / 10\n",
      "permutation 9 / 10\n",
      ".. window 2 - (22, 16125000-16175000) - 7 snps\n",
      "fittng iSet\n",
      "permutation 0 / 10\n",
      "permutation 1 / 10\n",
      "permutation 2 / 10\n",
      "permutation 3 / 10\n",
      "permutation 4 / 10\n",
      "permutation 5 / 10\n",
      "permutation 6 / 10\n",
      "permutation 7 / 10\n",
      "permutation 8 / 10\n",
      "permutation 9 / 10\n",
      ".. window 3 - (22, 16225000-16275000) - 9 snps\n",
      "fittng iSet\n",
      "permutation 0 / 10\n",
      "permutation 1 / 10\n",
      "permutation 2 / 10\n",
      "permutation 3 / 10\n",
      "permutation 4 / 10\n",
      "permutation 5 / 10\n",
      "permutation 6 / 10\n",
      "permutation 7 / 10\n",
      "permutation 8 / 10\n",
      "permutation 9 / 10\n",
      ".. window 4 - (22, 16250000-16300000) - 16 snps\n",
      "fittng iSet\n",
      "permutation 0 / 10\n",
      "permutation 1 / 10\n",
      "permutation 2 / 10\n",
      "permutation 3 / 10\n",
      "permutation 4 / 10\n",
      "permutation 5 / 10\n",
      "permutation 6 / 10\n",
      "permutation 7 / 10\n",
      "permutation 8 / 10\n",
      "permutation 9 / 10\n",
      ".. window 5 - (22, 16275000-16325000) - 12 snps\n",
      "fittng iSet\n",
      "permutation 0 / 10\n",
      "permutation 1 / 10\n",
      "permutation 2 / 10\n",
      "permutation 3 / 10\n",
      "permutation 4 / 10\n",
      "permutation 5 / 10\n",
      "permutation 6 / 10\n",
      "permutation 7 / 10\n",
      "permutation 8 / 10\n",
      "permutation 9 / 10\n",
      ".. window 6 - (22, 16325000-16375000) - 5 snps\n",
      "fittng iSet\n",
      "permutation 0 / 10\n",
      "permutation 1 / 10\n",
      "permutation 2 / 10\n",
      "permutation 3 / 10\n",
      "permutation 4 / 10\n",
      "permutation 5 / 10\n",
      "permutation 6 / 10\n",
      "permutation 7 / 10\n",
      "permutation 8 / 10\n",
      "permutation 9 / 10\n",
      ".. window 7 - (22, 16350000-16400000) - 5 snps\n",
      "fittng iSet\n",
      "permutation 0 / 10\n",
      "permutation 1 / 10\n",
      "permutation 2 / 10\n",
      "permutation 3 / 10\n",
      "permutation 4 / 10\n",
      "permutation 5 / 10\n",
      "permutation 6 / 10\n",
      "permutation 7 / 10\n",
      "permutation 8 / 10\n",
      "permutation 9 / 10\n",
      ".. window 8 - (22, 16475000-16525000) - 8 snps\n",
      "fittng iSet\n",
      "permutation 0 / 10\n",
      "permutation 1 / 10\n",
      "permutation 2 / 10\n",
      "permutation 3 / 10\n",
      "permutation 4 / 10\n",
      "permutation 5 / 10\n",
      "permutation 6 / 10\n",
      "permutation 7 / 10\n",
      "permutation 8 / 10\n",
      "permutation 9 / 10\n",
      ".. window 9 - (22, 16500000-16550000) - 7 snps\n",
      "fittng iSet\n",
      "permutation 0 / 10\n",
      "permutation 1 / 10\n",
      "permutation 2 / 10\n",
      "permutation 3 / 10\n",
      "permutation 4 / 10\n",
      "permutation 5 / 10\n",
      "permutation 6 / 10\n",
      "permutation 7 / 10\n",
      "permutation 8 / 10\n",
      "permutation 9 / 10\n",
      "Elapsed: 76.0003929138\n"
     ]
    }
   ],
   "source": [
    "n_wnds = 10 # only 10 windows are considered\n",
    "LLR = sp.zeros(n_wnds) # vector with test statistics of the n_wnds regions\n",
    "df = pd.DataFrame()\n",
    "df0 = pd.DataFrame()\n",
    "import time\n",
    "t0 = time.time()\n",
    "for wnd_i in range(n_wnds):\n",
    "    wnd_pos = split.wnd_pos[wnd_i]\n",
    "    nSnps = split.nSnps[wnd_i]\n",
    "    idx_wnd_start = split.idx_wnd_start[wnd_i]\n",
    "    print '.. window %d - (%d, %d-%d) - %d snps' % (wnd_i, wnd_pos[0], wnd_pos[1], wnd_pos[2], nSnps)\n",
    "    \n",
    "    Xr = plink_reader.readBED(bfile, useMAFencoding=True, start = idx_wnd_start, nSNPs = nSnps, bim=bim , fam=fam)['snps']\n",
    "    Xr-= Xr.mean(0)\n",
    "    Xr/= Xr.std(0)\n",
    "    Xr/= sp.sqrt(Xr.shape[1])\n",
    "    \n",
    "    _df, _df0 = fit_iSet(Y[:,[0]], Xr=Xr, covs=covs, n_perms=10, Ie=Ie, strat=True)\n",
    "    df  = df.append(_df)\n",
    "    df0 = df0.append(_df0)\n",
    "print 'Elapsed:', time.time()-t0"
   ]
  },
  {
   "cell_type": "markdown",
   "metadata": {},
   "source": [
    "The dataframe df contains log likelihood ratio scores for the different models, variance component attributable to persistent rescaling-GxC and heterogeneity-GxC and information about convergence"
   ]
  },
  {
   "cell_type": "code",
   "execution_count": 13,
   "metadata": {
    "collapsed": false
   },
   "outputs": [
    {
     "data": {
      "text/html": [
       "<div>\n",
       "<table border=\"1\" class=\"dataframe\">\n",
       "  <thead>\n",
       "    <tr style=\"text-align: right;\">\n",
       "      <th></th>\n",
       "      <th>mtSet LLR</th>\n",
       "      <th>iSet LLR</th>\n",
       "      <th>iSet-het LLR</th>\n",
       "      <th>Persistent Var</th>\n",
       "      <th>Rescaling-GxC Var</th>\n",
       "      <th>Heterogeneity-GxC var</th>\n",
       "      <th>Converged</th>\n",
       "    </tr>\n",
       "  </thead>\n",
       "  <tbody>\n",
       "    <tr>\n",
       "      <th>0</th>\n",
       "      <td>1.253016e+00</td>\n",
       "      <td>2.536109e-01</td>\n",
       "      <td>1.431984e-01</td>\n",
       "      <td>2.688312e-02</td>\n",
       "      <td>7.333731e-03</td>\n",
       "      <td>1.188360e-02</td>\n",
       "      <td>1.0</td>\n",
       "    </tr>\n",
       "    <tr>\n",
       "      <th>0</th>\n",
       "      <td>1.046720e+00</td>\n",
       "      <td>1.151325e-01</td>\n",
       "      <td>9.235410e-02</td>\n",
       "      <td>2.349201e-02</td>\n",
       "      <td>3.715896e-03</td>\n",
       "      <td>1.198250e-02</td>\n",
       "      <td>1.0</td>\n",
       "    </tr>\n",
       "    <tr>\n",
       "      <th>0</th>\n",
       "      <td>-7.759127e-12</td>\n",
       "      <td>-4.718004e-12</td>\n",
       "      <td>-7.531753e-12</td>\n",
       "      <td>3.825602e-14</td>\n",
       "      <td>2.680160e-15</td>\n",
       "      <td>1.386438e-14</td>\n",
       "      <td>1.0</td>\n",
       "    </tr>\n",
       "    <tr>\n",
       "      <th>0</th>\n",
       "      <td>5.018209e-01</td>\n",
       "      <td>5.018225e-01</td>\n",
       "      <td>7.699906e-08</td>\n",
       "      <td>1.309366e-03</td>\n",
       "      <td>1.511329e-02</td>\n",
       "      <td>1.335998e-11</td>\n",
       "      <td>1.0</td>\n",
       "    </tr>\n",
       "    <tr>\n",
       "      <th>0</th>\n",
       "      <td>2.301945e-02</td>\n",
       "      <td>2.302026e-02</td>\n",
       "      <td>7.006946e-08</td>\n",
       "      <td>5.349272e-04</td>\n",
       "      <td>2.259426e-03</td>\n",
       "      <td>6.429398e-14</td>\n",
       "      <td>1.0</td>\n",
       "    </tr>\n",
       "    <tr>\n",
       "      <th>0</th>\n",
       "      <td>-1.626164e-07</td>\n",
       "      <td>-1.625445e-07</td>\n",
       "      <td>-1.626098e-07</td>\n",
       "      <td>5.070048e-13</td>\n",
       "      <td>3.452770e-13</td>\n",
       "      <td>2.296414e-14</td>\n",
       "      <td>1.0</td>\n",
       "    </tr>\n",
       "    <tr>\n",
       "      <th>0</th>\n",
       "      <td>3.544433e-01</td>\n",
       "      <td>3.472862e-01</td>\n",
       "      <td>-1.220924e-07</td>\n",
       "      <td>6.576249e-03</td>\n",
       "      <td>6.109514e-03</td>\n",
       "      <td>1.802756e-09</td>\n",
       "      <td>1.0</td>\n",
       "    </tr>\n",
       "    <tr>\n",
       "      <th>0</th>\n",
       "      <td>-6.524203e-09</td>\n",
       "      <td>-6.384383e-09</td>\n",
       "      <td>-6.511513e-09</td>\n",
       "      <td>1.032236e-12</td>\n",
       "      <td>1.208656e-12</td>\n",
       "      <td>1.005793e-14</td>\n",
       "      <td>1.0</td>\n",
       "    </tr>\n",
       "    <tr>\n",
       "      <th>0</th>\n",
       "      <td>2.143352e+00</td>\n",
       "      <td>1.430663e+00</td>\n",
       "      <td>5.423550e-01</td>\n",
       "      <td>2.342530e-02</td>\n",
       "      <td>3.305018e-04</td>\n",
       "      <td>2.340622e-02</td>\n",
       "      <td>1.0</td>\n",
       "    </tr>\n",
       "    <tr>\n",
       "      <th>0</th>\n",
       "      <td>9.827811e-01</td>\n",
       "      <td>9.496539e-01</td>\n",
       "      <td>5.507960e-02</td>\n",
       "      <td>1.201311e-02</td>\n",
       "      <td>8.315638e-03</td>\n",
       "      <td>6.524066e-03</td>\n",
       "      <td>1.0</td>\n",
       "    </tr>\n",
       "  </tbody>\n",
       "</table>\n",
       "</div>"
      ],
      "text/plain": [
       "      mtSet LLR      iSet LLR  iSet-het LLR  Persistent Var  \\\n",
       "0  1.253016e+00  2.536109e-01  1.431984e-01    2.688312e-02   \n",
       "0  1.046720e+00  1.151325e-01  9.235410e-02    2.349201e-02   \n",
       "0 -7.759127e-12 -4.718004e-12 -7.531753e-12    3.825602e-14   \n",
       "0  5.018209e-01  5.018225e-01  7.699906e-08    1.309366e-03   \n",
       "0  2.301945e-02  2.302026e-02  7.006946e-08    5.349272e-04   \n",
       "0 -1.626164e-07 -1.625445e-07 -1.626098e-07    5.070048e-13   \n",
       "0  3.544433e-01  3.472862e-01 -1.220924e-07    6.576249e-03   \n",
       "0 -6.524203e-09 -6.384383e-09 -6.511513e-09    1.032236e-12   \n",
       "0  2.143352e+00  1.430663e+00  5.423550e-01    2.342530e-02   \n",
       "0  9.827811e-01  9.496539e-01  5.507960e-02    1.201311e-02   \n",
       "\n",
       "   Rescaling-GxC Var  Heterogeneity-GxC var  Converged  \n",
       "0       7.333731e-03           1.188360e-02        1.0  \n",
       "0       3.715896e-03           1.198250e-02        1.0  \n",
       "0       2.680160e-15           1.386438e-14        1.0  \n",
       "0       1.511329e-02           1.335998e-11        1.0  \n",
       "0       2.259426e-03           6.429398e-14        1.0  \n",
       "0       3.452770e-13           2.296414e-14        1.0  \n",
       "0       6.109514e-03           1.802756e-09        1.0  \n",
       "0       1.208656e-12           1.005793e-14        1.0  \n",
       "0       3.305018e-04           2.340622e-02        1.0  \n",
       "0       8.315638e-03           6.524066e-03        1.0  "
      ]
     },
     "execution_count": 13,
     "metadata": {},
     "output_type": "execute_result"
    }
   ],
   "source": [
    "df"
   ]
  },
  {
   "cell_type": "markdown",
   "metadata": {},
   "source": [
    "The dataframe df0 contains log likelihood ratios when data are from the null.\n",
    "These are necessary to iSet to calculate P values."
   ]
  },
  {
   "cell_type": "code",
   "execution_count": 14,
   "metadata": {
    "collapsed": false
   },
   "outputs": [
    {
     "data": {
      "text/html": [
       "<div>\n",
       "<table border=\"1\" class=\"dataframe\">\n",
       "  <thead>\n",
       "    <tr style=\"text-align: right;\">\n",
       "      <th></th>\n",
       "      <th>iSet LLR0</th>\n",
       "      <th>iSet-het LLR0</th>\n",
       "      <th>mtSet LLR0</th>\n",
       "    </tr>\n",
       "  </thead>\n",
       "  <tbody>\n",
       "    <tr>\n",
       "      <th>0</th>\n",
       "      <td>5.121553e-03</td>\n",
       "      <td>2.542095e-09</td>\n",
       "      <td>-1.799094e-11</td>\n",
       "    </tr>\n",
       "    <tr>\n",
       "      <th>1</th>\n",
       "      <td>2.117660e-02</td>\n",
       "      <td>-8.302578e-09</td>\n",
       "      <td>3.735383e-01</td>\n",
       "    </tr>\n",
       "    <tr>\n",
       "      <th>2</th>\n",
       "      <td>1.437622e-01</td>\n",
       "      <td>5.130119e-12</td>\n",
       "      <td>-6.312462e-11</td>\n",
       "    </tr>\n",
       "    <tr>\n",
       "      <th>3</th>\n",
       "      <td>1.993492e-01</td>\n",
       "      <td>2.753211e-10</td>\n",
       "      <td>4.805032e-02</td>\n",
       "    </tr>\n",
       "    <tr>\n",
       "      <th>4</th>\n",
       "      <td>-1.125329e-09</td>\n",
       "      <td>4.282015e-10</td>\n",
       "      <td>-3.879563e-11</td>\n",
       "    </tr>\n",
       "    <tr>\n",
       "      <th>5</th>\n",
       "      <td>2.991782e+00</td>\n",
       "      <td>7.004407e-02</td>\n",
       "      <td>2.384048e-01</td>\n",
       "    </tr>\n",
       "    <tr>\n",
       "      <th>6</th>\n",
       "      <td>1.794582e-01</td>\n",
       "      <td>5.424704e-07</td>\n",
       "      <td>-3.859668e-11</td>\n",
       "    </tr>\n",
       "    <tr>\n",
       "      <th>7</th>\n",
       "      <td>1.498764e+00</td>\n",
       "      <td>-2.430056e-12</td>\n",
       "      <td>-6.259171e-10</td>\n",
       "    </tr>\n",
       "    <tr>\n",
       "      <th>8</th>\n",
       "      <td>1.015898e+00</td>\n",
       "      <td>9.421524e-02</td>\n",
       "      <td>-4.078515e-11</td>\n",
       "    </tr>\n",
       "    <tr>\n",
       "      <th>9</th>\n",
       "      <td>1.196554e-11</td>\n",
       "      <td>-2.214463e-09</td>\n",
       "      <td>-4.505125e-10</td>\n",
       "    </tr>\n",
       "    <tr>\n",
       "      <th>0</th>\n",
       "      <td>2.939004e-01</td>\n",
       "      <td>2.791893e-09</td>\n",
       "      <td>7.237821e-02</td>\n",
       "    </tr>\n",
       "    <tr>\n",
       "      <th>1</th>\n",
       "      <td>1.285854e-01</td>\n",
       "      <td>-2.675904e-11</td>\n",
       "      <td>-9.234498e-10</td>\n",
       "    </tr>\n",
       "    <tr>\n",
       "      <th>2</th>\n",
       "      <td>3.685685e-01</td>\n",
       "      <td>1.387768e-01</td>\n",
       "      <td>-1.047795e-09</td>\n",
       "    </tr>\n",
       "    <tr>\n",
       "      <th>3</th>\n",
       "      <td>6.755390e-02</td>\n",
       "      <td>-1.372950e-08</td>\n",
       "      <td>6.033618e-01</td>\n",
       "    </tr>\n",
       "    <tr>\n",
       "      <th>4</th>\n",
       "      <td>2.061053e+00</td>\n",
       "      <td>-1.680783e-08</td>\n",
       "      <td>1.112996e-01</td>\n",
       "    </tr>\n",
       "    <tr>\n",
       "      <th>5</th>\n",
       "      <td>3.244485e-01</td>\n",
       "      <td>-2.635034e-09</td>\n",
       "      <td>1.993457e-01</td>\n",
       "    </tr>\n",
       "    <tr>\n",
       "      <th>6</th>\n",
       "      <td>4.216814e-02</td>\n",
       "      <td>-1.146816e-10</td>\n",
       "      <td>6.219871e-01</td>\n",
       "    </tr>\n",
       "    <tr>\n",
       "      <th>7</th>\n",
       "      <td>3.912795e-01</td>\n",
       "      <td>1.686118e-10</td>\n",
       "      <td>3.509806e-01</td>\n",
       "    </tr>\n",
       "    <tr>\n",
       "      <th>8</th>\n",
       "      <td>4.520181e-02</td>\n",
       "      <td>1.260236e-08</td>\n",
       "      <td>-1.736566e-11</td>\n",
       "    </tr>\n",
       "    <tr>\n",
       "      <th>9</th>\n",
       "      <td>1.807001e-01</td>\n",
       "      <td>-1.542929e-09</td>\n",
       "      <td>4.192339e-02</td>\n",
       "    </tr>\n",
       "    <tr>\n",
       "      <th>0</th>\n",
       "      <td>5.968559e-13</td>\n",
       "      <td>8.020166e-09</td>\n",
       "      <td>7.155656e-02</td>\n",
       "    </tr>\n",
       "    <tr>\n",
       "      <th>1</th>\n",
       "      <td>2.534480e-01</td>\n",
       "      <td>9.961809e-12</td>\n",
       "      <td>6.452381e-02</td>\n",
       "    </tr>\n",
       "    <tr>\n",
       "      <th>2</th>\n",
       "      <td>3.656868e-04</td>\n",
       "      <td>-7.613608e-10</td>\n",
       "      <td>-1.879101e-09</td>\n",
       "    </tr>\n",
       "    <tr>\n",
       "      <th>3</th>\n",
       "      <td>1.042443e-02</td>\n",
       "      <td>-1.321965e-08</td>\n",
       "      <td>1.036493e-01</td>\n",
       "    </tr>\n",
       "    <tr>\n",
       "      <th>4</th>\n",
       "      <td>3.939730e-01</td>\n",
       "      <td>-5.940137e-12</td>\n",
       "      <td>1.363206e-02</td>\n",
       "    </tr>\n",
       "    <tr>\n",
       "      <th>5</th>\n",
       "      <td>2.251498e-01</td>\n",
       "      <td>-2.671641e-12</td>\n",
       "      <td>3.322711e+00</td>\n",
       "    </tr>\n",
       "    <tr>\n",
       "      <th>6</th>\n",
       "      <td>9.404276e-01</td>\n",
       "      <td>-1.626730e-04</td>\n",
       "      <td>-4.831691e-13</td>\n",
       "    </tr>\n",
       "    <tr>\n",
       "      <th>7</th>\n",
       "      <td>-6.597830e-09</td>\n",
       "      <td>-3.555073e-09</td>\n",
       "      <td>5.792204e-01</td>\n",
       "    </tr>\n",
       "    <tr>\n",
       "      <th>8</th>\n",
       "      <td>1.968011e-01</td>\n",
       "      <td>-1.583089e-11</td>\n",
       "      <td>1.246341e+00</td>\n",
       "    </tr>\n",
       "    <tr>\n",
       "      <th>9</th>\n",
       "      <td>1.574007e-01</td>\n",
       "      <td>-3.175415e-10</td>\n",
       "      <td>3.636503e-03</td>\n",
       "    </tr>\n",
       "    <tr>\n",
       "      <th>...</th>\n",
       "      <td>...</td>\n",
       "      <td>...</td>\n",
       "      <td>...</td>\n",
       "    </tr>\n",
       "    <tr>\n",
       "      <th>0</th>\n",
       "      <td>3.813360e-01</td>\n",
       "      <td>-9.751489e-11</td>\n",
       "      <td>5.505087e-03</td>\n",
       "    </tr>\n",
       "    <tr>\n",
       "      <th>1</th>\n",
       "      <td>-7.869545e-10</td>\n",
       "      <td>-3.029669e-09</td>\n",
       "      <td>8.531165e-04</td>\n",
       "    </tr>\n",
       "    <tr>\n",
       "      <th>2</th>\n",
       "      <td>8.942275e-01</td>\n",
       "      <td>-6.690470e-11</td>\n",
       "      <td>9.434841e-01</td>\n",
       "    </tr>\n",
       "    <tr>\n",
       "      <th>3</th>\n",
       "      <td>1.699945e-01</td>\n",
       "      <td>9.798549e-08</td>\n",
       "      <td>-1.858780e-11</td>\n",
       "    </tr>\n",
       "    <tr>\n",
       "      <th>4</th>\n",
       "      <td>3.310995e-03</td>\n",
       "      <td>1.364806e-07</td>\n",
       "      <td>3.600991e-01</td>\n",
       "    </tr>\n",
       "    <tr>\n",
       "      <th>5</th>\n",
       "      <td>-9.947598e-14</td>\n",
       "      <td>-1.190577e-07</td>\n",
       "      <td>-1.202181e-09</td>\n",
       "    </tr>\n",
       "    <tr>\n",
       "      <th>6</th>\n",
       "      <td>1.113797e+00</td>\n",
       "      <td>1.982701e-02</td>\n",
       "      <td>2.332530e-02</td>\n",
       "    </tr>\n",
       "    <tr>\n",
       "      <th>7</th>\n",
       "      <td>5.314798e-02</td>\n",
       "      <td>-2.205709e-09</td>\n",
       "      <td>1.539211e-01</td>\n",
       "    </tr>\n",
       "    <tr>\n",
       "      <th>8</th>\n",
       "      <td>2.520143e-01</td>\n",
       "      <td>-3.166178e-09</td>\n",
       "      <td>1.800065e+00</td>\n",
       "    </tr>\n",
       "    <tr>\n",
       "      <th>9</th>\n",
       "      <td>-1.278977e-12</td>\n",
       "      <td>-9.656219e-08</td>\n",
       "      <td>7.752791e-01</td>\n",
       "    </tr>\n",
       "    <tr>\n",
       "      <th>0</th>\n",
       "      <td>4.697322e-01</td>\n",
       "      <td>-3.814591e-09</td>\n",
       "      <td>-9.961809e-12</td>\n",
       "    </tr>\n",
       "    <tr>\n",
       "      <th>1</th>\n",
       "      <td>1.056333e-04</td>\n",
       "      <td>-4.472298e-09</td>\n",
       "      <td>2.229927e+00</td>\n",
       "    </tr>\n",
       "    <tr>\n",
       "      <th>2</th>\n",
       "      <td>6.609445e-03</td>\n",
       "      <td>4.185381e-10</td>\n",
       "      <td>4.710833e-01</td>\n",
       "    </tr>\n",
       "    <tr>\n",
       "      <th>3</th>\n",
       "      <td>5.042716e-01</td>\n",
       "      <td>-3.809973e-09</td>\n",
       "      <td>-4.096933e-09</td>\n",
       "    </tr>\n",
       "    <tr>\n",
       "      <th>4</th>\n",
       "      <td>9.605394e-02</td>\n",
       "      <td>3.964828e-12</td>\n",
       "      <td>1.463684e+00</td>\n",
       "    </tr>\n",
       "    <tr>\n",
       "      <th>5</th>\n",
       "      <td>1.237908e-10</td>\n",
       "      <td>1.708571e-09</td>\n",
       "      <td>8.388570e-01</td>\n",
       "    </tr>\n",
       "    <tr>\n",
       "      <th>6</th>\n",
       "      <td>5.832988e+00</td>\n",
       "      <td>2.296474e-11</td>\n",
       "      <td>2.550676e+00</td>\n",
       "    </tr>\n",
       "    <tr>\n",
       "      <th>7</th>\n",
       "      <td>1.589135e-01</td>\n",
       "      <td>-3.512577e-08</td>\n",
       "      <td>2.670556e-01</td>\n",
       "    </tr>\n",
       "    <tr>\n",
       "      <th>8</th>\n",
       "      <td>3.484140e-04</td>\n",
       "      <td>-2.873435e-11</td>\n",
       "      <td>5.111123e-01</td>\n",
       "    </tr>\n",
       "    <tr>\n",
       "      <th>9</th>\n",
       "      <td>8.287494e-01</td>\n",
       "      <td>1.998131e-09</td>\n",
       "      <td>8.190555e-01</td>\n",
       "    </tr>\n",
       "    <tr>\n",
       "      <th>0</th>\n",
       "      <td>6.404000e-01</td>\n",
       "      <td>1.472381e+00</td>\n",
       "      <td>-2.222777e-09</td>\n",
       "    </tr>\n",
       "    <tr>\n",
       "      <th>1</th>\n",
       "      <td>5.225276e-03</td>\n",
       "      <td>4.661729e-10</td>\n",
       "      <td>-4.363585e-10</td>\n",
       "    </tr>\n",
       "    <tr>\n",
       "      <th>2</th>\n",
       "      <td>1.253096e-04</td>\n",
       "      <td>-1.481382e-07</td>\n",
       "      <td>-8.560903e-10</td>\n",
       "    </tr>\n",
       "    <tr>\n",
       "      <th>3</th>\n",
       "      <td>9.671612e-01</td>\n",
       "      <td>1.761301e-02</td>\n",
       "      <td>7.899707e-02</td>\n",
       "    </tr>\n",
       "    <tr>\n",
       "      <th>4</th>\n",
       "      <td>8.841036e-02</td>\n",
       "      <td>2.897101e-02</td>\n",
       "      <td>6.831144e-02</td>\n",
       "    </tr>\n",
       "    <tr>\n",
       "      <th>5</th>\n",
       "      <td>1.756011e-01</td>\n",
       "      <td>2.835380e-02</td>\n",
       "      <td>4.428698e-01</td>\n",
       "    </tr>\n",
       "    <tr>\n",
       "      <th>6</th>\n",
       "      <td>1.918998e-01</td>\n",
       "      <td>1.678323e-08</td>\n",
       "      <td>1.856042e+00</td>\n",
       "    </tr>\n",
       "    <tr>\n",
       "      <th>7</th>\n",
       "      <td>0.000000e+00</td>\n",
       "      <td>-2.221904e-08</td>\n",
       "      <td>1.834239e+00</td>\n",
       "    </tr>\n",
       "    <tr>\n",
       "      <th>8</th>\n",
       "      <td>2.242675e-01</td>\n",
       "      <td>-8.029133e-09</td>\n",
       "      <td>1.200345e+00</td>\n",
       "    </tr>\n",
       "    <tr>\n",
       "      <th>9</th>\n",
       "      <td>6.234523e-01</td>\n",
       "      <td>-1.530083e-10</td>\n",
       "      <td>1.106362e+00</td>\n",
       "    </tr>\n",
       "  </tbody>\n",
       "</table>\n",
       "<p>100 rows × 3 columns</p>\n",
       "</div>"
      ],
      "text/plain": [
       "       iSet LLR0  iSet-het LLR0    mtSet LLR0\n",
       "0   5.121553e-03   2.542095e-09 -1.799094e-11\n",
       "1   2.117660e-02  -8.302578e-09  3.735383e-01\n",
       "2   1.437622e-01   5.130119e-12 -6.312462e-11\n",
       "3   1.993492e-01   2.753211e-10  4.805032e-02\n",
       "4  -1.125329e-09   4.282015e-10 -3.879563e-11\n",
       "5   2.991782e+00   7.004407e-02  2.384048e-01\n",
       "6   1.794582e-01   5.424704e-07 -3.859668e-11\n",
       "7   1.498764e+00  -2.430056e-12 -6.259171e-10\n",
       "8   1.015898e+00   9.421524e-02 -4.078515e-11\n",
       "9   1.196554e-11  -2.214463e-09 -4.505125e-10\n",
       "0   2.939004e-01   2.791893e-09  7.237821e-02\n",
       "1   1.285854e-01  -2.675904e-11 -9.234498e-10\n",
       "2   3.685685e-01   1.387768e-01 -1.047795e-09\n",
       "3   6.755390e-02  -1.372950e-08  6.033618e-01\n",
       "4   2.061053e+00  -1.680783e-08  1.112996e-01\n",
       "5   3.244485e-01  -2.635034e-09  1.993457e-01\n",
       "6   4.216814e-02  -1.146816e-10  6.219871e-01\n",
       "7   3.912795e-01   1.686118e-10  3.509806e-01\n",
       "8   4.520181e-02   1.260236e-08 -1.736566e-11\n",
       "9   1.807001e-01  -1.542929e-09  4.192339e-02\n",
       "0   5.968559e-13   8.020166e-09  7.155656e-02\n",
       "1   2.534480e-01   9.961809e-12  6.452381e-02\n",
       "2   3.656868e-04  -7.613608e-10 -1.879101e-09\n",
       "3   1.042443e-02  -1.321965e-08  1.036493e-01\n",
       "4   3.939730e-01  -5.940137e-12  1.363206e-02\n",
       "5   2.251498e-01  -2.671641e-12  3.322711e+00\n",
       "6   9.404276e-01  -1.626730e-04 -4.831691e-13\n",
       "7  -6.597830e-09  -3.555073e-09  5.792204e-01\n",
       "8   1.968011e-01  -1.583089e-11  1.246341e+00\n",
       "9   1.574007e-01  -3.175415e-10  3.636503e-03\n",
       "..           ...            ...           ...\n",
       "0   3.813360e-01  -9.751489e-11  5.505087e-03\n",
       "1  -7.869545e-10  -3.029669e-09  8.531165e-04\n",
       "2   8.942275e-01  -6.690470e-11  9.434841e-01\n",
       "3   1.699945e-01   9.798549e-08 -1.858780e-11\n",
       "4   3.310995e-03   1.364806e-07  3.600991e-01\n",
       "5  -9.947598e-14  -1.190577e-07 -1.202181e-09\n",
       "6   1.113797e+00   1.982701e-02  2.332530e-02\n",
       "7   5.314798e-02  -2.205709e-09  1.539211e-01\n",
       "8   2.520143e-01  -3.166178e-09  1.800065e+00\n",
       "9  -1.278977e-12  -9.656219e-08  7.752791e-01\n",
       "0   4.697322e-01  -3.814591e-09 -9.961809e-12\n",
       "1   1.056333e-04  -4.472298e-09  2.229927e+00\n",
       "2   6.609445e-03   4.185381e-10  4.710833e-01\n",
       "3   5.042716e-01  -3.809973e-09 -4.096933e-09\n",
       "4   9.605394e-02   3.964828e-12  1.463684e+00\n",
       "5   1.237908e-10   1.708571e-09  8.388570e-01\n",
       "6   5.832988e+00   2.296474e-11  2.550676e+00\n",
       "7   1.589135e-01  -3.512577e-08  2.670556e-01\n",
       "8   3.484140e-04  -2.873435e-11  5.111123e-01\n",
       "9   8.287494e-01   1.998131e-09  8.190555e-01\n",
       "0   6.404000e-01   1.472381e+00 -2.222777e-09\n",
       "1   5.225276e-03   4.661729e-10 -4.363585e-10\n",
       "2   1.253096e-04  -1.481382e-07 -8.560903e-10\n",
       "3   9.671612e-01   1.761301e-02  7.899707e-02\n",
       "4   8.841036e-02   2.897101e-02  6.831144e-02\n",
       "5   1.756011e-01   2.835380e-02  4.428698e-01\n",
       "6   1.918998e-01   1.678323e-08  1.856042e+00\n",
       "7   0.000000e+00  -2.221904e-08  1.834239e+00\n",
       "8   2.242675e-01  -8.029133e-09  1.200345e+00\n",
       "9   6.234523e-01  -1.530083e-10  1.106362e+00\n",
       "\n",
       "[100 rows x 3 columns]"
      ]
     },
     "execution_count": 14,
     "metadata": {},
     "output_type": "execute_result"
    }
   ],
   "source": [
    "df0"
   ]
  },
  {
   "cell_type": "markdown",
   "metadata": {},
   "source": [
    "### Variance Component Plot"
   ]
  },
  {
   "cell_type": "code",
   "execution_count": 15,
   "metadata": {
    "collapsed": false
   },
   "outputs": [
    {
     "data": {
      "text/plain": [
       "<matplotlib.collections.PolyCollection at 0x113079950>"
      ]
     },
     "execution_count": 15,
     "metadata": {},
     "output_type": "execute_result"
    },
    {
     "data": {
      "image/png": "[encoded data removed]",
      "text/plain": [
       "<matplotlib.figure.Figure at 0x11163dc50>"
      ]
     },
     "metadata": {},
     "output_type": "display_data"
    }
   ],
   "source": [
    "import pylab as pl\n",
    "tot_var = df['Persistent Var'].values + df['Rescaling-GxC Var'].values + df['Heterogeneity-GxC var'].values\n",
    "nohet_var = df['Persistent Var'].values + df['Rescaling-GxC Var'].values\n",
    "pl.fill_between(split.wnd_pos[:n_wnds,1], 0, df['Persistent Var'].values, color='gray')\n",
    "pl.fill_between(split.wnd_pos[:n_wnds,1], df['Persistent Var'].values, nohet_var, color='Orange')\n",
    "pl.fill_between(split.wnd_pos[:n_wnds,1], nohet_var, tot_var, color='Gold')"
   ]
  },
  {
   "cell_type": "markdown",
   "metadata": {},
   "source": [
    "### P-values"
   ]
  },
  {
   "cell_type": "markdown",
   "metadata": {
    "collapsed": true
   },
   "source": [
    "Emprical P values are obtained from a relatively small number of genome-wide permutations by pooling across all conisdered steps."
   ]
  },
  {
   "cell_type": "code",
   "execution_count": 16,
   "metadata": {
    "collapsed": false
   },
   "outputs": [],
   "source": [
    "from limix.mtSet.core.iset_utils import calc_emp_pv_eff\n",
    "#calculate P values for the three tests\n",
    "for test in ['mtSet', 'iSet', 'iSet-het']:\n",
    "    df[test+' pv'] = calc_emp_pv_eff(df[test+' LLR'].values, df0[test+' LLR0'].values)"
   ]
  },
  {
   "cell_type": "code",
   "execution_count": 17,
   "metadata": {
    "collapsed": false
   },
   "outputs": [
    {
     "data": {
      "text/plain": [
       "[<matplotlib.lines.Line2D at 0x111e94210>]"
      ]
     },
     "execution_count": 17,
     "metadata": {},
     "output_type": "execute_result"
    },
    {
     "data": {
      "image/png": "[encoded data removed]",
      "text/plain": [
       "<matplotlib.figure.Figure at 0x112b90510>"
      ]
     },
     "metadata": {},
     "output_type": "display_data"
    }
   ],
   "source": [
    "#makes a manhattan plot\n",
    "wnd_start = split.wnd_pos[:n_wnds,1]\n",
    "wnd_end = split.wnd_pos[:n_wnds,2]\n",
    "import pylab as pl\n",
    "pl.plot(wnd_start, -sp.log10(df['mtSet pv'].values), 'o', color='DarkGreen')\n",
    "pl.plot(wnd_start, -sp.log10(df['iSet pv'].values), 'o', color='DarkRed')\n",
    "pl.plot(wnd_start, -sp.log10(df['iSet-het pv'].values), 'o', color='Gold')"
   ]
  },
  {
   "cell_type": "code",
   "execution_count": null,
   "metadata": {
    "collapsed": true
   },
   "outputs": [],
   "source": []
  }
 ],
 "metadata": {
  "kernelspec": {
   "display_name": "Python 2",
   "language": "python",
   "name": "python2"
  },
  "language_info": {
   "codemirror_mode": {
    "name": "ipython",
    "version": 2
   },
   "file_extension": ".py",
   "mimetype": "text/x-python",
   "name": "python",
   "nbconvert_exporter": "python",
   "pygments_lexer": "ipython2",
   "version": "2.7.11"
  }
 },
 "nbformat": 4,
 "nbformat_minor": 0
}
