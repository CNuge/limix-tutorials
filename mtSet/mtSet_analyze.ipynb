{
 "cells": [
  {
   "cell_type": "markdown",
   "metadata": {},
   "source": [
    "# Contents\n",
    "\n",
    "mtSet: set tests for association analysis\n",
    "* [How to use mtSet from command line](mtSet_scripts.ipynb)\n",
    "    * [Preprocessing](mtSet_preprocess.ipynb)\n",
    "    * [Phenotype Simulator](mtSet_phenosim.ipynb)\n",
    "    * [Running mtSet](mtSet_analyze.ipynb)\n",
    "    * [Postprocessing](mtSet_postprocess.ipynb)\n",
    "    * [Example for command line usage](example_usage.ipynb)\n",
    "* [How to use mtSet within python](mtSet_python.ipynb)\n",
    "\n",
    "iSet: set tests for genetic interactions with context (beta)\n",
    "* [Analysis of complete designs](iSet_python_compl.ipynb)\n",
    "* [Analysis of stratified designs](iSet_python_strat.ipynb)"
   ]
  },
  {
   "cell_type": "markdown",
   "metadata": {
    "collapsed": true
   },
   "source": [
    "## Running mtSet\n",
    "\n",
    "Once the preprocessing step has been used to obtain the genetic relatedness matrix, to fit the null model and to identify the genetic regions to be considered in the analysis, the set test can be run by the following analysis script:\n",
    "\n",
    "     ./mtSet_analyze --bfile bfile --cfile cfile --pfile pfile --nfile nfile --wfile wfile --ffile ffile --minSnps minSnps --start_wnd start_wnd --end_wnd end_wnd --resdir rdir --trait_idx traitIdx\n",
    "\n",
    "where\n",
    "* _bfile_ is the base name of of the binary bed file (_bfile_.bed,_bfile_.bim,_bfile_.fam are required).\n",
    "* _cfile_ is the base name of the covariance matrix file. The script requires the files: _cfile_.cov containing the the genetic relatedness matrix, _cfile_.cov.id containing the corresponding sample identifiers, _cfile_.cov.eval and _cfile.cov.evec containing the eigenvalues and eigenvectors of the matrix. If _cfile_ is not set, the relatedness component is omitted from the model.\n",
    "* _pfile_ is the base name of the phenotype file. The script requires the file _pfile_.phe containing the phenotype data.\n",
    "* _nfile_ is the base name of the null model file. The script requires the file _nfile_.p0 containing the optimal null model parameters. If covariates are set, it also requires the file _nfile_.f0.\n",
    "* _wfile_ is the base name of the file containing the windows to be considered in the set test. The script requires the file _wfile_.wnd.\n",
    "* _ffile_ is the name of the file containing the covariates. Each covariate is saved in one column.\n",
    "* _perm_ is the seed used when permuting the genotypes. If the option is not specified then no permutation is considered.\n",
    "* _start_wnd_ is the index of the start window\n",
    "* _end_wnd_ is the index of the end window\n",
    "* _minSnps_ if set only windows containing at least _minSnps_ are considered in the analysis\n",
    "* _rdir_ is the directory to which the results are exported. The results are exported in the folder _rdir_/_perm_ if a permutation seed has been set, otherwise in the folder _rdir_/test. The output file is named _start_wnd_end_wnd_.res and contains results in the following format: window index, chromosome, start position, stop position, index of startposition, number of SNPs and log likelihood ratio.\n",
    "* _trait_idx_ can be used to specify a subset of the phenotypes. If more than one phenotype is selected, the phenotypes have to be seperated by commas. For instance _trait_idx_ 3,4 selects the phenotypes saved in the forth and fifth column (indexing starts with zero).\n",
    "\n",
    "Notice that phenotypes are standardized prior to model fitting."
   ]
  },
  {
   "cell_type": "code",
   "execution_count": null,
   "metadata": {
    "collapsed": true
   },
   "outputs": [],
   "source": []
  }
 ],
 "metadata": {
  "kernelspec": {
   "display_name": "Python 2",
   "language": "python",
   "name": "python2"
  },
  "language_info": {
   "codemirror_mode": {
    "name": "ipython",
    "version": 2
   },
   "file_extension": ".py",
   "mimetype": "text/x-python",
   "name": "python",
   "nbconvert_exporter": "python",
   "pygments_lexer": "ipython2",
   "version": "2.7.11"
  },
  "nav_menu": {},
  "toc": {
   "navigate_menu": true,
   "number_sections": true,
   "sideBar": true,
   "threshold": 6,
   "toc_cell": false,
   "toc_section_display": "block",
   "toc_window_display": false
  }
 },
 "nbformat": 4,
 "nbformat_minor": 0
}
