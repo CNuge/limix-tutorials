{
 "cells": [
  {
   "cell_type": "markdown",
   "metadata": {},
   "source": [
    "# Contents\n",
    "\n",
    "* [How to use mtSet from command line](mtSet_scripts.ipynb)\n",
    "    * [Preprocessing](mtSet_preprocess.ipynb)\n",
    "    * [Phenotype Simulator](mtSet_phenosim.ipynb)\n",
    "    * [Running mtSet](mtSet_analyze.ipynb)\n",
    "    * [Postprocessing](mtSet_postprocess.ipynb)\n",
    "    * [Example for command line usage](example_usage.ipynb)\n",
    "* [How to use mtSet within python](mtSet_python.ipynb)"
   ]
  },
  {
   "cell_type": "markdown",
   "metadata": {},
   "source": [
    "# Example for command line usage\n",
    "\n",
    "\n",
    "This tutorial shows how to use mtSet from the command line using the limix scripts (mtSet_preprocess, mtSet_analyze, mtSet_postprocess, mtSet_simPheno). For a tutorial on how to use mtSet within python please refer to [here](mtSet_python.ipynb).\n",
    "\n",
    "In the following, we give a brief example on how to use mtSet. As a case study, we use a subset of the genotypes from the 1000 project [1] and simulated phenotypes.\n",
    "\n",
    "All commands can be found in _demos/run_mtSet.sh_.\n",
    "In the following, we give a short summary of the individual steps.\n",
    "A demo for running mtSet-PC can be found in _demos/run_mtSetPC.sh_ and it is not showcased here.\n",
    "\n",
    "Go to the bin folder, create the output folder, set the filenames and parameters:\n",
    "\n",
    "    mkdir out\n",
    "    BFILE=./../data/1000G_chr22/chrom22_subsample20_maf0.10 #specify bed basename here\n",
    "    CFILE=./out/chrom22\n",
    "    PFILE=./out/pheno\n",
    "    WFILE=./out/windows\n",
    "    NFILE=./out/null\n",
    "    WSIZE=30000\n",
    "    RESDIR=./out/results\n",
    "    OUTFILE=./out/final\n",
    "\n",
    "Generating covariance matrix:\n",
    "```\n",
    "./../mtSet_preprocess --compute_covariance --bfile $BFILE --cfile $CFILE \n",
    "```\n",
    "\n",
    "Simulating phenotype:\n",
    "```\n",
    "    ./../mtSet/bin/mtSet_simPheno --bfile $BFILE --cfile $CFILE --pfile $PFILE --chrom 22 --minPos 1640000  --maxPos 17550000\n",
    "```\n",
    "\n",
    "Fitting the null model and assigning the markers to windows:\n",
    "```\n",
    "./../mtSet/bin/mtSet_preprocess --precompute_windows --fit_null --bfile $BFILE --cfile $CFILE --pfile $PFILE --wfile $WFILE --nfile $NFILE --window_size $WSIZE --plot_windows\n",
    "``` \n",
    "\n",
    "Running the analysis on the true genotypes:\n",
    "```\n",
    "./../mtSet/bin/mtSet_analyze --bfile $BFILE --cfile $CFILE --pfile $PFILE --nfile $NFILE --wfile $WFILE --minSnps 4 --resdir $RESDIR --start_wnd 0 --end_wnd 100\n",
    "```\n",
    "\n",
    "Running the analysis on permuted genotypes:\n",
    "```\n",
    "for i in `seq 0 10`;\n",
    "do\n",
    "./../mtSet/bin/mtSet_analyze --bfile $BFILE --cfile $CFILE --pfile $PFILE --nfile $NFILE --wfile $WFILE --minSnps 4 --resdir $RESDIR --start_wnd 0 --end_wnd 100 --perm $i\n",
    "done\n",
    "```\n",
    "\n",
    "Postprocessing:\n",
    "```\n",
    "./../mtSet/bin/mtSet_postprocess --resdir $RESDIR --outfile $OUTFILE --manhattan_plot\n",
    "```\n",
    "\n",
    "***\n",
    "[1]: Genomes Project, C. et al. An integrated map of genetic variation from 1,092 human genomes. _Nature_ **491**, 56-65 (2012)."
   ]
  },
  {
   "cell_type": "code",
   "execution_count": null,
   "metadata": {
    "collapsed": true
   },
   "outputs": [],
   "source": []
  }
 ],
 "metadata": {
  "kernelspec": {
   "display_name": "Python 2",
   "language": "python",
   "name": "python2"
  },
  "language_info": {
   "codemirror_mode": {
    "name": "ipython",
    "version": 2
   },
   "file_extension": ".py",
   "mimetype": "text/x-python",
   "name": "python",
   "nbconvert_exporter": "python",
   "pygments_lexer": "ipython2",
   "version": "2.7.10"
  }
 },
 "nbformat": 4,
 "nbformat_minor": 0
}
