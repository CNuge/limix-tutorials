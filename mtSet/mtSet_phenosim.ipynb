{
 "cells": [
  {
   "cell_type": "markdown",
   "metadata": {},
   "source": [
    "# Contents\n",
    "\n",
    "* [How to use mtSet from command line](mtSet_scripts.ipynb)\n",
    "    * [Preprocessing](mtSet_preprocess.ipynb)\n",
    "    * [Phenotype Simulator](mtSet_phenosim.ipynb)\n",
    "    * [Running mtSet](mtSet_analyze.ipynb)\n",
    "    * [Postprocessing](mtSet_postprocess.ipynb)\n",
    "    * [Example for command line usage](example_usage.ipynb)\n",
    "* [How to use mtSet within python](mtSet_python.ipynb)"
   ]
  },
  {
   "cell_type": "markdown",
   "metadata": {},
   "source": [
    "## Phenotype Simulator\n",
    "\n",
    "Our software package also includes a command-line simulator that allows to generate phenotypes with a wide range of different genetic architectures. In brief, the simulator assumes a linear-additive model, considering the contribution of a randomly selected (causal) genetic region for the set component, polygenic background effects from all remaining genome-wide variants, a contribution from unmeasured factors and iid observation noise. For a detailed description of the simulation procedure, we refer to the Supplementary Methods. \n",
    "\n",
    "The simulator requires as input the genotypes and the relatedness component:\n",
    "\n",
    "    ./mtSet_simPheno --bfile bfile --cfile cfile --pfile pfile\n",
    "\n",
    "where\n",
    "* _bfile_ is the name of of the binary bed file (bfile.bed,bfile.bim,bfile.fam are required).\n",
    "* _cfile_ is the name of the covariance matrix file (_cfile_.cov,_cfile_.cov.id are required). If none is specified, the covariance matrix is expected to be in the current folder, having the same filename as the bed file. \n",
    "* _pfile_ is the name of the output file (_pfile_.phe,_pfile_.region). The file _pfile_.phe contains the phenotypic values (each sample is saved in one row, each trait in one column). The file _pfile_.region contains the randomly selected causal region (chromsom, start position, end position). \n",
    "If _pfile_ is not specified, the files are saved in the current folder having an automatic generated filename containing the bed filename and the values of all simulation parameters.\n",
    "\n",
    "By changing the following parameters different genetic architectures can be simulated and, in particular, the simulation experiments of our paper can be reproduced.\n",
    "\n",
    "\n",
    "| Option        | Default       | Datatype | Explanation |\n",
    "| ------------- |:-------------:|:--------:| --------|\n",
    "| _--seed_       | 0 | int | seed for random number generator |\n",
    "| _--nTraits_    | 4 | int | number of simulated phenotypes |\n",
    "| _--windowSize_ | 1.5e4 | int | size of causal region |\n",
    "| _--vTotR_ | 0.05 | float |   variance explained by the causal region |\n",
    "| _--nCausalR_  | 10 | int |   number of causal variants in the region |\n",
    "| _--pCommonR_ | 0.8 | float | percentage of shared causal variants |\n",
    "| _--vTotBg_ | 0.4 | float  | variance explained by the polygenic background effects |\n",
    "| _--pHidden_ | 0.6 | float | residual variance explained by hidden confounders (in %) |\n",
    "| _--pCommon_ | 0.8 | float | background and residual signal that is shared across traits (in %) |\n",
    "| _--chrom_ | None | int | specifies the chromosome of the causal region |\n",
    "| _--minPos_ | None | int | specifies the min. chromosomal position of the causal region (in basepairs) |\n",
    "| _--maxPos_ | None | int | specifies the max. chromosomal position of the causal region (in basepairs) |\n",
    "\n",
    "\n",
    "\n",
    "\n",
    "\n"
   ]
  },
  {
   "cell_type": "code",
   "execution_count": null,
   "metadata": {
    "collapsed": true
   },
   "outputs": [],
   "source": []
  }
 ],
 "metadata": {
  "kernelspec": {
   "display_name": "Python 2",
   "language": "python",
   "name": "python2"
  },
  "language_info": {
   "codemirror_mode": {
    "name": "ipython",
    "version": 2
   },
   "file_extension": ".py",
   "mimetype": "text/x-python",
   "name": "python",
   "nbconvert_exporter": "python",
   "pygments_lexer": "ipython2",
   "version": "2.7.10"
  }
 },
 "nbformat": 4,
 "nbformat_minor": 0
}
