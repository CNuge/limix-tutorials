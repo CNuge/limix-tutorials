{
 "cells": [
  {
   "cell_type": "markdown",
   "metadata": {},
   "source": [
    "# Multi Trait and Interaction Set tests\n",
    "\n",
    "Set tests are a powerful approach for association testing between groups of genetic variants and quantitative traits.\n",
    "In this tutorial we demonstrate how to use set tests within the LIMIX framework to test for association (mtSet) and genetic interactions with context (iSet).\n",
    "\n",
    "## mtSet\n",
    "\n",
    "Multi Trait Set test is an implementation of efficient set test algorithms for testing for associations between multiple genetic variants and multiple traits.\n",
    "mtSet can account for confounding factors such as relatedness and can be used for analysis of single traits.\n",
    "mtSet can be used both with the command line interface using the limix scripts (mtSet_preprocess, mtSet_analyze, mtSet_postprocess, mtSet_simPheno) or within python.\n",
    "\n",
    "### Quick Start\n",
    "\n",
    "0. Our software depends on [Plink](https://www.cog-genomics.org/plink2) version 1.9 (or greater) for preprocessing. Please, make sure you have it before proceeding.\n",
    "\n",
    "1. Download and install Limix\n",
    "```bash\n",
    "git clone https://github.com/PMBio/limix.git\n",
    "pushd limix\n",
    "python setup.py install\n",
    "popd\n",
    "```\n",
    "\n",
    "2. Download tutorial\n",
    "```bash\n",
    "git clone https://github.com/PMBio/limix-tutorials.git\n",
    "cd limix-tutorials/mtSet\n",
    "python download_examples.py\n",
    "cd data\n",
    "ls 1000g/\n",
    "```\n",
    "\n",
    "3. Preprocess\n",
    "```bash\n",
    "BED_FILE=1000g/chrom22_subsample20_maf0.10\n",
    "PHE_FILE=1000g/pheno\n",
    "mtSet_preprocess --compute_covariance --bfile $BED_FILE --cfile base_name\n",
    "mtSet_preprocess --compute_PCs 2 --ffile fixed_effects --bfile $BED_FILE\n",
    "mtSet_preprocess --fit_null --bfile $BED_FILE --cfile base_name --nfile base_name --pfile $PHE_FILE\n",
    "mtSet_preprocess --precompute_windows --bfile $BED_FILE --plot_windows --wfile base_name\n",
    "```\n",
    "\n",
    "4. Analyze\n",
    "```bash\n",
    "mtSet_analyze --bfile $BED_FILE --wfile base_name --cfile base_name --pfile $PHE_FILE --nfile base_name\n",
    "```\n",
    "\n",
    "6. Postprocess\n",
    "```bash\n",
    "mtSet_postprocess --outfile outfile --manhattan_plot\n",
    "```\n",
    "\n",
    "### Processing\n",
    "\n",
    "Before getting started, we have to compute the sample-to-sample genetic covariance matrix, assign the markers to windows and estimate the trait-to-trait covariance matrices on the null model.\n",
    "\n",
    "#### Computing the Covariance Matrix\n",
    "The covariance matrix can be pre-computed as follows:\n",
    "\n",
    "```bash\n",
    "mtSet_preprocess --compute_covariance --plink_path plink_path  --bfile bfile  --cfile cfile\n",
    "```\n",
    "\n",
    "where\n",
    "* __plink\\_path__ (default: plink) is a pointer to the [plink software](https://www.cog-genomics.org/plink2) (Version 1.9 or greater must be installed).\n",
    "  If not set, a python covariance reader is employed.\n",
    "  We strongly recommend using the plink reader for large datasets.\n",
    "* __bfile__ is the base name of of the binary bed file (__bfile__.bed, __bfile__.bim, __bfile__.fam are required).\n",
    "* __cfile__ is the base name of the output file.\n",
    "  The relatedness matrix will be written to __cfile__.cov while the identifiers of the individuals are written to the file __cfile__.cov.id.\n",
    "  The eigenvalue decomposition of the matrix is saved in the files __cfile__.cov.eval (eigenvalues) and __cfile__.cov.evec (eigenvectors).\n",
    "  If __cfile__ is not specified, the files will be exported to the current directory with the following filenames __bfile__.cov, __bfile__.cov.id, __bfile__.cov.eval, __bfile__.cov.evec.\n",
    "\n",
    "#### Precomputing the Principal Components \n",
    "The principal components can be pre-computed as follows:\n",
    "\n",
    "```bash\n",
    "mtSet_preprocess --compute_PCs k --plink_path plink_path --ffile ffile  --bfile bfile\n",
    "```\n",
    "\n",
    "where\n",
    "* __k__ is the number of top principal components that are saved\n",
    "* __plink\\_path__ (default: plink) is a pointer to the [plink software](https://www.cog-genomics.org/plink2) (Version 1.9 or greater must be installed).\n",
    "  If not set, a python genotype reader is employed.\n",
    "  We strongly recommend using the plink reader for large datasets.\n",
    "* __ffile__ is the name of the fixed effects file, to which the principal components are written to.\n",
    "* __bfile__ is the base name of of the binary bed file (__bfile__.bed, __bfile__.bim, __bfile__.fam are required).\n",
    "\n",
    "\n",
    "#### Fitting the null model\n",
    "\n",
    "To efficiently apply mtSet, it is neccessary to compute the null model beforehand.\n",
    "This can be done with the following command:\n",
    "\n",
    "```bash\n",
    "mtSet_preprocess --fit_null --bfile bfile --cfile cfile --nfile nfile --pfile pfile --ffile ffile --trait_idx trait_idx\n",
    "```\n",
    "\n",
    "where\n",
    "* __bfile__ is the base name of of the binary bed file (_bfile_.bed,_bfile_.bim,_bfile_.fam are required).\n",
    "* __cfile__ is the base name of the covariance file and its eigen decomposition (__cfile__.cov, __cfile__.cov.eval and __cfile__.cov.evec).\n",
    "If __cfile__ is not set, the relatedness component is omitted from the model.\n",
    "* __nfile__ is the base name of the output file.\n",
    "The estimated parameters are saved in __nfile__.p0, the negative log likelihood ratio in __nfile__.nll0, the trait-to-trait genetic covariance matrix in __nfile__.cg0 and the trait-to-trait residual covariance matrix in __nfile__.cn0. \n",
    "* __pfile__ is the base name of the phenotype file.\n",
    "* __ffile__ is the name of the file containing the covariates. Each covariate is saved in one column\n",
    "* __trait\\_idx__ can be used to specify a subset of the phenotypes. If more than one phenotype is selected, the phenotypes have to be seperated by commas. For instance, `--trait_idx 3,4` selects the phenotypes saved in the forth and fifth column (indexing starts with zero).\n",
    "\n",
    "Notice that phenotypes are standardized prior to model fitting.\n",
    "\n",
    "#### Precomputing the windows\n",
    "For applying our set test, the markers have to be assigned to windows. We provide a method that splits the genome in windows of fixed sizes:\n",
    "\n",
    "```bash\n",
    "mtSet_preprocess --precompute_windows --bfile bfile --wfile wfile --window_size window_size --plot_windows\n",
    "```\n",
    "\n",
    "where\n",
    "* __bfile__ is the base name of of the binary bed file (__bfile__.bim is required).\n",
    "* __window\\_size__ is the size of the window (in basepairs). The default value is 30kb.\n",
    "* __wfile__ is the base name of the output file.\n",
    "  If not specified, the file is saved as __bfile__.window\\_size.wnd in the current folder.\n",
    "  Each window is stored in one line having the following format: index, chromosome, start position, stop position, index of startposition and number of SNPs.\n",
    "* __plot\\_windows__ if the flag is set, a histogram over the number of markers within a window is generated and saved as __wfile__.pdf.\n",
    "\n",
    "#### Merging the preprocessing steps\n",
    "\n",
    "Here, we provided the commands to execute the three preprocessing operations individually. However, it is also possible to combine all steps in a single command:\n",
    "\n",
    "```bash\n",
    "mtSet_preprocess --compute_covariance --fit_null --precompute_windows ...\n",
    "```\n",
    "\n",
    "### Phenotype simulation\n",
    "\n",
    "Our software package also includes a command-line simulator that allows to generate phenotypes with a wide range of different genetic architectures.\n",
    "In brief, the simulator assumes a linear-additive model, considering the contribution of a randomly selected (causal) genetic region for the set component, polygenic background effects from all remaining genome-wide variants, a contribution from unmeasured factors and iid observation noise.\n",
    "For a detailed description of the simulation procedure, we refer to the Supplementary Methods. \n",
    "\n",
    "The simulator requires as input the genotypes and the relatedness component:\n",
    "\n",
    "```bash\n",
    "mtSet_simPheno --bfile bfile --cfile cfile --pfile pfile\n",
    "```\n",
    "\n",
    "where\n",
    "* __bfile__ is the name of of the binary bed file (__bfile__.bed, __bfile__.bim, __bfile__.fam are required).\n",
    "* __cfile__ is the name of the covariance matrix file (__cfile__.cov, __cfile__.cov.id are required).\n",
    "If none is specified, the covariance matrix is expected to be in the current folder, having the same filename as the bed file.\n",
    "* __pfile__ is the name of the output file (__pfile__.phe, __pfile__.region).\n",
    "The file __pfile__.phe contains the phenotypic values (each sample is saved in one row, each trait in one column).\n",
    "The file __pfile__.region contains the randomly selected causal region (chromsom, start position, end position). \n",
    "If __pfile__ is not specified, the files are saved in the current folder having an automatic generated filename containing the bed filename and the values of all simulation parameters.\n",
    "\n",
    "By changing the following parameters different genetic architectures can be simulated and, in particular, the simulation experiments of our paper can be reproduced.\n",
    "\n",
    "\n",
    "| Option        | Default       | Datatype | Explanation |\n",
    "| ------------- |:-------------:|:--------:| --------|\n",
    "| _--seed_       | 0 | int | seed for random number generator |\n",
    "| _--nTraits_    | 4 | int | number of simulated phenotypes |\n",
    "| _--windowSize_ | 1.5e4 | int | size of causal region |\n",
    "| _--vTotR_ | 0.05 | float |   variance explained by the causal region |\n",
    "| _--nCausalR_  | 10 | int |   number of causal variants in the region |\n",
    "| _--pCommonR_ | 0.8 | float | percentage of shared causal variants |\n",
    "| _--vTotBg_ | 0.4 | float  | variance explained by the polygenic background effects |\n",
    "| _--pHidden_ | 0.6 | float | residual variance explained by hidden confounders (in %) |\n",
    "| _--pCommon_ | 0.8 | float | background and residual signal that is shared across traits (in %) |\n",
    "| _--chrom_ | None | int | specifies the chromosome of the causal region |\n",
    "| _--minPos_ | None | int | specifies the min. chromosomal position of the causal region (in basepairs) |\n",
    "| _--maxPos_ | None | int | specifies the max. chromosomal position of the causal region (in basepairs) |\n",
    "\n",
    "\n",
    "\n",
    "### Postprocessing simulation\n",
    "\n",
    "After running mtSet, the following script can be used to merge the result files and estimate the p-values (p-values are obtained by a parametric fit of the test statistics): \n",
    "\n",
    "```bash\n",
    "mtSet_postprocess --resdir resdir --outfile outfile --manhattan_plot\n",
    "```\n",
    "\n",
    "where \n",
    "* __resdir__ is a pointer to the folder containing the result files of the analysis.\n",
    "* __outfile__ is the prefix of the two output files.\n",
    "_outfile_.perm lists the test statistics (first column) and p-values (second column) of the permutated windows\n",
    "_outfile_.test contains the (index, chromosome, start position, stop position, SNP index, number of SNPs, test statistics and p-value) of each window. Each window is saved in one row.\n",
    "* __manhattan\\_plot__ is a flag. If set, a manhattan plot is saved in outfile.manhattan.jpg (default: False).\n"
   ]
  },
  {
   "cell_type": "markdown",
   "metadata": {},
   "source": [
    "### Within Python\n",
    "\n",
    "This tutorial shows how to use mtSet within python.\n",
    "For a tutorial on how to use mtSet from the command line using the limix scripts (mtSet_preprocess, mtSet_analyze, mtSet_postprocess, mtSet_simPheno) please refer to the tutorials:\n",
    "* [Tutorial on how to use mtSet from command line](mtSet_scripts.ipynb)\n",
    "* [Example for command line usage](example_usage.ipynb)\n",
    "\n"
   ]
  },
  {
   "cell_type": "markdown",
   "metadata": {},
   "source": [
    "#### Setting up"
   ]
  },
  {
   "cell_type": "code",
   "execution_count": null,
   "metadata": {
    "collapsed": true
   },
   "outputs": [],
   "source": [
    "# activiate inline plotting\n",
    "%matplotlib inline\n",
    "\n",
    "from setup import get_1000G_mtSet\n",
    "import scipy as sp\n",
    "import scipy.linalg\n",
    "import limix"
   ]
  },
  {
   "cell_type": "code",
   "execution_count": null,
   "metadata": {
    "collapsed": true
   },
   "outputs": [],
   "source": [
    "# loading 1000G genotypes for mtSet demo\n",
    "get_1000G_mtSet()"
   ]
  },
  {
   "cell_type": "code",
   "execution_count": null,
   "metadata": {
    "collapsed": true
   },
   "outputs": [],
   "source": [
    "# base name for bed, bim and fam\n",
    "bfile = './../data/1000g/chrom22_subsample20_maf0.10'"
   ]
  },
  {
   "cell_type": "markdown",
   "metadata": {},
   "source": [
    "#### Split genotypes into regions"
   ]
  },
  {
   "cell_type": "code",
   "execution_count": null,
   "metadata": {
    "collapsed": true
   },
   "outputs": [],
   "source": [
    "from limix.mtSet.core import plink_reader"
   ]
  },
  {
   "cell_type": "code",
   "execution_count": null,
   "metadata": {
    "collapsed": true
   },
   "outputs": [],
   "source": [
    "# import genotype positions\n",
    "bim = plink_reader.readBIM(bfile,usecols=(0,1,2,3))\n",
    "chrom = bim[:, 0].astype(float)\n",
    "pos = bim[:, -1].astype(float)"
   ]
  },
  {
   "cell_type": "code",
   "execution_count": null,
   "metadata": {
    "collapsed": true
   },
   "outputs": [],
   "source": [
    "# uses splitter to split the genotypes\n",
    "from limix.mtSet.core.splitter import Splitter\n",
    "split = Splitter(pos=pos,chrom=chrom)"
   ]
  },
  {
   "cell_type": "markdown",
   "metadata": {},
   "source": [
    "The method _splitGeno_ allows to define the regions that will then considered for the analysis with mtSet.\n",
    "Information relative to the calculated regions can be cached in an external file by activating the cache option (see below).\n",
    "\n",
    "| Argument        | Default       | Datatype | Explanation |\n",
    "| ------------- |:-------------:|:--------:| --------|\n",
    "| _method_      | 'slidingWindow' | str | Uses a sliding window approach to define regions (a region-based approach will be availabe soon) |\n",
    "| _size_      | 5E+04 (50kb) | float | Window size. Pace is set at half the size of the window |\n",
    "| _minSnps_      | 1 | int | Windows with number of SNPs lower that this threshold are not considered |\n",
    "| _maxSnps_      | sp.inf | int | Windows with number of SNPs higher that this threshold are not considered |\n",
    "| _cache_       | False | bool | If true, it activates the caching |\n",
    "| _out_dir_     | './cache' | str | outdir of the cache file |\n",
    "| _fname_       | None | str | Name of the file |\n",
    "| _rewrite_     | False | bool | If true and the cache file already exists, the cache file is overwritten |"
   ]
  },
  {
   "cell_type": "code",
   "execution_count": null,
   "metadata": {
    "collapsed": true
   },
   "outputs": [],
   "source": [
    "split.splitGeno(cache=True, fname='regions.h5', minSnps=4)\n",
    "print '%d windows' % split.nWindows"
   ]
  },
  {
   "cell_type": "markdown",
   "metadata": {},
   "source": [
    "#### Apply mtSet\n",
    "\n",
    "In this paragraph we showcase how to construct the mtSet class that will then be used for the set test analysis. We showcase both the full mtSet that models relatedness as random effect by the means of an individual-to-individual covariance matrix and the approximated model (mtSetPC) that models relatedness as fixed effect using principal component from the covariance."
   ]
  },
  {
   "cell_type": "code",
   "execution_count": null,
   "metadata": {
    "collapsed": true
   },
   "outputs": [],
   "source": [
    "# import phenotype and sample relatedness\n",
    "pheno_file = './../data/1000g/pheno.phe'\n",
    "sample_relatedness_file = './../data/1000g/chrom22.cov'\n",
    "Y = sp.loadtxt(pheno_file)\n",
    "R = sp.loadtxt(sample_relatedness_file)"
   ]
  },
  {
   "cell_type": "code",
   "execution_count": null,
   "metadata": {
    "collapsed": true
   },
   "outputs": [],
   "source": [
    "# compute eigenvalues and eigenvectors of the sample relatedness matrix\n",
    "S_R, U_R = scipy.linalg.eigh(R) # these are needed for the full mtSet model"
   ]
  },
  {
   "cell_type": "code",
   "execution_count": null,
   "metadata": {
    "collapsed": true
   },
   "outputs": [],
   "source": [
    "# caculate fixed effects with rel\n",
    "F = U_R[:, ::-1][:, :10] # it considered the first 10 PCs\n",
    "F = sp.concatenate([F, sp.ones((F.shape[0], 1))], 1) # add an intercept term"
   ]
  },
  {
   "cell_type": "code",
   "execution_count": null,
   "metadata": {
    "collapsed": true
   },
   "outputs": [],
   "source": [
    "if 0:\n",
    "    # use full mtSet implementation\n",
    "    # (relatedness is modeled as random effect by the means of\n",
    "    # an individual-to-individual covariance matrix)\n",
    "    mtSet = limix.MTSet(Y, S_R=S_R, U_R=U_R)\n",
    "else:\n",
    "    # use mtSetPC\n",
    "    # (relatedness s modelled as fixed effect\n",
    "    # using principal component from the covariance)\n",
    "    mtSet = limix.MTSet(Y, F=F)"
   ]
  },
  {
   "cell_type": "markdown",
   "metadata": {},
   "source": [
    "#### Null model\n",
    "\n",
    "If the analysis is parallelized across different set of regions and permutations,\n",
    "it might be convenient to cache the results from the optimization of the null model\n",
    "(as the null model need to be optimized only once).\n",
    "\n",
    "| Argument        | Default       | Datatype | Explanation |\n",
    "| ------------- |:-------------:|:--------:| --------|\n",
    "| _cache_       | False | bool | If true, it activates the caching |\n",
    "| _out_dir_     | './cache' | str | outdir of the cache file |\n",
    "| _fname_       | None | str | Name of the file |\n",
    "| _rewrite_     | False | bool | If true and the cache file already exists, the cache file is overwritten |"
   ]
  },
  {
   "cell_type": "code",
   "execution_count": null,
   "metadata": {
    "collapsed": true
   },
   "outputs": [],
   "source": [
    "RV = mtSet.fitNull()"
   ]
  },
  {
   "cell_type": "markdown",
   "metadata": {},
   "source": [
    "The returned dictionary contains:\n",
    "* B: value of the optimized effect sizes\n",
    "* Cg: value of the genetic trait-to-trait covariance\n",
    "* Cn: value of the residual trait-to-trait covariance\n",
    "* conv: bool that indicates convergence of the optimization\n",
    "* time: time elpased for optimizing the parameters\n",
    "* NLL0: negative log likelihood of the null model\n",
    "* LMLgrad: norm of the gradient of the negative log likelihood dividived by the number of parameters"
   ]
  },
  {
   "cell_type": "markdown",
   "metadata": {},
   "source": [
    "#### Test"
   ]
  },
  {
   "cell_type": "code",
   "execution_count": null,
   "metadata": {
    "collapsed": true
   },
   "outputs": [],
   "source": [
    "# read fam\n",
    "bim = plink_reader.readBIM(bfile,usecols=(0,1,2,3))\n",
    "fam = plink_reader.readFAM(bfile,usecols=(0,1))"
   ]
  },
  {
   "cell_type": "code",
   "execution_count": null,
   "metadata": {
    "collapsed": true
   },
   "outputs": [],
   "source": [
    "n_wnds = 100 # only hundred windows are considered\n",
    "LLR = sp.zeros(n_wnds) # vector with test statistics of the n_wnds regions\n",
    "for wnd_i in range(n_wnds):\n",
    "    wnd_pos = split.wnd_pos[wnd_i]\n",
    "    nSnps = split.nSnps[wnd_i]\n",
    "    idx_wnd_start = split.idx_wnd_start[wnd_i]\n",
    "    print '.. window %d - (%d, %d-%d) - %d snps' % (wnd_i, wnd_pos[0], wnd_pos[1], wnd_pos[2], nSnps)\n",
    "    \n",
    "    Xr = plink_reader.readBED(bfile, useMAFencoding=True, start = idx_wnd_start, nSNPs = nSnps, bim=bim , fam=fam)['snps']\n",
    "\n",
    "    # multi trait set test fit\n",
    "    RV = mtSet.optimize(Xr)\n",
    "    LLR[wnd_i] = RV['LLR'][0]"
   ]
  },
  {
   "cell_type": "markdown",
   "metadata": {},
   "source": [
    "The returned dictionary from _mtSet.optimize_ contains:\n",
    "* Cr: value of the region-term trait-to-trait covariance\n",
    "* Cg: value of the genetic trait-to-trait covariance\n",
    "* Cn: value of the residual trait-to-trait covariance\n",
    "* variances: n_traits-by-3 matrix of variance explained by the three contributions (region, background, noise) for the  traits\n",
    "* conv: bool that indicates convergence of the optimization\n",
    "* time: time elpased for optimizing the parameters\n",
    "* NLLAlt: negative log likelihood of the alternative model\n",
    "* LLR: test statistics\n",
    "* LMLgrad: norm of the gradient of the negative log likelihood dividived by the number of parameters"
   ]
  },
  {
   "cell_type": "markdown",
   "metadata": {},
   "source": [
    "#### P-values\n",
    "\n",
    "P values are obtained from a relatively small number of genome-wide permutations, fitting a parametric model to the null distribution. Here we showcase the permutation procedure by considering 10 permutations for the 10 regions analyzed."
   ]
  },
  {
   "cell_type": "code",
   "execution_count": null,
   "metadata": {
    "collapsed": true
   },
   "outputs": [],
   "source": [
    "n_perms = 10\n",
    "LLR_null = [] # in this list test statistics from permutations will be stored\n",
    "for perm_i in range(n_perms):\n",
    "    \n",
    "    #1. generate permutation\n",
    "    print 'permutation %d' % perm_i\n",
    "    sp.random.seed(perm_i)\n",
    "    perm_idxs = sp.random.permutation(Y.shape[0])\n",
    "    \n",
    "    #2. scan on the 100 regions\n",
    "    for wnd_i in range(n_wnds):\n",
    "        wnd_pos = split.wnd_pos[wnd_i]\n",
    "        nSnps = split.nSnps[wnd_i]\n",
    "        idx_wnd_start = split.idx_wnd_start[wnd_i]\n",
    "        Xr = plink_reader.readBED(bfile, useMAFencoding=True, start = idx_wnd_start, nSNPs = nSnps, bim=bim , fam=fam)['snps']\n",
    "        Xr = Xr[perm_idxs, :] # permute samples in region term\n",
    "        RV = mtSet.optimize(Xr)\n",
    "        LLR_null.append(RV['LLR'][0])\n",
    "LLR_null = sp.array(LLR_null)"
   ]
  },
  {
   "cell_type": "markdown",
   "metadata": {},
   "source": [
    "The parametric fit to the ditribution of the test statistics under the null and the consequent conversion of the observed test statistics in P values is performed by the module _limix.stats.chi2mixture_ as shown below."
   ]
  },
  {
   "cell_type": "code",
   "execution_count": null,
   "metadata": {
    "collapsed": true
   },
   "outputs": [],
   "source": [
    "from limix.stats.chi2mixture import Chi2mixture\n",
    "c2m = Chi2mixture(tol=4e-3)\n",
    "c2m.estimate_chi2mixture(LLR_null)\n",
    "pv = c2m.sf(LLR)"
   ]
  },
  {
   "cell_type": "code",
   "execution_count": null,
   "metadata": {
    "collapsed": true
   },
   "outputs": [],
   "source": [
    "#makes a manhattan plot\n",
    "wnd_chrom = split.wnd_pos[:n_wnds,0]\n",
    "wnd_start = split.wnd_pos[:n_wnds,1]\n",
    "wnd_end = split.wnd_pos[:n_wnds,2]\n",
    "import pylab as pl\n",
    "pl.plot(wnd_start, -sp.log10(pv), 'o', color='MidnightBlue')"
   ]
  },
  {
   "cell_type": "markdown",
   "metadata": {},
   "source": [
    "## iSet\n",
    "\n",
    "Interaction Set test is an extension of mtSet to test for gene-context interactions.\n",
    "Currently iSet can only be used within python, but a command line interface will be available soon.\n",
    "As we show in this tutorial, iSet can be applied for interaction analysis in two data designs:\n",
    "* [Complete designs], where all individuals have been phenotyped in each context\n",
    "* [Stratified design], where each individual has been phenotyped only in one of the two contexts.\n",
    "\n",
    "# Developers\n",
    "Francesco Paolo Casale (casale@ebi.ac.uk),\n",
    "Barbara Rakitsch (rakitsch@ebi.ac.uk),\n",
    "Danilo Horta (horta@ebi.ac.uk)\n",
    "and Oliver Stegle (stegle@ebi.ac.uk)"
   ]
  },
  {
   "cell_type": "code",
   "execution_count": null,
   "metadata": {
    "collapsed": true
   },
   "outputs": [],
   "source": []
  }
 ],
 "metadata": {
  "kernelspec": {
   "display_name": "Python 2",
   "language": "python",
   "name": "python2"
  },
  "language_info": {
   "codemirror_mode": {
    "name": "ipython",
    "version": 2
   },
   "file_extension": ".py",
   "mimetype": "text/x-python",
   "name": "python",
   "nbconvert_exporter": "python",
   "pygments_lexer": "ipython2",
   "version": "2.7.11"
  },
  "nav_menu": {},
  "toc": {
   "navigate_menu": true,
   "number_sections": true,
   "sideBar": true,
   "threshold": 6,
   "toc_cell": false,
   "toc_section_display": "block",
   "toc_window_display": true
  },
  "toc_position": {
   "height": "1231px",
   "left": "0px",
   "right": "auto",
   "top": "106px",
   "width": "302px"
  }
 },
 "nbformat": 4,
 "nbformat_minor": 0
}
