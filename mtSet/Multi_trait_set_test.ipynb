{
 "cells": [
  {
   "cell_type": "markdown",
   "metadata": {},
   "source": [
    "<h1 id=\"tocheading\">Table of Contents</h1>\n",
    "<div id=\"toc\"></div>"
   ]
  },
  {
   "cell_type": "markdown",
   "metadata": {},
   "source": [
    "# Introduction\n",
    "\n",
    "Set tests are a powerful approach for association testing between groups of genetic variants and quantitative traits.\n",
    "In this tutorial we demonstrate how to use set tests within the LIMIX framework to test for association (mtSet)."
   ]
  },
  {
   "cell_type": "markdown",
   "metadata": {},
   "source": [
    "# mtSet\n",
    "\n",
    "Multi Trait Set test is an implementation of efficient set test algorithms for testing for associations between multiple genetic variants and multiple traits.\n",
    "mtSet can account for confounding factors such as relatedness and can be used for analysis of single traits.\n",
    "mtSet can be used both with the command line interface using the limix scripts (`mtSet_preprocess`, `mtSet_analyze`, `mtSet_postprocess`, `mtSet_simPheno`) or within python."
   ]
  },
  {
   "cell_type": "markdown",
   "metadata": {},
   "source": [
    "## Quick Start\n",
    "\n",
    "In the following, we give a brief example on how to use mtSet. As a case study, we use a subset of the genotypes from the 1000 project [1] and simulated phenotypes.\n",
    "\n",
    "All commands can be found in `_demos/runmtSet.sh`. In the following, we give a short summary of the individual steps. A demo for running mtSet-PC can be found in `_demos/runmtSetPC.sh` and it is not showcased here."
   ]
  },
  {
   "cell_type": "markdown",
   "metadata": {},
   "source": [
    "0. Our software depends on [Plink](https://www.cog-genomics.org/plink2) version 1.9 (or greater) for preprocessing. Please, make sure you have it before proceeding.\n",
    "\n",
    "1. Download and install Limix\n",
    "```bash\n",
    "git clone --depth 1 https://github.com/PMBio/limix.git\n",
    "pushd limix\n",
    "python setup.py install\n",
    "popd\n",
    "```\n",
    "\n",
    "2. Download tutorial\n",
    "```bash\n",
    "git clone --depth 1 https://github.com/PMBio/limix-tutorials.git\n",
    "cd limix-tutorials/mtSet\n",
    "python download_examples.py\n",
    "cd data\n",
    "mkdir out\n",
    "ls 1000g/\n",
    "```\n",
    "\n",
    "3. Set some handy shell variables\n",
    "```bash\n",
    "BFILE=1000g/chrom22_subsample20_maf0.10\n",
    "CFILE=out/chrom22\n",
    "PFILE=1000g/pheno\n",
    "WFILE=out/windows\n",
    "NFILE=out/null\n",
    "WSIZE=30000\n",
    "RESDIR=out/results\n",
    "OUTFILE=out/final\n",
    "```\n",
    "\n",
    "4. Preprocess and phenotype simulation\n",
    "```bash\n",
    "# Kinship matrix estimation\n",
    "mtSet_preprocess --compute_covariance --bfile $BFILE --cfile $CFILE \n",
    "# Fitting the null model and assigning the markers to windows\n",
    "mtSet_preprocess --precompute_windows --fit_null --bfile $BFILE --cfile $CFILE --pfile $PFILE --wfile $WFILE --nfile $NFILE --window_size $WSIZE --plot_windows\n",
    "```\n",
    "\n",
    "5. Analysing true genotypes\n",
    "```bash\n",
    "mtSet_analyze --bfile $BFILE --cfile $CFILE --pfile $PFILE --nfile $NFILE --wfile $WFILE --minSnps 4 --resdir $RESDIR --start_wnd 0 --end_wnd 100\n",
    "```\n",
    "\n",
    "6. Analysing permuted genotypes\n",
    "```bash\n",
    "for i in `seq 0 10`; do\n",
    "    mtSet_analyze --bfile $BFILE --cfile $CFILE --pfile $PFILE --nfile $NFILE --wfile $WFILE --minSnps 4 --resdir $RESDIR --start_wnd 0 --end_wnd 100 --perm $i\n",
    "done\n",
    "```\n",
    "\n",
    "7. Postprocess\n",
    "```bash\n",
    "mtSet_postprocess --resdir $RESDIR --outfile $OUTFILE --manhattan_plot\n",
    "```"
   ]
  },
  {
   "cell_type": "markdown",
   "metadata": {},
   "source": [
    "## Processing\n",
    "\n",
    "Before getting started, we have to compute the sample-to-sample genetic covariance matrix, assign the markers to windows and estimate the trait-to-trait covariance matrices on the null model.\n",
    "\n",
    "### Computing the Covariance Matrix\n",
    "The covariance matrix can be pre-computed as follows:\n",
    "\n",
    "```bash\n",
    "mtSet_preprocess --compute_covariance --plink_path plink_path  --bfile bfile  --cfile cfile\n",
    "```\n",
    "\n",
    "where\n",
    "* __plink\\_path__ (default: plink) is a pointer to the [plink software](https://www.cog-genomics.org/plink2) (Version 1.9 or greater must be installed).\n",
    "  If not set, a python covariance reader is employed.\n",
    "  We strongly recommend using the plink reader for large datasets.\n",
    "* __bfile__ is the base name of of the binary bed file (__bfile__.bed, __bfile__.bim, __bfile__.fam are required).\n",
    "* __cfile__ is the base name of the output file.\n",
    "  The relatedness matrix will be written to __cfile__.cov while the identifiers of the individuals are written to the file __cfile__.cov.id.\n",
    "  The eigenvalue decomposition of the matrix is saved in the files __cfile__.cov.eval (eigenvalues) and __cfile__.cov.evec (eigenvectors).\n",
    "  If __cfile__ is not specified, the files will be exported to the current directory with the following filenames __bfile__.cov, __bfile__.cov.id, __bfile__.cov.eval, __bfile__.cov.evec.\n",
    "\n",
    "### Precomputing the Principal Components \n",
    "The principal components can be pre-computed as follows:\n",
    "\n",
    "```bash\n",
    "mtSet_preprocess --compute_PCs k --plink_path plink_path --ffile ffile  --bfile bfile\n",
    "```\n",
    "\n",
    "where\n",
    "* __k__ is the number of top principal components that are saved\n",
    "* __plink\\_path__ (default: plink) is a pointer to the [plink software](https://www.cog-genomics.org/plink2) (Version 1.9 or greater must be installed).\n",
    "  If not set, a python genotype reader is employed.\n",
    "  We strongly recommend using the plink reader for large datasets.\n",
    "* __ffile__ is the name of the fixed effects file, to which the principal components are written to.\n",
    "* __bfile__ is the base name of of the binary bed file (__bfile__.bed, __bfile__.bim, __bfile__.fam are required).\n",
    "\n",
    "\n",
    "### Fitting the null model\n",
    "\n",
    "To efficiently apply mtSet, it is neccessary to compute the null model beforehand.\n",
    "This can be done with the following command:\n",
    "\n",
    "```bash\n",
    "mtSet_preprocess --fit_null --bfile bfile --cfile cfile --nfile nfile --pfile pfile --ffile ffile --trait_idx trait_idx\n",
    "```\n",
    "\n",
    "where\n",
    "* __bfile__ is the base name of of the binary bed file (_bfile_.bed,_bfile_.bim,_bfile_.fam are required).\n",
    "* __cfile__ is the base name of the covariance file and its eigen decomposition (__cfile__.cov, __cfile__.cov.eval and __cfile__.cov.evec).\n",
    "If __cfile__ is not set, the relatedness component is omitted from the model.\n",
    "* __nfile__ is the base name of the output file.\n",
    "The estimated parameters are saved in __nfile__.p0, the negative log likelihood ratio in __nfile__.nll0, the trait-to-trait genetic covariance matrix in __nfile__.cg0 and the trait-to-trait residual covariance matrix in __nfile__.cn0. \n",
    "* __pfile__ is the base name of the phenotype file.\n",
    "* __ffile__ is the name of the file containing the covariates. Each covariate is saved in one column\n",
    "* __trait\\_idx__ can be used to specify a subset of the phenotypes. If more than one phenotype is selected, the phenotypes have to be seperated by commas. For instance, `--trait_idx 3,4` selects the phenotypes saved in the forth and fifth column (indexing starts with zero).\n",
    "\n",
    "Notice that phenotypes are standardized prior to model fitting.\n",
    "\n",
    "### Precomputing the windows\n",
    "For applying our set test, the markers have to be assigned to windows. We provide a method that splits the genome in windows of fixed sizes:\n",
    "\n",
    "```bash\n",
    "mtSet_preprocess --precompute_windows --bfile bfile --wfile wfile --window_size window_size --plot_windows\n",
    "```\n",
    "\n",
    "where\n",
    "* __bfile__ is the base name of of the binary bed file (__bfile__.bim is required).\n",
    "* __window\\_size__ is the size of the window (in basepairs). The default value is 30kb.\n",
    "* __wfile__ is the base name of the output file.\n",
    "  If not specified, the file is saved as __bfile__.window\\_size.wnd in the current folder.\n",
    "  Each window is stored in one line having the following format: index, chromosome, start position, stop position, index of startposition and number of SNPs.\n",
    "* __plot\\_windows__ if the flag is set, a histogram over the number of markers within a window is generated and saved as __wfile__.pdf.\n",
    "\n",
    "### Merging the preprocessing steps\n",
    "\n",
    "Here, we provided the commands to execute the three preprocessing operations individually. However, it is also possible to combine all steps in a single command:\n",
    "\n",
    "```bash\n",
    "mtSet_preprocess --compute_covariance --fit_null --precompute_windows ...\n",
    "```"
   ]
  },
  {
   "cell_type": "markdown",
   "metadata": {},
   "source": [
    "## Phenotype simulation\n",
    "\n",
    "Our software package also includes a command-line simulator that allows to generate phenotypes with a wide range of different genetic architectures.\n",
    "In brief, the simulator assumes a linear-additive model, considering the contribution of a randomly selected (causal) genetic region for the set component, polygenic background effects from all remaining genome-wide variants, a contribution from unmeasured factors and iid observation noise.\n",
    "For a detailed description of the simulation procedure, we refer to the Supplementary Methods. \n",
    "\n",
    "The simulator requires as input the genotypes and the relatedness component:\n",
    "\n",
    "```bash\n",
    "mtSet_simPheno --bfile bfile --cfile cfile --pfile pfile\n",
    "```\n",
    "\n",
    "where\n",
    "* __bfile__ is the name of of the binary bed file (__bfile__.bed, __bfile__.bim, __bfile__.fam are required).\n",
    "* __cfile__ is the name of the covariance matrix file (__cfile__.cov, __cfile__.cov.id are required).\n",
    "If none is specified, the covariance matrix is expected to be in the current folder, having the same filename as the bed file.\n",
    "* __pfile__ is the name of the output file (__pfile__.phe, __pfile__.region).\n",
    "The file __pfile__.phe contains the phenotypic values (each sample is saved in one row, each trait in one column).\n",
    "The file __pfile__.region contains the randomly selected causal region (chromsom, start position, end position). \n",
    "If __pfile__ is not specified, the files are saved in the current folder having an automatic generated filename containing the bed filename and the values of all simulation parameters.\n",
    "\n",
    "By changing the following parameters different genetic architectures can be simulated and, in particular, the simulation experiments of our paper can be reproduced.\n",
    "\n",
    "\n",
    "| Option        | Default       | Datatype | Explanation |\n",
    "| ------------- |:-------------:|:--------:| --------|\n",
    "| `--seed`       | 0 | int | seed for random number generator |\n",
    "| `--nTraits`    | 4 | int | number of simulated phenotypes |\n",
    "| `--windowSize` | 1.5e4 | int | size of causal region |\n",
    "| `--vTotR` | 0.05 | float |   variance explained by the causal region |\n",
    "| `--nCausalR`  | 10 | int |   number of causal variants in the region |\n",
    "| `--pCommonR` | 0.8 | float | percentage of shared causal variants |\n",
    "| `--vTotBg` | 0.4 | float  | variance explained by the polygenic background effects |\n",
    "| `--pHidden` | 0.6 | float | residual variance explained by hidden confounders (in %) |\n",
    "| `--pCommon` | 0.8 | float | background and residual signal that is shared across traits (in %) |\n",
    "| `--chrom` | None | int | specifies the chromosome of the causal region |\n",
    "| `--minPos` | None | int | specifies the min. chromosomal position of the causal region (in basepairs) |\n",
    "| `--maxPos` | None | int | specifies the max. chromosomal position of the causal region (in basepairs) |"
   ]
  },
  {
   "cell_type": "markdown",
   "metadata": {},
   "source": [
    "## Running analysis\n",
    "\n",
    "Once the preprocessing step has been used to obtain the genetic relatedness matrix, to fit the null model and to identify the genetic regions to be considered in the analysis, the set test can be run by the following analysis script:\n",
    "\n",
    "```bash\n",
    "mtSet_analyze --bfile bfile --cfile cfile --pfile pfile --nfile nfile --wfile wfile --ffile ffile --minSnps minSnps --start_wnd start_wnd --end_wnd end_wnd --resdir rdir --trait_idx traitIdx\n",
    "```\n",
    "\n",
    "where\n",
    "\n",
    "- __bfile__ is the base name of of the binary bed file (__bfile__.bed, __bfile__.bim, __bfile__.fam are required).\n",
    "- __cfile__ is the base name of the covariance matrix file. The script requires the files: __cfile__.cov containing the the genetic relatedness matrix, cfile.cov.id containing the corresponding sample identifiers, __cfile__.cov.eval and __cfile__.cov.evec containing the eigenvalues and eigenvectors of the matrix. If cfile is not set, the relatedness component is omitted from the model.\n",
    "- __pfile__ is the base name of the phenotype file. The script requires the file __pfile__.phe containing the phenotype data.\n",
    "- __nfile__ is the base name of the null model file. The script requires the file __nfile__.p0 containing the optimal null model parameters. If covariates are set, it also requires the file __nfile__.f0.\n",
    "- __wfile__ is the base name of the file containing the windows to be considered in the set test. The script requires the file __wfile__.wnd.\n",
    "- __ffile__ is the name of the file containing the covariates. Each covariate is saved in one column.\n",
    "- __perm__ is the seed used when permuting the genotypes. If the option is not specified then no permutation is considered.\n",
    "- __start\\_wnd__ is the index of the start window\n",
    "- __end\\_wnd__ is the index of the end window\n",
    "- __minSnps__ if set only windows containing at least minSnps are considered in the analysis\n",
    "rdir is the directory to which the results are exported. The results are exported in the folder rdir/perm if a permutation seed has been set, otherwise in the folder rdir/test. The output file is named - __start\\_wnd\\_endwnd__.res and contains results in the following format: window index, chromosome, start position, stop position, index of start position, number of SNPs and log likelihood ratio.\n",
    "- __rdir__ is the directory to which the results are exported. The results are exported in the folder rdir/perm if a permutation seed has been set, otherwise in the folder rdir/test. The output file is named __start\\_wnd\\_end\\_wnd__.res and contains results in the following format: window index, chromosome, start position, stop position, index of startposition, number of SNPs and log likelihood ratio.\n",
    "- __trait\\_idx__ can be used to specify a subset of the phenotypes. If more than one phenotype is selected, the phenotypes have to be seperated by commas. For instance __trait\\_idx__ 3,4 selects the phenotypes saved in the forth and fifth column (indexing starts with zero).\n",
    "Notice that phenotypes are standardized prior to model fitting."
   ]
  },
  {
   "cell_type": "markdown",
   "metadata": {},
   "source": [
    "## Postprocessing\n",
    "\n",
    "After running mtSet, the following script can be used to merge the result files and estimate the p-values (p-values are obtained by a parametric fit of the test statistics): \n",
    "\n",
    "```bash\n",
    "mtSet_postprocess --resdir resdir --outfile outfile --manhattan_plot\n",
    "```\n",
    "\n",
    "where \n",
    "* __resdir__ is a pointer to the folder containing the result files of the analysis.\n",
    "* __outfile__ is the prefix of the two output files.\n",
    "__outfile__.perm lists the test statistics (first column) and p-values (second column) of the permutated windows\n",
    "__outfile__.test contains the (index, chromosome, start position, stop position, SNP index, number of SNPs, test statistics and p-value) of each window. Each window is saved in one row.\n",
    "* __manhattan\\_plot__ is a flag. If set, a manhattan plot is saved in __outfile__.manhattan.jpg (default: False)."
   ]
  },
  {
   "cell_type": "markdown",
   "metadata": {},
   "source": [
    "## Within Python\n",
    "\n",
    "This part of the tutorial shows how to use mtSet within python.\n",
    "For a tutorial on how to use mtSet from the command line using the limix scripts (mtSet_preprocess, mtSet_analyze, mtSet_postprocess, mtSet_simPheno) please refer to sections [Processing](#Processing), [Phenotype simulation](#Phenotype-simulation), [Running analysis](#Running-analysis), and [Postprocessing](#Postprocessing).\n",
    "\n"
   ]
  },
  {
   "cell_type": "markdown",
   "metadata": {},
   "source": [
    "### Setting up"
   ]
  },
  {
   "cell_type": "code",
   "execution_count": 2,
   "metadata": {
    "collapsed": false
   },
   "outputs": [],
   "source": [
    "%matplotlib inline\n",
    "\n",
    "import scipy as sp\n",
    "import scipy.linalg\n",
    "from limix.io import read_plink\n",
    "from limix.util import sets_from_bim\n",
    "from limix.mtSet import MTSet"
   ]
  },
  {
   "cell_type": "markdown",
   "metadata": {},
   "source": [
    "#### Download the data"
   ]
  },
  {
   "cell_type": "code",
   "execution_count": 3,
   "metadata": {
    "collapsed": false
   },
   "outputs": [],
   "source": [
    "# loading 1000G genotypes for mtSet demo\n",
    "from download_examples import get_1000G_mtSet\n",
    "get_1000G_mtSet()"
   ]
  },
  {
   "cell_type": "markdown",
   "metadata": {},
   "source": [
    "#### Import Genotype data"
   ]
  },
  {
   "cell_type": "code",
   "execution_count": 4,
   "metadata": {
    "collapsed": false
   },
   "outputs": [
    {
     "name": "stdout",
     "output_type": "stream",
     "text": [
      "Reading data/1000G/chrom22_subsample20_maf0.10.bim... done (0.09 s)\n",
      "Reading data/1000G/chrom22_subsample20_maf0.10.fam... done (0.01 s)\n",
      "Reading data/1000G/chrom22_subsample20_maf0.10.bed... done (0.01 s)\n"
     ]
    }
   ],
   "source": [
    "# import bed file\n",
    "bfile = 'data/1000G/chrom22_subsample20_maf0.10'\n",
    "(bim, fam, bed) = read_plink('data/1000G/chrom22_subsample20_maf0.10')"
   ]
  },
  {
   "cell_type": "markdown",
   "metadata": {},
   "source": [
    "#### Defines variant-sets"
   ]
  },
  {
   "cell_type": "code",
   "execution_count": 5,
   "metadata": {
    "collapsed": false
   },
   "outputs": [
    {
     "name": "stdout",
     "output_type": "stream",
     "text": [
      "  chr     start       end nsnps\n",
      "0  22  16050612  16100612    23\n",
      "1  22  16100612  16150612     4\n",
      "2  22  16125612  16175612     7\n",
      "3  22  16225612  16275612     9\n",
      "4  22  16250612  16300612    16\n"
     ]
    }
   ],
   "source": [
    "# defines sets using a sliding-window approach.\n",
    "# window size = 50kb\n",
    "# step = 25kb\n",
    "# exclude regions with less than 4 variants.\n",
    "sets = sets_from_bim(bim, size=50000, step=25000, minSnps=4)\n",
    "print sets.head()"
   ]
  },
  {
   "cell_type": "markdown",
   "metadata": {},
   "source": [
    "### Apply\n",
    "\n",
    "In this section we showcase how to construct the mtSet class that will then be used for the set test analysis. We showcase both the full mtSet that models relatedness as random effect by the means of an individual-to-individual covariance matrix and the approximated model (mtSetPC) that models relatedness as fixed effect using principal component from the covariance.\n",
    "\n",
    "The limix class for multi-trait set tests is ``limix.mtSet.MTSet`` (see [here][1] for the documentation).\n",
    "\n",
    "[1]:http://limix.readthedocs.io/mtSet.html"
   ]
  },
  {
   "cell_type": "code",
   "execution_count": 6,
   "metadata": {
    "collapsed": false
   },
   "outputs": [],
   "source": [
    "# import phenotype and sample relatedness\n",
    "pheno_file = './data/1000g/pheno.phe'\n",
    "sample_relatedness_file = './data/1000g/chrom22.cov'\n",
    "Y = sp.loadtxt(pheno_file)\n",
    "R = sp.loadtxt(sample_relatedness_file)"
   ]
  },
  {
   "cell_type": "code",
   "execution_count": 7,
   "metadata": {
    "collapsed": true
   },
   "outputs": [],
   "source": [
    "# compute eigenvalues and eigenvectors of the sample relatedness matrix\n",
    "S_R, U_R = scipy.linalg.eigh(R) # these are needed for the full mtSet model"
   ]
  },
  {
   "cell_type": "code",
   "execution_count": 8,
   "metadata": {
    "collapsed": true
   },
   "outputs": [],
   "source": [
    "# caculate fixed effects with rel\n",
    "F = U_R[:, ::-1][:, :10] # it considered the first 10 PCs\n",
    "F = sp.concatenate([F, sp.ones((F.shape[0], 1))], 1) # add an intercept term"
   ]
  },
  {
   "cell_type": "code",
   "execution_count": 9,
   "metadata": {
    "collapsed": false
   },
   "outputs": [],
   "source": [
    "if 0:\n",
    "    # use full mtSet implementation\n",
    "    # (relatedness is modeled as random effect by the means of\n",
    "    # an individual-to-individual covariance matrix)\n",
    "    mtSet = MTSet(Y, S_R=S_R, U_R=U_R)\n",
    "else:\n",
    "    # use mtSetPC\n",
    "    # (relatedness s modelled as fixed effect\n",
    "    # using principal component from the covariance)\n",
    "    mtSet = MTSet(Y, F=F)"
   ]
  },
  {
   "cell_type": "markdown",
   "metadata": {},
   "source": [
    "### Null model\n",
    "\n",
    "If the analysis is parallelized across different set of regions and permutations,\n",
    "it might be convenient to cache the results from the optimization of the null model\n",
    "(as the null model need to be optimized only once).\n",
    "\n",
    "| Argument        | Default       | Datatype | Explanation |\n",
    "| ------------- |:-------------:|:--------:| --------|\n",
    "| __cache__       | False | bool | If true, it activates the caching |\n",
    "| __out\\_dir__     | './cache' | str | outdir of the cache file |\n",
    "| __fname__       | None | str | Name of the file |\n",
    "| __rewrite__     | False | bool | If true and the cache file already exists, the cache file is overwritten |"
   ]
  },
  {
   "cell_type": "code",
   "execution_count": 10,
   "metadata": {
    "collapsed": true
   },
   "outputs": [],
   "source": [
    "RV = mtSet.fitNull()"
   ]
  },
  {
   "cell_type": "markdown",
   "metadata": {},
   "source": [
    "The returned dictionary contains:\n",
    "* __B__: value of the optimized effect sizes\n",
    "* __Cg__: value of the genetic trait-to-trait covariance\n",
    "* __Cn__: value of the residual trait-to-trait covariance\n",
    "* __conv__: bool that indicates convergence of the optimization\n",
    "* __time__: time elpased for optimizing the parameters\n",
    "* __NLL0__: negative log likelihood of the null model\n",
    "* __LMLgrad__: norm of the gradient of the negative log likelihood dividived by the number of parameters"
   ]
  },
  {
   "cell_type": "markdown",
   "metadata": {},
   "source": [
    "### Test"
   ]
  },
  {
   "cell_type": "code",
   "execution_count": 11,
   "metadata": {
    "collapsed": true
   },
   "outputs": [],
   "source": [
    "# sklearn imputer\n",
    "from sklearn.preprocessing import Imputer\n",
    "imputer = Imputer(missing_values=3.,\n",
    "                  strategy='mean',\n",
    "                  axis=0,\n",
    "                  copy=False)"
   ]
  },
  {
   "cell_type": "code",
   "execution_count": 12,
   "metadata": {
    "collapsed": false
   },
   "outputs": [
    {
     "name": "stdout",
     "output_type": "stream",
     "text": [
      ".. window 0 - (22, 16050612-16100612) - 23 snps\n",
      ".. window 1 - (22, 16100612-16150612) - 4 snps\n",
      ".. window 2 - (22, 16125612-16175612) - 7 snps\n",
      ".. window 3 - (22, 16225612-16275612) - 9 snps\n",
      ".. window 4 - (22, 16250612-16300612) - 16 snps\n",
      ".. window 5 - (22, 16275612-16325612) - 12 snps\n",
      ".. window 6 - (22, 16300612-16350612) - 4 snps\n",
      ".. window 7 - (22, 16325612-16375612) - 5 snps\n",
      ".. window 8 - (22, 16350612-16400612) - 5 snps\n",
      ".. window 9 - (22, 16475612-16525612) - 8 snps\n",
      ".. window 10 - (22, 16500612-16550612) - 7 snps\n",
      ".. window 11 - (22, 16525612-16575612) - 4 snps\n",
      ".. window 12 - (22, 16550612-16600612) - 5 snps\n",
      ".. window 13 - (22, 16575612-16625612) - 4 snps\n",
      ".. window 14 - (22, 16600612-16650612) - 13 snps\n",
      ".. window 15 - (22, 16625612-16675612) - 18 snps\n",
      ".. window 16 - (22, 16650612-16700612) - 10 snps\n",
      ".. window 17 - (22, 16675612-16725612) - 4 snps\n",
      ".. window 18 - (22, 16825612-16875612) - 46 snps\n",
      ".. window 19 - (22, 16850612-16900612) - 75 snps\n",
      ".. window 20 - (22, 16875612-16925612) - 68 snps\n",
      ".. window 21 - (22, 16900612-16950612) - 62 snps\n",
      ".. window 22 - (22, 16925612-16975612) - 43 snps\n",
      ".. window 23 - (22, 16950612-17000612) - 22 snps\n",
      ".. window 24 - (22, 16975612-17025612) - 35 snps\n",
      ".. window 25 - (22, 17000612-17050612) - 73 snps\n",
      ".. window 26 - (22, 17025612-17075612) - 80 snps\n",
      ".. window 27 - (22, 17050612-17100612) - 71 snps\n",
      ".. window 28 - (22, 17075612-17125612) - 60 snps\n",
      ".. window 29 - (22, 17100612-17150612) - 64 snps\n",
      ".. window 30 - (22, 17125612-17175612) - 42 snps\n",
      ".. window 31 - (22, 17150612-17200612) - 9 snps\n",
      ".. window 32 - (22, 17175612-17225612) - 24 snps\n",
      ".. window 33 - (22, 17200612-17250612) - 39 snps\n",
      ".. window 34 - (22, 17225612-17275612) - 26 snps\n",
      ".. window 35 - (22, 17250612-17300612) - 57 snps\n",
      ".. window 36 - (22, 17275612-17325612) - 109 snps\n",
      ".. window 37 - (22, 17300612-17350612) - 114 snps\n",
      ".. window 38 - (22, 17325612-17375612) - 93 snps\n",
      ".. window 39 - (22, 17350612-17400612) - 76 snps\n",
      ".. window 40 - (22, 17375612-17425612) - 91 snps\n",
      ".. window 41 - (22, 17400612-17450612) - 97 snps\n",
      ".. window 42 - (22, 17425612-17475612) - 68 snps\n",
      ".. window 43 - (22, 17450612-17500612) - 55 snps\n",
      ".. window 44 - (22, 17475612-17525612) - 62 snps\n",
      ".. window 45 - (22, 17500612-17550612) - 83 snps\n",
      ".. window 46 - (22, 17525612-17575612) - 81 snps\n",
      ".. window 47 - (22, 17550612-17600612) - 73 snps\n",
      ".. window 48 - (22, 17575612-17625612) - 87 snps\n",
      ".. window 49 - (22, 17600612-17650612) - 97 snps\n",
      ".. window 50 - (22, 17625612-17675612) - 158 snps\n",
      ".. window 51 - (22, 17650612-17700612) - 157 snps\n",
      ".. window 52 - (22, 17675612-17725612) - 100 snps\n",
      ".. window 53 - (22, 17700612-17750612) - 88 snps\n",
      ".. window 54 - (22, 17725612-17775612) - 62 snps\n",
      ".. window 55 - (22, 17750612-17800612) - 80 snps\n",
      ".. window 56 - (22, 17775612-17825612) - 111 snps\n",
      ".. window 57 - (22, 17800612-17850612) - 101 snps\n",
      ".. window 58 - (22, 17825612-17875612) - 72 snps\n",
      ".. window 59 - (22, 17850612-17900612) - 68 snps\n",
      ".. window 60 - (22, 17875612-17925612) - 131 snps\n",
      ".. window 61 - (22, 17900612-17950612) - 155 snps\n",
      ".. window 62 - (22, 17925612-17975612) - 118 snps\n",
      ".. window 63 - (22, 17950612-18000612) - 93 snps\n",
      ".. window 64 - (22, 17975612-18025612) - 94 snps\n",
      ".. window 65 - (22, 18000612-18050612) - 86 snps\n",
      ".. window 66 - (22, 18025612-18075612) - 68 snps\n",
      ".. window 67 - (22, 18050612-18100612) - 115 snps\n",
      ".. window 68 - (22, 18075612-18125612) - 113 snps\n",
      ".. window 69 - (22, 18100612-18150612) - 70 snps\n",
      ".. window 70 - (22, 18125612-18175612) - 71 snps\n",
      ".. window 71 - (22, 18150612-18200612) - 60 snps\n",
      ".. window 72 - (22, 18175612-18225612) - 74 snps\n",
      ".. window 73 - (22, 18200612-18250612) - 73 snps\n",
      ".. window 74 - (22, 18225612-18275612) - 55 snps\n",
      ".. window 75 - (22, 18250612-18300612) - 79 snps\n",
      ".. window 76 - (22, 18275612-18325612) - 106 snps\n",
      ".. window 77 - (22, 18300612-18350612) - 87 snps\n",
      ".. window 78 - (22, 18325612-18375612) - 64 snps\n",
      ".. window 79 - (22, 18350612-18400612) - 63 snps\n",
      ".. window 80 - (22, 18375612-18425612) - 65 snps\n",
      ".. window 81 - (22, 18400612-18450612) - 121 snps\n",
      ".. window 82 - (22, 18425612-18475612) - 154 snps\n",
      ".. window 83 - (22, 18450612-18500612) - 121 snps\n",
      ".. window 84 - (22, 18475612-18525612) - 124 snps\n",
      ".. window 85 - (22, 18500612-18550612) - 108 snps\n",
      ".. window 86 - (22, 18525612-18575612) - 65 snps\n",
      ".. window 87 - (22, 18550612-18600612) - 52 snps\n",
      ".. window 88 - (22, 18575612-18625612) - 45 snps\n",
      ".. window 89 - (22, 18600612-18650612) - 80 snps\n",
      ".. window 90 - (22, 18625612-18675612) - 74 snps\n",
      ".. window 91 - (22, 18650612-18700612) - 15 snps\n",
      ".. window 92 - (22, 18675612-18725612) - 11 snps\n",
      ".. window 93 - (22, 18700612-18750612) - 20 snps\n",
      ".. window 94 - (22, 18725612-18775612) - 14 snps\n",
      ".. window 95 - (22, 18750612-18800612) - 10 snps\n",
      ".. window 96 - (22, 18775612-18825612) - 8 snps\n",
      ".. window 97 - (22, 18800612-18850612) - 11 snps\n",
      ".. window 98 - (22, 18825612-18875612) - 19 snps\n",
      ".. window 99 - (22, 18850612-18900612) - 42 snps\n"
     ]
    }
   ],
   "source": [
    "n_wnds = 100 # only hundred windows are considered\n",
    "LLR = sp.zeros(n_wnds) # vector with test statistics of the n_wnds regions\n",
    "\n",
    "iter_sets = sets.iterrows()\n",
    "for wnd_i in range(n_wnds):\n",
    "\n",
    "    # extract geno info\n",
    "    _, set = next(iter_sets)\n",
    "    print('.. window %d - (%s, %d-%d) - %d snps' %\n",
    "          (wnd_i, set['chr'], set['start'], set['end'], set['nsnps']))\n",
    "    query = \"chrom=='%s' & pos>=%d & pos<%d\" % (set['chr'], set['start'], set['end'])\n",
    "    chrom1 = bim.query(query)\n",
    "    Xr = bed[chrom1.i,:].compute().T.astype(float)\n",
    "    Xr = imputer.fit_transform(Xr)\n",
    "\n",
    "    # multi trait set test fit\n",
    "    RV = mtSet.optimize(Xr)\n",
    "    LLR[wnd_i] = RV['LLR'][0]"
   ]
  },
  {
   "cell_type": "markdown",
   "metadata": {},
   "source": [
    "The returned dictionary from _mtSet.optimize_ contains:\n",
    "* __Cr__: value of the region-term trait-to-trait covariance\n",
    "* __Cg__: value of the genetic trait-to-trait covariance\n",
    "* __Cn__: value of the residual trait-to-trait covariance\n",
    "* __variances__: n_traits-by-3 matrix of variance explained by the three contributions (region, background, noise) for the  traits\n",
    "* __conv__: bool that indicates convergence of the optimization\n",
    "* __time__: time elpased for optimizing the parameters\n",
    "* __NLLAlt__: negative log likelihood of the alternative model\n",
    "* __LLR__: test statistics\n",
    "* __LMLgrad__: norm of the gradient of the negative log likelihood dividived by the number of parameters"
   ]
  },
  {
   "cell_type": "markdown",
   "metadata": {},
   "source": [
    "### P-values\n",
    "\n",
    "P values are obtained from a relatively small number of genome-wide permutations, fitting a parametric model to the null distribution. Here we showcase the permutation procedure by considering 10 permutations for the 10 regions analyzed."
   ]
  },
  {
   "cell_type": "code",
   "execution_count": null,
   "metadata": {
    "collapsed": false
   },
   "outputs": [
    {
     "name": "stdout",
     "output_type": "stream",
     "text": [
      "permutation 0\n",
      ".. window 0 - (22, 18875612-18925612) - 97 snps\n",
      ".. window 1 - (22, 18900612-18950612) - 102 snps\n",
      ".. window 2 - (22, 18925612-18975612) - 93 snps\n",
      ".. window 3 - (22, 18950612-19000612) - 78 snps\n",
      ".. window 4 - (22, 18975612-19025612) - 61 snps\n",
      ".. window 5 - (22, 19000612-19050612) - 86 snps\n",
      ".. window 6 - (22, 19025612-19075612) - 95 snps\n",
      ".. window 7 - (22, 19050612-19100612) - 100 snps\n",
      ".. window 8 - (22, 19075612-19125612) - 97 snps\n",
      ".. window 9 - (22, 19100612-19150612) - 117 snps\n",
      ".. window 10 - (22, 19125612-19175612) - 114 snps\n",
      ".. window 11 - (22, 19150612-19200612) - 70 snps\n",
      ".. window 12 - (22, 19175612-19225612) - 37 snps\n",
      ".. window 13 - (22, 19200612-19250612) - 21 snps\n",
      ".. window 14 - (22, 19225612-19275612) - 32 snps\n",
      ".. window 15 - (22, 19250612-19300612) - 42 snps\n",
      ".. window 16 - (22, 19275612-19325612) - 48 snps\n",
      ".. window 17 - (22, 19300612-19350612) - 44 snps\n",
      ".. window 18 - (22, 19325612-19375612) - 39 snps\n",
      ".. window 19 - (22, 19350612-19400612) - 39 snps\n",
      ".. window 20 - (22, 19375612-19425612) - 30 snps\n",
      ".. window 21 - (22, 19400612-19450612) - 38 snps\n",
      ".. window 22 - (22, 19425612-19475612) - 48 snps\n",
      ".. window 23 - (22, 19450612-19500612) - 38 snps\n",
      ".. window 24 - (22, 19475612-19525612) - 35 snps\n",
      ".. window 25 - (22, 19500612-19550612) - 48 snps\n",
      ".. window 26 - (22, 19525612-19575612) - 84 snps\n",
      ".. window 27 - (22, 19550612-19600612) - 107 snps\n",
      ".. window 28 - (22, 19575612-19625612) - 80 snps\n",
      ".. window 29 - (22, 19600612-19650612) - 79 snps\n",
      ".. window 30 - (22, 19625612-19675612) - 69 snps\n",
      ".. window 31 - (22, 19650612-19700612) - 58 snps\n",
      ".. window 32 - (22, 19675612-19725612) - 52 snps\n",
      ".. window 33 - (22, 19700612-19750612) - 33 snps\n",
      ".. window 34 - (22, 19725612-19775612) - 49 snps\n",
      ".. window 35 - (22, 19750612-19800612) - 53 snps\n",
      ".. window 36 - (22, 19775612-19825612) - 46 snps\n",
      ".. window 37 - (22, 19800612-19850612) - 47 snps\n",
      ".. window 38 - (22, 19825612-19875612) - 73 snps\n",
      ".. window 39 - (22, 19850612-19900612) - 85 snps\n",
      ".. window 40 - (22, 19875612-19925612) - 96 snps\n",
      ".. window 41 - (22, 19900612-19950612) - 124 snps\n",
      ".. window 42 - (22, 19925612-19975612) - 113 snps\n",
      ".. window 43 - (22, 19950612-20000612) - 82 snps\n",
      ".. window 44 - (22, 19975612-20025612) - 77 snps\n",
      ".. window 45 - (22, 20000612-20050612) - 62 snps\n",
      ".. window 46 - (22, 20025612-20075612) - 46 snps\n",
      ".. window 47 - (22, 20050612-20100612) - 45 snps\n",
      ".. window 48 - (22, 20075612-20125612) - 34 snps\n",
      ".. window 49 - (22, 20100612-20150612) - 60 snps\n",
      ".. window 50 - (22, 20125612-20175612) - 107 snps\n",
      ".. window 51 - (22, 20150612-20200612) - 131 snps\n",
      ".. window 52 - (22, 20175612-20225612) - 102 snps\n",
      ".. window 53 - (22, 20200612-20250612) - 56 snps\n",
      ".. window 54 - (22, 20225612-20275612) - 68 snps\n",
      ".. window 55 - (22, 20250612-20300612) - 66 snps\n",
      ".. window 56 - (22, 20275612-20325612) - 38 snps\n",
      ".. window 57 - (22, 20300612-20350612) - 19 snps\n",
      ".. window 58 - (22, 20350612-20400612) - 14 snps\n",
      ".. window 59 - (22, 20375612-20425612) - 12 snps\n",
      ".. window 60 - (22, 20425612-20475612) - 10 snps\n",
      ".. window 61 - (22, 20450612-20500612) - 16 snps\n",
      ".. window 62 - (22, 20475612-20525612) - 9 snps\n",
      ".. window 63 - (22, 20600612-20650612) - 12 snps\n",
      ".. window 64 - (22, 20625612-20675612) - 21 snps\n",
      ".. window 65 - (22, 20650612-20700612) - 10 snps\n",
      ".. window 66 - (22, 20675612-20725612) - 34 snps\n",
      ".. window 67 - (22, 20700612-20750612) - 58 snps\n",
      ".. window 68 - (22, 20725612-20775612) - 106 snps\n",
      ".. window 69 - (22, 20750612-20800612) - 124 snps\n",
      ".. window 70 - (22, 20775612-20825612) - 70 snps\n",
      ".. window 71 - (22, 20800612-20850612) - 57 snps\n",
      ".. window 72 - (22, 20825612-20875612) - 57 snps\n",
      ".. window 73 - (22, 20850612-20900612) - 57 snps\n",
      ".. window 74 - (22, 20875612-20925612) - 64 snps\n",
      ".. window 75 - (22, 20900612-20950612) - 74 snps\n",
      ".. window 76 - (22, 20925612-20975612) - 94 snps\n",
      ".. window 77 - (22, 20950612-21000612) - 94 snps\n",
      ".. window 78 - (22, 20975612-21025612) - 86 snps\n",
      ".. window 79 - (22, 21000612-21050612) - 80 snps\n",
      ".. window 80 - (22, 21025612-21075612) - 67 snps\n",
      ".. window 81 - (22, 21050612-21100612) - 65 snps\n",
      ".. window 82 - (22, 21075612-21125612) - 59 snps\n",
      ".. window 83 - (22, 21100612-21150612) - 49 snps\n",
      ".. window 84 - (22, 21125612-21175612) - 46 snps\n",
      ".. window 85 - (22, 21150612-21200612) - 49 snps\n",
      ".. window 86 - (22, 21175612-21225612) - 51 snps\n",
      ".. window 87 - (22, 21200612-21250612) - 44 snps\n",
      ".. window 88 - (22, 21225612-21275612) - 46 snps\n",
      ".. window 89 - (22, 21250612-21300612) - 49 snps\n",
      ".. window 90 - (22, 21275612-21325612) - 56 snps\n",
      ".. window 91 - (22, 21300612-21350612) - 80 snps\n",
      ".. window 92 - (22, 21325612-21375612) - 100 snps\n",
      ".. window 93 - (22, 21350612-21400612) - 106 snps\n",
      ".. window 94 - (22, 21375612-21425612) - 82 snps\n",
      ".. window 95 - (22, 21400612-21450612) - 99 snps\n",
      ".. window 96 - (22, 21425612-21475612) - 90 snps\n",
      ".. window 97 - (22, 21450612-21500612) - 24 snps\n",
      ".. window 98 - (22, 21475612-21525612) - 6 snps\n",
      ".. window 99 - (22, 21500612-21550612) - 7 snps\n",
      "permutation 1\n",
      ".. window 0 - (22, 21525612-21575612) - 9 snps\n",
      ".. window 1 - (22, 21550612-21600612) - 12 snps\n",
      ".. window 2 - (22, 21575612-21625612) - 8 snps\n",
      ".. window 3 - (22, 21600612-21650612) - 7 snps\n",
      ".. window 4 - (22, 21625612-21675612) - 8 snps\n",
      ".. window 5 - (22, 21650612-21700612) - 19 snps\n",
      ".. window 6 - (22, 21675612-21725612) - 29 snps\n",
      ".. window 7 - (22, 21700612-21750612) - 31 snps\n",
      ".. window 8 - (22, 21725612-21775612) - 22 snps\n",
      ".. window 9 - (22, 21750612-21800612) - 13 snps\n",
      ".. window 10 - (22, 21775612-21825612) - 17 snps\n",
      ".. window 11 - (22, 21800612-21850612) - 14 snps\n",
      ".. window 12 - (22, 21825612-21875612) - 6 snps\n",
      ".. window 13 - (22, 21875612-21925612) - 25 snps\n",
      ".. window 14 - (22, 21900612-21950612) - 52 snps\n",
      ".. window 15 - (22, 21925612-21975612) - 47 snps\n",
      ".. window 16 - (22, 21950612-22000612) - 42 snps\n",
      ".. window 17 - (22, 21975612-22025612) - 58 snps\n",
      ".. window 18 - (22, 22000612-22050612) - 91 snps\n",
      ".. window 19 - (22, 22025612-22075612) - 91 snps\n",
      ".. window 20 - (22, 22050612-22100612) - 53 snps\n",
      ".. window 21 - (22, 22075612-22125612) - 36 snps\n",
      ".. window 22 - (22, 22100612-22150612) - 40 snps\n",
      ".. window 23 - (22, 22125612-22175612) - 37 snps\n",
      ".. window 24 - (22, 22150612-22200612) - 27 snps\n",
      ".. window 25 - (22, 22175612-22225612) - 25 snps\n",
      ".. window 26 - (22, 22200612-22250612) - 29 snps\n",
      ".. window 27 - (22, 22225612-22275612) - 46 snps\n",
      ".. window 28 - (22, 22250612-22300612) - 52 snps\n",
      ".. window 29 - (22, 22275612-22325612) - 48 snps\n",
      ".. window 30 - (22, 22300612-22350612) - 53 snps\n",
      ".. window 31 - (22, 22325612-22375612) - 44 snps\n",
      ".. window 32 - (22, 22350612-22400612) - 45 snps\n",
      ".. window 33 - (22, 22375612-22425612) - 110 snps\n",
      ".. window 34 - (22, 22400612-22450612) - 147 snps\n",
      ".. window 35 - (22, 22425612-22475612) - 145 snps\n",
      ".. window 36 - (22, 22450612-22500612) - 201 snps\n",
      ".. window 37 - (22, 22475612-22525612) - 195 snps\n",
      ".. window 38 - (22, 22500612-22550612) - 164 snps\n",
      ".. window 39 - (22, 22525612-22575612) - 196 snps\n",
      ".. window 40 - (22, 22550612-22600612) - 185 snps\n",
      ".. window 41 - (22, 22575612-22625612) - 130 snps\n",
      ".. window 42 - (22, 22600612-22650612) - 78 snps\n",
      ".. window 43 - (22, 22625612-22675612) - 74 snps\n",
      ".. window 44 - (22, 22650612-22700612) - 88 snps\n",
      ".. window 45 - (22, 22675612-22725612) - 127 snps\n",
      ".. window 46 - (22, 22700612-22750612) - 183 snps\n",
      ".. window 47 - (22, 22725612-22775612) - 154 snps\n",
      ".. window 48 - (22, 22750612-22800612) - 88 snps\n",
      ".. window 49 - (22, 22775612-22825612) - 100 snps\n",
      ".. window 50 - (22, 22800612-22850612) - 111 snps\n",
      ".. window 51 - (22, 22825612-22875612) - 106 snps\n",
      ".. window 52 - (22, 22850612-22900612) - 122 snps\n",
      ".. window 53 - (22, 22875612-22925612) - 149 snps\n",
      ".. window 54 - (22, 22900612-22950612) - 149 snps\n",
      ".. window 55 - (22, 22925612-22975612) - 95 snps\n",
      ".. window 56 - (22, 22950612-23000612) - 86 snps\n",
      ".. window 57 - (22, 22975612-23025612) - 115 snps\n",
      ".. window 58 - (22, 23000612-23050612) - 137 snps\n",
      ".. window 59 - (22, 23025612-23075612) - 149 snps\n",
      ".. window 60 - (22, 23050612-23100612) - 164 snps\n",
      ".. window 61 - (22, 23075612-23125612) - 182 snps\n",
      ".. window 62 - (22, 23100612-23150612) - 144 snps\n",
      ".. window 63 - (22, 23125612-23175612) - 78 snps\n",
      ".. window 64 - (22, 23150612-23200612) - 60 snps\n",
      ".. window 65 - (22, 23175612-23225612) - 86 snps\n",
      ".. window 66 - (22, 23200612-23250612) - 99 snps\n",
      ".. window 67 - (22, 23225612-23275612) - 76 snps\n",
      ".. window 68 - (22, 23250612-23300612) - 88 snps\n",
      ".. window 69 - (22, 23275612-23325612) - 83 snps\n",
      ".. window 70 - (22, 23300612-23350612) - 63 snps\n",
      ".. window 71 - (22, 23325612-23375612) - 74 snps\n",
      ".. window 72 - (22, 23350612-23400612) - 57 snps\n",
      ".. window 73 - (22, 23375612-23425612) - 40 snps\n",
      ".. window 74 - (22, 23400612-23450612) - 53 snps\n",
      ".. window 75 - (22, 23425612-23475612) - 63 snps\n",
      ".. window 76 - (22, 23450612-23500612) - 57 snps\n",
      ".. window 77 - (22, 23475612-23525612) - 77 snps\n",
      ".. window 78 - (22, 23500612-23550612) - 97 snps\n",
      ".. window 79 - (22, 23525612-23575612) - 54 snps\n",
      ".. window 80 - (22, 23550612-23600612) - 30 snps\n",
      ".. window 81 - (22, 23575612-23625612) - 46 snps\n",
      ".. window 82 - (22, 23600612-23650612) - 71 snps\n",
      ".. window 83 - (22, 23625612-23675612) - 116 snps\n",
      ".. window 84 - (22, 23650612-23700612) - 130 snps\n",
      ".. window 85 - (22, 23675612-23725612) - 117 snps\n",
      ".. window 86 - (22, 23700612-23750612) - 133 snps\n",
      ".. window 87 - (22, 23725612-23775612) - 138 snps\n",
      ".. window 88 - (22, 23750612-23800612) - 118 snps\n",
      ".. window 89 - (22, 23775612-23825612) - 123 snps\n",
      ".. window 90 - (22, 23800612-23850612) - 136 snps\n",
      ".. window 91 - (22, 23825612-23875612) - 176 snps\n",
      ".. window 92 - (22, 23850612-23900612) - 161 snps\n",
      ".. window 93 - (22, 23875612-23925612) - 97 snps\n",
      ".. window 94 - (22, 23900612-23950612) - 103 snps\n",
      ".. window 95 - (22, 23925612-23975612) - 82 snps\n",
      ".. window 96 - (22, 23950612-24000612) - 111 snps\n",
      ".. window 97 - (22, 23975612-24025612) - 151 snps\n",
      ".. window 98 - (22, 24000612-24050612) - 87 snps\n"
     ]
    }
   ],
   "source": [
    "n_perms = 10\n",
    "LLR_null = [] # in this list test statistics from permutations will be stored\n",
    "for perm_i in range(n_perms):\n",
    "    \n",
    "    #1. generate permutation\n",
    "    print 'permutation %d' % perm_i\n",
    "    sp.random.seed(perm_i)\n",
    "    perm_idxs = sp.random.permutation(Y.shape[0])\n",
    "    \n",
    "    #2. scan on the 100 regions\n",
    "    for wnd_i in range(n_wnds):\n",
    "\n",
    "        # extract geno info\n",
    "        _, set = next(iter_sets)\n",
    "        print('.. window %d - (%s, %d-%d) - %d snps' %\n",
    "              (wnd_i, set['chr'], set['start'], set['end'], set['nsnps']))\n",
    "        query = \"chrom=='%s' & pos>=%d & pos<%d\" % (set['chr'], set['start'], set['end'])\n",
    "        chrom1 = bim.query(query)\n",
    "        Xr = bed[chrom1.i,:].compute().T.astype(float)\n",
    "        Xr = imputer.fit_transform(Xr)\n",
    "\n",
    "        # permute\n",
    "        Xr = Xr[perm_idxs, :] # permute samples in region term\n",
    "        \n",
    "        # fit mtSet\n",
    "        RV = mtSet.optimize(Xr)\n",
    "        LLR_null.append(RV['LLR'][0])\n",
    "        \n",
    "LLR_null = sp.array(LLR_null)"
   ]
  },
  {
   "cell_type": "markdown",
   "metadata": {},
   "source": [
    "The parametric fit to the ditribution of the test statistics under the null and the consequent conversion of the observed test statistics in P values is performed by the module ``limix.stats.chi2mixture`` (see [here][1]) as shown below.\n",
    "\n",
    "[1]:http://limix.readthedocs.io/stats.html#limix.stats.Chi2mixture"
   ]
  },
  {
   "cell_type": "code",
   "execution_count": null,
   "metadata": {
    "collapsed": true
   },
   "outputs": [],
   "source": [
    "from limix.stats import Chi2mixture\n",
    "c2m = Chi2mixture(tol=4e-3)\n",
    "c2m.estimate_chi2mixture(LLR_null)\n",
    "pv = c2m.sf(LLR)"
   ]
  },
  {
   "cell_type": "code",
   "execution_count": 17,
   "metadata": {
    "collapsed": false
   },
   "outputs": [
    {
     "data": {
      "text/plain": [
       "[<matplotlib.lines.Line2D at 0x115fe4fd0>]"
      ]
     },
     "execution_count": 17,
     "metadata": {},
     "output_type": "execute_result"
    },
    {
     "data": {
      "image/png": "[encoded data removed]",
      "text/plain": [
       "<matplotlib.figure.Figure at 0x10e16ac90>"
      ]
     },
     "metadata": {},
     "output_type": "display_data"
    }
   ],
   "source": [
    "#makes a manhattan plot\n",
    "wnd_chrom = split.wnd_pos[:n_wnds,0]\n",
    "wnd_start = split.wnd_pos[:n_wnds,1]\n",
    "wnd_end = split.wnd_pos[:n_wnds,2]\n",
    "import pylab as pl\n",
    "pl.plot(wnd_start, -sp.log10(pv), 'o', color='MidnightBlue')"
   ]
  },
  {
   "cell_type": "markdown",
   "metadata": {},
   "source": [
    "# Developers\n",
    "\n",
    "- Francesco Paolo Casale (<casale@ebi.ac.uk>)\n",
    "- Barbara Rakitsch (<rakitsch@ebi.ac.uk>)\n",
    "- Danilo Horta (<horta@ebi.ac.uk>)\n",
    "- Oliver Stegle (<stegle@ebi.ac.uk>)"
   ]
  },
  {
   "cell_type": "markdown",
   "metadata": {},
   "source": [
    "# References\n",
    "\n",
    "[1] Genomes Project, C. et al. An integrated map of genetic variation from 1,092 human genomes. Nature 491, 56-65 (2012)."
   ]
  },
  {
   "cell_type": "code",
   "execution_count": 1,
   "metadata": {
    "collapsed": false
   },
   "outputs": [
    {
     "data": {
      "application/javascript": [
       "$.getScript('https://kmahelona.github.io/ipython_notebook_goodies/ipython_notebook_toc.js')"
      ],
      "text/plain": [
       "<IPython.core.display.Javascript object>"
      ]
     },
     "metadata": {},
     "output_type": "display_data"
    }
   ],
   "source": [
    "%%javascript\n",
    "$.getScript('https://kmahelona.github.io/ipython_notebook_goodies/ipython_notebook_toc.js')"
   ]
  }
 ],
 "metadata": {
  "anaconda-cloud": {},
  "kernelspec": {
   "display_name": "Python [conda root]",
   "language": "python",
   "name": "conda-root-py"
  },
  "language_info": {
   "codemirror_mode": {
    "name": "ipython",
    "version": 2
   },
   "file_extension": ".py",
   "mimetype": "text/x-python",
   "name": "python",
   "nbconvert_exporter": "python",
   "pygments_lexer": "ipython2",
   "version": "2.7.12"
  },
  "nav_menu": {},
  "toc": {
   "navigate_menu": true,
   "number_sections": true,
   "sideBar": true,
   "threshold": 6,
   "toc_cell": false,
   "toc_section_display": "block",
   "toc_window_display": true
  },
  "toc_position": {
   "height": "1211px",
   "left": "0px",
   "right": "auto",
   "top": "106px",
   "width": "215px"
  }
 },
 "nbformat": 4,
 "nbformat_minor": 0
}
